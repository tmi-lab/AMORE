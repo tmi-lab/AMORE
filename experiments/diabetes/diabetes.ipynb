{
 "cells": [
  {
   "cell_type": "code",
   "execution_count": 1,
   "id": "dad55ada",
   "metadata": {},
   "outputs": [],
   "source": [
    "import sys\n",
    "import os\n",
    "here = os.getcwd()\n",
    "sys.path.append(os.path.join(here,\"../../\"))"
   ]
  },
  {
   "cell_type": "code",
   "execution_count": 2,
   "id": "36cf7020",
   "metadata": {},
   "outputs": [],
   "source": [
    "#!/usr/bin/env python\n",
    "# coding: utf-8\n",
    "\n",
    "import pandas as pd\n",
    "import numpy as np\n",
    "import scipy as sp\n",
    "import matplotlib.pyplot as plt\n",
    "import warnings\n",
    "warnings.filterwarnings(\"ignore\")\n",
    "\n",
    "\n",
    "from sklearn.model_selection import train_test_split\n",
    "from sklearn.metrics import f1_score,confusion_matrix,precision_score,recall_score,accuracy_score,roc_auc_score,roc_curve\n",
    "from sklearn.linear_model import LogisticRegression\n",
    "\n",
    "from sklearn.tree import DecisionTreeClassifier\n",
    "from sklearn.metrics import confusion_matrix\n",
    "from sklearn.tree import plot_tree,export_text,export_graphviz\n",
    "from sklearn.model_selection import train_test_split"
   ]
  },
  {
   "cell_type": "code",
   "execution_count": 3,
   "id": "e3fcb161",
   "metadata": {},
   "outputs": [],
   "source": [
    "from amore.explainer.itemsets_miner import *\n",
    "import amore.explainer.rule_pattern_miner as rlm\n",
    "import amore.explainer.DT_rules as dtr\n",
    "from amore.explainer.explainer_utils import *\n",
    "import amore.explainer.RuleGrowth_tree as rgtree\n"
   ]
  },
  {
   "cell_type": "code",
   "execution_count": 4,
   "id": "6c33093e",
   "metadata": {},
   "outputs": [],
   "source": [
    "from importlib import reload"
   ]
  },
  {
   "cell_type": "code",
   "execution_count": 5,
   "id": "dc3adde7",
   "metadata": {},
   "outputs": [],
   "source": [
    "def encode_one_hot(df,col_name):\n",
    "    df[col_name] = pd.Categorical(df[col_name])\n",
    "    one_hot = pd.get_dummies(df[col_name])\n",
    "    df = pd.concat([df, one_hot], axis=1)\n",
    "    df = df.drop(col_name,axis=1)\n",
    "    return df\n",
    "\n",
    "def min_max_normalization(df,col_name,min_val=None,max_val=None):\n",
    "    if min_val is None:\n",
    "        min_val = df[col_name].min()\n",
    "    if max_val is None:\n",
    "        max_val = df[col_name].max()\n",
    "    df[col_name] = (df[col_name]-min_val)/(max_val-min_val)\n",
    "    return df\n",
    "\n",
    "def min_max_multicols(df,col_names,min_max_df=None):\n",
    "    if min_max_df is None:\n",
    "        min_max_df = pd.DataFrame(columns=col_names)\n",
    "        min_max_df.loc[\"min\"] = df.loc[:,min_max_df.columns].min(axis=0)\n",
    "        min_max_df.loc[\"max\"] = df.loc[:,min_max_df.columns].max(axis=0)\n",
    "    for cn in col_names:\n",
    "        df = min_max_normalization(df,cn,min_max_df.loc[\"min\",cn],min_max_df.loc[\"max\",cn])\n",
    "    return df, min_max_df\n",
    "\n",
    "def recover_feature_raw_value(fid,fval,featur_names,raw_min_max,ntype=\"min_max\"):\n",
    "    fn = featur_names[fid]\n",
    "    if ntype == \"min_max\":\n",
    "        if fn in raw_min_max.columns:\n",
    "            mx = raw_min_max.loc[:,fn].max()\n",
    "            mi = raw_min_max.loc[:,fn].min()\n",
    "            return fval*(mx-mi)+mi\n",
    "        return fval\n",
    "    else:\n",
    "        raise TypeError(\"Not yet supported type\")"
   ]
  },
  {
   "cell_type": "markdown",
   "id": "c3ab548b",
   "metadata": {},
   "source": [
    "# Download/load and preprocess data\n",
    "### The dataset can be downloaded from https://www.kaggle.com/datasets/iammustafatz/diabetes-prediction-dataset"
   ]
  },
  {
   "cell_type": "code",
   "execution_count": 6,
   "id": "38d2839d",
   "metadata": {},
   "outputs": [
    {
     "data": {
      "text/html": [
       "<div>\n",
       "<style scoped>\n",
       "    .dataframe tbody tr th:only-of-type {\n",
       "        vertical-align: middle;\n",
       "    }\n",
       "\n",
       "    .dataframe tbody tr th {\n",
       "        vertical-align: top;\n",
       "    }\n",
       "\n",
       "    .dataframe thead th {\n",
       "        text-align: right;\n",
       "    }\n",
       "</style>\n",
       "<table border=\"1\" class=\"dataframe\">\n",
       "  <thead>\n",
       "    <tr style=\"text-align: right;\">\n",
       "      <th></th>\n",
       "      <th>gender</th>\n",
       "      <th>age</th>\n",
       "      <th>hypertension</th>\n",
       "      <th>heart_disease</th>\n",
       "      <th>smoking_history</th>\n",
       "      <th>bmi</th>\n",
       "      <th>HbA1c_level</th>\n",
       "      <th>blood_glucose_level</th>\n",
       "      <th>diabetes</th>\n",
       "    </tr>\n",
       "  </thead>\n",
       "  <tbody>\n",
       "    <tr>\n",
       "      <th>0</th>\n",
       "      <td>Female</td>\n",
       "      <td>80.0</td>\n",
       "      <td>0</td>\n",
       "      <td>1</td>\n",
       "      <td>never</td>\n",
       "      <td>25.19</td>\n",
       "      <td>6.6</td>\n",
       "      <td>140</td>\n",
       "      <td>0</td>\n",
       "    </tr>\n",
       "    <tr>\n",
       "      <th>1</th>\n",
       "      <td>Female</td>\n",
       "      <td>54.0</td>\n",
       "      <td>0</td>\n",
       "      <td>0</td>\n",
       "      <td>No Info</td>\n",
       "      <td>27.32</td>\n",
       "      <td>6.6</td>\n",
       "      <td>80</td>\n",
       "      <td>0</td>\n",
       "    </tr>\n",
       "    <tr>\n",
       "      <th>2</th>\n",
       "      <td>Male</td>\n",
       "      <td>28.0</td>\n",
       "      <td>0</td>\n",
       "      <td>0</td>\n",
       "      <td>never</td>\n",
       "      <td>27.32</td>\n",
       "      <td>5.7</td>\n",
       "      <td>158</td>\n",
       "      <td>0</td>\n",
       "    </tr>\n",
       "    <tr>\n",
       "      <th>3</th>\n",
       "      <td>Female</td>\n",
       "      <td>36.0</td>\n",
       "      <td>0</td>\n",
       "      <td>0</td>\n",
       "      <td>current</td>\n",
       "      <td>23.45</td>\n",
       "      <td>5.0</td>\n",
       "      <td>155</td>\n",
       "      <td>0</td>\n",
       "    </tr>\n",
       "    <tr>\n",
       "      <th>4</th>\n",
       "      <td>Male</td>\n",
       "      <td>76.0</td>\n",
       "      <td>1</td>\n",
       "      <td>1</td>\n",
       "      <td>current</td>\n",
       "      <td>20.14</td>\n",
       "      <td>4.8</td>\n",
       "      <td>155</td>\n",
       "      <td>0</td>\n",
       "    </tr>\n",
       "  </tbody>\n",
       "</table>\n",
       "</div>"
      ],
      "text/plain": [
       "   gender   age  hypertension  heart_disease smoking_history    bmi  \\\n",
       "0  Female  80.0             0              1           never  25.19   \n",
       "1  Female  54.0             0              0         No Info  27.32   \n",
       "2    Male  28.0             0              0           never  27.32   \n",
       "3  Female  36.0             0              0         current  23.45   \n",
       "4    Male  76.0             1              1         current  20.14   \n",
       "\n",
       "   HbA1c_level  blood_glucose_level  diabetes  \n",
       "0          6.6                  140         0  \n",
       "1          6.6                   80         0  \n",
       "2          5.7                  158         0  \n",
       "3          5.0                  155         0  \n",
       "4          4.8                  155         0  "
      ]
     },
     "execution_count": 6,
     "metadata": {},
     "output_type": "execute_result"
    }
   ],
   "source": [
    "## control random seed for reproducibility\n",
    "seed = 42\n",
    "np.random.seed(seed)\n",
    "\n",
    "## set where to load data\n",
    "dpath = \"./data/diabetes_prediction_dataset.csv\"\n",
    "\n",
    "## set results path to save results\n",
    "rpath = \"./results\"\n",
    "\n",
    "## read diabetes dataset\n",
    "# df = pd.read_csv(dpath,header=1)\n",
    "df = pd.read_csv(dpath)\n",
    "df.head()"
   ]
  },
  {
   "cell_type": "code",
   "execution_count": 7,
   "id": "4f9835b6",
   "metadata": {},
   "outputs": [
    {
     "data": {
      "text/html": [
       "<div>\n",
       "<style scoped>\n",
       "    .dataframe tbody tr th:only-of-type {\n",
       "        vertical-align: middle;\n",
       "    }\n",
       "\n",
       "    .dataframe tbody tr th {\n",
       "        vertical-align: top;\n",
       "    }\n",
       "\n",
       "    .dataframe thead th {\n",
       "        text-align: right;\n",
       "    }\n",
       "</style>\n",
       "<table border=\"1\" class=\"dataframe\">\n",
       "  <thead>\n",
       "    <tr style=\"text-align: right;\">\n",
       "      <th></th>\n",
       "      <th>age</th>\n",
       "      <th>hypertension</th>\n",
       "      <th>heart_disease</th>\n",
       "      <th>bmi</th>\n",
       "      <th>HbA1c_level</th>\n",
       "      <th>blood_glucose_level</th>\n",
       "      <th>diabetes</th>\n",
       "      <th>Female</th>\n",
       "      <th>Male</th>\n",
       "      <th>Other</th>\n",
       "      <th>No Info</th>\n",
       "      <th>current</th>\n",
       "      <th>ever</th>\n",
       "      <th>former</th>\n",
       "      <th>never</th>\n",
       "      <th>not current</th>\n",
       "    </tr>\n",
       "  </thead>\n",
       "  <tbody>\n",
       "    <tr>\n",
       "      <th>0</th>\n",
       "      <td>80.0</td>\n",
       "      <td>0</td>\n",
       "      <td>1</td>\n",
       "      <td>25.19</td>\n",
       "      <td>6.6</td>\n",
       "      <td>140</td>\n",
       "      <td>0</td>\n",
       "      <td>1</td>\n",
       "      <td>0</td>\n",
       "      <td>0</td>\n",
       "      <td>0</td>\n",
       "      <td>0</td>\n",
       "      <td>0</td>\n",
       "      <td>0</td>\n",
       "      <td>1</td>\n",
       "      <td>0</td>\n",
       "    </tr>\n",
       "    <tr>\n",
       "      <th>1</th>\n",
       "      <td>54.0</td>\n",
       "      <td>0</td>\n",
       "      <td>0</td>\n",
       "      <td>27.32</td>\n",
       "      <td>6.6</td>\n",
       "      <td>80</td>\n",
       "      <td>0</td>\n",
       "      <td>1</td>\n",
       "      <td>0</td>\n",
       "      <td>0</td>\n",
       "      <td>1</td>\n",
       "      <td>0</td>\n",
       "      <td>0</td>\n",
       "      <td>0</td>\n",
       "      <td>0</td>\n",
       "      <td>0</td>\n",
       "    </tr>\n",
       "    <tr>\n",
       "      <th>2</th>\n",
       "      <td>28.0</td>\n",
       "      <td>0</td>\n",
       "      <td>0</td>\n",
       "      <td>27.32</td>\n",
       "      <td>5.7</td>\n",
       "      <td>158</td>\n",
       "      <td>0</td>\n",
       "      <td>0</td>\n",
       "      <td>1</td>\n",
       "      <td>0</td>\n",
       "      <td>0</td>\n",
       "      <td>0</td>\n",
       "      <td>0</td>\n",
       "      <td>0</td>\n",
       "      <td>1</td>\n",
       "      <td>0</td>\n",
       "    </tr>\n",
       "    <tr>\n",
       "      <th>3</th>\n",
       "      <td>36.0</td>\n",
       "      <td>0</td>\n",
       "      <td>0</td>\n",
       "      <td>23.45</td>\n",
       "      <td>5.0</td>\n",
       "      <td>155</td>\n",
       "      <td>0</td>\n",
       "      <td>1</td>\n",
       "      <td>0</td>\n",
       "      <td>0</td>\n",
       "      <td>0</td>\n",
       "      <td>1</td>\n",
       "      <td>0</td>\n",
       "      <td>0</td>\n",
       "      <td>0</td>\n",
       "      <td>0</td>\n",
       "    </tr>\n",
       "    <tr>\n",
       "      <th>4</th>\n",
       "      <td>76.0</td>\n",
       "      <td>1</td>\n",
       "      <td>1</td>\n",
       "      <td>20.14</td>\n",
       "      <td>4.8</td>\n",
       "      <td>155</td>\n",
       "      <td>0</td>\n",
       "      <td>0</td>\n",
       "      <td>1</td>\n",
       "      <td>0</td>\n",
       "      <td>0</td>\n",
       "      <td>1</td>\n",
       "      <td>0</td>\n",
       "      <td>0</td>\n",
       "      <td>0</td>\n",
       "      <td>0</td>\n",
       "    </tr>\n",
       "  </tbody>\n",
       "</table>\n",
       "</div>"
      ],
      "text/plain": [
       "    age  hypertension  heart_disease    bmi  HbA1c_level  blood_glucose_level  \\\n",
       "0  80.0             0              1  25.19          6.6                  140   \n",
       "1  54.0             0              0  27.32          6.6                   80   \n",
       "2  28.0             0              0  27.32          5.7                  158   \n",
       "3  36.0             0              0  23.45          5.0                  155   \n",
       "4  76.0             1              1  20.14          4.8                  155   \n",
       "\n",
       "   diabetes  Female  Male  Other  No Info  current  ever  former  never  \\\n",
       "0         0       1     0      0        0        0     0       0      1   \n",
       "1         0       1     0      0        1        0     0       0      0   \n",
       "2         0       0     1      0        0        0     0       0      1   \n",
       "3         0       1     0      0        0        1     0       0      0   \n",
       "4         0       0     1      0        0        1     0       0      0   \n",
       "\n",
       "   not current  \n",
       "0            0  \n",
       "1            0  \n",
       "2            0  \n",
       "3            0  \n",
       "4            0  "
      ]
     },
     "execution_count": 7,
     "metadata": {},
     "output_type": "execute_result"
    }
   ],
   "source": [
    "## transform categorical feature to one-hot-encoder\n",
    "df = encode_one_hot(df,'gender')\n",
    "df = encode_one_hot(df,'smoking_history')\n",
    "df.head()"
   ]
  },
  {
   "cell_type": "code",
   "execution_count": 8,
   "id": "9f7187fe",
   "metadata": {},
   "outputs": [],
   "source": [
    "## split training and test set\n",
    "X_train,X_test,y_train,y_test = train_test_split(df.drop('diabetes',axis=1),df['diabetes'],test_size=0.3,random_state=seed)\n",
    "\n",
    "## min-max normalize numerical features\n",
    "X_train,min_max = min_max_multicols(X_train,col_names=['age','bmi','HbA1c_level','blood_glucose_level'])\n",
    "X_test,_ = min_max_multicols(X_test,col_names=min_max.columns,min_max_df=min_max)"
   ]
  },
  {
   "cell_type": "code",
   "execution_count": 9,
   "id": "472a7288",
   "metadata": {},
   "outputs": [
    {
     "data": {
      "text/plain": [
       "2547"
      ]
     },
     "execution_count": 9,
     "metadata": {},
     "output_type": "execute_result"
    }
   ],
   "source": [
    "y_test.sum()"
   ]
  },
  {
   "cell_type": "code",
   "execution_count": 10,
   "id": "4cc595aa",
   "metadata": {},
   "outputs": [
    {
     "name": "stdout",
     "output_type": "stream",
     "text": [
      "age float64 float64\n",
      "hypertension int64 int64\n",
      "heart_disease int64 int64\n",
      "bmi float64 float64\n",
      "HbA1c_level float64 float64\n",
      "blood_glucose_level float64 float64\n",
      "Female uint8 cat\n",
      "Male uint8 cat\n",
      "Other uint8 cat\n",
      "No Info uint8 cat\n",
      "current uint8 cat\n",
      "ever uint8 cat\n",
      "former uint8 cat\n",
      "never uint8 cat\n",
      "not current uint8 cat\n"
     ]
    }
   ],
   "source": [
    "## specify feature types\n",
    "feature_types = []\n",
    "for c in X_train.columns:\n",
    "    if np.dtype(X_train[c])!=np.uint8:\n",
    "        feature_types.append(str(np.dtype(X_train[c])))\n",
    "    else:\n",
    "        feature_types.append(\"cat\")\n",
    "    print(c,np.dtype(X_train[c]),feature_types[-1])"
   ]
  },
  {
   "cell_type": "code",
   "execution_count": 11,
   "id": "51b37bf0",
   "metadata": {},
   "outputs": [],
   "source": [
    "## apply oversampling on training set \n",
    "\n",
    "from imblearn.over_sampling import SMOTE\n",
    "\n",
    "oversampler = SMOTE(random_state=seed)\n",
    "X_over, y_over = oversampler.fit_resample(X_train, y_train)"
   ]
  },
  {
   "cell_type": "markdown",
   "id": "7fe4e271",
   "metadata": {},
   "source": [
    "## Train logistic regression model"
   ]
  },
  {
   "cell_type": "code",
   "execution_count": 12,
   "id": "0c8ec21e",
   "metadata": {},
   "outputs": [
    {
     "data": {
      "text/plain": [
       "(0.8882666666666666,\n",
       " array([[24405,  3048],\n",
       "        [  304,  2243]]),\n",
       " array([0.98769679, 0.42392742]),\n",
       " array([0.88897388, 0.88064389]))"
      ]
     },
     "execution_count": 12,
     "metadata": {},
     "output_type": "execute_result"
    }
   ],
   "source": [
    "## train a logistic regression model and check performance on test set\n",
    "log_reg = LogisticRegression(max_iter=2000,multi_class='ovr',random_state=seed)\n",
    "log_reg.fit(X_over,y_over)\n",
    "y_pred = log_reg.predict(X_test)\n",
    "\n",
    "\n",
    "accuracy = log_reg.score(X_test,y_test)\n",
    "confusion = confusion_matrix(y_test,y_pred)\n",
    "precision = precision_score(y_test,y_pred,average=None)\n",
    "recall = recall_score(y_test,y_pred,average=None)\n",
    "accuracy,confusion,precision,recall"
   ]
  },
  {
   "cell_type": "code",
   "execution_count": 13,
   "id": "5a787356",
   "metadata": {},
   "outputs": [
    {
     "name": "stdout",
     "output_type": "stream",
     "text": [
      "auc 0.9621384460095029\n",
      "y threshold 0.4571048952150361\n"
     ]
    },
    {
     "data": {
      "image/png": "[encoded data removed]",
      "text/plain": [
       "<Figure size 800x600 with 1 Axes>"
      ]
     },
     "metadata": {},
     "output_type": "display_data"
    }
   ],
   "source": [
    "# from sklearn.metrics import roc_curve, roc_auc_score\n",
    "# import matplotlib.pyplot as plt\n",
    "# import scipy as sp\n",
    "\n",
    "## find and plot the prediction threshold using ROC\n",
    "\n",
    "pred_y = log_reg.predict_proba(X_train)[:,1]\n",
    "auc = roc_auc_score(y_train, pred_y)\n",
    "print(\"auc\",auc)\n",
    "\n",
    "fpr, tpr, thresholds = roc_curve(y_train, pred_y)\n",
    "th_id = np.argmax(tpr - fpr)\n",
    "y_thd = thresholds[th_id]\n",
    "print(\"y threshold\",y_thd)\n",
    "\n",
    "# Plot the ROC curve\n",
    "plt.figure(figsize=(8, 6))\n",
    "plt.plot(fpr, tpr, label=f'ROC Curve (AUC = {auc:.3f})')\n",
    "plt.plot(fpr[th_id],tpr[th_id],\"r*\")\n",
    "plt.annotate('$y_{th}=$'+str(y_thd.round(3)), (fpr[th_id],tpr[th_id]), textcoords='offset points', xytext=(42,-8), ha='center',fontsize=14)\n",
    "\n",
    "plt.plot([fpr[th_id],fpr[th_id]],[0,tpr[th_id]],\"r:\")\n",
    "plt.plot([-0.02,fpr[th_id]],[tpr[th_id],tpr[th_id]],\"r:\")\n",
    "plt.xlim(-0.02,1.)\n",
    "plt.xticks([0.,fpr[th_id],0.2,0.4,0.6,0.8,1.])\n",
    "plt.yticks([0.,0.2,0.4,0.6,0.8,tpr[th_id],1.])\n",
    "plt.ylim(0,1.05)\n",
    "plt.xlabel('False Positive Rate (FPR)',fontsize=14)\n",
    "plt.ylabel('True Positive Rate (TPR)',fontsize=14)\n",
    "plt.legend(fontsize=14)\n",
    "# plt.savefig(\"./results/roc.eps\",bbox_inches=\"tight\")\n",
    "\n",
    "plt.show()"
   ]
  },
  {
   "cell_type": "code",
   "execution_count": 14,
   "id": "b3f8d644",
   "metadata": {},
   "outputs": [
    {
     "data": {
      "text/plain": [
       "0.962387678432344"
      ]
     },
     "execution_count": 14,
     "metadata": {},
     "output_type": "execute_result"
    }
   ],
   "source": [
    "## check AUC on test set\n",
    "pred_y_test = log_reg.predict_proba(X_test)[:,1]\n",
    "auc = roc_auc_score(y_test, pred_y_test)\n",
    "auc"
   ]
  },
  {
   "cell_type": "markdown",
   "id": "de04a41a",
   "metadata": {},
   "source": [
    "## Feature selection for rule extraction"
   ]
  },
  {
   "cell_type": "code",
   "execution_count": 15,
   "id": "8849ca0b",
   "metadata": {},
   "outputs": [],
   "source": [
    "## get baseline samples and test samples for computing impact scores of features\n",
    "\n",
    "baselines = gen_intgrad_baselines(X_over.values,y_over.values)\n",
    "subset = gen_balanced_subset(X_train.values,y_train.values,size_per_class=int(y_train.sum()))"
   ]
  },
  {
   "cell_type": "code",
   "execution_count": 16,
   "id": "c82a82ff",
   "metadata": {},
   "outputs": [],
   "source": [
    "## compute impact score matrix\n",
    "\n",
    "C=2\n",
    "baseline_output = log_reg.predict_proba(baselines)[:,1]\n",
    "subset_output,yshift,int_g = [],[],[]    \n",
    "cids = np.arange(C)\n",
    "for k in cids:    \n",
    "    subset_output.append(log_reg.predict_proba(subset[k])[:,1])\n",
    "    for kk in cids[cids!=k]:\n",
    "        yshift.append(subset_output[k]-baseline_output[kk])\n",
    "        int_g.append((subset[k]-baselines[kk])* log_reg.coef_)\n",
    "yshift = np.concatenate(yshift)\n",
    "int_g = np.vstack(int_g)\n",
    "y_int_g = np.abs(int_g)/yshift.reshape(-1,1)"
   ]
  },
  {
   "cell_type": "code",
   "execution_count": 17,
   "id": "e76a3e1b",
   "metadata": {},
   "outputs": [
    {
     "data": {
      "text/plain": [
       "0.2527927927927928"
      ]
     },
     "execution_count": 17,
     "metadata": {},
     "output_type": "execute_result"
    }
   ],
   "source": [
    "## find threshold for impact score\n",
    "\n",
    "thds = np.linspace(0.01,1.,1000)\n",
    "f_n = []\n",
    "for thd in thds:\n",
    "    mask = np.abs(y_int_g) >= thd \n",
    "    f_n.append((thd,(mask.sum(axis=0)>=len(y_int_g)*0.99).sum()))\n",
    "#     print(f_n[-1])\n",
    "    if f_n[-1][1]==1:\n",
    "        break\n",
    "thd = f_n[-1][0]\n",
    "thd"
   ]
  },
  {
   "cell_type": "code",
   "execution_count": 18,
   "id": "1a1e07c8",
   "metadata": {},
   "outputs": [
    {
     "data": {
      "text/plain": [
       "<matplotlib.legend.Legend at 0x16a919000>"
      ]
     },
     "execution_count": 18,
     "metadata": {},
     "output_type": "execute_result"
    },
    {
     "data": {
      "image/png": "[encoded data removed]",
      "text/plain": [
       "<Figure size 1000x600 with 1 Axes>"
      ]
     },
     "metadata": {},
     "output_type": "display_data"
    }
   ],
   "source": [
    "## plot the scanning process of finding threshold\n",
    "\n",
    "import seaborn as sns\n",
    "sns.set_style(\"whitegrid\")\n",
    "plt.figure(figsize=(10, 6))\n",
    "plt.plot([th[0] for th in f_n[:]],[(th[1]) for th in f_n[:]])\n",
    "plt.plot(f_n[-1][0],(f_n[-1][1]),\"r*\",label=\"Selected impact threshold\")\n",
    "plt.plot([0,f_n[-1][0]],[(f_n[-1][1]),(f_n[-1][1])],\":r\")\n",
    "plt.plot([f_n[-1][0],f_n[-1][0]],[0,f_n[-1][1]],\":r\")\n",
    "plt.xlim(0.,.3)\n",
    "plt.ylim(0.,10)\n",
    "plt.yticks([0,1,2,4,6,8,10],fontsize=16,fontstyle='italic')\n",
    "plt.xticks(fontsize=16,fontstyle='italic')\n",
    "plt.xlabel(r\"Feature impact score threshold -- $\\mathbf{j}_{th}$\",fontsize=20)\n",
    "plt.ylabel(r\"Number of features with $\\gamma BM$ frequecy\",fontsize=20)\n",
    "plt.legend(fontsize=20)\n",
    "# plt.savefig(\"./results/score_thd.svg\",bbox_inches=\"tight\")"
   ]
  },
  {
   "cell_type": "code",
   "execution_count": 19,
   "id": "0a9a4051",
   "metadata": {},
   "outputs": [
    {
     "name": "stdout",
     "output_type": "stream",
     "text": [
      "feature set [4 7 0 5 3 9 1 6 2] 9\n"
     ]
    }
   ],
   "source": [
    "## identify frequent important feature set\n",
    "\n",
    "itemsets_y = transform_intgrad_to_itemsets(y_int_g,thd=thd)\n",
    "fids = gen_freq_feature_set(itemsets_y[0],min_support=500,max_len=100)\n",
    "fids = np.array(fids).astype(int)-1\n",
    "print('feature set',fids,len(fids))"
   ]
  },
  {
   "cell_type": "markdown",
   "id": "23284a4c",
   "metadata": {},
   "source": [
    "## Rule extraction by AMORE "
   ]
  },
  {
   "cell_type": "code",
   "execution_count": 20,
   "id": "864ba96a",
   "metadata": {
    "scrolled": true
   },
   "outputs": [
    {
     "name": "stdout",
     "output_type": "stream",
     "text": [
      "grid search hyperparameters\n",
      "uniform 2 1000 \n",
      " top rule set {'rules': [(5, '>=', 0.5)], 'confidence': 0.598, 'support': 7620, 'fitness': 0.112, 'cond_prob_y': 0.362, 'ratio_y': 0.463}\n",
      "uniform 3 1000 \n",
      " top rule set {'rules': [(5, '>=', 0.6666666666666666)], 'confidence': 0.999, 'support': 1898, 'fitness': 0.142, 'cond_prob_y': 1.0, 'ratio_y': 0.319}\n",
      "uniform 5 2000 \n",
      " top rule set {'rules': [(5, '>=', 0.6000000000000001)], 'confidence': 0.998, 'support': 2307, 'fitness': 0.172, 'cond_prob_y': 1.0, 'ratio_y': 0.388}\n",
      "uniform 7 2000 \n",
      " top rule set {'rules': [(4, '>=', 0.5714285714285714)], 'confidence': 0.993, 'support': 2736, 'fitness': 0.202, 'cond_prob_y': 1.0, 'ratio_y': 0.46}\n",
      "{'rules': [(4, '>=', 0.5714285714285714)], 'confidence': 0.993, 'support': 2736, 'fitness': 0.202, 'cond_prob_y': 1.0, 'ratio_y': 0.46} {'bin_strategy': 'uniform', 'num_grids': 7, 'min_support': 2000}\n"
     ]
    }
   ],
   "source": [
    "## set \"grid_search = True\" to do a grid search for hyperprameters\n",
    "\n",
    "grid_search = True\n",
    "\n",
    "if grid_search:\n",
    "    ng_range = np.arange(2,11)\n",
    "    bin_strategies = [\"uniform\",\"kmeans\"]\n",
    "    support_range = np.arange(1000,6000,1000)\n",
    "    confidence_lower_bound = 0.8\n",
    "    max_depth=1\n",
    "    top_K=3\n",
    "\n",
    "\n",
    "    best_rule_set,best_configs,config_metric_records = rlm.param_grid_search_for_amore(bin_strategies,ng_range,support_range,X_train.values,fids,target_indices=pred_y>y_thd,y=y_train.values,c=1,confidence_lower_bound = confidence_lower_bound,\n",
    "                                                                                        max_depth=max_depth,top_K=top_K,sort_by=\"fitness\")\n",
    "    print(best_rule_set,best_configs)"
   ]
  },
  {
   "cell_type": "code",
   "execution_count": 21,
   "id": "23caf1ee",
   "metadata": {
    "scrolled": true
   },
   "outputs": [
    {
     "data": {
      "text/plain": [
       "{'rules': [(4, 'HbA1c_level', '>=', 0.5714285714285714)],\n",
       " 'confidence': 0.993,\n",
       " 'support': 2736,\n",
       " 'fitness': 0.202,\n",
       " 'cond_prob_y': 1.0,\n",
       " 'ratio_y': 0.46}"
      ]
     },
     "execution_count": 21,
     "metadata": {},
     "output_type": "execute_result"
    }
   ],
   "source": [
    "### search rules for target pattern: pred_y > y_thd  ###\n",
    "### we set the hyperparameters obtaind by above grid search step ###\n",
    "\n",
    "min_support=2000\n",
    "bin_strategy=\"uniform\"\n",
    "num_grids=7\n",
    "max_depth=1\n",
    "top_K=3\n",
    "\n",
    "y_rule_candidates = rlm.gen_rule_list_for_one_target(X_train.values,fids,pred_y>y_thd,y=y_train.values,c=1,sort_by=\"fitness\",\n",
    "                                                    min_support=min_support,num_grids=num_grids,max_depth=max_depth,top_K=top_K,\n",
    "                                                    local_x=None,feature_types=feature_types,bin_strategy=bin_strategy,\n",
    "                                                    verbose=False)\n",
    "\n",
    "for i, rules in enumerate(y_rule_candidates):   \n",
    "    rules[\"rules\"] = rlm.replace_feature_names(rules[\"rules\"],X_train.columns)\n",
    "    y_rule_candidates[i] = rules\n",
    "y_rule_candidates[0]"
   ]
  },
  {
   "cell_type": "code",
   "execution_count": 25,
   "id": "8c543005",
   "metadata": {},
   "outputs": [
    {
     "name": "stdout",
     "output_type": "stream",
     "text": [
      "{'rules': [(4, 'HbA1c_level', '>=', 6.642857142857142)], 'confidence': 0.993, 'support': 2736, 'fitness': 0.202, 'cond_prob_y': 1.0, 'ratio_y': 0.46}\n",
      "{'rules': [(5, 'blood_glucose_level', '>=', 205.71428571428572)], 'confidence': 0.998, 'support': 2307, 'fitness': 0.172, 'cond_prob_y': 1.0, 'ratio_y': 0.388}\n",
      "{'rules': [(2, 'heart_disease', '==', 1.0)], 'confidence': 0.598, 'support': 2789, 'fitness': 0.041, 'cond_prob_y': 0.321, 'ratio_y': 0.15}\n"
     ]
    }
   ],
   "source": [
    "## recover raw feature value by reversing the min-max normalization\n",
    "\n",
    "for n in range(len(y_rule_candidates)):\n",
    "    for i, r in enumerate(y_rule_candidates[n][\"rules\"]):\n",
    "        nr = recover_feature_raw_value(r[0],r[-1],X_train.columns,min_max)\n",
    "        y_rule_candidates[n][\"rules\"][i] = (*r[:-1],nr) \n",
    "        print(y_rule_candidates[n])"
   ]
  },
  {
   "cell_type": "code",
   "execution_count": 50,
   "id": "bbee2fa5",
   "metadata": {},
   "outputs": [
    {
     "data": {
      "text/plain": [
       "<module 'amore.explainer.rule_pattern_miner' from '/Users/chenyu/github/AMORE/experiments/diabetes/../../amore/explainer/rule_pattern_miner.py'>"
      ]
     },
     "execution_count": 50,
     "metadata": {},
     "output_type": "execute_result"
    }
   ],
   "source": [
    "reload(rlm)"
   ]
  },
  {
   "cell_type": "code",
   "execution_count": 51,
   "id": "78034945",
   "metadata": {},
   "outputs": [
    {
     "data": {
      "text/plain": [
       "13379"
      ]
     },
     "execution_count": 51,
     "metadata": {},
     "output_type": "execute_result"
    }
   ],
   "source": [
    "(pred_y>y_thd).sum()"
   ]
  },
  {
   "cell_type": "markdown",
   "id": "039aadc1",
   "metadata": {},
   "source": [
    "### Apply sequential covering to search qualified rule sets for covering more samples in the target subgroup"
   ]
  },
  {
   "cell_type": "code",
   "execution_count": 52,
   "id": "7e899c38",
   "metadata": {
    "scrolled": true
   },
   "outputs": [
    {
     "name": "stdout",
     "output_type": "stream",
     "text": [
      "total targe samples 13379\n",
      "grid search hyperparameters\n",
      "uniform 2 1000 \n",
      " top rule set {'rules': [(5, '>=', 0.5)], 'confidence': 0.598, 'support': 7620, 'fitness': 0.112, 'cond_prob_y': 0.362, 'ratio_y': 0.463}\n",
      "uniform 3 1000 \n",
      " top rule set {'rules': [(5, '>=', 0.6666666666666666)], 'confidence': 0.999, 'support': 1898, 'fitness': 0.142, 'cond_prob_y': 1.0, 'ratio_y': 0.319}\n",
      "uniform 5 2000 \n",
      " top rule set {'rules': [(5, '>=', 0.6000000000000001)], 'confidence': 0.998, 'support': 2307, 'fitness': 0.172, 'cond_prob_y': 1.0, 'ratio_y': 0.388}\n",
      "uniform 7 2000 \n",
      " top rule set {'rules': [(4, '>=', 0.5714285714285714)], 'confidence': 0.993, 'support': 2736, 'fitness': 0.202, 'cond_prob_y': 1.0, 'ratio_y': 0.46}\n",
      "best rule set 1: {'rules': [(4, '>=', 0.5714285714285714)], 'confidence': 0.993, 'support': 2736, 'fitness': 0.202, 'cond_prob_y': 1.0, 'ratio_y': 0.46}\n",
      "check size 2736 67264\n",
      "remaining target samples 10661\n",
      "grid search hyperparameters\n",
      "uniform 2 1000 \n",
      " top rule set {'rules': [(5, '>=', 0.5), (4, '>=', 0.2818181818181818)], 'confidence': 0.748, 'support': 4349, 'fitness': 0.202, 'cond_prob_y': 0.345, 'ratio_y': 0.466}\n",
      "uniform 3 1000 \n",
      " top rule set {'rules': [(5, '>=', 0.6666666666666666)], 'confidence': 0.998, 'support': 1049, 'fitness': 0.098, 'cond_prob_y': 1.0, 'ratio_y': 0.326}\n",
      "uniform 5 1000 \n",
      " top rule set {'rules': [(5, '>=', 0.6000000000000001)], 'confidence': 0.996, 'support': 1257, 'fitness': 0.117, 'cond_prob_y': 1.0, 'ratio_y': 0.391}\n",
      "best rule set 2: {'rules': [(5, '>=', 0.6000000000000001)], 'confidence': 0.996, 'support': 1257, 'fitness': 0.117, 'cond_prob_y': 1.0, 'ratio_y': 0.391}\n",
      "check size 1257 66007\n",
      "remaining target samples 9409\n",
      "grid search hyperparameters\n",
      "uniform 2 1000 \n",
      " top rule set {'rules': [(0, '>=', 0.5), (4, '>=', 0.2818181818181818), (5, '>=', 0.2727272727272727)], 'confidence': 0.615, 'support': 11405, 'fitness': 0.279, 'cond_prob_y': 0.116, 'ratio_y': 0.673}\n",
      "uniform 3 1000 \n",
      " top rule set {'rules': [(2, '==', 1.0), (4, '>=', 0.37575757575757573), (5, '>=', 0.1818181818181818)], 'confidence': 0.904, 'support': 1045, 'fitness': 0.09, 'cond_prob_y': 0.277, 'ratio_y': 0.147}\n",
      "uniform 4 1000 \n",
      " top rule set {'rules': [(5, '>=', 0.40909090909090906), (4, '>=', 0.42272727272727273), (0, '>=', 0.5)], 'confidence': 0.985, 'support': 1189, 'fitness': 0.123, 'cond_prob_y': 0.128, 'ratio_y': 0.078}\n",
      "uniform 4 3000 \n",
      " top rule set {'rules': [(0, '>=', 0.75), (4, '>=', 0.42272727272727273), (5, '>=', 0.2727272727272727)], 'confidence': 0.915, 'support': 3539, 'fitness': 0.312, 'cond_prob_y': 0.159, 'ratio_y': 0.288}\n",
      "best rule set 3: {'rules': [(0, '>=', 0.75), (4, '>=', 0.42272727272727273), (5, '>=', 0.2727272727272727)], 'confidence': 0.915, 'support': 3539, 'fitness': 0.312, 'cond_prob_y': 0.159, 'ratio_y': 0.288}\n",
      "check size 3539 62468\n",
      "remaining target samples 6170\n",
      "grid search hyperparameters\n",
      "uniform 2 1000 \n",
      " top rule set {'rules': [(0, '>=', 0.5), (1, '==', 1.0), (4, '>=', 0.2818181818181818)], 'confidence': 0.605, 'support': 1896, 'fitness': 0.065, 'cond_prob_y': 0.159, 'ratio_y': 0.216}\n",
      "uniform 3 1000 \n",
      " top rule set {'rules': [(1, '==', 1.0), (4, '>=', 0.37575757575757573), (5, '>=', 0.1818181818181818)], 'confidence': 0.738, 'support': 1460, 'fitness': 0.112, 'cond_prob_y': 0.223, 'ratio_y': 0.234}\n",
      "uniform 4 1000 \n",
      " top rule set {'rules': [(5, '>=', 0.40909090909090906), (4, '>=', 0.42272727272727273), (0, '>=', 0.25)], 'confidence': 0.826, 'support': 1222, 'fitness': 0.129, 'cond_prob_y': 0.052, 'ratio_y': 0.046}\n",
      "uniform 5 2000 \n",
      " top rule set {'rules': [(5, '>=', 0.43636363636363634), (4, '>=', 0.33818181818181814), (0, '>=', 0.2)], 'confidence': 0.702, 'support': 2035, 'fitness': 0.133, 'cond_prob_y': 0.067, 'ratio_y': 0.098}\n",
      "uniform 6 5000 \n",
      " top rule set {'rules': [(4, '>=', 0.46969696969696967), (0, '>=', 0.5), (5, '>=', 0.1818181818181818)], 'confidence': 0.581, 'support': 5495, 'fitness': 0.145, 'cond_prob_y': 0.098, 'ratio_y': 0.388}\n",
      "uniform 8 3000 \n",
      " top rule set {'rules': [(4, '>=', 0.49318181818181817), (0, '>=', 0.5), (5, '>=', 0.06818181818181818)], 'confidence': 0.687, 'support': 3228, 'fitness': 0.196, 'cond_prob_y': 0.085, 'ratio_y': 0.196}\n",
      "total coverage 0.5388295089319082\n"
     ]
    }
   ],
   "source": [
    "ng_range = np.arange(2,11)\n",
    "bin_strategies = [\"uniform\",\"kmeans\"]\n",
    "support_range = np.arange(1000,6000,1000)\n",
    "confidence_lower_bound = 0.9\n",
    "max_depth=3\n",
    "top_K=3\n",
    "grid_search_params = {\"bin_strategies\":bin_strategies,\"ng_range\":ng_range,\"support_range\":support_range}\n",
    "best_rule_sets,tot_coverage = rlm.sequential_covering(X_train.values,fids,target_indices=pred_y>y_thd,y=y_train.values,grid_search_params=grid_search_params,c=1,confidence_lower_bound=confidence_lower_bound,\n",
    "                                initial_max_depth=1,max_depth=max_depth,top_K=top_K,sort_by=\"fitness\",feature_types=feature_types,min_confidence=0.8,\n",
    "                                feature_names=X_train.columns, increase_depth=True,depth_gain=0.2,verbose=False)"
   ]
  },
  {
   "cell_type": "code",
   "execution_count": 53,
   "id": "61a1d730",
   "metadata": {},
   "outputs": [],
   "source": [
    "## recover raw feature value by reversing the min-max normalization\n",
    "\n",
    "for n in range(len(best_rule_sets)):\n",
    "    for i, r in enumerate(best_rule_sets[n][\"rules\"]):\n",
    "        nr = recover_feature_raw_value(r[0],r[-1],X_train.columns,min_max)\n",
    "        best_rule_sets[n][\"rules\"][i] = (*r[:-1],nr) "
   ]
  },
  {
   "cell_type": "markdown",
   "id": "4bc22fe7",
   "metadata": {},
   "source": [
    "### Display results of sequential covering"
   ]
  },
  {
   "cell_type": "code",
   "execution_count": 54,
   "id": "96934c83",
   "metadata": {},
   "outputs": [
    {
     "name": "stdout",
     "output_type": "stream",
     "text": [
      "IF [(4, 'HbA1c_level', '>=', 6.642857142857142)]: \n",
      "\n",
      "\t fitness:  0.202\n",
      "\t confidence:  0.993\n",
      "\t support:  2736\n",
      "ELSE IF [(5, 'blood_glucose_level', '>=', 212.00000000000003)]: \n",
      "\n",
      "\t fitness:  0.117\n",
      "\t confidence:  0.996\n",
      "\t support:  1257\n",
      "ELSE IF [(0, 'age', '>=', 60.019999999999996), (4, 'HbA1c_level', '>=', 5.825), (5, 'blood_glucose_level', '>=', 140.0)]: \n",
      "\n",
      "\t fitness:  0.312\n",
      "\t confidence:  0.915\n",
      "\t support:  3539\n",
      "total coverage:  0.5388295089319082\n",
      "weighted confidence:  0.9568514338821029\n",
      "weighted fitness:  0.23949933616569302\n"
     ]
    }
   ],
   "source": [
    "\n",
    "rlm.display_sequnce_rule_sets(best_rule_sets,tot_coverage=tot_coverage,feature_names=X_train.columns)"
   ]
  },
  {
   "cell_type": "code",
   "execution_count": null,
   "id": "7a733d88",
   "metadata": {},
   "outputs": [],
   "source": []
  },
  {
   "cell_type": "code",
   "execution_count": null,
   "id": "203d802f",
   "metadata": {},
   "outputs": [],
   "source": []
  },
  {
   "cell_type": "markdown",
   "id": "b9fcbcca",
   "metadata": {},
   "source": [
    "## Rule extraction by DT Classifier "
   ]
  },
  {
   "cell_type": "code",
   "execution_count": 26,
   "id": "d5c40cc2",
   "metadata": {},
   "outputs": [
    {
     "name": "stdout",
     "output_type": "stream",
     "text": [
      "best_fitness:  0.03266312878391509\n",
      "Best Rule Set Updated:  ([(4, '>', 0.518)], (14501, 0.515067926349907, 0.2512930142748776, 0.03266312878391509))\n",
      "Best Configs Updated:  {'criterion': 'gini', 'min_support': 1000, 'class_weight': {0: 0.5, 1: 0.5}}\n",
      "{'rules': [(4, '>', 0.518)], 'support': 14501, 'fitness': 0.03266312878391509, 'confidence': 0.515067926349907} {'criterion': 'gini', 'min_support': 1000, 'class_weight': {0: 0.5, 1: 0.5}}\n"
     ]
    }
   ],
   "source": [
    "## set \"grid_search = True\" to do a grid search for hyperprameters\n",
    "\n",
    "if grid_search:\n",
    "    criteria = [\"gini\", \"entropy\", \"log_loss\"]\n",
    "    w = (y_train==c).sum()/y_train.shape[0]\n",
    "    class_weight_options = [{0:0.5,1:0.5},{0:1./(1.-w),1:1./w}]\n",
    "    support_range = np.arange(1000,6000,1000)\n",
    "    confidence_lower_bound = 0.\n",
    "    max_depth=1\n",
    "    DT_best_rule_set, DT_best_configs, DT_config_metric_records = dtr.param_grid_search_for_DT(criteria,support_range,weight_options=class_weight_options,X=X_train.values,y=y_train.values,target_indices=pred_y>y_thd,c=1,max_depth=max_depth,feature_names=X_train.columns,confidence_lower_bound=confidence_lower_bound,seed=seed)\n",
    "    print(DT_best_rule_set, DT_best_configs)\n"
   ]
  },
  {
   "cell_type": "code",
   "execution_count": 27,
   "id": "d1f6caaa",
   "metadata": {},
   "outputs": [
    {
     "name": "stdout",
     "output_type": "stream",
     "text": [
      "|--- feature_4 <= 0.52\n",
      "|   |--- class: False\n",
      "|--- feature_4 >  0.52\n",
      "|   |--- class: True\n",
      "\n"
     ]
    }
   ],
   "source": [
    "### Obtain rules for target pattern: pred_y > y_thd from a DecisionTreeClassifier ###\n",
    "### We set the hyperparameters obtaind by above grid search step ###\n",
    "criterion=\"gini\"\n",
    "min_support=1000\n",
    "class_weight={0: 0.5, 1: 0.5}\n",
    "\n",
    "input_feature_names =X_train.columns\n",
    "treemodel = DecisionTreeClassifier(max_depth=max_depth,min_samples_leaf=min_support,criterion=criterion,random_state=seed,class_weight=class_weight)\n",
    "treemodel.fit(X_train,pred_y>y_thd)\n",
    "rule_list, rule_value_list, rule_metric_list, new_lines = dtr.obtain_rule_lists_from_DT(treemodel,X_train.values,y_train.values,pred_y>y_thd,np.arange(X_train.shape[-1]),X_train.columns,c=1)\n",
    "print(export_text(treemodel))"
   ]
  },
  {
   "cell_type": "code",
   "execution_count": 28,
   "id": "0bcfdd66",
   "metadata": {},
   "outputs": [],
   "source": [
    "## recover raw feature value by reversing the min-max normalization\n",
    "for s in range(len(rule_list)):\n",
    "    for j, r in enumerate(rule_list[s]):\n",
    "        nr = recover_feature_raw_value(r[0],r[-1],X_train.columns,min_max)\n",
    "        rule_list[s][j] = (*r[:-1],nr)"
   ]
  },
  {
   "cell_type": "code",
   "execution_count": 29,
   "id": "6fd7f501",
   "metadata": {},
   "outputs": [
    {
     "name": "stdout",
     "output_type": "stream",
     "text": [
      "#################\n",
      "[(4, '<=', 6.349)]\n",
      "confidence 0.106 cond_prob_y 0.042 support 55499 fitness -3.265\n",
      "HbA1c_level <= 6.349\n",
      "#################\n",
      "[(4, '>', 6.349)]\n",
      "confidence 0.515 cond_prob_y 0.251 support 14501 fitness 0.033\n",
      "HbA1c_level > 6.349\n"
     ]
    }
   ],
   "source": [
    "## display rules extracted by DT classifier\n",
    "dtr.display_rules_from_DT(rule_list,rule_metric_list,input_feature_names)"
   ]
  },
  {
   "cell_type": "code",
   "execution_count": 30,
   "id": "68ff4cc1",
   "metadata": {},
   "outputs": [
    {
     "name": "stdout",
     "output_type": "stream",
     "text": [
      "best_fitness:  0.3420285522086853\n",
      "Best Rule Set Updated:  ([(4, '>', 0.518), (0, '>', 0.543)], (8144, 0.7809430255402751, 0.39513752455795675, 0.3420285522086853))\n",
      "Best Configs Updated:  {'criterion': 'gini', 'min_support': 1000, 'class_weight': {0: 0.5, 1: 0.5}}\n",
      "best rule set 1: {'rules': [(4, '>', 0.518), (0, '>', 0.543)], 'support': 8144, 'fitness': 0.3420285522086853, 'confidence': 0.7809430255402751}\n",
      "check size (70000,) (70000,) (70000, 15)\n",
      "remaining target samples 7019\n",
      "best_fitness:  0.14902407750391794\n",
      "Best Rule Set Updated:  ([(5, '>', 0.591)], (1056, 0.9952651515151515, 1.0, 0.14902407750391794))\n",
      "Best Configs Updated:  {'criterion': 'gini', 'min_support': 1000, 'class_weight': {0: 0.5, 1: 0.5}}\n",
      "best rule set 2: {'rules': [(5, '>', 0.591)], 'support': 1056, 'fitness': 0.14902407750391794, 'confidence': 0.9952651515151515}\n",
      "check size (61856,) (61856,) (61856, 15)\n",
      "remaining target samples 5968\n",
      "best_fitness:  0.2746313672922252\n",
      "Best Rule Set Updated:  ([(4, '>', 0.336), (0, '>', 0.756), (5, '>', 0.284)], (3049, 0.7687766480813382, 0.17284355526402098, 0.2746313672922252))\n",
      "Best Configs Updated:  {'criterion': 'gini', 'min_support': 3000, 'class_weight': {0: 0.5, 1: 0.5}}\n",
      "best rule set 3: {'rules': [(4, '>', 0.336), (0, '>', 0.756), (5, '>', 0.284)], 'support': 3049, 'fitness': 0.2746313672922252, 'confidence': 0.7687766480813382}\n",
      "check size (60800,) (60800,) (60800, 15)\n",
      "remaining target samples 3624\n",
      "total coverage 0.7291277374990657\n"
     ]
    }
   ],
   "source": [
    "criteria = [\"gini\", \"entropy\", \"log_loss\"]\n",
    "w = (y_train==c).sum()/y_train.shape[0]\n",
    "class_weight_options = [{0:0.5,1:0.5},{0:1./(1.-w),1:1./w}]\n",
    "support_range = np.arange(1000,6000,1000)\n",
    "confidence_lower_bound = 0.75\n",
    "max_depth=3\n",
    "\n",
    "grid_search_params = {\"support_range\":support_range,\"criteria\":criteria,\"weight_options\":class_weight_options}\n",
    "\n",
    "best_rule_sets,tot_coverage = rlm.sequential_covering(X_train.values,fids,target_indices=pred_y>y_thd,y=y_train.values,grid_search_params=grid_search_params,method=\"dt\",c=1,confidence_lower_bound=confidence_lower_bound,\n",
    "                                initial_max_depth=2,max_depth=max_depth,top_K=top_K,sort_by=\"fitness\",feature_types=feature_types,min_confidence=0.75,\n",
    "                                feature_names=X_train.columns, increase_depth=True,depth_gain=0.2,verbose=False)"
   ]
  },
  {
   "cell_type": "code",
   "execution_count": 31,
   "id": "9376f7c9",
   "metadata": {},
   "outputs": [
    {
     "name": "stdout",
     "output_type": "stream",
     "text": [
      "IF [(4, 'HbA1c_level', '>', 6.349), (0, 'age', '>', 43.47656)]: \n",
      "\n",
      "\t fitness:  0.3420285522086853\n",
      "\t confidence:  0.7809430255402751\n",
      "\t support:  8144\n",
      "ELSE IF [(5, 'blood_glucose_level', '>', 210.01999999999998)]: \n",
      "\n",
      "\t fitness:  0.14902407750391794\n",
      "\t confidence:  0.9952651515151515\n",
      "\t support:  1056\n",
      "ELSE IF [(4, 'HbA1c_level', '>', 5.348), (0, 'age', '>', 60.49952), (5, 'blood_glucose_level', '>', 142.48)]: \n",
      "\n",
      "\t fitness:  0.2746313672922252\n",
      "\t confidence:  0.7687766480813382\n",
      "\t support:  3049\n",
      "total coverage:  0.7291277374990657\n",
      "weighted confidence:  0.7963915421667075\n",
      "weighted fitness:  0.30861302913753486\n"
     ]
    }
   ],
   "source": [
    "## recover raw feature value by reversing the min-max normalization\n",
    "\n",
    "for n in range(len(best_rule_sets)):\n",
    "    for i, r in enumerate(best_rule_sets[n][\"rules\"]):\n",
    "        nr = recover_feature_raw_value(r[0],r[-1],X_train.columns,min_max)\n",
    "        best_rule_sets[n][\"rules\"][i] = (*r[:-1],nr) \n",
    "\n",
    "rlm.display_sequnce_rule_sets(best_rule_sets,tot_coverage=tot_coverage,feature_names=X_train.columns)"
   ]
  },
  {
   "cell_type": "code",
   "execution_count": null,
   "id": "37f63491",
   "metadata": {},
   "outputs": [],
   "source": []
  },
  {
   "cell_type": "code",
   "execution_count": null,
   "id": "32f2e1a2",
   "metadata": {},
   "outputs": [],
   "source": []
  },
  {
   "cell_type": "markdown",
   "id": "c53ea646",
   "metadata": {},
   "source": [
    "## Extract local rules for specific test samples by AMORE"
   ]
  },
  {
   "cell_type": "code",
   "execution_count": 32,
   "id": "08e46235",
   "metadata": {},
   "outputs": [
    {
     "data": {
      "text/plain": [
       "(0.42439205526547025, 1)"
      ]
     },
     "execution_count": 32,
     "metadata": {},
     "output_type": "execute_result"
    }
   ],
   "source": [
    "## tids of test samples demonstrated in the paper: 5,4,144\n",
    "\n",
    "tid = 144\n",
    "x = X_train.values\n",
    "xi = X_test.values[tid,:]\n",
    "pred_y_test[tid],y_test.values[tid]"
   ]
  },
  {
   "cell_type": "code",
   "execution_count": 33,
   "id": "09c2dd7e",
   "metadata": {
    "scrolled": true
   },
   "outputs": [
    {
     "name": "stdout",
     "output_type": "stream",
     "text": [
      "grid search hyperparameters\n",
      "uniform 2 1000 \n",
      " top rule set {'rules': [(0, '>=', 0.5), (7, '==', 1.0)], 'confidence': 0.367, 'support': 15396, 'fitness': -0.307, 'cond_prob_y': 0.166, 'ratio_y': 0.429}\n",
      "uniform 3 1000 \n",
      " top rule set {'rules': [(3, '>=', 0.3333333333333333), (4, '>=', 0.3333333333333333), (0, '>=', 0.6666666666666666)], 'confidence': 0.882, 'support': 1451, 'fitness': 0.083, 'cond_prob_y': 0.527, 'ratio_y': 0.128}\n",
      "kmeans 3 1000 \n",
      " top rule set {'rules': [(3, '>=', 0.3357801811640126), (4, '>=', 0.3186770667450987), (0, '>=', 0.6823256580015833)], 'confidence': 0.893, 'support': 1340, 'fitness': 0.079, 'cond_prob_y': 0.542, 'ratio_y': 0.122}\n"
     ]
    }
   ],
   "source": [
    "ng_range = np.arange(2,11)\n",
    "bin_strategies = [\"uniform\",\"kmeans\"]\n",
    "support_range = [1000]\n",
    "confidence_lower_bound = 0.8\n",
    "max_depth=3\n",
    "top_K=3\n",
    "\n",
    "local_best_rule_set,local_best_configs,local_config_metric_records = rlm.param_grid_search_for_amore(bin_strategies,ng_range,support_range,X_train.values,fids,target_indices=pred_y>y_thd,y=y_train.values,c=1,confidence_lower_bound = confidence_lower_bound,\n",
    "                                                                                        max_depth=max_depth,top_K=top_K,sort_by=\"confidence\",local_x=xi,feature_types=feature_types)\n",
    "\n"
   ]
  },
  {
   "cell_type": "code",
   "execution_count": 34,
   "id": "fbd2a2f3",
   "metadata": {},
   "outputs": [
    {
     "data": {
      "text/plain": [
       "({'rules': [(3, '>=', 0.3357801811640126),\n",
       "   (4, '>=', 0.3186770667450987),\n",
       "   (0, '>=', 0.6823256580015833)],\n",
       "  'confidence': 0.893,\n",
       "  'support': 1340,\n",
       "  'fitness': 0.079,\n",
       "  'cond_prob_y': 0.542,\n",
       "  'ratio_y': 0.122},\n",
       " {'bin_strategy': 'kmeans', 'num_grids': 3, 'min_support': 1000})"
      ]
     },
     "execution_count": 34,
     "metadata": {},
     "output_type": "execute_result"
    }
   ],
   "source": [
    "local_best_rule_set,local_best_configs"
   ]
  },
  {
   "cell_type": "code",
   "execution_count": 35,
   "id": "d615d597",
   "metadata": {},
   "outputs": [
    {
     "data": {
      "text/plain": [
       "{'rules': [(3, 'bmi', '>=', 37.480176621027866),\n",
       "  (4, 'HbA1c_level', '>=', 5.252723867098043),\n",
       "  (0, 'age', '>=', 54.61146658748654)],\n",
       " 'confidence': 0.893,\n",
       " 'support': 1340,\n",
       " 'fitness': 0.079,\n",
       " 'cond_prob_y': 0.542,\n",
       " 'ratio_y': 0.122}"
      ]
     },
     "execution_count": 35,
     "metadata": {},
     "output_type": "execute_result"
    }
   ],
   "source": [
    "## display the top local rule set\n",
    "\n",
    "rules = local_best_rule_set\n",
    "rules[\"rules\"] = rlm.replace_feature_names(rules[\"rules\"],X_train.columns)\n",
    "for i, r in enumerate(rules[\"rules\"]):\n",
    "    nr = recover_feature_raw_value(r[0],r[-1],X_train.columns,min_max)\n",
    "    rules[\"rules\"][i] = (*r[:-1],nr) \n",
    "rules"
   ]
  },
  {
   "cell_type": "markdown",
   "id": "c49f9bd4",
   "metadata": {},
   "source": [
    "### Below code is for plotting confidence and fitness while varying minimum support¶"
   ]
  },
  {
   "cell_type": "code",
   "execution_count": 36,
   "id": "0bcc5d29",
   "metadata": {},
   "outputs": [],
   "source": [
    "import amore.explainer.explainer_utils as eutils"
   ]
  },
  {
   "cell_type": "code",
   "execution_count": 37,
   "id": "4d6a7c7e",
   "metadata": {},
   "outputs": [
    {
     "data": {
      "text/plain": [
       "0.9"
      ]
     },
     "execution_count": 37,
     "metadata": {},
     "output_type": "execute_result"
    }
   ],
   "source": [
    "confidence_lower_bound = 0.9\n",
    "confidence_lower_bound"
   ]
  },
  {
   "cell_type": "code",
   "execution_count": 38,
   "id": "c6194fa5",
   "metadata": {},
   "outputs": [
    {
     "data": {
      "image/png": "[encoded data removed]",
      "text/plain": [
       "<Figure size 500x400 with 1 Axes>"
      ]
     },
     "metadata": {},
     "output_type": "display_data"
    }
   ],
   "source": [
    "if grid_search:\n",
    "    keys = list(DT_config_metric_records.keys())\n",
    "    for key in keys:\n",
    "        if len(DT_config_metric_records[key][\"top_confidence_records\"]) ==0:\n",
    "            del DT_config_metric_records[key]\n",
    "    \n",
    "    cf_mtx = np.vstack([config_metric_records[key][\"top_confidence_records\"] for key in config_metric_records.keys()])\n",
    "    ft_mtx = np.vstack([config_metric_records[key][\"top_fitness_records\"] for key in config_metric_records.keys()])\n",
    "    \n",
    "    DT_cf_mtx = np.vstack([DT_config_metric_records[key][\"top_confidence_records\"] for key in DT_config_metric_records.keys()])\n",
    "    DT_ft_mtx = np.vstack([DT_config_metric_records[key][\"top_fitness_records\"] for key in DT_config_metric_records.keys()])\n",
    "    \n",
    "    support_range = np.arange(1000,6000,1000)\n",
    "    eutils.plot_confidence_fitness_curve(cf_mtx,ft_mtx,DT_cf_mtx,DT_ft_mtx,support_range,confidence_lower_bound=confidence_lower_bound)"
   ]
  },
  {
   "cell_type": "code",
   "execution_count": null,
   "id": "abdd75be",
   "metadata": {},
   "outputs": [],
   "source": []
  },
  {
   "cell_type": "code",
   "execution_count": null,
   "id": "599e3338",
   "metadata": {},
   "outputs": [],
   "source": []
  },
  {
   "cell_type": "code",
   "execution_count": null,
   "id": "0c561ecb",
   "metadata": {},
   "outputs": [],
   "source": []
  },
  {
   "cell_type": "code",
   "execution_count": null,
   "id": "a94f4e3c",
   "metadata": {},
   "outputs": [],
   "source": []
  }
 ],
 "metadata": {
  "kernelspec": {
   "display_name": "amore_venv",
   "language": "python",
   "name": "amore_venv"
  },
  "language_info": {
   "codemirror_mode": {
    "name": "ipython",
    "version": 3
   },
   "file_extension": ".py",
   "mimetype": "text/x-python",
   "name": "python",
   "nbconvert_exporter": "python",
   "pygments_lexer": "ipython3",
   "version": "3.10.7"
  }
 },
 "nbformat": 4,
 "nbformat_minor": 5
}
