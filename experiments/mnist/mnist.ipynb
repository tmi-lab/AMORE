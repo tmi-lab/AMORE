{
 "cells": [
  {
   "cell_type": "code",
   "execution_count": 1,
   "id": "0107747c",
   "metadata": {},
   "outputs": [],
   "source": [
    "import sys\n",
    "import os\n",
    "from importlib import reload\n",
    "here = os.getcwd()\n",
    "sys.path.append(os.path.join(here,\"../../\"))"
   ]
  },
  {
   "cell_type": "code",
   "execution_count": 2,
   "id": "31047ea8",
   "metadata": {},
   "outputs": [],
   "source": [
    "import torch\n",
    "import torch.nn as nn\n",
    "import torch.optim as optim\n",
    "import torchvision\n",
    "import torchvision.transforms as transforms\n",
    "from torch.utils.data import DataLoader\n",
    "import torch.nn.functional as F"
   ]
  },
  {
   "cell_type": "code",
   "execution_count": 3,
   "id": "93fb320b",
   "metadata": {},
   "outputs": [],
   "source": [
    "import random\n",
    "import numpy as np\n",
    "import seaborn as sns\n",
    "import matplotlib.pyplot as plt "
   ]
  },
  {
   "cell_type": "code",
   "execution_count": 4,
   "id": "a79096f2",
   "metadata": {},
   "outputs": [],
   "source": [
    "import explainer.rule_pattern_miner as rlm\n",
    "import explainer.explainer_utils as eutils\n",
    "from explainer.itemsets_miner import transform_intgrad_to_itemsets,gen_freq_feature_set\n",
    "import explainer.integrad as integrad\n",
    "\n",
    "from sklearn.metrics import f1_score,confusion_matrix,precision_score,recall_score,accuracy_score,roc_auc_score,roc_curve\n",
    "from itertools import permutations"
   ]
  },
  {
   "cell_type": "code",
   "execution_count": null,
   "id": "4d1289ce",
   "metadata": {},
   "outputs": [],
   "source": []
  },
  {
   "cell_type": "code",
   "execution_count": 5,
   "id": "daca1a5f",
   "metadata": {},
   "outputs": [],
   "source": [
    "# Define a simple CNN model\n",
    "class Net(nn.Module):\n",
    "    def __init__(self,image_w=28,image_h=28,num_class=10,input_channel=1,output_channel=4,kernel=4,hidden_state=128):\n",
    "        super(Net, self).__init__()\n",
    "        self.output_channel = output_channel\n",
    "        self.w = int((image_w - kernel + 1)/2)\n",
    "        self.h = int((image_h - kernel + 1)/2)\n",
    "        \n",
    "        self.conv1 = nn.Conv2d(input_channel, output_channel, kernel)  # 1 input channel, 32 output channels, 5x5 kernel\n",
    "       \n",
    "        self.fc1 = nn.Linear(output_channel * self.w * self.h, hidden_state)  # Fully connected layer with 10 output classes\n",
    "        self.fc2 = nn.Linear(hidden_state, num_class)\n",
    "        \n",
    "    def latent1(self,x):\n",
    "        x = F.relu(F.max_pool2d(self.conv1(x), 2))\n",
    "        x = x.view(-1, self.output_channel * self.w * self.h)\n",
    "        return x\n",
    "    \n",
    "    def latent2(self,x):   \n",
    "        x = self.latent1(x)\n",
    "        x = F.relu(self.fc1(x))\n",
    "        return x\n",
    "        \n",
    "    def forward(self, x):\n",
    "#         x = self.latent1(x)\n",
    "        x = self.latent2(x)\n",
    "        x = self.fc2(x)\n",
    "        return F.log_softmax(x, dim=1)\n",
    "    \n",
    "    def latent_representation(self,x):\n",
    "        #x = self.latent2(x)\n",
    "        x = self.fc2(x)\n",
    "        return F.log_softmax(x, dim=1)\n"
   ]
  },
  {
   "cell_type": "code",
   "execution_count": 6,
   "id": "4912c61d",
   "metadata": {},
   "outputs": [],
   "source": [
    "## Control randomness for reproducibility\n",
    "seed = 42\n",
    "torch.manual_seed(seed)\n",
    "np.random.seed(seed)\n",
    "random.seed(seed)"
   ]
  },
  {
   "cell_type": "markdown",
   "id": "2bdbc4ea",
   "metadata": {},
   "source": [
    "## Load and preprocess data"
   ]
  },
  {
   "cell_type": "code",
   "execution_count": 7,
   "id": "c1cbc319",
   "metadata": {
    "scrolled": true
   },
   "outputs": [],
   "source": [
    "\n",
    "# Specify where to download or read the data\n",
    "dpath = \"./data/\" \n",
    "\n",
    "# Define data transformations and load the MNIST dataset\n",
    "transform = transforms.Compose([transforms.ToTensor(), transforms.Normalize((0.5,), (0.5,))])\n",
    "\n",
    "trainset = torchvision.datasets.MNIST(root=dpath, train=True, download=True, transform=transform)\n",
    "trainloader = DataLoader(trainset, batch_size=64, shuffle=True, num_workers=8)\n",
    "\n",
    "# Define data transformations and load the MNIST test dataset\n",
    "testset = torchvision.datasets.MNIST(root=dpath, train=False, download=True, transform=transform)\n",
    "testloader = DataLoader(testset, batch_size=64, shuffle=False, num_workers=8)\n"
   ]
  },
  {
   "cell_type": "markdown",
   "id": "e558be9b",
   "metadata": {},
   "source": [
    "## Train CNN classifier"
   ]
  },
  {
   "cell_type": "code",
   "execution_count": 8,
   "id": "87077382",
   "metadata": {
    "scrolled": true
   },
   "outputs": [],
   "source": [
    "model_path = \"./model/cnn\"\n",
    "\n",
    "if os.path.exists(model_path):\n",
    "    ### load the trained model\n",
    "    model = torch.load(model_path)\n",
    "\n",
    "else:\n",
    "    # Initialize the model and optimizer\n",
    "    model = Net()\n",
    "    criterion = nn.CrossEntropyLoss()\n",
    "    optimizer = optim.SGD(model.parameters(), lr=0.001, momentum=0.9)\n",
    "\n",
    "    # Training loop\n",
    "    for epoch in range(50):  # Change the number of epochs as needed\n",
    "        running_loss = 0.0\n",
    "        for i, data in enumerate(trainloader, 0):\n",
    "            inputs, labels = data\n",
    "            optimizer.zero_grad()\n",
    "            outputs = model(inputs)\n",
    "            loss = criterion(outputs, labels)\n",
    "            loss.backward()\n",
    "            optimizer.step()\n",
    "            running_loss += loss.item()\n",
    "            if i % 400 == 399:\n",
    "                print(f'Epoch {epoch + 1}, Batch {i + 1}, Loss: {running_loss / 400:.3f}')\n",
    "                running_loss = 0.0\n",
    "    torch.save(model, model_path)\n",
    "    print('Finished Training')"
   ]
  },
  {
   "cell_type": "code",
   "execution_count": 9,
   "id": "a5016fe4",
   "metadata": {},
   "outputs": [
    {
     "name": "stdout",
     "output_type": "stream",
     "text": [
      "Accuracy on the test set: 98.55%\n"
     ]
    }
   ],
   "source": [
    "## Evaluate on test set\n",
    "\n",
    "correct = 0\n",
    "total = 0\n",
    "y_test, pred_y_test,pred_prob_test = [],[],[]\n",
    "with torch.no_grad():\n",
    "    for data in testloader:\n",
    "        inputs, labels = data\n",
    "        y_test.append(labels) \n",
    "        outputs = model(inputs)\n",
    "        _, predicted = torch.max(outputs, 1)\n",
    "        pred_y_test.append(predicted) \n",
    "        pred_prob_test.append(torch.softmax(outputs,dim=1))\n",
    "        total += labels.size(0)\n",
    "        correct += (predicted == labels).sum().item()\n",
    "        \n",
    "y_test = torch.concat(y_test).numpy()\n",
    "pred_y_test = torch.concat(pred_y_test).numpy()\n",
    "pred_prob_test = torch.vstack(pred_prob_test).numpy()\n",
    "\n",
    "print(f'Accuracy on the test set: {100 * correct / total:.2f}%')\n"
   ]
  },
  {
   "cell_type": "code",
   "execution_count": 10,
   "id": "6ccb45af",
   "metadata": {},
   "outputs": [
    {
     "name": "stdout",
     "output_type": "stream",
     "text": [
      "Accuracy on the training set: 99.72%\n"
     ]
    }
   ],
   "source": [
    "## Evaluate on training set\n",
    "\n",
    "correct = 0\n",
    "total = 0\n",
    "X_train, X_train_raw = [],[]\n",
    "y_train, pred_y_train = [],[]\n",
    "train_reps = []\n",
    "pred_prob_train = []\n",
    "with torch.no_grad():\n",
    "    for data in trainloader:\n",
    "        inputs, labels = data\n",
    "        \n",
    "        X_train_raw.append(inputs)\n",
    "        X_train.append(model.latent2(inputs).detach())\n",
    "        y_train.append(labels)        \n",
    "        \n",
    "        outputs = model(inputs).detach()\n",
    "        train_reps.append(outputs) \n",
    "        predicted = torch.argmax(outputs,dim=1)\n",
    "        pred_y_train.append(predicted) \n",
    "        pred_prob_train.append(torch.softmax(outputs,dim=1))\n",
    "        \n",
    "        total += labels.size(0)\n",
    "        correct += (predicted == labels).sum().item()\n",
    "        \n",
    "X_train = torch.vstack(X_train)\n",
    "X_train_raw = torch.vstack(X_train_raw)\n",
    "train_reps = torch.vstack(train_reps)\n",
    "\n",
    "y_train = torch.concat(y_train).numpy()\n",
    "pred_y_train = torch.concat(pred_y_train).numpy()\n",
    "pred_prob_train = torch.vstack(pred_prob_train).numpy()\n",
    "\n",
    "print(f'Accuracy on the training set: {100 * correct / total:.2f}%')"
   ]
  },
  {
   "cell_type": "code",
   "execution_count": 11,
   "id": "9a424d27",
   "metadata": {},
   "outputs": [
    {
     "name": "stdout",
     "output_type": "stream",
     "text": [
      "y threshold 0.28734288\n"
     ]
    },
    {
     "data": {
      "image/png": "[encoded data removed]",
      "text/plain": [
       "<Figure size 800x600 with 1 Axes>"
      ]
     },
     "metadata": {},
     "output_type": "display_data"
    }
   ],
   "source": [
    "## AUC on training set\n",
    "\n",
    "auc = roc_auc_score(y_train==7, pred_prob_train[:,7])\n",
    "fpr, tpr, thresholds = roc_curve(y_train==7, pred_prob_train[:,7])\n",
    "y_thd = thresholds[np.argmax(tpr - fpr)]\n",
    "print(\"y threshold\",y_thd)\n",
    "\n",
    "# Plot the ROC curve\n",
    "plt.figure(figsize=(8, 6))\n",
    "plt.plot(fpr, tpr, label=f'ROC Curve (AUC = {auc:.2f})')\n",
    "plt.xlabel('False Positive Rate')\n",
    "plt.ylabel('True Positive Rate')\n",
    "plt.title('Receiver Operating Characteristic (ROC) Curve')\n",
    "plt.legend()\n",
    "plt.grid()\n",
    "plt.show()"
   ]
  },
  {
   "cell_type": "code",
   "execution_count": 12,
   "id": "f7d7b4df",
   "metadata": {},
   "outputs": [
    {
     "data": {
      "text/plain": [
       "0.9998939632336487"
      ]
     },
     "execution_count": 12,
     "metadata": {},
     "output_type": "execute_result"
    }
   ],
   "source": [
    "## AUC on test set\n",
    "roc_auc_score(y_test==7, pred_prob_test[:,7])"
   ]
  },
  {
   "cell_type": "markdown",
   "id": "0db5e15c",
   "metadata": {},
   "source": [
    "## Feature selection for AMORE"
   ]
  },
  {
   "cell_type": "code",
   "execution_count": 13,
   "id": "3c79bc92",
   "metadata": {},
   "outputs": [],
   "source": [
    "## get baseline samples and test samples for computing impact scores of features\n",
    "\n",
    "baselines = eutils.gen_intgrad_baselines(X_train,y_train,train_reps)\n",
    "subset = eutils.gen_balanced_subset(X_train,y_train,size_per_class=1000)"
   ]
  },
  {
   "cell_type": "code",
   "execution_count": 14,
   "id": "bfa212dd",
   "metadata": {},
   "outputs": [],
   "source": [
    "# # If test the rule extraction methods for multiple random seeds, change the random seed here.\n",
    "# # If change random seed in the begining, the model, the training, and test set will change too, the randomness will have several sources.\n",
    "\n",
    "# seed = 0\n",
    "# torch.manual_seed(seed)\n",
    "# np.random.seed(seed)\n",
    "# random.seed(seed)"
   ]
  },
  {
   "cell_type": "code",
   "execution_count": 15,
   "id": "2d24a75b",
   "metadata": {
    "scrolled": true
   },
   "outputs": [],
   "source": [
    "## compute impact score matrix\n",
    "\n",
    "### specify target class\n",
    "c = 7 \n",
    "\n",
    "### calc int grads for target class\n",
    "int_g, z_shift = eutils.calc_baselines_intg(test_examples=subset,model=model,baselines=baselines,C=10,target_dim=c)\n",
    "y_int_g = torch.abs(int_g/z_shift[:,c].reshape(-1,1))"
   ]
  },
  {
   "cell_type": "code",
   "execution_count": 16,
   "id": "885e0a67",
   "metadata": {
    "scrolled": true
   },
   "outputs": [
    {
     "name": "stdout",
     "output_type": "stream",
     "text": [
      "(0.0001, tensor(10))\n",
      "(0.0002, tensor(3))\n",
      "(0.00030000000000000003, tensor(2))\n",
      "(0.0004, tensor(1))\n"
     ]
    },
    {
     "data": {
      "text/plain": [
       "0.0004"
      ]
     },
     "execution_count": 16,
     "metadata": {},
     "output_type": "execute_result"
    }
   ],
   "source": [
    "### find threshold for int grads\n",
    "thds = np.linspace(0.0001,0.1,1000)\n",
    "f_n = []\n",
    "for thd in thds:\n",
    "    mask = torch.abs(y_int_g) >= thd \n",
    "    f_n.append((thd,(mask.sum(dim=0)>=len(y_int_g)*.99).sum()))\n",
    "    print(f_n[-1])\n",
    "    if f_n[-1][1]<=1:\n",
    "        break\n",
    "thd = f_n[-1][0] \n",
    "thd"
   ]
  },
  {
   "cell_type": "code",
   "execution_count": 17,
   "id": "95fba5d1",
   "metadata": {
    "scrolled": true
   },
   "outputs": [
    {
     "name": "stdout",
     "output_type": "stream",
     "text": [
      "feature set [ 44  20 105  66   5  15  88 114  68  28  60  17  33  19  77 121   6 110\n",
      "  14  38  76  58  12  36 111  80  99] 27\n"
     ]
    }
   ],
   "source": [
    "### find frequent feature set\n",
    "itemsets_y = transform_intgrad_to_itemsets(y_int_g,thd=thd)\n",
    "fids = gen_freq_feature_set(itemsets_y[0],min_support=1000,max_len=100)\n",
    "fids = np.array(fids).astype(int)-1\n",
    "print('feature set',fids,len(fids))"
   ]
  },
  {
   "cell_type": "markdown",
   "id": "c3e94206",
   "metadata": {},
   "source": [
    "## Extract rules by AMORE"
   ]
  },
  {
   "cell_type": "code",
   "execution_count": 30,
   "id": "ce300c9f",
   "metadata": {
    "scrolled": true
   },
   "outputs": [
    {
     "name": "stdout",
     "output_type": "stream",
     "text": [
      "grid search hyperparameters\n",
      "{'rules': [(44, '>=', 6.2233706), (114, '>=', 0.0), (114, '<=', 3.1046019)], 'confidence': 0.900374531835206, 'support': 5340, 'fitness': 0.6815428753586229, 'cond_prob_y': 0.898876404494382, 'ratio_y': 0.7661612130885874} {'bin_strategy': 'kmeans', 'num_grids': 6, 'min_support': 4000}\n"
     ]
    }
   ],
   "source": [
    "## set \"grid_search = True\" to do a grid search for hyperprameters\n",
    "feature_names = [\"z\"+str(i) for i in range(X_train.shape[1])]\n",
    "grid_search = True\n",
    "\n",
    "if grid_search:\n",
    "    ng_range = np.arange(2,11,1)\n",
    "    bin_strategies = [\"uniform\",\"kmeans\"]\n",
    "    support_range = np.arange(1000,10000,1000)\n",
    "    confidence_lower_bound = 0.8\n",
    "    max_depth=2\n",
    "    top_K=3\n",
    "  \n",
    "\n",
    "    best_rule_set,best_configs,config_metric_records = rlm.param_grid_search_for_amore(bin_strategies,ng_range,support_range,X=X_train.numpy(),\n",
    "                                                                                       fids=fids,target_indices=(pred_y_train==c),y=y_train,c=c,\n",
    "                                                                                       confidence_lower_bound=confidence_lower_bound,\n",
    "                                                                                    max_depth=max_depth,top_K=top_K,sort_by=\"fitness\")\n",
    "    print(best_rule_set,best_configs)"
   ]
  },
  {
   "cell_type": "code",
   "execution_count": null,
   "id": "baa1e5e6",
   "metadata": {},
   "outputs": [],
   "source": []
  },
  {
   "cell_type": "code",
   "execution_count": 61,
   "id": "d6e6c809",
   "metadata": {
    "scrolled": true
   },
   "outputs": [
    {
     "name": "stdout",
     "output_type": "stream",
     "text": [
      "delete duplicate (5, 3.2346735, 12.658002, 44, 6.2233706, 13.227051) (44, 6.2233706, 13.227051, 5, 3.2346735, 12.658002)\n"
     ]
    }
   ],
   "source": [
    "### search rules for target pattern: pred_y_c == c  ###\n",
    "### we set the hyperparameters obtaind by above grid search step ###\n",
    "\n",
    "min_support = 4000 \n",
    "bin_strategy=\"kmeans\"\n",
    "num_grids = 6\n",
    "max_depth = 2\n",
    "\n",
    "\n",
    "rule_list = rlm.gen_rule_list_for_one_target(X_train.numpy(),fids,pred_y_train==c,y=y_train,c=c,sort_by=\"fitness\",\n",
    "                                            min_support=min_support,num_grids=num_grids,max_depth=max_depth,top_K=3,\n",
    "                                            local_x=None,feature_types=None,search=\"greedy\",bin_strategy=bin_strategy,\n",
    "                                            verbose=False,remove_duplicate=True)"
   ]
  },
  {
   "cell_type": "code",
   "execution_count": 62,
   "id": "dae0f6a0",
   "metadata": {
    "scrolled": true
   },
   "outputs": [
    {
     "data": {
      "text/plain": [
       "{'rules': [(44, '>=', 6.2233706), (114, '>=', 0.0), (114, '<=', 3.1046019)],\n",
       " 'confidence': 0.900374531835206,\n",
       " 'support': 5340,\n",
       " 'fitness': 0.6815428753586229,\n",
       " 'cond_prob_y': 0.898876404494382,\n",
       " 'ratio_y': 0.7661612130885874}"
      ]
     },
     "execution_count": 62,
     "metadata": {},
     "output_type": "execute_result"
    }
   ],
   "source": [
    "## The rule list is sorted by fitness\n",
    "rule_list[0]"
   ]
  },
  {
   "cell_type": "markdown",
   "id": "5b7fb0e3",
   "metadata": {},
   "source": [
    "### Visualize top rules from AMORE"
   ]
  },
  {
   "cell_type": "code",
   "execution_count": 21,
   "id": "b65696aa",
   "metadata": {
    "scrolled": true
   },
   "outputs": [
    {
     "name": "stderr",
     "output_type": "stream",
     "text": [
      "/var/folders/1w/jwcgd35x0rg1yln4sl7szvf80000gn/T/ipykernel_1274/1451645048.py:24: UserWarning: indexing with dtype torch.uint8 is now deprecated, please use a dtype torch.bool instead. (Triggered internally at /Users/runner/work/pytorch/pytorch/pytorch/aten/src/ATen/native/IndexingUtils.h:28.)\n",
      "  imgs = X_train_raw[ids]\n"
     ]
    },
    {
     "name": "stdout",
     "output_type": "stream",
     "text": [
      "[(44, '>=', 6.2233706)] support tensor(10585)\n"
     ]
    },
    {
     "data": {
      "image/png": "[encoded data removed]",
      "text/plain": [
       "<Figure size 800x800 with 16 Axes>"
      ]
     },
     "metadata": {},
     "output_type": "display_data"
    },
    {
     "data": {
      "image/png": "[encoded data removed]",
      "text/plain": [
       "<Figure size 640x480 with 1 Axes>"
      ]
     },
     "metadata": {},
     "output_type": "display_data"
    },
    {
     "name": "stdout",
     "output_type": "stream",
     "text": [
      "[(114, '>=', 0.0), (114, '<=', 3.1047292)] support tensor(23668)\n"
     ]
    },
    {
     "data": {
      "image/png": "[encoded data removed]",
      "text/plain": [
       "<Figure size 800x800 with 16 Axes>"
      ]
     },
     "metadata": {},
     "output_type": "display_data"
    },
    {
     "data": {
      "image/png": "[encoded data removed]",
      "text/plain": [
       "<Figure size 640x480 with 1 Axes>"
      ]
     },
     "metadata": {},
     "output_type": "display_data"
    }
   ],
   "source": [
    "### visualize rules in the top rule set\n",
    "\n",
    "tot_img = []\n",
    "file_type = \".svg\"\n",
    "    \n",
    "    \n",
    "r1 = rule_list[0][\"rules\"]\n",
    "seen = set()\n",
    "keys = [r[0] for r in r1 if not (r[0] in seen or seen.add(r[0]))] ##keep the order of rules\n",
    "\n",
    "### merge rules of the same feature \n",
    "rdict = {}\n",
    "for key in keys:\n",
    "    for r in r1:\n",
    "        if r[0] == key:\n",
    "            rdict[key] = rdict.get(key,[])\n",
    "            rdict[key].append(r)\n",
    "\n",
    "for kk,fid in enumerate(keys):\n",
    "    rs = rdict[fid]\n",
    "    ids = np.ones(len(X_train)).astype(bool)\n",
    "    for r in rs:\n",
    "        ids = rlm.op_map[r[1]](X_train[:,r[0]],r[2]) & ids\n",
    "    imgs = X_train_raw[ids]\n",
    "    \n",
    "    print(rs,\"support\",ids.sum())\n",
    "    \n",
    "    # Create a figure with 16 subplots\n",
    "    fig, axes = plt.subplots(4, 4, figsize=(8, 8))\n",
    "\n",
    "    # Display 16 MNIST images\n",
    "    for i in range(4):\n",
    "        for j in range(4):\n",
    "            index = i * 4 + j\n",
    "            image = imgs[index]\n",
    "            axes[i, j].imshow(image.squeeze(), cmap='gray')\n",
    "            axes[i, j].axis('off')\n",
    "    plt.savefig(\"./rule_samples_c\"+str(c)+\"r\"+str(kk)+file_type,bbox_inches=\"tight\")\n",
    "    plt.show()\n",
    "    \n",
    "    plt.close()\n",
    "    \n",
    "    avg_img = imgs.mean(axis=0).squeeze().numpy() \n",
    "    \n",
    "    ### min-max normalization to highlight the higher value pixels \n",
    "    avg_img = (avg_img-avg_img.min())/(avg_img.max()-avg_img.min()) \n",
    "    \n",
    "    tot_img.append(avg_img.reshape(1,28,28))\n",
    "    plt.imshow(avg_img,vmin=0., vmax=1.,cmap=\"cividis\")\n",
    "    plt.axis(\"off\")\n",
    "    \n",
    "    plt.savefig(\"./rule_average_c\"+str(c)+\"r\"+str(kk)+file_type,bbox_inches=\"tight\")\n",
    "    plt.show()\n",
    "    plt.close\n",
    "\n",
    "    "
   ]
  },
  {
   "cell_type": "code",
   "execution_count": 22,
   "id": "f74a2f6b",
   "metadata": {},
   "outputs": [
    {
     "name": "stderr",
     "output_type": "stream",
     "text": [
      "/var/folders/1w/jwcgd35x0rg1yln4sl7szvf80000gn/T/ipykernel_1274/1894471529.py:7: UserWarning: indexing with dtype torch.uint8 is now deprecated, please use a dtype torch.bool instead. (Triggered internally at /Users/runner/work/pytorch/pytorch/pytorch/aten/src/ATen/native/IndexingUtils.h:28.)\n",
      "  imgs = X_train_raw[ids]\n"
     ]
    },
    {
     "data": {
      "image/png": "[encoded data removed]",
      "text/plain": [
       "<Figure size 800x800 with 16 Axes>"
      ]
     },
     "metadata": {},
     "output_type": "display_data"
    },
    {
     "data": {
      "image/png": "[encoded data removed]",
      "text/plain": [
       "<Figure size 640x480 with 1 Axes>"
      ]
     },
     "metadata": {},
     "output_type": "display_data"
    }
   ],
   "source": [
    "### visualize intersection of rules in the top rule set\n",
    "\n",
    "ids = np.ones(len(X_train)).astype(bool)\n",
    "for rv in rdict.values():    \n",
    "    for r in rv:\n",
    "        ids = rlm.op_map[r[1]](X_train[:,r[0]],r[2]) & ids\n",
    "imgs = X_train_raw[ids] \n",
    "\n",
    "fig, axes = plt.subplots(4, 4, figsize=(8, 8))\n",
    "\n",
    "for i in range(4):\n",
    "    for j in range(4):\n",
    "        index = i * 4 + j\n",
    "        image = imgs[index]\n",
    "        axes[i, j].imshow(image.squeeze(), cmap='gray')\n",
    "        axes[i, j].axis('off')\n",
    "plt.savefig(\"./tot_rule_samples_c\"+str(c)+file_type,bbox_inches=\"tight\")\n",
    "plt.show()\n",
    "plt.close()\n",
    "\n",
    "avg_img = imgs.mean(axis=0).squeeze().numpy() \n",
    "    \n",
    "### min-max normalization to highlight the higher value pixels \n",
    "avg_img = (avg_img-avg_img.min())/(avg_img.max()-avg_img.min()) \n",
    "\n",
    "\n",
    "plt.imshow(avg_img,vmin=0., vmax=1.,cmap=\"cividis\")\n",
    "plt.axis(\"off\")\n",
    "plt.savefig(\"./tot_rule_avergae_c\"+str(c)+file_type,bbox_inches=\"tight\")\n",
    "plt.show()\n",
    "plt.close()"
   ]
  },
  {
   "cell_type": "markdown",
   "id": "95bab704",
   "metadata": {},
   "source": [
    "## Extract rules from Decision Tree"
   ]
  },
  {
   "cell_type": "code",
   "execution_count": 23,
   "id": "331dc505",
   "metadata": {},
   "outputs": [],
   "source": [
    "from sklearn.tree import DecisionTreeClassifier,DecisionTreeRegressor\n",
    "from sklearn.tree import plot_tree,export_text,export_graphviz\n",
    "import explainer.DT_rules as dtr\n",
    "from explainer.DT_rules import obtain_rule_lists_from_DT,select_rule_list"
   ]
  },
  {
   "cell_type": "code",
   "execution_count": 33,
   "id": "c8a0a331",
   "metadata": {},
   "outputs": [
    {
     "name": "stdout",
     "output_type": "stream",
     "text": [
      "{'rules': [(44, '>', 6.429), (114, '<=', 3.463)], 'support': 5518, 'fitness': 0.6869620656678355, 'confidence': 0.8905400507430228} {'criterion': 'entropy', 'min_support': 1000, 'class_weight': {0: 0.5, 1: 0.5}}\n"
     ]
    }
   ],
   "source": [
    "## set \"grid_search = True\" to do a grid search for hyperprameters\n",
    "\n",
    "if grid_search:\n",
    "    criteria = [\"gini\", \"entropy\", \"log_loss\"]\n",
    "    support_range = np.arange(1000,10000,1000)\n",
    "    w = (y_train==c).sum()/y_train.shape[0]\n",
    "    class_weight_options = [{0:0.5,1:0.5},\"balanced\"]\n",
    "    confidence_lower_bound = 0.8\n",
    "    max_depth=2\n",
    "    DT_best_rule_set, DT_best_configs, DT_config_metric_records = dtr.param_grid_search_for_DT(criteria,support_range,class_weight_options,X=X_train.numpy(),y=y_train,target_indices=pred_y_train==c,c=c,max_depth=max_depth,feature_names=feature_names,confidence_lower_bound=confidence_lower_bound,seed=seed)\n",
    "    print(DT_best_rule_set, DT_best_configs)"
   ]
  },
  {
   "cell_type": "code",
   "execution_count": 26,
   "id": "459f1877",
   "metadata": {},
   "outputs": [
    {
     "name": "stdout",
     "output_type": "stream",
     "text": [
      "|--- feature_44 <= 6.43\n",
      "|   |--- feature_44 <= 4.93\n",
      "|   |   |--- class: False\n",
      "|   |--- feature_44 >  4.93\n",
      "|   |   |--- class: False\n",
      "|--- feature_44 >  6.43\n",
      "|   |--- feature_114 <= 3.46\n",
      "|   |   |--- class: True\n",
      "|   |--- feature_114 >  3.46\n",
      "|   |   |--- class: False\n",
      "\n"
     ]
    }
   ],
   "source": [
    "print(export_text(treemodel))"
   ]
  },
  {
   "cell_type": "code",
   "execution_count": 27,
   "id": "c1535835",
   "metadata": {
    "scrolled": false
   },
   "outputs": [
    {
     "name": "stdout",
     "output_type": "stream",
     "text": [
      "#################\n",
      "[(44, '<=', 4.928)]\n",
      "confidence 0.004 cond_prob_y 0.004 support 40518 fitness -6.411\n",
      "z44 <= 4.928\n",
      "#################\n",
      "[(44, '<=', 6.429), (44, '>', 4.928)]\n",
      "confidence 0.076 cond_prob_y 0.076 support 9899 fitness -1.336\n",
      "z44 <= 6.429\n",
      "z44 > 4.928\n",
      "#################\n",
      "[(44, '>', 6.429), (114, '<=', 3.463)]\n",
      "confidence 0.891 cond_prob_y 0.889 support 5518 fitness 0.687\n",
      "z44 > 6.429\n",
      "z114 <= 3.463\n",
      "#################\n",
      "[(44, '>', 6.429), (114, '>', 3.463)]\n",
      "confidence 0.112 cond_prob_y 0.111 support 4065 fitness -0.503\n",
      "z44 > 6.429\n",
      "z114 > 3.463\n"
     ]
    }
   ],
   "source": [
    "dtr.display_rules_from_DT(rule_list,rule_metric_list,feature_names)"
   ]
  },
  {
   "cell_type": "markdown",
   "id": "08fac065",
   "metadata": {},
   "source": [
    "### Below code is for plotting confidence and fitness while varying minimum support¶"
   ]
  },
  {
   "cell_type": "code",
   "execution_count": 32,
   "id": "f769b488",
   "metadata": {},
   "outputs": [
    {
     "name": "stdout",
     "output_type": "stream",
     "text": [
      "11 0.9732835392128699\n",
      "DT 2 0.8905400507430228\n",
      "2 0.9075421133231241\n",
      "DT 2 0.8905400507430228\n",
      "2 0.9075421133231241\n",
      "DT 2 0.8905400507430228\n",
      "13 0.900374531835206\n",
      "DT 2 0.8905400507430228\n",
      "13 0.900374531835206\n",
      "DT 0 0.6886889839256747\n",
      "15 0.8349808673469388\n",
      "DT 1 0.8364679630219956\n",
      "0 0.6660670692535012\n",
      "DT 0 0.676936243046641\n",
      "0 0.6125945179584121\n",
      "DT 0 0.6277153558052434\n",
      "0 0.1673263090335348\n",
      "DT 0 0.5827593868029327\n"
     ]
    },
    {
     "data": {
      "image/png": "[encoded data removed]",
      "text/plain": [
       "<Figure size 500x400 with 1 Axes>"
      ]
     },
     "metadata": {},
     "output_type": "display_data"
    }
   ],
   "source": [
    "## Need grid search first to get the results with different minimum supports\n",
    "\n",
    "if grid_search:\n",
    "    \n",
    "    cf_mtx = np.vstack([config_metric_records[key][\"top_confidence_records\"] for key in config_metric_records.keys()])\n",
    "    ft_mtx = np.vstack([config_metric_records[key][\"top_fitness_records\"] for key in config_metric_records.keys()])\n",
    "    \n",
    "    DT_cf_mtx = np.vstack([DT_config_metric_records[key][\"top_confidence_records\"] for key in DT_config_metric_records.keys()])\n",
    "    DT_ft_mtx = np.vstack([DT_config_metric_records[key][\"top_fitness_records\"] for key in DT_config_metric_records.keys()])\n",
    "    \n",
    "    eutils.plot_confidence_fitness_curve(cf_mtx,ft_mtx,DT_cf_mtx,DT_ft_mtx,support_range)"
   ]
  },
  {
   "cell_type": "code",
   "execution_count": null,
   "id": "197d2471",
   "metadata": {},
   "outputs": [],
   "source": []
  }
 ],
 "metadata": {
  "kernelspec": {
   "display_name": "py39",
   "language": "python",
   "name": "py39"
  },
  "language_info": {
   "codemirror_mode": {
    "name": "ipython",
    "version": 3
   },
   "file_extension": ".py",
   "mimetype": "text/x-python",
   "name": "python",
   "nbconvert_exporter": "python",
   "pygments_lexer": "ipython3",
   "version": "3.9.15"
  }
 },
 "nbformat": 4,
 "nbformat_minor": 5
}
