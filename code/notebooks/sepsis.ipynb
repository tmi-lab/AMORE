{
 "cells": [
  {
   "cell_type": "code",
   "execution_count": 1,
   "id": "13bd0dd6",
   "metadata": {},
   "outputs": [],
   "source": [
    "import sys\n",
    "import os\n",
    "from importlib import reload\n",
    "here = os.getcwd()\n",
    "sys.path.append(os.path.join(here,\"../\"))"
   ]
  },
  {
   "cell_type": "code",
   "execution_count": 2,
   "id": "1a82e4ba",
   "metadata": {},
   "outputs": [],
   "source": [
    "import torch\n",
    "import os\n",
    "import csv\n",
    "import math\n",
    "import random\n",
    "import numpy as np\n",
    "import scipy as sp\n",
    "from itertools import permutations"
   ]
  },
  {
   "cell_type": "code",
   "execution_count": 3,
   "id": "17087706",
   "metadata": {},
   "outputs": [],
   "source": [
    "from models.cde.cde_data_common import process_data,get_final_linear_input_channels,get_final_indices,wrap_data,augment_data\n",
    "import models.cde.cde_train_common as train_common\n",
    "import models.cde.cde_data_common as cde_data_common\n",
    "import models.cde as cde\n",
    "\n",
    "from utils.test_utils import make_results_filenames\n",
    "\n",
    "import explainer.rule_pattern_miner as rlm\n",
    "import explainer.explainer_utils as eutils\n",
    "from explainer.FPGrowth_tree import *\n",
    "import explainer.itemsets_miner as itm"
   ]
  },
  {
   "cell_type": "code",
   "execution_count": 4,
   "id": "0e560be9",
   "metadata": {},
   "outputs": [],
   "source": [
    "from sklearn.model_selection import train_test_split\n",
    "from sklearn.metrics import f1_score,confusion_matrix,precision_score,recall_score,accuracy_score,roc_auc_score,roc_curve\n",
    "from sklearn.linear_model import LogisticRegression\n",
    "import matplotlib.pyplot as plt \n",
    "import seaborn as sns"
   ]
  },
  {
   "cell_type": "code",
   "execution_count": 5,
   "id": "033ca627",
   "metadata": {},
   "outputs": [],
   "source": [
    "from sklearn.tree import DecisionTreeClassifier\n",
    "from sklearn.tree import plot_tree,export_text,export_graphviz\n",
    "import explainer.DT_rules as dtr\n",
    "from explainer.DT_rules import obtain_rule_lists_from_DT,select_rule_list"
   ]
  },
  {
   "cell_type": "code",
   "execution_count": 6,
   "id": "d75e94ce",
   "metadata": {},
   "outputs": [],
   "source": [
    "def new_make_model():\n",
    "    model, regularise = make_model()\n",
    "    model.linear.weight.register_hook(lambda grad: 100 * grad)\n",
    "    model.linear.bias.register_hook(lambda grad: 100 * grad)\n",
    "    return model, regularise\n",
    "\n",
    "def group_processed_data(X,y,times):\n",
    "    X = torch.tensor(X)\n",
    "    y = torch.tensor(y)\n",
    "    final_indices,_ = get_final_indices(times,y)\n",
    "    coeffs = process_data(times,X,intensity=intensity,time_intensity=time_intensity,cummean=cummean,cumsum=cumsum,append_times=append_times,interpolate=interpolate)\n",
    "    return coeffs,y,final_indices"
   ]
  },
  {
   "cell_type": "code",
   "execution_count": 7,
   "id": "4cdba56a",
   "metadata": {},
   "outputs": [],
   "source": [
    "## Control randomness for reproducibility\n",
    "\n",
    "seed = 42\n",
    "torch.manual_seed(seed)\n",
    "np.random.seed(seed)\n",
    "random.seed(seed)"
   ]
  },
  {
   "cell_type": "code",
   "execution_count": 8,
   "id": "9e2a2162",
   "metadata": {},
   "outputs": [],
   "source": [
    "model_name = \"ncde\"\n",
    "\n",
    "if torch.cuda.is_available():\n",
    "    device = 'cuda'\n",
    "else:\n",
    "    device = 'cpu'"
   ]
  },
  {
   "cell_type": "code",
   "execution_count": 9,
   "id": "dfa8b391",
   "metadata": {},
   "outputs": [],
   "source": [
    "## Configuration of NCDE model\n",
    "\n",
    "interpolate = \"linear\"    \n",
    "side_input = False\n",
    "concat_z = True\n",
    "\n",
    "append_times = False\n",
    "time_intensity = True\n",
    "intensity = True \n",
    "static_intensity = True\n",
    "\n",
    "\n",
    "time_len = 72\n",
    "max_epochs = 100\n",
    "pos_weight = 20\n",
    "\n",
    "hidden_channels = 2 \n",
    "hidden_hidden_channels = 128\n",
    "num_hidden_layers = 4\n",
    "\n",
    "batch_size = 1024\n",
    "max_epochs = 500\n",
    "lr = 0.0001 * (batch_size / 64)\n",
    "\n",
    "num_classes = 2\n",
    "cummean = True\n",
    "cumsum = False\n"
   ]
  },
  {
   "cell_type": "code",
   "execution_count": 10,
   "id": "73499cf3",
   "metadata": {},
   "outputs": [],
   "source": [
    "pp = \"/Users/chenyu/github/NDE-Models-DigitalHealth/\"\n",
    "base_loc = pp+'data/raw/sepsis/'\n",
    "\n",
    "rpath = \"./results/sepsis\"\n",
    "name = model_name + \"_\" + str(seed)"
   ]
  },
  {
   "cell_type": "code",
   "execution_count": 11,
   "id": "acfd81f8",
   "metadata": {},
   "outputs": [],
   "source": [
    "## Read raw data\n",
    "\n",
    "X_times = []\n",
    "X_static = []\n",
    "y = []\n",
    "H = time_len\n",
    "for filename in os.listdir(base_loc):\n",
    "    if filename.endswith('.psv'):\n",
    "        with open(os.path.join(base_loc,filename)) as file:\n",
    "            time = []\n",
    "            label = 0.0\n",
    "            reader = csv.reader(file, delimiter='|')\n",
    "            reader = iter(reader)\n",
    "            next(reader)  # first line is headings\n",
    "            prev_iculos = 0\n",
    "            for line in reader:\n",
    "                assert len(line) == 41\n",
    "                # time values are 34 features\n",
    "                *time_values, age, gender, unit1, unit2, hospadmtime, iculos, sepsislabel = line\n",
    "                iculos = int(iculos)\n",
    "                #print('iculos',iculos)\n",
    "                if iculos > H:  # keep at most the first H hours\n",
    "                    break\n",
    "                ## padding nan for missing hours\n",
    "                for iculos_ in range(prev_iculos + 1, iculos):\n",
    "                    time.append([float('nan') for value in time_values])\n",
    "                    #time.append(np.zeros(len(time_values))+np.nan)\n",
    "                prev_iculos = iculos\n",
    "                time.append([float(value) for value in time_values])\n",
    "                label = max(label, float(sepsislabel))\n",
    "            unit1 = float(unit1)\n",
    "            unit2 = float(unit2)\n",
    "            unit1_obs = not math.isnan(unit1)\n",
    "            unit2_obs = not math.isnan(unit2)\n",
    "            if not unit1_obs:\n",
    "                unit1 = 0.\n",
    "            if not unit2_obs:\n",
    "                unit2 = 0.\n",
    "            hospadmtime = float(hospadmtime)\n",
    "            if math.isnan(hospadmtime):\n",
    "                hospadmtime = 0.  # this only happens for one record\n",
    "            static = [float(age), float(gender), unit1, unit2, hospadmtime]\n",
    "            if static_intensity:\n",
    "                static += [unit1_obs, unit2_obs]\n",
    "            if len(time) > 2:\n",
    "                if len(time) < H:\n",
    "                    # padding less hours\n",
    "                    for t in range(H-len(time)):\n",
    "                        time.append([float('nan') for value in time_values])\n",
    "                X_times.append(time)\n",
    "                X_static.append(static)\n",
    "                y.append(label)\n",
    "    "
   ]
  },
  {
   "cell_type": "code",
   "execution_count": 12,
   "id": "7accf201",
   "metadata": {},
   "outputs": [],
   "source": [
    "## preprocess data\n",
    "\n",
    "times = np.arange(time_len).astype(np.float32)\n",
    "times = torch.tensor(times)\n",
    "\n",
    "X_times = np.array(X_times).astype(np.float32)\n",
    "X_static = np.array(X_static).astype(np.float32)\n",
    "y = np.array(y).astype(np.float32)\n",
    "\n",
    "\n",
    "X_train,X_test,y_train,y_test = train_test_split(X_times,y,test_size=0.2,random_state=seed)\n",
    "X_test,X_val,y_test,y_val = train_test_split(X_test,y_test,test_size=0.5,random_state=seed)\n",
    "\n",
    "### min-max normalization\n",
    "for c in range(X_times.shape[-1]):\n",
    "    mi = X_train[:,:,c][~np.isnan(X_train[:,:,c])].min()\n",
    "    ma = X_train[:,:,c][~np.isnan(X_train[:,:,c])].max()\n",
    "    X_train[:,:,c] = (X_train[:,:,c] - mi)/(ma - mi)+1.\n",
    "    X_test[:,:,c] = (X_test[:,:,c] - mi)/(ma - mi)+1.\n",
    "    X_val[:,:,c] = (X_val[:,:,c] - mi)/(ma - mi)+1.\n",
    "    "
   ]
  },
  {
   "cell_type": "code",
   "execution_count": 13,
   "id": "73ba0bba",
   "metadata": {},
   "outputs": [
    {
     "name": "stdout",
     "output_type": "stream",
     "text": [
      "check X torch.Size([32266, 72, 136])\n",
      "check X torch.Size([4033, 72, 136])\n",
      "check X torch.Size([4034, 72, 136])\n"
     ]
    }
   ],
   "source": [
    "## augment data with cumulative intensities and linear interploation\n",
    "\n",
    "X_train_raw = augment_data(torch.tensor(X_train),times,intensity=intensity,time_intensity=time_intensity,cummean=cummean,cumsum=cumsum,append_times=append_times)\n",
    "X_test_raw = augment_data(torch.tensor(X_test),times,intensity=intensity,time_intensity=time_intensity,cummean=cummean,cumsum=cumsum,append_times=append_times)\n",
    "X_val_raw = augment_data(torch.tensor(X_val),times,intensity=intensity,time_intensity=time_intensity,cummean=cummean,cumsum=cumsum,append_times=append_times)\n",
    "\n",
    "train_data = group_processed_data(X_train,y_train,times)\n",
    "test_data = group_processed_data(X_test,y_test,times)\n",
    "val_data = group_processed_data(X_val,y_val,times)"
   ]
  },
  {
   "cell_type": "code",
   "execution_count": 15,
   "id": "90e28b02",
   "metadata": {},
   "outputs": [],
   "source": [
    "## Define the NCDE model\n",
    "\n",
    "input_channels = train_data[0][0].shape[-1]\n",
    "output_channels = 1\n",
    "stream = True if concat_z else False\n",
    "\n",
    "if concat_z or side_input:\n",
    "    side_input_dim = cv_sets[0][0][-1].shape[-1] if side_input else 0\n",
    "    final_linear_input_channels = get_final_linear_input_channels(hidden_channels,side_input_dim=side_input_dim,time_len=time_len)\n",
    "else:\n",
    "    final_linear_input_channels = None\n",
    "\n",
    "make_model = train_common.make_model(model_name, input_channels, output_channels, hidden_channels,\n",
    "                               hidden_hidden_channels, num_hidden_layers, use_intensity=False,\n",
    "                              final_linear_input_channels=final_linear_input_channels, \n",
    "                              initial=True,side_input=side_input,append_times=append_times,interpolate=interpolate)\n"
   ]
  },
  {
   "cell_type": "code",
   "execution_count": 16,
   "id": "5f6cbd48",
   "metadata": {
    "scrolled": true
   },
   "outputs": [
    {
     "name": "stdout",
     "output_type": "stream",
     "text": [
      "interpolate linear\n"
     ]
    },
    {
     "name": "stderr",
     "output_type": "stream",
     "text": [
      "  0%|                                                                                                          | 0/500 [00:00<?, ?it/s]"
     ]
    },
    {
     "name": "stdout",
     "output_type": "stream",
     "text": [
      "Starting training for model:\n",
      "\n",
      "NeuralCDE(\n",
      "  input_channels=136, hidden_channels=2, output_channels=1, initial=True\n",
      "  (func): FinalTanh(\n",
      "    input_channels: 136, hidden_channels: 2, hidden_hidden_channels: 128, num_hidden_layers: 4\n",
      "    (linear_in): Linear(in_features=2, out_features=128, bias=True)\n",
      "    (linears): ModuleList(\n",
      "      (0): Linear(in_features=128, out_features=128, bias=True)\n",
      "      (1): Linear(in_features=128, out_features=128, bias=True)\n",
      "      (2): Linear(in_features=128, out_features=128, bias=True)\n",
      "    )\n",
      "    (linear_out): Linear(in_features=128, out_features=272, bias=True)\n",
      "  )\n",
      "  (initial_network): Linear(in_features=136, out_features=2, bias=True)\n",
      "  (linear): Linear(in_features=144, out_features=1, bias=True)\n",
      ")\n",
      "\n",
      "\n"
     ]
    },
    {
     "name": "stderr",
     "output_type": "stream",
     "text": [
      "  0%|▏                                                                                               | 1/500 [00:34<4:48:04, 34.64s/it]"
     ]
    },
    {
     "name": "stdout",
     "output_type": "stream",
     "text": [
      "Epoch: 0  Train loss: 2.46  Train auroc: 0.643  Val loss: 2.43  Val auroc: 0.612\n"
     ]
    },
    {
     "name": "stderr",
     "output_type": "stream",
     "text": [
      "  2%|██                                                                                             | 11/500 [05:13<4:02:47, 29.79s/it]"
     ]
    },
    {
     "name": "stdout",
     "output_type": "stream",
     "text": [
      "save model\n",
      "Epoch: 10  Train loss: 1.98  Train auroc: 0.837  Val loss: 1.96  Val auroc: 0.832\n"
     ]
    },
    {
     "name": "stderr",
     "output_type": "stream",
     "text": [
      "  4%|███▉                                                                                           | 21/500 [09:54<4:01:42, 30.28s/it]"
     ]
    },
    {
     "name": "stdout",
     "output_type": "stream",
     "text": [
      "Epoch: 20  Train loss: 2.25  Train auroc: 0.722  Val loss: 2.17  Val auroc: 0.751\n"
     ]
    },
    {
     "name": "stderr",
     "output_type": "stream",
     "text": [
      "  6%|█████▉                                                                                         | 31/500 [14:38<3:57:24, 30.37s/it]"
     ]
    },
    {
     "name": "stdout",
     "output_type": "stream",
     "text": [
      "Epoch: 30  Train loss: 2.2  Train auroc: 0.764  Val loss: 2.13  Val auroc: 0.791\n"
     ]
    },
    {
     "name": "stderr",
     "output_type": "stream",
     "text": [
      "  8%|███████▎                                                                                 | 41/500 [9:32:49<557:18:19, 4371.02s/it]"
     ]
    },
    {
     "name": "stdout",
     "output_type": "stream",
     "text": [
      "Epoch: 40  Train loss: 2.19  Train auroc: 0.775  Val loss: 2.16  Val auroc: 0.785\n"
     ]
    },
    {
     "name": "stderr",
     "output_type": "stream",
     "text": [
      " 10%|█████████▎                                                                                 | 51/500 [9:37:49<19:21:17, 155.18s/it]"
     ]
    },
    {
     "name": "stdout",
     "output_type": "stream",
     "text": [
      "Epoch: 50  Train loss: 2.18  Train auroc: 0.776  Val loss: 2.13  Val auroc: 0.799\n"
     ]
    },
    {
     "name": "stderr",
     "output_type": "stream",
     "text": [
      " 12%|███████████▎                                                                                 | 61/500 [9:43:05<4:29:46, 36.87s/it]"
     ]
    },
    {
     "name": "stdout",
     "output_type": "stream",
     "text": [
      "Epoch: 60  Train loss: 2.18  Train auroc: 0.779  Val loss: 2.2  Val auroc: 0.773\n"
     ]
    },
    {
     "name": "stderr",
     "output_type": "stream",
     "text": [
      " 14%|█████████████▏                                                                               | 71/500 [9:48:19<3:59:59, 33.56s/it]"
     ]
    },
    {
     "name": "stdout",
     "output_type": "stream",
     "text": [
      "Epoch: 70  Train loss: 2.18  Train auroc: 0.78  Val loss: 2.18  Val auroc: 0.784\n"
     ]
    },
    {
     "name": "stderr",
     "output_type": "stream",
     "text": [
      " 16%|███████████████                                                                              | 81/500 [9:53:27<3:49:14, 32.83s/it]"
     ]
    },
    {
     "name": "stdout",
     "output_type": "stream",
     "text": [
      "Epoch: 80  Train loss: 2.18  Train auroc: 0.779  Val loss: 2.12  Val auroc: 0.796\n"
     ]
    },
    {
     "name": "stderr",
     "output_type": "stream",
     "text": [
      " 18%|████████████████▉                                                                            | 91/500 [9:58:35<3:43:24, 32.77s/it]"
     ]
    },
    {
     "name": "stdout",
     "output_type": "stream",
     "text": [
      "Epoch: 90  Train loss: 2.18  Train auroc: 0.778  Val loss: 2.16  Val auroc: 0.783\n"
     ]
    },
    {
     "name": "stderr",
     "output_type": "stream",
     "text": [
      " 20%|██████████████████▍                                                                        | 101/500 [10:03:48<3:40:09, 33.11s/it]"
     ]
    },
    {
     "name": "stdout",
     "output_type": "stream",
     "text": [
      "Epoch: 100  Train loss: 2.17  Train auroc: 0.78  Val loss: 2.12  Val auroc: 0.8\n"
     ]
    },
    {
     "name": "stderr",
     "output_type": "stream",
     "text": [
      " 22%|████████████████████▏                                                                      | 111/500 [10:08:57<3:34:02, 33.01s/it]"
     ]
    },
    {
     "name": "stdout",
     "output_type": "stream",
     "text": [
      "Epoch: 110  Train loss: 2.18  Train auroc: 0.779  Val loss: 2.14  Val auroc: 0.779\n"
     ]
    },
    {
     "name": "stderr",
     "output_type": "stream",
     "text": [
      " 24%|█████████████████████▌                                                                   | 121/500 [10:14:11<32:03:48, 304.56s/it]\n"
     ]
    },
    {
     "name": "stdout",
     "output_type": "stream",
     "text": [
      "Epoch: 120  Train loss: 2.18  Train auroc: 0.78  Val loss: 2.1  Val auroc: 0.8\n",
      "Breaking because of no improvement in training loss for 100 epochs.\n",
      "best epoch 10\n",
      "#####################\n",
      "test_metrics\n",
      "{'accuracy': 0.7571614384651184, 'confusion': array([[2195.,  713.],\n",
      "       [  33.,  131.]]), 'dataset_size': 3072, 'loss': 1.93487548828125, 'auroc': 0.8519517227496897, 'average_precision': 0.3293461463119249, 'sensitivity': 0.7987804878048781, 'specificity': 0.7548143053645117}\n",
      "#####################\n",
      "val_metrics\n",
      "{'accuracy': 0.7529296875, 'confusion': array([[2198.,  718.],\n",
      "       [  41.,  115.]]), 'dataset_size': 3072, 'loss': 1.965420126914978, 'auroc': 0.8273165734585487, 'average_precision': 0.33268576359211743}\n",
      "#####################\n",
      "train_metrics\n",
      "{'accuracy': 0.7598286271095276, 'confusion': array([[22778.,  7235.],\n",
      "       [  389.,  1342.]]), 'dataset_size': 31744, 'loss': 1.9796645641326904, 'auroc': 0.8374503149540262, 'average_precision': 0.31327172211097754}\n"
     ]
    },
    {
     "data": {
      "text/plain": [
       "NeuralCDE(\n",
       "  input_channels=136, hidden_channels=2, output_channels=1, initial=True\n",
       "  (func): FinalTanh(\n",
       "    input_channels: 136, hidden_channels: 2, hidden_hidden_channels: 128, num_hidden_layers: 4\n",
       "    (linear_in): Linear(in_features=2, out_features=128, bias=True)\n",
       "    (linears): ModuleList(\n",
       "      (0): Linear(in_features=128, out_features=128, bias=True)\n",
       "      (1): Linear(in_features=128, out_features=128, bias=True)\n",
       "      (2): Linear(in_features=128, out_features=128, bias=True)\n",
       "    )\n",
       "    (linear_out): Linear(in_features=128, out_features=272, bias=True)\n",
       "  )\n",
       "  (initial_network): Linear(in_features=136, out_features=2, bias=True)\n",
       "  (linear): Linear(in_features=144, out_features=1, bias=True)\n",
       ")"
      ]
     },
     "execution_count": 16,
     "metadata": {},
     "output_type": "execute_result"
    }
   ],
   "source": [
    "## uncomment this cell if need to train a new model\n",
    "times, train_dataloader, val_dataloader, test_dataloader = wrap_data(times, train_data, val_data, test_data, device,\n",
    "                                                                                    batch_size=batch_size,num_workers=0)\n",
    "\n",
    "model,log,log_num = train_common.main(name, times, train_dataloader, val_dataloader, test_dataloader, device,\n",
    "                   new_make_model, num_classes, max_epochs, lr, kwargs={'stream':stream}, pos_weight=torch.tensor(pos_weight),\n",
    "                   step_mode=True,rpath=rpath)\n",
    "model.to('cpu')\n",
    "model.eval()"
   ]
  },
  {
   "cell_type": "code",
   "execution_count": 17,
   "id": "ebd6600e",
   "metadata": {},
   "outputs": [],
   "source": [
    "## load model if already trained and saved it\n",
    "\n",
    "# model_path = \"./results/sepsis/intensity_time_intensity_concatz/zdim2_hdim128_nlayer4_bs1024/posw20/interp_linear/model_6\"\n",
    "# model, regularise_parameters = make_model()\n",
    "# model.load_state_dict(torch.load(model_path))\n",
    "# model.to('cpu')\n",
    "# model.eval()"
   ]
  },
  {
   "cell_type": "code",
   "execution_count": null,
   "id": "c2ba111e",
   "metadata": {},
   "outputs": [],
   "source": []
  },
  {
   "cell_type": "code",
   "execution_count": 18,
   "id": "1d106f2e",
   "metadata": {},
   "outputs": [
    {
     "data": {
      "text/plain": [
       "136"
      ]
     },
     "execution_count": 18,
     "metadata": {},
     "output_type": "execute_result"
    }
   ],
   "source": [
    "## get feature names of augmented features\n",
    "\n",
    "raw_feature_names = ['HR','O2Sat','Temp','SBP','MAP','DBP','Resp','EtCO2','BaseExcess','HCO3','FiO2','pH','PaCO2','SaO2',\n",
    "                    'AST','BUN','Alkalinephos','Calcium','Chloride','Creatinine','Bilirubin_direct','Glucose','Lactate','Magnesium',\n",
    "                    'Phosphate','Potassium','Bilirubin_total','TroponinI','Hct','Hgb','PTT','WBC','Fibrinogen','Platelets']\n",
    "\n",
    "latent_feature_names = [r'$z_'+str(i)+'(t_{'+str(h)+'})$' for h in range(time_len) for i in range(hidden_channels) ]\n",
    "intensity_feature_names = [rf+'_ctime' for rf in raw_feature_names] + [rf+'_cmax' for rf in raw_feature_names] + [rf+'_cmean' for rf in raw_feature_names] \n",
    "input_feature_names = raw_feature_names + intensity_feature_names\n",
    "feature_types = [\"int\" if \"ctime\" in fn else \"float\" for fn in input_feature_names] \n",
    "len(input_feature_names)"
   ]
  },
  {
   "cell_type": "code",
   "execution_count": 19,
   "id": "6875e2e3",
   "metadata": {},
   "outputs": [
    {
     "data": {
      "text/plain": [
       "42"
      ]
     },
     "execution_count": 19,
     "metadata": {},
     "output_type": "execute_result"
    }
   ],
   "source": [
    "seed"
   ]
  },
  {
   "cell_type": "code",
   "execution_count": null,
   "id": "fbeacb1d",
   "metadata": {},
   "outputs": [],
   "source": []
  },
  {
   "cell_type": "code",
   "execution_count": 20,
   "id": "ce44cba6",
   "metadata": {},
   "outputs": [],
   "source": [
    "## get baseline and test samples for computing impact score matrix\n",
    "\n",
    "model.append_times=append_times\n",
    "train_reps = model.latent_representation(X_train_raw,times=times).detach()\n",
    "test_reps = model.latent_representation(X_test_raw,times=times).detach()\n",
    "val_reps = model.latent_representation(X_val_raw,times=times).detach()\n",
    "\n",
    "baselines = eutils.gen_intgrad_baselines(X_train_raw,y_train,train_reps)\n",
    "subset = eutils.gen_balanced_subset(X_train_raw,y_train,size_per_class=int(y_train.sum()))"
   ]
  },
  {
   "cell_type": "code",
   "execution_count": 21,
   "id": "e300cda4",
   "metadata": {
    "scrolled": true
   },
   "outputs": [],
   "source": [
    "## get impact score matrix of latent states\n",
    "int_g, z_shift = [], []\n",
    "for c in range(2):\n",
    "    int_g_c, z_shift_c = eutils.calc_baselines_intg(test_examples=subset,model=model,baselines=baselines,times=times,target_c=c,target_dim=0,C=2)\n",
    "    int_g.append(int_g_c)\n",
    "    z_shift.append(z_shift_c)\n",
    "\n",
    "int_g = torch.vstack(int_g)\n",
    "z_shift = torch.vstack(z_shift)"
   ]
  },
  {
   "cell_type": "code",
   "execution_count": null,
   "id": "70bf8aa4",
   "metadata": {
    "scrolled": true
   },
   "outputs": [],
   "source": []
  },
  {
   "cell_type": "code",
   "execution_count": 22,
   "id": "be532b8b",
   "metadata": {},
   "outputs": [],
   "source": [
    "## get predicted probability of training, test, and validation sets\n",
    "\n",
    "linear_prams = []\n",
    "for p in model.linear.parameters():\n",
    "    p = p.detach()\n",
    "    linear_prams.append(p)\n",
    "\n",
    "pred_y_train = model.linear(train_reps.reshape(train_reps.shape[0],-1)).detach().numpy()\n",
    "pred_y_test = model.linear(test_reps.reshape(test_reps.shape[0],-1)).detach().numpy()"
   ]
  },
  {
   "cell_type": "code",
   "execution_count": 23,
   "id": "c7287752",
   "metadata": {},
   "outputs": [
    {
     "name": "stdout",
     "output_type": "stream",
     "text": [
      "y threshold 0.5414686\n"
     ]
    }
   ],
   "source": [
    "## get prediction threshold by roc\n",
    "\n",
    "pred_y = sp.special.expit(pred_y_train).reshape(-1)\n",
    "auc = roc_auc_score(y_train, pred_y)\n",
    "fpr, tpr, thresholds = roc_curve(y_train, pred_y)\n",
    "y_thd = thresholds[np.argmax(tpr - fpr)]\n",
    "print(\"y threshold\",y_thd)"
   ]
  },
  {
   "cell_type": "code",
   "execution_count": 24,
   "id": "74c0ed82",
   "metadata": {},
   "outputs": [
    {
     "data": {
      "text/plain": [
       "0.8441754285578046"
      ]
     },
     "execution_count": 24,
     "metadata": {},
     "output_type": "execute_result"
    }
   ],
   "source": [
    "auc = roc_auc_score(y_test, pred_y_test)\n",
    "auc"
   ]
  },
  {
   "cell_type": "code",
   "execution_count": null,
   "id": "87372fec",
   "metadata": {},
   "outputs": [],
   "source": []
  },
  {
   "cell_type": "code",
   "execution_count": 42,
   "id": "2aadf9a8",
   "metadata": {},
   "outputs": [],
   "source": [
    "# # If test the rule extraction methods for multiple random seeds, change the random seed here.\n",
    "# # If change random seed in the begining, the model, the training, and test set will change as well, the randomness will have several sources.\n",
    "\n",
    "# seed = 0\n",
    "# torch.manual_seed(seed)\n",
    "# np.random.seed(seed)\n",
    "# random.seed(seed)"
   ]
  },
  {
   "cell_type": "code",
   "execution_count": 43,
   "id": "dedcc557",
   "metadata": {},
   "outputs": [],
   "source": [
    "## get impact score matrix for output\n",
    "\n",
    "C=2\n",
    "baseline_reps = model.latent_representation(baselines,times=times)\n",
    "baseline_output = model.linear(baseline_reps.reshape(baseline_reps.shape[0],-1)).detach()\n",
    "\n",
    "subset_reps,subset_output = [],[]\n",
    "for k in range(C):\n",
    "    subset_reps.append(model.latent_representation(subset[k],times=times))\n",
    "    subset_output.append(model.linear(subset_reps[k].reshape(subset_reps[k].shape[0],-1)).detach())\n",
    "    \n",
    "cids = np.arange(C)\n",
    "yshift = []\n",
    "for k in cids:\n",
    "    for kk in cids[cids!=k]:\n",
    "        yshift.append(subset_output[k]-baseline_output[kk])\n",
    "yshift = torch.vstack(yshift)\n",
    "\n",
    "weights = linear_prams[0].reshape(-1,hidden_channels)\n",
    "y_int_g = eutils.output_intg_score(int_g,weights,yshift)\n",
    "y_int_g[torch.isnan(y_int_g)] = 0."
   ]
  },
  {
   "cell_type": "code",
   "execution_count": 44,
   "id": "74980f63",
   "metadata": {
    "scrolled": true
   },
   "outputs": [
    {
     "data": {
      "text/plain": [
       "0.04055276381909548"
      ]
     },
     "execution_count": 44,
     "metadata": {},
     "output_type": "execute_result"
    }
   ],
   "source": [
    "## get impact score threshold \n",
    "thds = np.linspace(0.01,0.2,200)\n",
    "f_n = []\n",
    "for thd in thds:\n",
    "    mask = torch.abs(y_int_g) >= thd \n",
    "    f_n.append((thd,(mask.sum(dim=0)>=len(y_int_g)*0.99).sum()))\n",
    "    if f_n[-1][1]==1:\n",
    "        break\n",
    "thd = f_n[-1][0]\n",
    "thd"
   ]
  },
  {
   "cell_type": "code",
   "execution_count": 45,
   "id": "4fe1d145",
   "metadata": {
    "scrolled": true
   },
   "outputs": [
    {
     "name": "stdout",
     "output_type": "stream",
     "text": [
      "feature set [8741 9693 6701 9285 7109 9557 7789 9149 8059 6565 8333 7515 6971 6291\n",
      " 6837 7243 6970 8467 8058 7242 7653 9011 6290 8063 7381 8466 7519 7514\n",
      " 7379 5746 7378 6157 8471 9010 5747 7651 6021 6973 6295 7925 8197 9696\n",
      " 8330 8742 6698 7247 9015 6975 8331 5477 7786 5882 8336 9690 6699 7655\n",
      " 7792 5749 8875 9694 5883 7110 8739 7654 5613 7650 8743 9286 5885 7383\n",
      " 8195 7787 7112 9419 9418 5067 8061 8064 8874 5205 9150 5751 8199 8605\n",
      " 4389 9560 8198 8879 4935 5071 6704 7790 4931 7384 6976 9558 5066 6427\n",
      " 8194 6838 6562 9691 4525 5887 7248 8603 9423 7518 8335 6426 8470 7245\n",
      " 6294 5474 7922 7106 8738 9692 5752 4930 6568 9554 8740 6703 8607 6563\n",
      " 9287 5475 8472 8744 9288 4797 6431 8602 8334 7928 3981 9283 6839 4799\n",
      " 7520 3573 8606 9016 9014 3165 9151 5888 9284 9152 9421 7923 4795 9147\n",
      " 9424 9556 8878 6835 5069 7108 7791 9148 6296 4253 2893 6566 5480 9700\n",
      " 4119 7116 5479 6160 8877 6158 7788 7652 4115 3029 9555 6022 5072 5207\n",
      " 7246 8332 6840 7796 8196 6702 3845 8062 5341 6836 4794 5206 7926 8748\n",
      " 4114 8340 9564 6154 5614 6708 5203 3843 6024 4934 9292 4798 3847 4661\n",
      " 6572 6564 6700 3842 6844 3709 7517 8468 9156 8604 7516 6432 6156 2621\n",
      " 6020 4390 6164 5616 6292 7924 6429 7660 9695 6567 5756 5484 3172 7388\n",
      " 7107 5612 7927 5204 6028 2900 6293 4250 3437 4117 4396 4936 4522 8880\n",
      " 8876 9012 4528 4388 3982 3580 2213 4251 7932 6980 5476 8204 2623 5620\n",
      " 4796 5892 4392 9701 1941 5212 4532 3988 3848 8068 4120 3983 3572 3162\n",
      " 3980 4526 4256 4933 3168 4524 5478 9282 3036 3439 6155 9719 7127 3164\n",
      " 7797 2892 9711 3576 8341 7117 8612 4523 3574 5070 8759 8065 4932 3435\n",
      " 2619 9565 7380 9697 8337 6018 7252 6977 1669 3163 8469 7793 8473 4260\n",
      " 7249 7385 6709 8756 8749 1807 7135 2896 7521 4391 3028 5748 4804 5202\n",
      " 1948 9146 7815 9017 2079 8069 9293 7389 2628 3852 6705 8359 5208 6981\n",
      " 2890 3570 2220 5076 5753 5615 7111 6297 7807 9303 6834 6573 2620 7668\n",
      " 2349 4255 3030 7113 5757 2077 6023 8484 9157 9428 5889 9300 9583 3031\n",
      " 9712 2622 3979 7671 9575 1676 3166 9561 3984 7532 6727 6430 6569 9167\n",
      " 2894 2755 6855 8767 2759 5073 7253 5338 8351 9425 2487 9708] 404\n"
     ]
    }
   ],
   "source": [
    "## get frequent important feature set\n",
    "itemsets_y = itm.transform_intgrad_to_itemsets(y_int_g,thd=thd)\n",
    "fids = itm.gen_freq_feature_set(itemsets_y[0],min_support=100,max_len=500)\n",
    "fids = np.array(fids).astype(int)-1\n",
    "print('feature set',fids,len(fids))"
   ]
  },
  {
   "cell_type": "code",
   "execution_count": 46,
   "id": "bc57debd",
   "metadata": {
    "scrolled": true
   },
   "outputs": [
    {
     "name": "stdout",
     "output_type": "stream",
     "text": [
      "build_rule_tree\n",
      "init rule tree\n",
      "check potential rule 5474 3.515306315419299 29.571428571428573 41.0 2223\n",
      "add rule [] 5474 [3.515306315419299, 5474]\n",
      "check potential rule 7652 1.0450860697396915 49.0 57.0 2057\n",
      "add rule [5474] 7652 [1.0450860697396915, 7652]\n",
      "check potential rule 5477 1.007049372775757 29.571428571428573 41.0 2033\n",
      "add rule [5474, 7652] 5477 [1.007049372775757, 5477]\n",
      "check potential rule 5341 1.007049372775757 28.857142857142854 40.0 2033\n",
      "add rule [5474, 7652] 5341 [1.007049372775757, 5341]\n",
      "check potential rule 5613 1.0069501952311777 30.285714285714285 42.0 2032\n",
      "add rule [5474, 7652] 5613 [1.0069501952311777, 5613]\n",
      "check potential rule 7788 1.0449800473116377 49.857142857142854 58.0 2056\n",
      "add rule [5474] 7788 [1.0449800473116377, 7788]\n",
      "check potential rule 5477 1.0070523591958414 29.571428571428573 41.0 2032\n",
      "add rule [5474, 7788] 5477 [1.0070523591958414, 5477]\n",
      "check potential rule 5341 1.0070523591958414 28.857142857142854 40.0 2032\n",
      "add rule [5474, 7788] 5341 [1.0070523591958414, 5341]\n",
      "check potential rule 5613 1.0069530739151615 30.285714285714285 42.0 2031\n",
      "add rule [5474, 7788] 5613 [1.0069530739151615, 5613]\n",
      "check potential rule 7924 1.0449800473116377 50.71428571428572 59.0 2056\n",
      "add rule [5474] 7924 [1.0449800473116377, 7924]\n",
      "check potential rule 5477 1.0070523591958414 29.571428571428573 41.0 2032\n",
      "add rule [5474, 7924] 5477 [1.0070523591958414, 5477]\n",
      "check potential rule 5341 1.0070523591958414 28.857142857142854 40.0 2032\n",
      "add rule [5474, 7924] 5341 [1.0070523591958414, 5341]\n",
      "check potential rule 5613 1.0069530739151615 30.285714285714285 42.0 2031\n",
      "add rule [5474, 7924] 5613 [1.0069530739151615, 5613]\n",
      "check potential rule 5338 3.510016371031982 28.857142857142854 40.0 2239\n",
      "add rule [] 5338 [3.510016371031982, 5338]\n",
      "check potential rule 7652 1.0467671975973603 49.0 57.0 2058\n",
      "add rule [5338] 7652 [1.0467671975973603, 7652]\n",
      "check potential rule 5477 1.0070463887257781 29.571428571428573 41.0 2034\n",
      "add rule [5338, 7652] 5477 [1.0070463887257781, 5477]\n",
      "check potential rule 5341 1.0070463887257781 28.857142857142854 40.0 2034\n",
      "add rule [5338, 7652] 5341 [1.0070463887257781, 5341]\n",
      "check potential rule 5613 1.0068481512476823 30.285714285714285 42.0 2032\n",
      "add rule [5338, 7652] 5613 [1.0068481512476823, 5613]\n",
      "check potential rule 7788 1.0466611185726569 49.857142857142854 58.0 2057\n",
      "add rule [5338] 7788 [1.0466611185726569, 7788]\n",
      "check potential rule 5477 1.007049372775757 29.571428571428573 41.0 2033\n",
      "add rule [5338, 7788] 5477 [1.007049372775757, 5477]\n",
      "check potential rule 5341 1.007049372775757 28.857142857142854 40.0 2033\n",
      "add rule [5338, 7788] 5341 [1.007049372775757, 5341]\n",
      "check potential rule 5613 1.0068509200228422 30.285714285714285 42.0 2031\n",
      "add rule [5338, 7788] 5613 [1.0068509200228422, 5613]\n",
      "check potential rule 7924 1.0466611185726569 50.71428571428572 59.0 2057\n",
      "add rule [5338] 7924 [1.0466611185726569, 7924]\n",
      "check potential rule 5477 1.007049372775757 29.571428571428573 41.0 2033\n",
      "add rule [5338, 7924] 5477 [1.007049372775757, 5477]\n",
      "check potential rule 5341 1.007049372775757 28.857142857142854 40.0 2033\n",
      "add rule [5338, 7924] 5341 [1.007049372775757, 5341]\n",
      "check potential rule 5613 1.0068509200228422 30.285714285714285 42.0 2031\n",
      "add rule [5338, 7924] 5613 [1.0068509200228422, 5613]\n",
      "check potential rule 6154 3.459548536103082 33.142857142857146 46.0 2563\n",
      "add rule [] 6154 [3.459548536103082, 6154]\n",
      "check potential rule 5612 1.103894709440734 36.14285714285714 42.0 2066\n",
      "add rule [6154] 5612 [1.103894709440734, 5612]\n",
      "check potential rule 5752 1.0035006486794378 31.0 43.0 2053\n",
      "add rule [6154, 5612] 5752 [1.0035006486794378, 5752]\n",
      "check potential rule 5888 1.0035006486794378 31.714285714285715 44.0 2053\n",
      "add rule [6154, 5612] 5888 [1.0035006486794378, 5888]\n",
      "check potential rule 6160 1.0035006486794378 33.142857142857146 46.0 2053\n",
      "add rule [6154, 5612] 6160 [1.0035006486794378, 6160]\n",
      "check potential rule 5476 1.103894709440734 35.285714285714285 41.0 2066\n",
      "add rule [6154] 5476 [1.103894709440734, 5476]\n",
      "check potential rule 5752 1.0035006486794378 31.0 43.0 2053\n",
      "add rule [6154, 5476] 5752 [1.0035006486794378, 5752]\n",
      "check potential rule 5888 1.0035006486794378 31.714285714285715 44.0 2053\n",
      "add rule [6154, 5476] 5888 [1.0035006486794378, 5888]\n",
      "check potential rule 6160 1.0035006486794378 33.142857142857146 46.0 2053\n",
      "add rule [6154, 5476] 6160 [1.0035006486794378, 6160]\n",
      "check potential rule 5204 1.1034477247786574 33.57142857142857 39.0 2068\n",
      "add rule [6154] 5204 [1.1034477247786574, 5204]\n",
      "check potential rule 5752 1.0034960958347359 31.0 43.0 2055\n",
      "add rule [6154, 5204] 5752 [1.0034960958347359, 5752]\n",
      "check potential rule 5888 1.0034960958347359 31.714285714285715 44.0 2055\n",
      "add rule [6154, 5204] 5888 [1.0034960958347359, 5888]\n",
      "check potential rule 6160 1.0034960958347359 33.142857142857146 46.0 2055\n",
      "add rule [6154, 5204] 6160 [1.0034960958347359, 6160]\n"
     ]
    }
   ],
   "source": [
    "min_support=2000\n",
    "num_grids=8\n",
    "max_depth=3\n",
    "\n",
    "x = X_train_raw.reshape(X_train_raw.shape[0],-1).numpy()\n",
    "y_rule_candidates = rlm.gen_rule_list_for_one_target(x,fids,pred_y>y_thd,y=y_train,c=1,sort_by=\"fitness\",\n",
    "                                                    min_support=min_support,num_grids=num_grids,max_depth=max_depth,top_K=3,\n",
    "                                                    local_x=None,feature_types=feature_types*time_len,\n",
    "                                                    verbose=False,search=\"greedy\")"
   ]
  },
  {
   "cell_type": "code",
   "execution_count": 47,
   "id": "559cd7f6",
   "metadata": {
    "scrolled": true
   },
   "outputs": [
    {
     "data": {
      "text/plain": [
       "[{'rules': [(6154, '>=', 34.0), (5612, '>=', 37.0), (5752, '>=', 31.0)],\n",
       "  'cond_prob_target': 0.8631271310277643,\n",
       "  'support': 2053,\n",
       "  'fitness': 0.2051740745837347,\n",
       "  'cond_prob_y': 0.23721383341451535,\n",
       "  'ratio_y': 0.27686185332575325},\n",
       " {'rules': [(6154, '>=', 34.0), (5612, '>=', 37.0), (5888, '>=', 32.0)],\n",
       "  'cond_prob_target': 0.8631271310277643,\n",
       "  'support': 2053,\n",
       "  'fitness': 0.2051740745837347,\n",
       "  'cond_prob_y': 0.23721383341451535,\n",
       "  'ratio_y': 0.27686185332575325},\n",
       " {'rules': [(6154, '>=', 34.0), (5612, '>=', 37.0), (6160, '>=', 34.0)],\n",
       "  'cond_prob_target': 0.8631271310277643,\n",
       "  'support': 2053,\n",
       "  'fitness': 0.2051740745837347,\n",
       "  'cond_prob_y': 0.23721383341451535,\n",
       "  'ratio_y': 0.27686185332575325},\n",
       " {'rules': [(6154, '>=', 34.0), (5476, '>=', 36.0), (5752, '>=', 31.0)],\n",
       "  'cond_prob_target': 0.8631271310277643,\n",
       "  'support': 2053,\n",
       "  'fitness': 0.2051740745837347,\n",
       "  'cond_prob_y': 0.23721383341451535,\n",
       "  'ratio_y': 0.27686185332575325},\n",
       " {'rules': [(6154, '>=', 34.0), (5476, '>=', 36.0), (5888, '>=', 32.0)],\n",
       "  'cond_prob_target': 0.8631271310277643,\n",
       "  'support': 2053,\n",
       "  'fitness': 0.2051740745837347,\n",
       "  'cond_prob_y': 0.23721383341451535,\n",
       "  'ratio_y': 0.27686185332575325},\n",
       " {'rules': [(6154, '>=', 34.0), (5476, '>=', 36.0), (6160, '>=', 34.0)],\n",
       "  'cond_prob_target': 0.8631271310277643,\n",
       "  'support': 2053,\n",
       "  'fitness': 0.2051740745837347,\n",
       "  'cond_prob_y': 0.23721383341451535,\n",
       "  'ratio_y': 0.27686185332575325},\n",
       " {'rules': [(6154, '>=', 34.0), (5204, '>=', 34.0), (5752, '>=', 31.0)],\n",
       "  'cond_prob_target': 0.8627737226277372,\n",
       "  'support': 2055,\n",
       "  'fitness': 0.20517407458373468,\n",
       "  'cond_prob_y': 0.23698296836982968,\n",
       "  'ratio_y': 0.27686185332575325},\n",
       " {'rules': [(6154, '>=', 34.0), (5204, '>=', 34.0), (5888, '>=', 32.0)],\n",
       "  'cond_prob_target': 0.8627737226277372,\n",
       "  'support': 2055,\n",
       "  'fitness': 0.20517407458373468,\n",
       "  'cond_prob_y': 0.23698296836982968,\n",
       "  'ratio_y': 0.27686185332575325},\n",
       " {'rules': [(6154, '>=', 34.0), (5204, '>=', 34.0), (6160, '>=', 34.0)],\n",
       "  'cond_prob_target': 0.8627737226277372,\n",
       "  'support': 2055,\n",
       "  'fitness': 0.20517407458373468,\n",
       "  'cond_prob_y': 0.23698296836982968,\n",
       "  'ratio_y': 0.27686185332575325},\n",
       " {'rules': [(5338, '>=', 29.0), (7652, '>=', 49.0), (5477, '>=', 30.0)],\n",
       "  'cond_prob_target': 0.8333333333333334,\n",
       "  'support': 2034,\n",
       "  'fitness': 0.18659694509426175,\n",
       "  'cond_prob_y': 0.23942969518190757,\n",
       "  'ratio_y': 0.27686185332575325},\n",
       " {'rules': [(5338, '>=', 29.0), (7652, '>=', 49.0), (5341, '>=', 29.0)],\n",
       "  'cond_prob_target': 0.8333333333333334,\n",
       "  'support': 2034,\n",
       "  'fitness': 0.18659694509426175,\n",
       "  'cond_prob_y': 0.23942969518190757,\n",
       "  'ratio_y': 0.27686185332575325},\n",
       " {'rules': [(5474, '>=', 30.0), (7652, '>=', 49.0), (5477, '>=', 30.0)],\n",
       "  'cond_prob_target': 0.8332513526807673,\n",
       "  'support': 2033,\n",
       "  'fitness': 0.18645933672767304,\n",
       "  'cond_prob_y': 0.2395474667978357,\n",
       "  'ratio_y': 0.27686185332575325},\n",
       " {'rules': [(5474, '>=', 30.0), (7652, '>=', 49.0), (5341, '>=', 29.0)],\n",
       "  'cond_prob_target': 0.8332513526807673,\n",
       "  'support': 2033,\n",
       "  'fitness': 0.18645933672767304,\n",
       "  'cond_prob_y': 0.2395474667978357,\n",
       "  'ratio_y': 0.27686185332575325},\n",
       " {'rules': [(5338, '>=', 29.0), (7788, '>=', 50.0), (5477, '>=', 30.0)],\n",
       "  'cond_prob_target': 0.8332513526807673,\n",
       "  'support': 2033,\n",
       "  'fitness': 0.18645933672767304,\n",
       "  'cond_prob_y': 0.2395474667978357,\n",
       "  'ratio_y': 0.27686185332575325},\n",
       " {'rules': [(5338, '>=', 29.0), (7788, '>=', 50.0), (5341, '>=', 29.0)],\n",
       "  'cond_prob_target': 0.8332513526807673,\n",
       "  'support': 2033,\n",
       "  'fitness': 0.18645933672767304,\n",
       "  'cond_prob_y': 0.2395474667978357,\n",
       "  'ratio_y': 0.27686185332575325},\n",
       " {'rules': [(5338, '>=', 29.0), (7924, '>=', 51.0), (5477, '>=', 30.0)],\n",
       "  'cond_prob_target': 0.8332513526807673,\n",
       "  'support': 2033,\n",
       "  'fitness': 0.18645933672767304,\n",
       "  'cond_prob_y': 0.2395474667978357,\n",
       "  'ratio_y': 0.27686185332575325},\n",
       " {'rules': [(5338, '>=', 29.0), (7924, '>=', 51.0), (5341, '>=', 29.0)],\n",
       "  'cond_prob_target': 0.8332513526807673,\n",
       "  'support': 2033,\n",
       "  'fitness': 0.18645933672767304,\n",
       "  'cond_prob_y': 0.2395474667978357,\n",
       "  'ratio_y': 0.27686185332575325},\n",
       " {'rules': [(5474, '>=', 30.0), (7652, '>=', 49.0), (5613, '>=', 31.0)],\n",
       "  'cond_prob_target': 0.8331692913385826,\n",
       "  'support': 2032,\n",
       "  'fitness': 0.18632172836108432,\n",
       "  'cond_prob_y': 0.23966535433070865,\n",
       "  'ratio_y': 0.27686185332575325},\n",
       " {'rules': [(5474, '>=', 30.0), (7788, '>=', 50.0), (5477, '>=', 30.0)],\n",
       "  'cond_prob_target': 0.8331692913385826,\n",
       "  'support': 2032,\n",
       "  'fitness': 0.18632172836108432,\n",
       "  'cond_prob_y': 0.23966535433070865,\n",
       "  'ratio_y': 0.27686185332575325},\n",
       " {'rules': [(5474, '>=', 30.0), (7788, '>=', 50.0), (5341, '>=', 29.0)],\n",
       "  'cond_prob_target': 0.8331692913385826,\n",
       "  'support': 2032,\n",
       "  'fitness': 0.18632172836108432,\n",
       "  'cond_prob_y': 0.23966535433070865,\n",
       "  'ratio_y': 0.27686185332575325},\n",
       " {'rules': [(5474, '>=', 30.0), (7924, '>=', 51.0), (5477, '>=', 30.0)],\n",
       "  'cond_prob_target': 0.8331692913385826,\n",
       "  'support': 2032,\n",
       "  'fitness': 0.18632172836108432,\n",
       "  'cond_prob_y': 0.23966535433070865,\n",
       "  'ratio_y': 0.27686185332575325},\n",
       " {'rules': [(5474, '>=', 30.0), (7924, '>=', 51.0), (5341, '>=', 29.0)],\n",
       "  'cond_prob_target': 0.8331692913385826,\n",
       "  'support': 2032,\n",
       "  'fitness': 0.18632172836108432,\n",
       "  'cond_prob_y': 0.23966535433070865,\n",
       "  'ratio_y': 0.27686185332575325},\n",
       " {'rules': [(5338, '>=', 29.0), (7652, '>=', 49.0), (5613, '>=', 31.0)],\n",
       "  'cond_prob_target': 0.8331692913385826,\n",
       "  'support': 2032,\n",
       "  'fitness': 0.18632172836108432,\n",
       "  'cond_prob_y': 0.23966535433070865,\n",
       "  'ratio_y': 0.27686185332575325},\n",
       " {'rules': [(5474, '>=', 30.0), (7788, '>=', 50.0), (5613, '>=', 31.0)],\n",
       "  'cond_prob_target': 0.8330871491875923,\n",
       "  'support': 2031,\n",
       "  'fitness': 0.18618411999449566,\n",
       "  'cond_prob_y': 0.2397833579517479,\n",
       "  'ratio_y': 0.27686185332575325},\n",
       " {'rules': [(5474, '>=', 30.0), (7924, '>=', 51.0), (5613, '>=', 31.0)],\n",
       "  'cond_prob_target': 0.8330871491875923,\n",
       "  'support': 2031,\n",
       "  'fitness': 0.18618411999449566,\n",
       "  'cond_prob_y': 0.2397833579517479,\n",
       "  'ratio_y': 0.27686185332575325},\n",
       " {'rules': [(5338, '>=', 29.0), (7788, '>=', 50.0), (5613, '>=', 31.0)],\n",
       "  'cond_prob_target': 0.8330871491875923,\n",
       "  'support': 2031,\n",
       "  'fitness': 0.18618411999449566,\n",
       "  'cond_prob_y': 0.2397833579517479,\n",
       "  'ratio_y': 0.27686185332575325},\n",
       " {'rules': [(5338, '>=', 29.0), (7924, '>=', 51.0), (5613, '>=', 31.0)],\n",
       "  'cond_prob_target': 0.8330871491875923,\n",
       "  'support': 2031,\n",
       "  'fitness': 0.18618411999449566,\n",
       "  'cond_prob_y': 0.2397833579517479,\n",
       "  'ratio_y': 0.27686185332575325}]"
      ]
     },
     "execution_count": 47,
     "metadata": {},
     "output_type": "execute_result"
    }
   ],
   "source": [
    "y_rule_candidates"
   ]
  },
  {
   "cell_type": "code",
   "execution_count": 48,
   "id": "3e2bdefe",
   "metadata": {
    "scrolled": true
   },
   "outputs": [
    {
     "data": {
      "text/plain": [
       "[{'rules': [(6154, 'HR_ctime_t45', '>=', 34.0),\n",
       "   (5612, 'Temp_ctime_t41', '>=', 37.0),\n",
       "   (5752, 'Resp_ctime_t42', '>=', 31.0)],\n",
       "  'cond_prob_target': 0.8631271310277643,\n",
       "  'support': 2053,\n",
       "  'fitness': 0.2051740745837347,\n",
       "  'cond_prob_y': 0.23721383341451535,\n",
       "  'ratio_y': 0.27686185332575325},\n",
       " {'rules': [(6154, 'HR_ctime_t45', '>=', 34.0),\n",
       "   (5612, 'Temp_ctime_t41', '>=', 37.0),\n",
       "   (5888, 'Resp_ctime_t43', '>=', 32.0)],\n",
       "  'cond_prob_target': 0.8631271310277643,\n",
       "  'support': 2053,\n",
       "  'fitness': 0.2051740745837347,\n",
       "  'cond_prob_y': 0.23721383341451535,\n",
       "  'ratio_y': 0.27686185332575325},\n",
       " {'rules': [(6154, 'HR_ctime_t45', '>=', 34.0),\n",
       "   (5612, 'Temp_ctime_t41', '>=', 37.0),\n",
       "   (6160, 'Resp_ctime_t45', '>=', 34.0)],\n",
       "  'cond_prob_target': 0.8631271310277643,\n",
       "  'support': 2053,\n",
       "  'fitness': 0.2051740745837347,\n",
       "  'cond_prob_y': 0.23721383341451535,\n",
       "  'ratio_y': 0.27686185332575325},\n",
       " {'rules': [(6154, 'HR_ctime_t45', '>=', 34.0),\n",
       "   (5476, 'Temp_ctime_t40', '>=', 36.0),\n",
       "   (5752, 'Resp_ctime_t42', '>=', 31.0)],\n",
       "  'cond_prob_target': 0.8631271310277643,\n",
       "  'support': 2053,\n",
       "  'fitness': 0.2051740745837347,\n",
       "  'cond_prob_y': 0.23721383341451535,\n",
       "  'ratio_y': 0.27686185332575325},\n",
       " {'rules': [(6154, 'HR_ctime_t45', '>=', 34.0),\n",
       "   (5476, 'Temp_ctime_t40', '>=', 36.0),\n",
       "   (5888, 'Resp_ctime_t43', '>=', 32.0)],\n",
       "  'cond_prob_target': 0.8631271310277643,\n",
       "  'support': 2053,\n",
       "  'fitness': 0.2051740745837347,\n",
       "  'cond_prob_y': 0.23721383341451535,\n",
       "  'ratio_y': 0.27686185332575325},\n",
       " {'rules': [(6154, 'HR_ctime_t45', '>=', 34.0),\n",
       "   (5476, 'Temp_ctime_t40', '>=', 36.0),\n",
       "   (6160, 'Resp_ctime_t45', '>=', 34.0)],\n",
       "  'cond_prob_target': 0.8631271310277643,\n",
       "  'support': 2053,\n",
       "  'fitness': 0.2051740745837347,\n",
       "  'cond_prob_y': 0.23721383341451535,\n",
       "  'ratio_y': 0.27686185332575325},\n",
       " {'rules': [(6154, 'HR_ctime_t45', '>=', 34.0),\n",
       "   (5204, 'Temp_ctime_t38', '>=', 34.0),\n",
       "   (5752, 'Resp_ctime_t42', '>=', 31.0)],\n",
       "  'cond_prob_target': 0.8627737226277372,\n",
       "  'support': 2055,\n",
       "  'fitness': 0.20517407458373468,\n",
       "  'cond_prob_y': 0.23698296836982968,\n",
       "  'ratio_y': 0.27686185332575325},\n",
       " {'rules': [(6154, 'HR_ctime_t45', '>=', 34.0),\n",
       "   (5204, 'Temp_ctime_t38', '>=', 34.0),\n",
       "   (5888, 'Resp_ctime_t43', '>=', 32.0)],\n",
       "  'cond_prob_target': 0.8627737226277372,\n",
       "  'support': 2055,\n",
       "  'fitness': 0.20517407458373468,\n",
       "  'cond_prob_y': 0.23698296836982968,\n",
       "  'ratio_y': 0.27686185332575325},\n",
       " {'rules': [(6154, 'HR_ctime_t45', '>=', 34.0),\n",
       "   (5204, 'Temp_ctime_t38', '>=', 34.0),\n",
       "   (6160, 'Resp_ctime_t45', '>=', 34.0)],\n",
       "  'cond_prob_target': 0.8627737226277372,\n",
       "  'support': 2055,\n",
       "  'fitness': 0.20517407458373468,\n",
       "  'cond_prob_y': 0.23698296836982968,\n",
       "  'ratio_y': 0.27686185332575325},\n",
       " {'rules': [(5338, 'HR_ctime_t39', '>=', 29.0),\n",
       "   (7652, 'Temp_ctime_t56', '>=', 49.0),\n",
       "   (5477, 'SBP_ctime_t40', '>=', 30.0)],\n",
       "  'cond_prob_target': 0.8333333333333334,\n",
       "  'support': 2034,\n",
       "  'fitness': 0.18659694509426175,\n",
       "  'cond_prob_y': 0.23942969518190757,\n",
       "  'ratio_y': 0.27686185332575325},\n",
       " {'rules': [(5338, 'HR_ctime_t39', '>=', 29.0),\n",
       "   (7652, 'Temp_ctime_t56', '>=', 49.0),\n",
       "   (5341, 'SBP_ctime_t39', '>=', 29.0)],\n",
       "  'cond_prob_target': 0.8333333333333334,\n",
       "  'support': 2034,\n",
       "  'fitness': 0.18659694509426175,\n",
       "  'cond_prob_y': 0.23942969518190757,\n",
       "  'ratio_y': 0.27686185332575325},\n",
       " {'rules': [(5474, 'HR_ctime_t40', '>=', 30.0),\n",
       "   (7652, 'Temp_ctime_t56', '>=', 49.0),\n",
       "   (5477, 'SBP_ctime_t40', '>=', 30.0)],\n",
       "  'cond_prob_target': 0.8332513526807673,\n",
       "  'support': 2033,\n",
       "  'fitness': 0.18645933672767304,\n",
       "  'cond_prob_y': 0.2395474667978357,\n",
       "  'ratio_y': 0.27686185332575325},\n",
       " {'rules': [(5474, 'HR_ctime_t40', '>=', 30.0),\n",
       "   (7652, 'Temp_ctime_t56', '>=', 49.0),\n",
       "   (5341, 'SBP_ctime_t39', '>=', 29.0)],\n",
       "  'cond_prob_target': 0.8332513526807673,\n",
       "  'support': 2033,\n",
       "  'fitness': 0.18645933672767304,\n",
       "  'cond_prob_y': 0.2395474667978357,\n",
       "  'ratio_y': 0.27686185332575325},\n",
       " {'rules': [(5338, 'HR_ctime_t39', '>=', 29.0),\n",
       "   (7788, 'Temp_ctime_t57', '>=', 50.0),\n",
       "   (5477, 'SBP_ctime_t40', '>=', 30.0)],\n",
       "  'cond_prob_target': 0.8332513526807673,\n",
       "  'support': 2033,\n",
       "  'fitness': 0.18645933672767304,\n",
       "  'cond_prob_y': 0.2395474667978357,\n",
       "  'ratio_y': 0.27686185332575325},\n",
       " {'rules': [(5338, 'HR_ctime_t39', '>=', 29.0),\n",
       "   (7788, 'Temp_ctime_t57', '>=', 50.0),\n",
       "   (5341, 'SBP_ctime_t39', '>=', 29.0)],\n",
       "  'cond_prob_target': 0.8332513526807673,\n",
       "  'support': 2033,\n",
       "  'fitness': 0.18645933672767304,\n",
       "  'cond_prob_y': 0.2395474667978357,\n",
       "  'ratio_y': 0.27686185332575325},\n",
       " {'rules': [(5338, 'HR_ctime_t39', '>=', 29.0),\n",
       "   (7924, 'Temp_ctime_t58', '>=', 51.0),\n",
       "   (5477, 'SBP_ctime_t40', '>=', 30.0)],\n",
       "  'cond_prob_target': 0.8332513526807673,\n",
       "  'support': 2033,\n",
       "  'fitness': 0.18645933672767304,\n",
       "  'cond_prob_y': 0.2395474667978357,\n",
       "  'ratio_y': 0.27686185332575325},\n",
       " {'rules': [(5338, 'HR_ctime_t39', '>=', 29.0),\n",
       "   (7924, 'Temp_ctime_t58', '>=', 51.0),\n",
       "   (5341, 'SBP_ctime_t39', '>=', 29.0)],\n",
       "  'cond_prob_target': 0.8332513526807673,\n",
       "  'support': 2033,\n",
       "  'fitness': 0.18645933672767304,\n",
       "  'cond_prob_y': 0.2395474667978357,\n",
       "  'ratio_y': 0.27686185332575325},\n",
       " {'rules': [(5474, 'HR_ctime_t40', '>=', 30.0),\n",
       "   (7652, 'Temp_ctime_t56', '>=', 49.0),\n",
       "   (5613, 'SBP_ctime_t41', '>=', 31.0)],\n",
       "  'cond_prob_target': 0.8331692913385826,\n",
       "  'support': 2032,\n",
       "  'fitness': 0.18632172836108432,\n",
       "  'cond_prob_y': 0.23966535433070865,\n",
       "  'ratio_y': 0.27686185332575325},\n",
       " {'rules': [(5474, 'HR_ctime_t40', '>=', 30.0),\n",
       "   (7788, 'Temp_ctime_t57', '>=', 50.0),\n",
       "   (5477, 'SBP_ctime_t40', '>=', 30.0)],\n",
       "  'cond_prob_target': 0.8331692913385826,\n",
       "  'support': 2032,\n",
       "  'fitness': 0.18632172836108432,\n",
       "  'cond_prob_y': 0.23966535433070865,\n",
       "  'ratio_y': 0.27686185332575325},\n",
       " {'rules': [(5474, 'HR_ctime_t40', '>=', 30.0),\n",
       "   (7788, 'Temp_ctime_t57', '>=', 50.0),\n",
       "   (5341, 'SBP_ctime_t39', '>=', 29.0)],\n",
       "  'cond_prob_target': 0.8331692913385826,\n",
       "  'support': 2032,\n",
       "  'fitness': 0.18632172836108432,\n",
       "  'cond_prob_y': 0.23966535433070865,\n",
       "  'ratio_y': 0.27686185332575325},\n",
       " {'rules': [(5474, 'HR_ctime_t40', '>=', 30.0),\n",
       "   (7924, 'Temp_ctime_t58', '>=', 51.0),\n",
       "   (5477, 'SBP_ctime_t40', '>=', 30.0)],\n",
       "  'cond_prob_target': 0.8331692913385826,\n",
       "  'support': 2032,\n",
       "  'fitness': 0.18632172836108432,\n",
       "  'cond_prob_y': 0.23966535433070865,\n",
       "  'ratio_y': 0.27686185332575325},\n",
       " {'rules': [(5474, 'HR_ctime_t40', '>=', 30.0),\n",
       "   (7924, 'Temp_ctime_t58', '>=', 51.0),\n",
       "   (5341, 'SBP_ctime_t39', '>=', 29.0)],\n",
       "  'cond_prob_target': 0.8331692913385826,\n",
       "  'support': 2032,\n",
       "  'fitness': 0.18632172836108432,\n",
       "  'cond_prob_y': 0.23966535433070865,\n",
       "  'ratio_y': 0.27686185332575325},\n",
       " {'rules': [(5338, 'HR_ctime_t39', '>=', 29.0),\n",
       "   (7652, 'Temp_ctime_t56', '>=', 49.0),\n",
       "   (5613, 'SBP_ctime_t41', '>=', 31.0)],\n",
       "  'cond_prob_target': 0.8331692913385826,\n",
       "  'support': 2032,\n",
       "  'fitness': 0.18632172836108432,\n",
       "  'cond_prob_y': 0.23966535433070865,\n",
       "  'ratio_y': 0.27686185332575325},\n",
       " {'rules': [(5474, 'HR_ctime_t40', '>=', 30.0),\n",
       "   (7788, 'Temp_ctime_t57', '>=', 50.0),\n",
       "   (5613, 'SBP_ctime_t41', '>=', 31.0)],\n",
       "  'cond_prob_target': 0.8330871491875923,\n",
       "  'support': 2031,\n",
       "  'fitness': 0.18618411999449566,\n",
       "  'cond_prob_y': 0.2397833579517479,\n",
       "  'ratio_y': 0.27686185332575325},\n",
       " {'rules': [(5474, 'HR_ctime_t40', '>=', 30.0),\n",
       "   (7924, 'Temp_ctime_t58', '>=', 51.0),\n",
       "   (5613, 'SBP_ctime_t41', '>=', 31.0)],\n",
       "  'cond_prob_target': 0.8330871491875923,\n",
       "  'support': 2031,\n",
       "  'fitness': 0.18618411999449566,\n",
       "  'cond_prob_y': 0.2397833579517479,\n",
       "  'ratio_y': 0.27686185332575325},\n",
       " {'rules': [(5338, 'HR_ctime_t39', '>=', 29.0),\n",
       "   (7788, 'Temp_ctime_t57', '>=', 50.0),\n",
       "   (5613, 'SBP_ctime_t41', '>=', 31.0)],\n",
       "  'cond_prob_target': 0.8330871491875923,\n",
       "  'support': 2031,\n",
       "  'fitness': 0.18618411999449566,\n",
       "  'cond_prob_y': 0.2397833579517479,\n",
       "  'ratio_y': 0.27686185332575325},\n",
       " {'rules': [(5338, 'HR_ctime_t39', '>=', 29.0),\n",
       "   (7924, 'Temp_ctime_t58', '>=', 51.0),\n",
       "   (5613, 'SBP_ctime_t41', '>=', 31.0)],\n",
       "  'cond_prob_target': 0.8330871491875923,\n",
       "  'support': 2031,\n",
       "  'fitness': 0.18618411999449566,\n",
       "  'cond_prob_y': 0.2397833579517479,\n",
       "  'ratio_y': 0.27686185332575325}]"
      ]
     },
     "execution_count": 48,
     "metadata": {},
     "output_type": "execute_result"
    }
   ],
   "source": [
    "for i, rules in enumerate(y_rule_candidates):   \n",
    "    rules[\"rules\"] = rlm.replace_feature_names(rules[\"rules\"],input_feature_names,time_index=True)\n",
    "    y_rule_candidates[i] = rules\n",
    "y_rule_candidates"
   ]
  },
  {
   "cell_type": "code",
   "execution_count": null,
   "id": "d0337991",
   "metadata": {},
   "outputs": [],
   "source": []
  },
  {
   "cell_type": "code",
   "execution_count": null,
   "id": "f160f68a",
   "metadata": {},
   "outputs": [],
   "source": []
  },
  {
   "cell_type": "code",
   "execution_count": 58,
   "id": "42de650f",
   "metadata": {},
   "outputs": [
    {
     "data": {
      "text/html": [
       "<style>#sk-container-id-4 {color: black;background-color: white;}#sk-container-id-4 pre{padding: 0;}#sk-container-id-4 div.sk-toggleable {background-color: white;}#sk-container-id-4 label.sk-toggleable__label {cursor: pointer;display: block;width: 100%;margin-bottom: 0;padding: 0.3em;box-sizing: border-box;text-align: center;}#sk-container-id-4 label.sk-toggleable__label-arrow:before {content: \"▸\";float: left;margin-right: 0.25em;color: #696969;}#sk-container-id-4 label.sk-toggleable__label-arrow:hover:before {color: black;}#sk-container-id-4 div.sk-estimator:hover label.sk-toggleable__label-arrow:before {color: black;}#sk-container-id-4 div.sk-toggleable__content {max-height: 0;max-width: 0;overflow: hidden;text-align: left;background-color: #f0f8ff;}#sk-container-id-4 div.sk-toggleable__content pre {margin: 0.2em;color: black;border-radius: 0.25em;background-color: #f0f8ff;}#sk-container-id-4 input.sk-toggleable__control:checked~div.sk-toggleable__content {max-height: 200px;max-width: 100%;overflow: auto;}#sk-container-id-4 input.sk-toggleable__control:checked~label.sk-toggleable__label-arrow:before {content: \"▾\";}#sk-container-id-4 div.sk-estimator input.sk-toggleable__control:checked~label.sk-toggleable__label {background-color: #d4ebff;}#sk-container-id-4 div.sk-label input.sk-toggleable__control:checked~label.sk-toggleable__label {background-color: #d4ebff;}#sk-container-id-4 input.sk-hidden--visually {border: 0;clip: rect(1px 1px 1px 1px);clip: rect(1px, 1px, 1px, 1px);height: 1px;margin: -1px;overflow: hidden;padding: 0;position: absolute;width: 1px;}#sk-container-id-4 div.sk-estimator {font-family: monospace;background-color: #f0f8ff;border: 1px dotted black;border-radius: 0.25em;box-sizing: border-box;margin-bottom: 0.5em;}#sk-container-id-4 div.sk-estimator:hover {background-color: #d4ebff;}#sk-container-id-4 div.sk-parallel-item::after {content: \"\";width: 100%;border-bottom: 1px solid gray;flex-grow: 1;}#sk-container-id-4 div.sk-label:hover label.sk-toggleable__label {background-color: #d4ebff;}#sk-container-id-4 div.sk-serial::before {content: \"\";position: absolute;border-left: 1px solid gray;box-sizing: border-box;top: 0;bottom: 0;left: 50%;z-index: 0;}#sk-container-id-4 div.sk-serial {display: flex;flex-direction: column;align-items: center;background-color: white;padding-right: 0.2em;padding-left: 0.2em;position: relative;}#sk-container-id-4 div.sk-item {position: relative;z-index: 1;}#sk-container-id-4 div.sk-parallel {display: flex;align-items: stretch;justify-content: center;background-color: white;position: relative;}#sk-container-id-4 div.sk-item::before, #sk-container-id-4 div.sk-parallel-item::before {content: \"\";position: absolute;border-left: 1px solid gray;box-sizing: border-box;top: 0;bottom: 0;left: 50%;z-index: -1;}#sk-container-id-4 div.sk-parallel-item {display: flex;flex-direction: column;z-index: 1;position: relative;background-color: white;}#sk-container-id-4 div.sk-parallel-item:first-child::after {align-self: flex-end;width: 50%;}#sk-container-id-4 div.sk-parallel-item:last-child::after {align-self: flex-start;width: 50%;}#sk-container-id-4 div.sk-parallel-item:only-child::after {width: 0;}#sk-container-id-4 div.sk-dashed-wrapped {border: 1px dashed gray;margin: 0 0.4em 0.5em 0.4em;box-sizing: border-box;padding-bottom: 0.4em;background-color: white;}#sk-container-id-4 div.sk-label label {font-family: monospace;font-weight: bold;display: inline-block;line-height: 1.2em;}#sk-container-id-4 div.sk-label-container {text-align: center;}#sk-container-id-4 div.sk-container {/* jupyter's `normalize.less` sets `[hidden] { display: none; }` but bootstrap.min.css set `[hidden] { display: none !important; }` so we also need the `!important` here to be able to override the default hidden behavior on the sphinx rendered scikit-learn.org. See: https://github.com/scikit-learn/scikit-learn/issues/21755 */display: inline-block !important;position: relative;}#sk-container-id-4 div.sk-text-repr-fallback {display: none;}</style><div id=\"sk-container-id-4\" class=\"sk-top-container\"><div class=\"sk-text-repr-fallback\"><pre>DecisionTreeClassifier(max_depth=5, min_samples_leaf=2000, random_state=0)</pre><b>In a Jupyter environment, please rerun this cell to show the HTML representation or trust the notebook. <br />On GitHub, the HTML representation is unable to render, please try loading this page with nbviewer.org.</b></div><div class=\"sk-container\" hidden><div class=\"sk-item\"><div class=\"sk-estimator sk-toggleable\"><input class=\"sk-toggleable__control sk-hidden--visually\" id=\"sk-estimator-id-4\" type=\"checkbox\" checked><label for=\"sk-estimator-id-4\" class=\"sk-toggleable__label sk-toggleable__label-arrow\">DecisionTreeClassifier</label><div class=\"sk-toggleable__content\"><pre>DecisionTreeClassifier(max_depth=5, min_samples_leaf=2000, random_state=0)</pre></div></div></div></div></div>"
      ],
      "text/plain": [
       "DecisionTreeClassifier(max_depth=5, min_samples_leaf=2000, random_state=0)"
      ]
     },
     "execution_count": 58,
     "metadata": {},
     "output_type": "execute_result"
    }
   ],
   "source": [
    "### otain rules for pred_y = c from a DecisionTreeClassifier\n",
    "\n",
    "X_tr = X_train_raw.reshape(X_train_raw.shape[0],-1).numpy()\n",
    "X_tr[np.isnan(X_tr)] = 0.\n",
    "treemodel = DecisionTreeClassifier(max_depth=3,min_samples_leaf=2000,random_state=seed)\n",
    "treemodel.fit(X_tr,pred_y>y_thd)"
   ]
  },
  {
   "cell_type": "code",
   "execution_count": 59,
   "id": "09cf064e",
   "metadata": {
    "scrolled": true
   },
   "outputs": [
    {
     "name": "stdout",
     "output_type": "stream",
     "text": [
      "|--- feature_3029 <= 9.50\n",
      "|   |--- feature_9566 <= 70.50\n",
      "|   |   |--- feature_9706 <= 71.50\n",
      "|   |   |   |--- feature_4661 <= 3.50\n",
      "|   |   |   |   |--- class: False\n",
      "|   |   |   |--- feature_4661 >  3.50\n",
      "|   |   |   |   |--- class: True\n",
      "|   |   |--- feature_9706 >  71.50\n",
      "|   |   |   |--- feature_5476 <= 32.50\n",
      "|   |   |   |   |--- feature_6396 <= 1.11\n",
      "|   |   |   |   |   |--- class: False\n",
      "|   |   |   |   |--- feature_6396 >  1.11\n",
      "|   |   |   |   |   |--- class: False\n",
      "|   |   |   |--- feature_5476 >  32.50\n",
      "|   |   |   |   |--- class: False\n",
      "|   |--- feature_9566 >  70.50\n",
      "|   |   |--- feature_9716 <= 71.50\n",
      "|   |   |   |--- feature_2895 <= 4.50\n",
      "|   |   |   |   |--- class: False\n",
      "|   |   |   |--- feature_2895 >  4.50\n",
      "|   |   |   |   |--- class: False\n",
      "|   |   |--- feature_9716 >  71.50\n",
      "|   |   |   |--- feature_3298 <= 5.50\n",
      "|   |   |   |   |--- feature_957 <= 1.09\n",
      "|   |   |   |   |   |--- class: False\n",
      "|   |   |   |   |--- feature_957 >  1.09\n",
      "|   |   |   |   |   |--- class: False\n",
      "|   |   |   |--- feature_3298 >  5.50\n",
      "|   |   |   |   |--- class: False\n",
      "|--- feature_3029 >  9.50\n",
      "|   |--- feature_2892 <= 18.50\n",
      "|   |   |--- class: True\n",
      "|   |--- feature_2892 >  18.50\n",
      "|   |   |--- class: True\n",
      "\n"
     ]
    }
   ],
   "source": [
    "print(export_text(treemodel))"
   ]
  },
  {
   "cell_type": "code",
   "execution_count": 60,
   "id": "ef53d6ef",
   "metadata": {},
   "outputs": [],
   "source": [
    "feature_names = [f+\"_t\"+str(t) for t in range(time_len) for f in input_feature_names ]\n",
    "rule_list, rule_value_list, rule_metric_list, new_lines = dtr.obtain_rule_lists_from_DT(treemodel,5,X_tr,y_train,pred_y>y_thd,np.arange(X_tr.shape[-1]),feature_names,c=1)"
   ]
  },
  {
   "cell_type": "code",
   "execution_count": 61,
   "id": "5f674808",
   "metadata": {
    "scrolled": true
   },
   "outputs": [
    {
     "name": "stdout",
     "output_type": "stream",
     "text": [
      "#################\n",
      "[(3029, '<=', 9.5), (9566, '<=', 70.5), (9706, '<=', 71.5), (4661, '<=', 3.5)]\n",
      "cond_prob_target 0.417 cond_prob_y 0.071 support 2465 fitness -0.056\n",
      "SBP_ctime_t22 <= 9.5\n",
      "PaCO2_ctime_t70 <= 70.5\n",
      "Alkalinephos_ctime_t71 <= 71.5\n",
      "SBP_ctime_t34 <= 3.5\n",
      "#################\n",
      "[(3029, '<=', 9.5), (9566, '<=', 70.5), (9706, '<=', 71.5), (4661, '>', 3.5)]\n",
      "cond_prob_target 0.682 cond_prob_y 0.121 support 2008 fitness 0.101\n",
      "SBP_ctime_t22 <= 9.5\n",
      "PaCO2_ctime_t70 <= 70.5\n",
      "Alkalinephos_ctime_t71 <= 71.5\n",
      "SBP_ctime_t34 > 3.5\n",
      "#################\n",
      "[(3029, '<=', 9.5), (9566, '<=', 70.5), (9706, '>', 71.5), (5476, '<=', 32.5), (6396, '<=', 1.115)]\n",
      "cond_prob_target 0.061 cond_prob_y 0.025 support 4743 fitness -0.573\n",
      "SBP_ctime_t22 <= 9.5\n",
      "PaCO2_ctime_t70 <= 70.5\n",
      "Alkalinephos_ctime_t71 > 71.5\n",
      "Temp_ctime_t40 <= 32.5\n",
      "MAP_t47 <= 1.115\n",
      "#################\n",
      "[(3029, '<=', 9.5), (9566, '<=', 70.5), (9706, '>', 71.5), (5476, '<=', 32.5), (6396, '>', 1.115)]\n",
      "cond_prob_target 0.228 cond_prob_y 0.053 support 2059 fitness -0.154\n",
      "SBP_ctime_t22 <= 9.5\n",
      "PaCO2_ctime_t70 <= 70.5\n",
      "Alkalinephos_ctime_t71 > 71.5\n",
      "Temp_ctime_t40 <= 32.5\n",
      "MAP_t47 > 1.115\n",
      "#################\n",
      "[(3029, '<=', 9.5), (9566, '<=', 70.5), (9706, '>', 71.5), (5476, '>', 32.5)]\n",
      "cond_prob_target 0.378 cond_prob_y 0.069 support 2010 fitness -0.068\n",
      "SBP_ctime_t22 <= 9.5\n",
      "PaCO2_ctime_t70 <= 70.5\n",
      "Alkalinephos_ctime_t71 > 71.5\n",
      "Temp_ctime_t40 > 32.5\n",
      "#################\n",
      "[(3029, '<=', 9.5), (9566, '>', 70.5), (9716, '<=', 71.5), (2895, '<=', 4.5)]\n",
      "cond_prob_target 0.025 cond_prob_y 0.017 support 3470 fitness -0.454\n",
      "SBP_ctime_t22 <= 9.5\n",
      "PaCO2_ctime_t70 > 70.5\n",
      "Bilirubin_total_ctime_t71 <= 71.5\n",
      "DBP_ctime_t21 <= 4.5\n",
      "#################\n",
      "[(3029, '<=', 9.5), (9566, '>', 70.5), (9716, '<=', 71.5), (2895, '>', 4.5)]\n",
      "cond_prob_target 0.086 cond_prob_y 0.034 support 2014 fitness -0.229\n",
      "SBP_ctime_t22 <= 9.5\n",
      "PaCO2_ctime_t70 > 70.5\n",
      "Bilirubin_total_ctime_t71 <= 71.5\n",
      "DBP_ctime_t21 > 4.5\n",
      "#################\n",
      "[(3029, '<=', 9.5), (9566, '>', 70.5), (9716, '>', 71.5), (3298, '<=', 5.5), (957, '<=', 1.094)]\n",
      "cond_prob_target 0.005 cond_prob_y 0.015 support 2588 fitness -0.353\n",
      "SBP_ctime_t22 <= 9.5\n",
      "PaCO2_ctime_t70 > 70.5\n",
      "Bilirubin_total_ctime_t71 > 71.5\n",
      "HR_ctime_t24 <= 5.5\n",
      "DBP_t7 <= 1.094\n",
      "#################\n",
      "[(3029, '<=', 9.5), (9566, '>', 70.5), (9716, '>', 71.5), (3298, '<=', 5.5), (957, '>', 1.094)]\n",
      "cond_prob_target 0.0 cond_prob_y 0.01 support 4258 fitness -0.586\n",
      "SBP_ctime_t22 <= 9.5\n",
      "PaCO2_ctime_t70 > 70.5\n",
      "Bilirubin_total_ctime_t71 > 71.5\n",
      "HR_ctime_t24 <= 5.5\n",
      "DBP_t7 > 1.094\n",
      "#################\n",
      "[(3029, '<=', 9.5), (9566, '>', 70.5), (9716, '>', 71.5), (3298, '>', 5.5)]\n",
      "cond_prob_target 0.016 cond_prob_y 0.012 support 2046 fitness -0.272\n",
      "SBP_ctime_t22 <= 9.5\n",
      "PaCO2_ctime_t70 > 70.5\n",
      "Bilirubin_total_ctime_t71 > 71.5\n",
      "HR_ctime_t24 > 5.5\n",
      "#################\n",
      "[(3029, '>', 9.5), (2892, '<=', 18.5)]\n",
      "cond_prob_target 0.519 cond_prob_y 0.11 support 2605 fitness 0.014\n",
      "SBP_ctime_t22 > 9.5\n",
      "Temp_ctime_t21 <= 18.5\n",
      "#################\n",
      "[(3029, '>', 9.5), (2892, '>', 18.5)]\n",
      "cond_prob_target 0.846 cond_prob_y 0.226 support 2000 fitness 0.19\n",
      "SBP_ctime_t22 > 9.5\n",
      "Temp_ctime_t21 > 18.5\n"
     ]
    }
   ],
   "source": [
    "dtr.display_rules_from_DT(rule_list,rule_metric_list,feature_names)"
   ]
  },
  {
   "cell_type": "code",
   "execution_count": null,
   "id": "c40438dd",
   "metadata": {},
   "outputs": [],
   "source": []
  }
 ],
 "metadata": {
  "kernelspec": {
   "display_name": "py39",
   "language": "python",
   "name": "py39"
  },
  "language_info": {
   "codemirror_mode": {
    "name": "ipython",
    "version": 3
   },
   "file_extension": ".py",
   "mimetype": "text/x-python",
   "name": "python",
   "nbconvert_exporter": "python",
   "pygments_lexer": "ipython3",
   "version": "3.9.15"
  }
 },
 "nbformat": 4,
 "nbformat_minor": 5
}
