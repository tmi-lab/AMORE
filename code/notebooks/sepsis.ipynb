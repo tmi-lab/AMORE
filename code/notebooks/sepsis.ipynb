{
 "cells": [
  {
   "cell_type": "code",
   "execution_count": 1,
   "id": "1a82e4ba",
   "metadata": {},
   "outputs": [],
   "source": [
    "import torch\n",
    "import os\n",
    "import csv\n",
    "import math\n",
    "import numpy as np"
   ]
  },
  {
   "cell_type": "code",
   "execution_count": 2,
   "id": "13bd0dd6",
   "metadata": {},
   "outputs": [],
   "source": [
    "import sys\n",
    "import os\n",
    "from importlib import reload\n",
    "here = os.getcwd()\n",
    "sys.path.append(os.path.join(here,\"../\"))"
   ]
  },
  {
   "cell_type": "code",
   "execution_count": 3,
   "id": "8b1ce246",
   "metadata": {},
   "outputs": [],
   "source": [
    "%load_ext autoreload\n",
    "%autoreload 2"
   ]
  },
  {
   "cell_type": "code",
   "execution_count": 4,
   "id": "17087706",
   "metadata": {},
   "outputs": [],
   "source": [
    "from models.cde.cde_data_common import process_data,get_final_linear_input_channels,get_final_indices,wrap_data,augment_data\n",
    "import models.cde.cde_train_common as train_common\n",
    "import models.cde.cde_data_common as cde_data_common\n",
    "import explainer.rule_pattern_miner as rlm\n",
    "import explainer.explainer_utils as eutils\n",
    "\n",
    "from utils.test_utils import make_results_filenames\n",
    "\n",
    "#from explainer.integrad import integrad\n",
    "from explainer.FPGrowth_tree import *\n",
    "from explainer.rule_pattern_miner import *\n",
    "from explainer.explainer_utils import *\n",
    "import explainer.RuleGrowth_tree as rgtree\n",
    "\n",
    "from sklearn.model_selection import train_test_split\n",
    "from sklearn.metrics import f1_score,confusion_matrix,precision_score,recall_score,accuracy_score,roc_auc_score\n",
    "from sklearn.linear_model import LogisticRegression\n",
    "import matplotlib.pyplot as plt \n",
    "import seaborn as sns"
   ]
  },
  {
   "cell_type": "code",
   "execution_count": 5,
   "id": "3bc94d1e",
   "metadata": {},
   "outputs": [],
   "source": [
    "import explainer.explainer_utils as eutils\n",
    "import models.cde as cde"
   ]
  },
  {
   "cell_type": "code",
   "execution_count": 6,
   "id": "54f8976f",
   "metadata": {},
   "outputs": [],
   "source": [
    "def new_make_model():\n",
    "    model, regularise = make_model()\n",
    "    model.linear.weight.register_hook(lambda grad: 100 * grad)\n",
    "    model.linear.bias.register_hook(lambda grad: 100 * grad)\n",
    "    return model, regularise"
   ]
  },
  {
   "cell_type": "code",
   "execution_count": 7,
   "id": "d75e94ce",
   "metadata": {},
   "outputs": [],
   "source": [
    "def group_processed_data(X,y,times):\n",
    "    X = torch.tensor(X)\n",
    "    y = torch.tensor(y)\n",
    "    final_indices,_ = get_final_indices(times,y)\n",
    "    coeffs = process_data(times,X,intensity=args.intensity,time_intensity=args.time_intensity,cummean=cummean,cumsum=cumsum,append_times=args.append_times,interpolate=args.interpolate)\n",
    "    return coeffs,y,final_indices"
   ]
  },
  {
   "cell_type": "code",
   "execution_count": 8,
   "id": "b6813406",
   "metadata": {},
   "outputs": [],
   "source": [
    "import argparse\n",
    "\n",
    "parser = argparse.ArgumentParser()\n",
    "parser.add_argument('--dpath',default='../data', help='Path to data file')\n",
    "parser.add_argument('--rpath',default='./results', help='Path to save results')\n",
    "parser.add_argument('--use_phys',action='store_true', help='Use physiology data or not')\n",
    "parser.add_argument('--seed',default=0,type=int, help='Random seed')\n",
    "parser.add_argument('--model_name',default='ncde',type=str, help='Model name')\n",
    "parser.add_argument('--interpolate',default='cubic_spline',type=str, help='Interpolation function name')\n",
    "parser.add_argument('--device',default='cpu',type=str, help='cpu or cuda')\n",
    "parser.add_argument('--side_input',action='store_true', help='Use side input to final task')\n",
    "parser.add_argument('--concat_z',action='store_true', help='Concat hidden states for the final task')\n",
    "parser.add_argument('--time_intensity',action='store_true', help='Add time intensity')\n",
    "parser.add_argument('--append_times',action='store_true', help='Append time indices as one feature')\n",
    "parser.add_argument('--intensity',action='store_true', help='Add X intensity')\n",
    "parser.add_argument('--time_len',default=12,type=int, help='Length of time indices')\n",
    "parser.add_argument('--hidden_channels',default=2,type=int, help='Dimension of hidden states z')\n",
    "parser.add_argument('--hidden_hidden_channels',default=128,type=int, help='Dimension of hidden units of f')\n",
    "parser.add_argument('--num_hidden_layers',default=4,type=int, help='Number of hidden layers of f')\n",
    "parser.add_argument('--batch_size',default=1024,type=int, help='Batch size')\n",
    "parser.add_argument('--max_epochs',default=500,type=int, help='Maximum epochs')\n",
    "parser.add_argument('--pos_weight',default=20,type=int, help='Weight of positive class')\n",
    "parser.add_argument('--lr',default=0.0001,type=float, help='Raw learning rate')\n",
    "parser.add_argument('--K',default=5,type=int, help='K-fold cross-validation')\n",
    "\n",
    "args,_ = parser.parse_known_args()\n",
    "\n",
    "#print(args)\n",
    "\n",
    "\n",
    "\n",
    "\n",
    "model_name=args.model_name \n",
    "#device=args.device\n",
    "if torch.cuda.is_available():\n",
    "    device = 'cuda'\n",
    "else:\n",
    "    device = 'cpu'\n",
    "\n",
    "    \n",
    "args.interpolate = \"linear\"    \n",
    "args.side_input = False\n",
    "args.concat_z = True\n",
    "\n",
    "args.time_intensity = True\n",
    "args.intensity = True \n",
    "\n",
    "args.time_len = 72\n",
    "args.max_epochs = 50\n",
    "args.pos_weight = 20\n",
    "\n",
    "hidden_channels=args.hidden_channels \n",
    "hidden_hidden_channels=args.hidden_hidden_channels \n",
    "num_hidden_layers=args.num_hidden_layers\n",
    "\n",
    "batch_size = args.batch_size\n",
    "\n",
    "lr = args.lr * (batch_size / 64)\n",
    "\n",
    "\n",
    "dpath = args.dpath\n",
    "use_phys = args.use_phys\n",
    "concat_z = args.concat_z\n",
    "seed = args.seed\n",
    "torch.manual_seed(seed)\n",
    "np.random.seed(seed)\n",
    "\n",
    "name = make_results_filenames(args,'sepsis')\n",
    "\n",
    "num_classes = 2\n",
    "cummean = True\n",
    "cumsum = False"
   ]
  },
  {
   "cell_type": "code",
   "execution_count": 9,
   "id": "dfa8b391",
   "metadata": {},
   "outputs": [
    {
     "data": {
      "text/plain": [
       "0"
      ]
     },
     "execution_count": 9,
     "metadata": {},
     "output_type": "execute_result"
    }
   ],
   "source": [
    "args.seed"
   ]
  },
  {
   "cell_type": "code",
   "execution_count": 10,
   "id": "73499cf3",
   "metadata": {},
   "outputs": [],
   "source": [
    "pp = \"/Users/chenyu/github/NDE-Models-DigitalHealth/\""
   ]
  },
  {
   "cell_type": "code",
   "execution_count": 11,
   "id": "a2517f39",
   "metadata": {},
   "outputs": [],
   "source": [
    "base_loc = pp+'data/raw/sepsis/'\n",
    "static_intensity = True\n",
    "time_intensity = True"
   ]
  },
  {
   "cell_type": "code",
   "execution_count": 12,
   "id": "acfd81f8",
   "metadata": {},
   "outputs": [],
   "source": [
    "X_times = []\n",
    "X_static = []\n",
    "y = []\n",
    "H = args.time_len\n",
    "for filename in os.listdir(base_loc):\n",
    "    if filename.endswith('.psv'):\n",
    "        with open(os.path.join(base_loc,filename)) as file:\n",
    "            time = []\n",
    "            label = 0.0\n",
    "            reader = csv.reader(file, delimiter='|')\n",
    "            reader = iter(reader)\n",
    "            next(reader)  # first line is headings\n",
    "            prev_iculos = 0\n",
    "            for line in reader:\n",
    "                assert len(line) == 41\n",
    "                # time values are 34 features\n",
    "                *time_values, age, gender, unit1, unit2, hospadmtime, iculos, sepsislabel = line\n",
    "                iculos = int(iculos)\n",
    "                #print('iculos',iculos)\n",
    "                if iculos > H:  # keep at most the first H hours\n",
    "                    break\n",
    "                ## padding nan for missing hours\n",
    "                for iculos_ in range(prev_iculos + 1, iculos):\n",
    "                    time.append([float('nan') for value in time_values])\n",
    "                    #time.append(np.zeros(len(time_values))+np.nan)\n",
    "                prev_iculos = iculos\n",
    "                time.append([float(value) for value in time_values])\n",
    "                label = max(label, float(sepsislabel))\n",
    "            unit1 = float(unit1)\n",
    "            unit2 = float(unit2)\n",
    "            unit1_obs = not math.isnan(unit1)\n",
    "            unit2_obs = not math.isnan(unit2)\n",
    "            if not unit1_obs:\n",
    "                unit1 = 0.\n",
    "            if not unit2_obs:\n",
    "                unit2 = 0.\n",
    "            hospadmtime = float(hospadmtime)\n",
    "            if math.isnan(hospadmtime):\n",
    "                hospadmtime = 0.  # this only happens for one record\n",
    "            static = [float(age), float(gender), unit1, unit2, hospadmtime]\n",
    "            if static_intensity:\n",
    "                static += [unit1_obs, unit2_obs]\n",
    "            if len(time) > 2:\n",
    "                if len(time) < H:\n",
    "                    # padding less hours\n",
    "                    for t in range(H-len(time)):\n",
    "                        time.append([float('nan') for value in time_values])\n",
    "                X_times.append(time)\n",
    "                X_static.append(static)\n",
    "                y.append(label)\n",
    "    "
   ]
  },
  {
   "cell_type": "code",
   "execution_count": 13,
   "id": "1b8a5875",
   "metadata": {},
   "outputs": [
    {
     "data": {
      "text/plain": [
       "72"
      ]
     },
     "execution_count": 13,
     "metadata": {},
     "output_type": "execute_result"
    }
   ],
   "source": [
    "len(X_times[0])"
   ]
  },
  {
   "cell_type": "code",
   "execution_count": null,
   "id": "3e9e33c8",
   "metadata": {},
   "outputs": [],
   "source": []
  },
  {
   "cell_type": "code",
   "execution_count": 14,
   "id": "7accf201",
   "metadata": {},
   "outputs": [],
   "source": [
    "times = np.arange(args.time_len).astype(np.float32)\n",
    "times = torch.tensor(times)"
   ]
  },
  {
   "cell_type": "code",
   "execution_count": 15,
   "id": "6e8fcf34",
   "metadata": {},
   "outputs": [],
   "source": [
    "X_times = np.array(X_times)\n",
    "X_static = np.array(X_static)\n",
    "y = np.array(y)"
   ]
  },
  {
   "cell_type": "code",
   "execution_count": 16,
   "id": "a6a05eb6",
   "metadata": {},
   "outputs": [],
   "source": [
    "X_times = X_times.astype(np.float32)\n",
    "y = y.astype(np.float32)"
   ]
  },
  {
   "cell_type": "code",
   "execution_count": 17,
   "id": "d00b7e29",
   "metadata": {},
   "outputs": [
    {
     "data": {
      "text/plain": [
       "((40333, 72, 34), (40333, 7), (40333,))"
      ]
     },
     "execution_count": 17,
     "metadata": {},
     "output_type": "execute_result"
    }
   ],
   "source": [
    "X_times.shape,X_static.shape,y.shape"
   ]
  },
  {
   "cell_type": "code",
   "execution_count": 18,
   "id": "684b8fdb",
   "metadata": {},
   "outputs": [],
   "source": [
    "X_train,X_test,y_train,y_test = train_test_split(X_times,y,test_size=0.2,random_state=args.seed)\n",
    "X_test,X_val,y_test,y_val = train_test_split(X_test,y_test,test_size=0.5,random_state=args.seed)"
   ]
  },
  {
   "cell_type": "code",
   "execution_count": 19,
   "id": "db72262b",
   "metadata": {},
   "outputs": [],
   "source": [
    "for c in range(X_times.shape[-1]):\n",
    "    mi = X_train[:,:,c][~np.isnan(X_train[:,:,c])].min()\n",
    "    ma = X_train[:,:,c][~np.isnan(X_train[:,:,c])].max()\n",
    "    X_train[:,:,c] = (X_train[:,:,c] - mi)/(ma - mi)+1.\n",
    "    X_test[:,:,c] = (X_test[:,:,c] - mi)/(ma - mi)+1.\n",
    "    X_val[:,:,c] = (X_val[:,:,c] - mi)/(ma - mi)+1.\n",
    "#     X_times[:,:,c][np.isnan(X_times[:,:,c])] = 0.  # fill in missing value"
   ]
  },
  {
   "cell_type": "code",
   "execution_count": 20,
   "id": "5832673e",
   "metadata": {},
   "outputs": [
    {
     "data": {
      "text/plain": [
       "((32266, 72, 34), (4033, 72, 34), (4034, 72, 34))"
      ]
     },
     "execution_count": 20,
     "metadata": {},
     "output_type": "execute_result"
    }
   ],
   "source": [
    "X_train.shape,X_test.shape,X_val.shape"
   ]
  },
  {
   "cell_type": "code",
   "execution_count": 21,
   "id": "a725e3ab",
   "metadata": {},
   "outputs": [
    {
     "data": {
      "text/plain": [
       "(1741.0, 225.0, 222.0)"
      ]
     },
     "execution_count": 21,
     "metadata": {},
     "output_type": "execute_result"
    }
   ],
   "source": [
    "y_train.sum(),y_test.sum(),y_val.sum()"
   ]
  },
  {
   "cell_type": "code",
   "execution_count": 22,
   "id": "2c6f966d",
   "metadata": {},
   "outputs": [
    {
     "data": {
      "text/plain": [
       "(0.05395772639930577, 0.05578973468881726)"
      ]
     },
     "execution_count": 22,
     "metadata": {},
     "output_type": "execute_result"
    }
   ],
   "source": [
    "(y_train==1).sum()/len(y_train),(y_test==1).sum()/len(y_test)"
   ]
  },
  {
   "cell_type": "code",
   "execution_count": null,
   "id": "bdd972ef",
   "metadata": {},
   "outputs": [],
   "source": []
  },
  {
   "cell_type": "code",
   "execution_count": 23,
   "id": "73ba0bba",
   "metadata": {},
   "outputs": [],
   "source": [
    "X_train_raw = augment_data(torch.tensor(X_train),times,intensity=args.intensity,time_intensity=args.time_intensity,cummean=cummean,cumsum=cumsum,append_times=args.append_times)\n",
    "X_test_raw = augment_data(torch.tensor(X_test),times,intensity=args.intensity,time_intensity=args.time_intensity,cummean=cummean,cumsum=cumsum,append_times=args.append_times)\n",
    "X_val_raw = augment_data(torch.tensor(X_val),times,intensity=args.intensity,time_intensity=args.time_intensity,cummean=cummean,cumsum=cumsum,append_times=args.append_times)"
   ]
  },
  {
   "cell_type": "code",
   "execution_count": 24,
   "id": "32ed8005",
   "metadata": {},
   "outputs": [
    {
     "name": "stdout",
     "output_type": "stream",
     "text": [
      "check X torch.Size([32266, 72, 136])\n",
      "check X torch.Size([4033, 72, 136])\n",
      "check X torch.Size([4034, 72, 136])\n"
     ]
    }
   ],
   "source": [
    "train_data = group_processed_data(X_train,y_train,times)\n",
    "test_data = group_processed_data(X_test,y_test,times)\n",
    "val_data = group_processed_data(X_val,y_val,times)"
   ]
  },
  {
   "cell_type": "code",
   "execution_count": 25,
   "id": "5d4bcbd4",
   "metadata": {},
   "outputs": [
    {
     "data": {
      "text/plain": [
       "136"
      ]
     },
     "execution_count": 25,
     "metadata": {},
     "output_type": "execute_result"
    }
   ],
   "source": [
    "input_channels = train_data[0][0].shape[-1]\n",
    "output_channels = 1\n",
    "stream = True if concat_z else False\n",
    "input_channels"
   ]
  },
  {
   "cell_type": "code",
   "execution_count": 26,
   "id": "37639d7a",
   "metadata": {},
   "outputs": [],
   "source": [
    "if concat_z or side_input:\n",
    "    side_input_dim = cv_sets[0][0][-1].shape[-1] if args.side_input else 0\n",
    "    final_linear_input_channels = get_final_linear_input_channels(hidden_channels,side_input_dim=side_input_dim,time_len=args.time_len)\n",
    "else:\n",
    "    final_linear_input_channels = None"
   ]
  },
  {
   "cell_type": "code",
   "execution_count": 27,
   "id": "90e28b02",
   "metadata": {},
   "outputs": [],
   "source": [
    "make_model = train_common.make_model(model_name, input_channels, output_channels, hidden_channels,\n",
    "                               hidden_hidden_channels, num_hidden_layers, use_intensity=False,\n",
    "                              final_linear_input_channels=final_linear_input_channels, \n",
    "                              initial=True,side_input=args.side_input,append_times=args.append_times,interpolate=args.interpolate)\n"
   ]
  },
  {
   "cell_type": "code",
   "execution_count": 28,
   "id": "5f6cbd48",
   "metadata": {
    "scrolled": true
   },
   "outputs": [
    {
     "name": "stdout",
     "output_type": "stream",
     "text": [
      "interpolate linear\n"
     ]
    },
    {
     "name": "stderr",
     "output_type": "stream",
     "text": [
      "  0%|                                                                                                                      | 0/50 [00:00<?, ?it/s]"
     ]
    },
    {
     "name": "stdout",
     "output_type": "stream",
     "text": [
      "Starting training for model:\n",
      "\n",
      "NeuralCDE(\n",
      "  input_channels=136, hidden_channels=2, output_channels=1, initial=True\n",
      "  (func): FinalTanh(\n",
      "    input_channels: 136, hidden_channels: 2, hidden_hidden_channels: 128, num_hidden_layers: 4\n",
      "    (linear_in): Linear(in_features=2, out_features=128, bias=True)\n",
      "    (linears): ModuleList(\n",
      "      (0): Linear(in_features=128, out_features=128, bias=True)\n",
      "      (1): Linear(in_features=128, out_features=128, bias=True)\n",
      "      (2): Linear(in_features=128, out_features=128, bias=True)\n",
      "    )\n",
      "    (linear_out): Linear(in_features=128, out_features=272, bias=True)\n",
      "  )\n",
      "  (initial_network): Linear(in_features=136, out_features=2, bias=True)\n",
      "  (linear): Linear(in_features=144, out_features=1, bias=True)\n",
      ")\n",
      "\n",
      "\n"
     ]
    },
    {
     "name": "stderr",
     "output_type": "stream",
     "text": [
      "  2%|██▏                                                                                                           | 1/50 [00:50<41:07, 50.35s/it]"
     ]
    },
    {
     "name": "stdout",
     "output_type": "stream",
     "text": [
      "Epoch: 0  Train loss: 2.44  Train auroc: 0.729  Val loss: 2.45  Val auroc: 0.707\n"
     ]
    },
    {
     "name": "stderr",
     "output_type": "stream",
     "text": [
      " 22%|███████████████████████▉                                                                                     | 11/50 [07:11<26:08, 40.22s/it]"
     ]
    },
    {
     "name": "stdout",
     "output_type": "stream",
     "text": [
      "save model\n",
      "Epoch: 10  Train loss: 2.16  Train auroc: 0.792  Val loss: 2.14  Val auroc: 0.798\n"
     ]
    },
    {
     "name": "stderr",
     "output_type": "stream",
     "text": [
      " 42%|█████████████████████████████████████████████▊                                                               | 21/50 [13:27<19:21, 40.04s/it]"
     ]
    },
    {
     "name": "stdout",
     "output_type": "stream",
     "text": [
      "save model\n",
      "Epoch: 20  Train loss: 1.98  Train auroc: 0.853  Val loss: 2.0  Val auroc: 0.843\n"
     ]
    },
    {
     "name": "stderr",
     "output_type": "stream",
     "text": [
      " 62%|███████████████████████████████████████████████████████████████████▌                                         | 31/50 [19:42<12:40, 40.00s/it]"
     ]
    },
    {
     "name": "stdout",
     "output_type": "stream",
     "text": [
      "save model\n",
      "Epoch: 30  Train loss: 1.87  Train auroc: 0.858  Val loss: 1.94  Val auroc: 0.838\n"
     ]
    },
    {
     "name": "stderr",
     "output_type": "stream",
     "text": [
      " 82%|█████████████████████████████████████████████████████████████████████████████████████████▍                   | 41/50 [25:58<06:02, 40.25s/it]"
     ]
    },
    {
     "name": "stdout",
     "output_type": "stream",
     "text": [
      "save model\n",
      "Epoch: 40  Train loss: 1.81  Train auroc: 0.864  Val loss: 1.89  Val auroc: 0.84\n"
     ]
    },
    {
     "name": "stderr",
     "output_type": "stream",
     "text": [
      "100%|█████████████████████████████████████████████████████████████████████████████████████████████████████████████| 50/50 [31:39<00:00, 37.98s/it]"
     ]
    },
    {
     "name": "stdout",
     "output_type": "stream",
     "text": [
      "save model\n",
      "Epoch: 49  Train loss: 1.75  Train auroc: 0.866  Val loss: 1.81  Val auroc: 0.842\n",
      "best epoch 49\n"
     ]
    },
    {
     "name": "stderr",
     "output_type": "stream",
     "text": [
      "\n"
     ]
    },
    {
     "name": "stdout",
     "output_type": "stream",
     "text": [
      "#####################\n",
      "test_metrics\n",
      "{'accuracy': 0.7565104365348816, 'confusion': array([[2193.,  708.],\n",
      "       [  40.,  131.]]), 'dataset_size': 3072, 'loss': 1.845547080039978, 'auroc': 0.8373317529144013, 'average_precision': 0.37709622003712423, 'sensitivity': 0.7660818713450293, 'specificity': 0.7559462254395036}\n",
      "#####################\n",
      "val_metrics\n",
      "{'accuracy': 0.7626953125, 'confusion': array([[2222.,  692.],\n",
      "       [  37.,  121.]]), 'dataset_size': 3072, 'loss': 1.8003116846084595, 'auroc': 0.8396979227300766, 'average_precision': 0.34048381575904074}\n",
      "#####################\n",
      "train_metrics\n",
      "{'accuracy': 0.7601751685142517, 'confusion': array([[22739.,  7286.],\n",
      "       [  327.,  1392.]]), 'dataset_size': 31744, 'loss': 1.7561373710632324, 'auroc': 0.8651600009493737, 'average_precision': 0.4072001526818935}\n"
     ]
    }
   ],
   "source": [
    "### uncomment this cell if need to train a new model\n",
    "times, train_dataloader, val_dataloader, test_dataloader = wrap_data(times, train_data, val_data, test_data, device,\n",
    "                                                                                    batch_size=batch_size,num_workers=0)\n",
    "\n",
    "log,log_num = train_common.main(name, times, train_dataloader, val_dataloader, test_dataloader, device,\n",
    "                   new_make_model, num_classes, args.max_epochs, lr, kwargs={'stream':stream}, pos_weight=torch.tensor(args.pos_weight),\n",
    "                   step_mode=True,rpath=args.rpath)"
   ]
  },
  {
   "cell_type": "code",
   "execution_count": 29,
   "id": "c2ba111e",
   "metadata": {},
   "outputs": [],
   "source": [
    "raw_feature_names = ['HR','O2Sat','Temp','SBP','MAP','DBP','Resp','EtCO2','BaseExcess','HCO3','FiO2','pH','PaCO2','SaO2',\n",
    "                    'AST','BUN','Alkalinephos','Calcium','Chloride','Creatinine','Bilirubin_direct','Glucose','Lactate','Magnesium',\n",
    "                    'Phosphate','Potassium','Bilirubin_total','TroponinI','Hct','Hgb','PTT','WBC','Fibrinogen','Platelets']"
   ]
  },
  {
   "cell_type": "code",
   "execution_count": 30,
   "id": "1d106f2e",
   "metadata": {},
   "outputs": [
    {
     "data": {
      "text/plain": [
       "136"
      ]
     },
     "execution_count": 30,
     "metadata": {},
     "output_type": "execute_result"
    }
   ],
   "source": [
    "latent_feature_names = [r'$z_'+str(i)+'(t_{'+str(h)+'})$' for h in range(args.time_len) for i in range(hidden_channels) ]\n",
    "intensity_feature_names = [rf+'_ctime' for rf in raw_feature_names] + [rf+'_cmax' for rf in raw_feature_names] + [rf+'_cmean' for rf in raw_feature_names] \n",
    "input_feature_names = raw_feature_names + intensity_feature_names\n",
    "feature_types = [\"int\" if \"ctime\" in fn else \"float\" for fn in input_feature_names] \n",
    "len(input_feature_names)"
   ]
  },
  {
   "cell_type": "code",
   "execution_count": 31,
   "id": "ebd6600e",
   "metadata": {},
   "outputs": [
    {
     "name": "stdout",
     "output_type": "stream",
     "text": [
      "interpolate linear\n"
     ]
    },
    {
     "data": {
      "text/plain": [
       "NeuralCDE(\n",
       "  input_channels=136, hidden_channels=2, output_channels=1, initial=True\n",
       "  (func): FinalTanh(\n",
       "    input_channels: 136, hidden_channels: 2, hidden_hidden_channels: 128, num_hidden_layers: 4\n",
       "    (linear_in): Linear(in_features=2, out_features=128, bias=True)\n",
       "    (linears): ModuleList(\n",
       "      (0): Linear(in_features=128, out_features=128, bias=True)\n",
       "      (1): Linear(in_features=128, out_features=128, bias=True)\n",
       "      (2): Linear(in_features=128, out_features=128, bias=True)\n",
       "    )\n",
       "    (linear_out): Linear(in_features=128, out_features=272, bias=True)\n",
       "  )\n",
       "  (initial_network): Linear(in_features=136, out_features=2, bias=True)\n",
       "  (linear): Linear(in_features=144, out_features=1, bias=True)\n",
       ")"
      ]
     },
     "execution_count": 31,
     "metadata": {},
     "output_type": "execute_result"
    }
   ],
   "source": [
    "## load model\n",
    "#args.model_path = pp+\"xncde/notebooks/results/sepsis/intensity_time_intensity_concatz/zdim2_hdim128_nlayer4_bs1024/posw20/interp_cubic_spline/model_2\"\n",
    "args.model_path = \"./results/sepsis/intensity_time_intensity_concatz/zdim2_hdim128_nlayer4_bs1024/posw20/interp_linear/model_5\"\n",
    "model, regularise_parameters = make_model()\n",
    "model.load_state_dict(torch.load(args.model_path))\n",
    "model.to('cpu')\n",
    "model.eval()"
   ]
  },
  {
   "cell_type": "code",
   "execution_count": null,
   "id": "fbeacb1d",
   "metadata": {},
   "outputs": [],
   "source": []
  },
  {
   "cell_type": "code",
   "execution_count": 32,
   "id": "ce44cba6",
   "metadata": {},
   "outputs": [],
   "source": [
    "model.append_times=args.append_times\n",
    "train_reps = model.latent_representation(X_train_raw,times=times).detach()\n",
    "test_reps = model.latent_representation(X_test_raw,times=times).detach()\n",
    "val_reps = model.latent_representation(X_val_raw,times=times).detach()"
   ]
  },
  {
   "cell_type": "code",
   "execution_count": 33,
   "id": "aefd0233",
   "metadata": {},
   "outputs": [],
   "source": [
    "baselines = gen_intgrad_baselines(X_train_raw,y_train,train_reps)\n",
    "subset = gen_balanced_subset(X_train_raw,y_train,size_per_class=int(y_train.sum()))"
   ]
  },
  {
   "cell_type": "code",
   "execution_count": 34,
   "id": "e300cda4",
   "metadata": {
    "scrolled": true
   },
   "outputs": [],
   "source": [
    "int_g, z_shift = eutils.calc_baselines_intg(test_examples=subset,model=model,baselines=baselines,times=times,C=2)"
   ]
  },
  {
   "cell_type": "code",
   "execution_count": 35,
   "id": "7a9a2dcf",
   "metadata": {},
   "outputs": [
    {
     "data": {
      "text/plain": [
       "(torch.Size([3482, 72, 2]), torch.Size([3482, 72, 2, 136]))"
      ]
     },
     "execution_count": 35,
     "metadata": {},
     "output_type": "execute_result"
    }
   ],
   "source": [
    "z_shift.shape,int_g.shape"
   ]
  },
  {
   "cell_type": "code",
   "execution_count": 36,
   "id": "70bf8aa4",
   "metadata": {},
   "outputs": [
    {
     "name": "stdout",
     "output_type": "stream",
     "text": [
      "torch.Size([1, 144]) tensor([[ 0.8458,  0.0342,  0.2073,  0.0715,  0.0446, -0.0260, -0.0186,  0.0668,\n",
      "          0.0811,  0.0339,  0.0355, -0.0697,  0.0227, -0.1034, -0.0990, -0.0796,\n",
      "          0.0068, -0.0650,  0.0505, -0.0518,  0.0352, -0.0057,  0.0031,  0.0738,\n",
      "          0.0297,  0.0977,  0.0369,  0.0164,  0.0080, -0.0187,  0.0912,  0.0573,\n",
      "          0.0792, -0.0595,  0.0617,  0.0225,  0.1012, -0.0789,  0.0494, -0.0791,\n",
      "          0.0788,  0.0440,  0.0443, -0.0770, -0.0381, -0.0236, -0.0109, -0.0010,\n",
      "          0.0343,  0.0176,  0.0647, -0.0237,  0.0036, -0.0425,  0.0471, -0.0647,\n",
      "          0.0063,  0.0180, -0.0632,  0.0484, -0.0623, -0.0349,  0.0476,  0.0436,\n",
      "         -0.0483, -0.0446,  0.0272,  0.0311, -0.0816, -0.0606,  0.0692,  0.0163,\n",
      "          0.0740,  0.0425,  0.0419,  0.0969,  0.0171, -0.0224,  0.0381,  0.0842,\n",
      "          0.0523,  0.0194,  0.0015,  0.0091, -0.0507,  0.0342,  0.0063, -0.0331,\n",
      "          0.0517, -0.0699, -0.0679,  0.0814, -0.0130, -0.0676, -0.0334, -0.0493,\n",
      "          0.0374,  0.0535,  0.0410,  0.0797, -0.0009,  0.0209,  0.0170, -0.0414,\n",
      "         -0.0263,  0.0063, -0.0489, -0.0037, -0.0083,  0.0069,  0.0114, -0.0304,\n",
      "          0.0825,  0.0385, -0.0151, -0.0440, -0.0517,  0.0469, -0.0729, -0.0192,\n",
      "         -0.0530, -0.0072, -0.0816, -0.0205, -0.0527,  0.0131, -0.0113, -0.0290,\n",
      "          0.0017, -0.0398, -0.0281, -0.0258, -0.0762,  0.0022, -0.0060,  0.0705,\n",
      "         -0.0403, -0.0081,  0.0715, -0.0046,  0.0499,  0.0111,  0.0418, -0.0607]])\n",
      "torch.Size([1]) tensor([-0.1558])\n"
     ]
    }
   ],
   "source": [
    "linear_prams = []\n",
    "for p in model.linear.parameters():\n",
    "    p = p.detach()\n",
    "    print(p.shape,p)\n",
    "    linear_prams.append(p)"
   ]
  },
  {
   "cell_type": "code",
   "execution_count": 39,
   "id": "be532b8b",
   "metadata": {},
   "outputs": [],
   "source": [
    "pred_y_train = (torch.matmul(train_reps.reshape(train_reps.shape[0],-1),linear_prams[0].transpose(1,0))+linear_prams[1]).numpy().reshape(-1)\n",
    "pred_y_test = (torch.matmul(test_reps.reshape(test_reps.shape[0],-1),linear_prams[0].transpose(1,0))+linear_prams[1]).numpy().reshape(-1)\n",
    "pred_y_val = (torch.matmul(val_reps.reshape(val_reps.shape[0],-1),linear_prams[0].transpose(1,0))+linear_prams[1]).numpy().reshape(-1)"
   ]
  },
  {
   "cell_type": "code",
   "execution_count": 40,
   "id": "c7287752",
   "metadata": {},
   "outputs": [
    {
     "name": "stdout",
     "output_type": "stream",
     "text": [
      "y threshold 0.6425661\n"
     ]
    },
    {
     "data": {
      "image/png": "[encoded data removed]",
      "text/plain": [
       "<Figure size 800x600 with 1 Axes>"
      ]
     },
     "metadata": {},
     "output_type": "display_data"
    }
   ],
   "source": [
    "from sklearn.metrics import roc_curve, roc_auc_score\n",
    "import matplotlib.pyplot as plt\n",
    "import scipy as sp\n",
    "\n",
    "pred_y = sp.special.expit(pred_y_train)\n",
    "auc = roc_auc_score(y_train, pred_y)\n",
    "fpr, tpr, thresholds = roc_curve(y_train, pred_y)\n",
    "y_thd = thresholds[np.argmax(tpr - fpr)]\n",
    "print(\"y threshold\",y_thd)\n",
    "\n",
    "# Plot the ROC curve\n",
    "plt.figure(figsize=(8, 6))\n",
    "plt.plot(fpr, tpr, label=f'ROC Curve (AUC = {auc:.2f})')\n",
    "plt.xlabel('False Positive Rate')\n",
    "plt.ylabel('True Positive Rate')\n",
    "plt.title('Receiver Operating Characteristic (ROC) Curve')\n",
    "plt.legend()\n",
    "plt.grid()\n",
    "plt.show()"
   ]
  },
  {
   "cell_type": "code",
   "execution_count": 41,
   "id": "dedcc557",
   "metadata": {},
   "outputs": [],
   "source": [
    "C=2\n",
    "baseline_reps = model.latent_representation(baselines,times=times)\n",
    "baseline_output = model.linear(baseline_reps.reshape(baseline_reps.shape[0],-1)).detach()\n",
    "\n",
    "subset_reps,subset_output = [],[]\n",
    "for k in range(C):\n",
    "    subset_reps.append(model.latent_representation(subset[k],times=times))\n",
    "    subset_output.append(model.linear(subset_reps[k].reshape(subset_reps[k].shape[0],-1)).detach())"
   ]
  },
  {
   "cell_type": "code",
   "execution_count": 42,
   "id": "5cd838fd",
   "metadata": {},
   "outputs": [],
   "source": [
    "cids = np.arange(C)\n",
    "yshift = []\n",
    "for k in cids:\n",
    "    for kk in cids[cids!=k]:\n",
    "        yshift.append(subset_output[k]-baseline_output[kk])\n",
    "yshift = torch.vstack(yshift)"
   ]
  },
  {
   "cell_type": "code",
   "execution_count": 43,
   "id": "4a23f879",
   "metadata": {},
   "outputs": [],
   "source": [
    "weights = linear_prams[0].reshape(-1,args.hidden_channels)\n",
    "y_int_g = output_intg_score(int_g,weights,yshift)\n",
    "y_int_g[torch.isnan(y_int_g)] = 0."
   ]
  },
  {
   "cell_type": "code",
   "execution_count": 73,
   "id": "74980f63",
   "metadata": {
    "scrolled": true
   },
   "outputs": [
    {
     "name": "stdout",
     "output_type": "stream",
     "text": [
      "(0.01, tensor(36))\n",
      "(0.010080160320641282, tensor(36))\n",
      "(0.010160320641282566, tensor(35))\n",
      "(0.010240480961923848, tensor(34))\n",
      "(0.010320641282565131, tensor(34))\n",
      "(0.010400801603206413, tensor(33))\n",
      "(0.010480961923847695, tensor(32))\n",
      "(0.010561122244488979, tensor(32))\n",
      "(0.01064128256513026, tensor(32))\n",
      "(0.010721442885771544, tensor(32))\n",
      "(0.010801603206412826, tensor(30))\n",
      "(0.010881763527054108, tensor(30))\n",
      "(0.010961923847695391, tensor(30))\n",
      "(0.011042084168336673, tensor(30))\n",
      "(0.011122244488977957, tensor(30))\n",
      "(0.011202404809619239, tensor(29))\n",
      "(0.01128256513026052, tensor(29))\n",
      "(0.011362725450901804, tensor(27))\n",
      "(0.011442885771543086, tensor(27))\n",
      "(0.01152304609218437, tensor(26))\n",
      "(0.011603206412825652, tensor(26))\n",
      "(0.011683366733466934, tensor(25))\n",
      "(0.011763527054108217, tensor(24))\n",
      "(0.011843687374749499, tensor(23))\n",
      "(0.011923847695390781, tensor(22))\n",
      "(0.012004008016032065, tensor(22))\n",
      "(0.012084168336673346, tensor(22))\n",
      "(0.01216432865731463, tensor(22))\n",
      "(0.012244488977955912, tensor(22))\n",
      "(0.012324649298597196, tensor(22))\n",
      "(0.012404809619238477, tensor(20))\n",
      "(0.01248496993987976, tensor(20))\n",
      "(0.012565130260521043, tensor(20))\n",
      "(0.012645290581162325, tensor(19))\n",
      "(0.012725450901803607, tensor(19))\n",
      "(0.01280561122244489, tensor(19))\n",
      "(0.012885771543086172, tensor(18))\n",
      "(0.012965931863727456, tensor(18))\n",
      "(0.013046092184368738, tensor(18))\n",
      "(0.013126252505010021, tensor(17))\n",
      "(0.013206412825651303, tensor(16))\n",
      "(0.013286573146292585, tensor(16))\n",
      "(0.013366733466933869, tensor(16))\n",
      "(0.01344689378757515, tensor(16))\n",
      "(0.013527054108216433, tensor(16))\n",
      "(0.013607214428857716, tensor(15))\n",
      "(0.013687374749498998, tensor(15))\n",
      "(0.013767535070140282, tensor(15))\n",
      "(0.013847695390781564, tensor(15))\n",
      "(0.013927855711422847, tensor(15))\n",
      "(0.014008016032064129, tensor(13))\n",
      "(0.014088176352705411, tensor(12))\n",
      "(0.014168336673346694, tensor(12))\n",
      "(0.014248496993987976, tensor(12))\n",
      "(0.014328657314629258, tensor(12))\n",
      "(0.014408817635270542, tensor(12))\n",
      "(0.014488977955911825, tensor(11))\n",
      "(0.014569138276553106, tensor(11))\n",
      "(0.01464929859719439, tensor(11))\n",
      "(0.014729458917835673, tensor(10))\n",
      "(0.014809619238476955, tensor(10))\n",
      "(0.014889779559118237, tensor(10))\n",
      "(0.01496993987975952, tensor(10))\n",
      "(0.015050100200400802, tensor(10))\n",
      "(0.015130260521042084, tensor(10))\n",
      "(0.015210420841683368, tensor(10))\n",
      "(0.015290581162324651, tensor(8))\n",
      "(0.015370741482965931, tensor(7))\n",
      "(0.015450901803607215, tensor(7))\n",
      "(0.015531062124248499, tensor(7))\n",
      "(0.01561122244488978, tensor(6))\n",
      "(0.015691382765531062, tensor(5))\n",
      "(0.015771543086172346, tensor(5))\n",
      "(0.015851703406813626, tensor(5))\n",
      "(0.01593186372745491, tensor(5))\n",
      "(0.016012024048096193, tensor(5))\n",
      "(0.016092184368737477, tensor(5))\n",
      "(0.016172344689378757, tensor(5))\n",
      "(0.01625250501002004, tensor(5))\n",
      "(0.016332665330661324, tensor(5))\n",
      "(0.016412825651302608, tensor(4))\n",
      "(0.016492985971943888, tensor(4))\n",
      "(0.016573146292585172, tensor(4))\n",
      "(0.016653306613226455, tensor(4))\n",
      "(0.016733466933867736, tensor(4))\n",
      "(0.01681362725450902, tensor(4))\n",
      "(0.016893787575150303, tensor(4))\n",
      "(0.016973947895791583, tensor(4))\n",
      "(0.017054108216432867, tensor(4))\n",
      "(0.01713426853707415, tensor(4))\n",
      "(0.01721442885771543, tensor(4))\n",
      "(0.017294589178356714, tensor(4))\n",
      "(0.017374749498997998, tensor(4))\n",
      "(0.017454909819639278, tensor(4))\n",
      "(0.01753507014028056, tensor(4))\n",
      "(0.017615230460921845, tensor(4))\n",
      "(0.017695390781563125, tensor(4))\n",
      "(0.01777555110220441, tensor(4))\n",
      "(0.017855711422845692, tensor(4))\n",
      "(0.017935871743486972, tensor(3))\n",
      "(0.01801603206412826, tensor(3))\n",
      "(0.01809619238476954, tensor(3))\n",
      "(0.018176352705410823, tensor(3))\n",
      "(0.018256513026052107, tensor(3))\n",
      "(0.018336673346693387, tensor(3))\n",
      "(0.01841683366733467, tensor(3))\n",
      "(0.018496993987975954, tensor(3))\n",
      "(0.018577154308617234, tensor(3))\n",
      "(0.018657314629258518, tensor(3))\n",
      "(0.0187374749498998, tensor(2))\n",
      "(0.018817635270541082, tensor(2))\n",
      "(0.018897795591182365, tensor(2))\n",
      "(0.01897795591182365, tensor(2))\n",
      "(0.01905811623246493, tensor(2))\n",
      "(0.019138276553106213, tensor(2))\n",
      "(0.019218436873747496, tensor(2))\n",
      "(0.019298597194388777, tensor(2))\n",
      "(0.019378757515030064, tensor(2))\n",
      "(0.019458917835671344, tensor(2))\n",
      "(0.019539078156312624, tensor(2))\n",
      "(0.01961923847695391, tensor(1))\n",
      "(0.01969939879759519, tensor(1))\n",
      "(0.019779559118236475, tensor(1))\n",
      "(0.01985971943887776, tensor(1))\n",
      "(0.01993987975951904, tensor(1))\n",
      "(0.020020040080160322, tensor(1))\n",
      "(0.020100200400801606, tensor(1))\n",
      "(0.020180360721442886, tensor(1))\n",
      "(0.02026052104208417, tensor(1))\n",
      "(0.020340681362725453, tensor(1))\n",
      "(0.020420841683366733, tensor(1))\n",
      "(0.020501002004008017, tensor(1))\n",
      "(0.0205811623246493, tensor(1))\n",
      "(0.02066132264529058, tensor(1))\n",
      "(0.020741482965931864, tensor(1))\n",
      "(0.020821643286573148, tensor(1))\n",
      "(0.020901803607214428, tensor(1))\n",
      "(0.020981963927855715, tensor(1))\n",
      "(0.021062124248496995, tensor(1))\n",
      "(0.021142284569138275, tensor(1))\n",
      "(0.021222444889779563, tensor(1))\n",
      "(0.021302605210420843, tensor(1))\n",
      "(0.021382765531062126, tensor(1))\n",
      "(0.02146292585170341, tensor(1))\n",
      "(0.02154308617234469, tensor(1))\n",
      "(0.021623246492985974, tensor(1))\n",
      "(0.021703406813627257, tensor(1))\n",
      "(0.021783567134268537, tensor(1))\n",
      "(0.02186372745490982, tensor(1))\n",
      "(0.021943887775551105, tensor(1))\n",
      "(0.022024048096192385, tensor(1))\n",
      "(0.02210420841683367, tensor(1))\n",
      "(0.022184368737474952, tensor(0))\n"
     ]
    },
    {
     "data": {
      "text/plain": [
       "0.02210420841683367"
      ]
     },
     "execution_count": 73,
     "metadata": {},
     "output_type": "execute_result"
    }
   ],
   "source": [
    "thds = np.linspace(0.01,0.05,500)\n",
    "f_n = []\n",
    "for thd in thds:\n",
    "    mask = torch.abs(y_int_g) >= thd \n",
    "    f_n.append((thd,(mask.sum(dim=0)>=len(y_int_g)*0.99).sum()))\n",
    "    print(f_n[-1])\n",
    "    if f_n[-1][1]==0:\n",
    "        break\n",
    "thd = f_n[-2][0]\n",
    "thd"
   ]
  },
  {
   "cell_type": "code",
   "execution_count": 74,
   "id": "816c62fc",
   "metadata": {},
   "outputs": [
    {
     "data": {
      "text/plain": [
       "Text(0, 0.5, 'Log number of features with max frequecy')"
      ]
     },
     "execution_count": 74,
     "metadata": {},
     "output_type": "execute_result"
    },
    {
     "data": {
      "image/png": "[encoded data removed]",
      "text/plain": [
       "<Figure size 640x480 with 1 Axes>"
      ]
     },
     "metadata": {},
     "output_type": "display_data"
    }
   ],
   "source": [
    "import seaborn as sns\n",
    "sns.set_style(\"whitegrid\")\n",
    "plt.plot([th[0] for th in f_n[:-1]],[np.log(th[1].numpy()) for th in f_n[:-1]])\n",
    "plt.plot(f_n[-2][0],np.log(f_n[-2][1].numpy()),\"*\")\n",
    "plt.plot([0,f_n[-2][0]],[np.log(f_n[-2][1].numpy()),np.log(f_n[-2][1].numpy())],\":k\")\n",
    "#plt.xlim(0.01,0.04)\n",
    "#plt.ylim(0.,750)\n",
    "plt.xlabel(\"Feature impact score threshod\")\n",
    "plt.ylabel(\"Log number of features with max frequecy\")\n",
    "#plt.savefig(\"./results/sepsis/scan_thd_demo.eps\",bbox_inches=\"tight\")"
   ]
  },
  {
   "cell_type": "code",
   "execution_count": 75,
   "id": "4fe1d145",
   "metadata": {},
   "outputs": [
    {
     "name": "stdout",
     "output_type": "stream",
     "text": [
      "[6703.0] 3448.0\n",
      "[6703.0, 5071.0] 3408.0\n",
      "[6703.0, 5071.0, 7655.0] 3383.0\n",
      "[6703.0, 5071.0, 7655.0, 9014.0] 3366.0\n",
      "[6703.0, 5071.0, 7655.0, 9014.0, 6295.0] 3344.0\n",
      "[6703.0, 5071.0, 7655.0, 9014.0, 6295.0, 7657.0] 3326.0\n",
      "[6703.0, 5071.0, 7655.0, 9014.0, 6295.0, 7657.0, 8470.0] 3325.0\n",
      "[6703.0, 5071.0, 7655.0, 9014.0, 6295.0, 7657.0, 8470.0, 8334.0] 3324.0\n",
      "[6703.0, 5071.0, 7655.0, 9014.0, 6295.0, 7657.0, 8470.0, 8334.0, 6567.0] 3323.0\n",
      "[6703.0, 5071.0, 7655.0, 9014.0, 6295.0, 7657.0, 8470.0, 8334.0, 6567.0, 8335.0] 3307.0\n",
      "[6703.0, 5071.0, 7655.0, 9014.0, 6295.0, 7657.0, 8470.0, 8334.0, 6567.0, 8335.0, 6158.0] 3273.0\n",
      "[6703.0, 5071.0, 7655.0, 9014.0, 6295.0, 7657.0, 8470.0, 8334.0, 6567.0, 8335.0, 6158.0, 9694.0] 3257.0\n",
      "[6703.0, 5071.0, 7655.0, 9014.0, 6295.0, 7657.0, 8470.0, 8334.0, 6567.0, 8335.0, 6158.0, 9694.0, 4663.0] 3215.0\n",
      "[6703.0, 5071.0, 7655.0, 9014.0, 6295.0, 7657.0, 8470.0, 8334.0, 6567.0, 8335.0, 6158.0, 9694.0, 4663.0, 6022.0] 3205.0\n",
      "[6703.0, 5071.0, 7655.0, 9014.0, 6295.0, 7657.0, 8470.0, 8334.0, 6567.0, 8335.0, 6158.0, 9694.0, 4663.0, 6022.0, 9017.0] 3194.0\n",
      "[6703.0, 5071.0, 7655.0, 9014.0, 6295.0, 7657.0, 8470.0, 8334.0, 6567.0, 8335.0, 6158.0, 9694.0, 4663.0, 6022.0, 9017.0, 9150.0] 3194.0\n",
      "[6703.0, 5071.0, 7655.0, 9014.0, 6295.0, 7657.0, 8470.0, 8334.0, 6567.0, 8335.0, 6158.0, 9694.0, 4663.0, 6022.0, 9017.0, 9150.0, 9422.0] 3194.0\n",
      "[6703.0, 5071.0, 7655.0, 9014.0, 6295.0, 7657.0, 8470.0, 8334.0, 6567.0, 8335.0, 6158.0, 9694.0, 4663.0, 6022.0, 9017.0, 9150.0, 9422.0, 9425.0] 3191.0\n",
      "[6703.0, 5071.0, 7655.0, 9014.0, 6295.0, 7657.0, 8470.0, 8334.0, 6567.0, 8335.0, 6158.0, 9694.0, 4663.0, 6022.0, 9017.0, 9150.0, 9422.0, 9425.0, 8331.0] 3177.0\n",
      "[6703.0, 5071.0, 7655.0, 9014.0, 6295.0, 7657.0, 8470.0, 8334.0, 6567.0, 8335.0, 6158.0, 9694.0, 4663.0, 6022.0, 9017.0, 9150.0, 9422.0, 9425.0, 8331.0, 8065.0] 3174.0\n",
      "[6703.0, 5071.0, 7655.0, 9014.0, 6295.0, 7657.0, 8470.0, 8334.0, 6567.0, 8335.0, 6158.0, 9694.0, 4663.0, 6022.0, 9017.0, 9150.0, 9422.0, 9425.0, 8331.0, 8065.0, 9151.0] 3167.0\n",
      "[6703.0, 5071.0, 7655.0, 9014.0, 6295.0, 7657.0, 8470.0, 8334.0, 6567.0, 8335.0, 6158.0, 9694.0, 4663.0, 6022.0, 9017.0, 9150.0, 9422.0, 9425.0, 8331.0, 8065.0, 9151.0, 7926.0] 3143.0\n",
      "[6703.0, 5071.0, 7655.0, 9014.0, 6295.0, 7657.0, 8470.0, 8334.0, 6567.0, 8335.0, 6158.0, 9694.0, 4663.0, 6022.0, 9017.0, 9150.0, 9422.0, 9425.0, 8331.0, 8065.0, 9151.0, 7926.0, 9015.0] 3143.0\n",
      "[6703.0, 5071.0, 7655.0, 9014.0, 6295.0, 7657.0, 8470.0, 8334.0, 6567.0, 8335.0, 6158.0, 9694.0, 4663.0, 6022.0, 9017.0, 9150.0, 9422.0, 9425.0, 8331.0, 8065.0, 9151.0, 7926.0, 9015.0, 9419.0] 3139.0\n",
      "[6703.0, 5071.0, 7655.0, 9014.0, 6295.0, 7657.0, 8470.0, 8334.0, 6567.0, 8335.0, 6158.0, 9694.0, 4663.0, 6022.0, 9017.0, 9150.0, 9422.0, 9425.0, 8331.0, 8065.0, 9151.0, 7926.0, 9015.0, 9419.0, 9011.0] 3130.0\n",
      "[6703.0, 5071.0, 7655.0, 9014.0, 6295.0, 7657.0, 8470.0, 8334.0, 6567.0, 8335.0, 6158.0, 9694.0, 4663.0, 6022.0, 9017.0, 9150.0, 9422.0, 9425.0, 8331.0, 8065.0, 9151.0, 7926.0, 9015.0, 9419.0, 9011.0, 6019.0] 3122.0\n",
      "[6703.0, 5071.0, 7655.0, 9014.0, 6295.0, 7657.0, 8470.0, 8334.0, 6567.0, 8335.0, 6158.0, 9694.0, 4663.0, 6022.0, 9017.0, 9150.0, 9422.0, 9425.0, 8331.0, 8065.0, 9151.0, 7926.0, 9015.0, 9419.0, 9011.0, 6019.0, 6155.0] 3117.0\n",
      "[6703.0, 5071.0, 7655.0, 9014.0, 6295.0, 7657.0, 8470.0, 8334.0, 6567.0, 8335.0, 6158.0, 9694.0, 4663.0, 6022.0, 9017.0, 9150.0, 9422.0, 9425.0, 8331.0, 8065.0, 9151.0, 7926.0, 9015.0, 9419.0, 9011.0, 6019.0, 6155.0, 7923.0] 3117.0\n",
      "[6703.0, 5071.0, 7655.0, 9014.0, 6295.0, 7657.0, 8470.0, 8334.0, 6567.0, 8335.0, 6158.0, 9694.0, 4663.0, 6022.0, 9017.0, 9150.0, 9422.0, 9425.0, 8331.0, 8065.0, 9151.0, 7926.0, 9015.0, 9419.0, 9011.0, 6019.0, 6155.0, 7923.0, 8059.0] 3117.0\n",
      "[6703.0, 5071.0, 7655.0, 9014.0, 6295.0, 7657.0, 8470.0, 8334.0, 6567.0, 8335.0, 6158.0, 9694.0, 4663.0, 6022.0, 9017.0, 9150.0, 9422.0, 9425.0, 8331.0, 8065.0, 9151.0, 7926.0, 9015.0, 9419.0, 9011.0, 6019.0, 6155.0, 7923.0, 8059.0, 9691.0] 3116.0\n",
      "[6703.0, 5071.0, 7655.0, 9014.0, 6295.0, 7657.0, 8470.0, 8334.0, 6567.0, 8335.0, 6158.0, 9694.0, 4663.0, 6022.0, 9017.0, 9150.0, 9422.0, 9425.0, 8331.0, 8065.0, 9151.0, 7926.0, 9015.0, 9419.0, 9011.0, 6019.0, 6155.0, 7923.0, 8059.0, 9691.0, 8063.0] 3106.0\n",
      "[6703.0, 5071.0, 7655.0, 9014.0, 6295.0, 7657.0, 8470.0, 8334.0, 6567.0, 8335.0, 6158.0, 9694.0, 4663.0, 6022.0, 9017.0, 9150.0, 9422.0, 9425.0, 8331.0, 8065.0, 9151.0, 7926.0, 9015.0, 9419.0, 9011.0, 6019.0, 6155.0, 7923.0, 8059.0, 9691.0, 8063.0, 8337.0] 3097.0\n",
      "[6703.0, 5071.0, 7655.0, 9014.0, 6295.0, 7657.0, 8470.0, 8334.0, 6567.0, 8335.0, 6158.0, 9694.0, 4663.0, 6022.0, 9017.0, 9150.0, 9422.0, 9425.0, 8331.0, 8065.0, 9151.0, 7926.0, 9015.0, 9419.0, 9011.0, 6019.0, 6155.0, 7923.0, 8059.0, 9691.0, 8063.0, 8337.0, 5343.0] 3080.0\n",
      "[6703.0, 5071.0, 7655.0, 9014.0, 6295.0, 7657.0, 8470.0, 8334.0, 6567.0, 8335.0, 6158.0, 9694.0, 4663.0, 6022.0, 9017.0, 9150.0, 9422.0, 9425.0, 8331.0, 8065.0, 9151.0, 7926.0, 9015.0, 9419.0, 9011.0, 6019.0, 6155.0, 7923.0, 8059.0, 9691.0, 8063.0, 8337.0, 5343.0, 6431.0] 3079.0\n",
      "[6703.0, 5071.0, 7655.0, 9014.0, 6295.0, 7657.0, 8470.0, 8334.0, 6567.0, 8335.0, 6158.0, 9694.0, 4663.0, 6022.0, 9017.0, 9150.0, 9422.0, 9425.0, 8331.0, 8065.0, 9151.0, 7926.0, 9015.0, 9419.0, 9011.0, 6019.0, 6155.0, 7923.0, 8059.0, 9691.0, 8063.0, 8337.0, 5343.0, 6431.0, 9012.0] 3074.0\n",
      "[6703.0, 5071.0, 7655.0, 9014.0, 6295.0, 7657.0, 8470.0, 8334.0, 6567.0, 8335.0, 6158.0, 9694.0, 4663.0, 6022.0, 9017.0, 9150.0, 9422.0, 9425.0, 8331.0, 8065.0, 9151.0, 7926.0, 9015.0, 9419.0, 9011.0, 6019.0, 6155.0, 7923.0, 8059.0, 9691.0, 8063.0, 8337.0, 5343.0, 6431.0, 9012.0, 9423.0] 3070.0\n",
      "[6703.0, 5071.0, 7655.0, 9014.0, 6295.0, 7657.0, 8470.0, 8334.0, 6567.0, 8335.0, 6158.0, 9694.0, 4663.0, 6022.0, 9017.0, 9150.0, 9422.0, 9425.0, 8331.0, 8065.0, 9151.0, 7926.0, 9015.0, 9419.0, 9011.0, 6019.0, 6155.0, 7923.0, 8059.0, 9691.0, 8063.0, 8337.0, 5343.0, 6431.0, 9012.0, 9423.0, 7791.0] 3069.0\n",
      "[6703.0, 5071.0, 7655.0, 9014.0, 6295.0, 7657.0, 8470.0, 8334.0, 6567.0, 8335.0, 6158.0, 9694.0, 4663.0, 6022.0, 9017.0, 9150.0, 9422.0, 9425.0, 8331.0, 8065.0, 9151.0, 7926.0, 9015.0, 9419.0, 9011.0, 6019.0, 6155.0, 7923.0, 8059.0, 9691.0, 8063.0, 8337.0, 5343.0, 6431.0, 9012.0, 9423.0, 7791.0, 9559.0] 3068.0\n",
      "[6703.0, 5071.0, 7655.0, 9014.0, 6295.0, 7657.0, 8470.0, 8334.0, 6567.0, 8335.0, 6158.0, 9694.0, 4663.0, 6022.0, 9017.0, 9150.0, 9422.0, 9425.0, 8331.0, 8065.0, 9151.0, 7926.0, 9015.0, 9419.0, 9011.0, 6019.0, 6155.0, 7923.0, 8059.0, 9691.0, 8063.0, 8337.0, 5343.0, 6431.0, 9012.0, 9423.0, 7791.0, 9559.0, 7651.0] 3064.0\n",
      "[6703.0, 5071.0, 7655.0, 9014.0, 6295.0, 7657.0, 8470.0, 8334.0, 6567.0, 8335.0, 6158.0, 9694.0, 4663.0, 6022.0, 9017.0, 9150.0, 9422.0, 9425.0, 8331.0, 8065.0, 9151.0, 7926.0, 9015.0, 9419.0, 9011.0, 6019.0, 6155.0, 7923.0, 8059.0, 9691.0, 8063.0, 8337.0, 5343.0, 6431.0, 9012.0, 9423.0, 7791.0, 9559.0, 7651.0, 8467.0] 3064.0\n",
      "[6703.0, 5071.0, 7655.0, 9014.0, 6295.0, 7657.0, 8470.0, 8334.0, 6567.0, 8335.0, 6158.0, 9694.0, 4663.0, 6022.0, 9017.0, 9150.0, 9422.0, 9425.0, 8331.0, 8065.0, 9151.0, 7926.0, 9015.0, 9419.0, 9011.0, 6019.0, 6155.0, 7923.0, 8059.0, 9691.0, 8063.0, 8337.0, 5343.0, 6431.0, 9012.0, 9423.0, 7791.0, 9559.0, 7651.0, 8467.0, 8879.0] 3064.0\n",
      "[6703.0, 5071.0, 7655.0, 9014.0, 6295.0, 7657.0, 8470.0, 8334.0, 6567.0, 8335.0, 6158.0, 9694.0, 4663.0, 6022.0, 9017.0, 9150.0, 9422.0, 9425.0, 8331.0, 8065.0, 9151.0, 7926.0, 9015.0, 9419.0, 9011.0, 6019.0, 6155.0, 7923.0, 8059.0, 9691.0, 8063.0, 8337.0, 5343.0, 6431.0, 9012.0, 9423.0, 7791.0, 9559.0, 7651.0, 8467.0, 8879.0, 7654.0] 3061.0\n",
      "[6703.0, 5071.0, 7655.0, 9014.0, 6295.0, 7657.0, 8470.0, 8334.0, 6567.0, 8335.0, 6158.0, 9694.0, 4663.0, 6022.0, 9017.0, 9150.0, 9422.0, 9425.0, 8331.0, 8065.0, 9151.0, 7926.0, 9015.0, 9419.0, 9011.0, 6019.0, 6155.0, 7923.0, 8059.0, 9691.0, 8063.0, 8337.0, 5343.0, 6431.0, 9012.0, 9423.0, 7791.0, 9559.0, 7651.0, 8467.0, 8879.0, 7654.0, 9420.0] 3057.0\n",
      "[6703.0, 5071.0, 7655.0, 9014.0, 6295.0, 7657.0, 8470.0, 8334.0, 6567.0, 8335.0, 6158.0, 9694.0, 4663.0, 6022.0, 9017.0, 9150.0, 9422.0, 9425.0, 8331.0, 8065.0, 9151.0, 7926.0, 9015.0, 9419.0, 9011.0, 6019.0, 6155.0, 7923.0, 8059.0, 9691.0, 8063.0, 8337.0, 5343.0, 6431.0, 9012.0, 9423.0, 7791.0, 9559.0, 7651.0, 8467.0, 8879.0, 7654.0, 9420.0, 9561.0] 3054.0\n",
      "[6703.0, 5071.0, 7655.0, 9014.0, 6295.0, 7657.0, 8470.0, 8334.0, 6567.0, 8335.0, 6158.0, 9694.0, 4663.0, 6022.0, 9017.0, 9150.0, 9422.0, 9425.0, 8331.0, 8065.0, 9151.0, 7926.0, 9015.0, 9419.0, 9011.0, 6019.0, 6155.0, 7923.0, 8059.0, 9691.0, 8063.0, 8337.0, 5343.0, 6431.0, 9012.0, 9423.0, 7791.0, 9559.0, 7651.0, 8467.0, 8879.0, 7654.0, 9420.0, 9561.0, 4935.0] 3033.0\n",
      "[6703.0, 5071.0, 7655.0, 9014.0, 6295.0, 7657.0, 8470.0, 8334.0, 6567.0, 8335.0, 6158.0, 9694.0, 4663.0, 6022.0, 9017.0, 9150.0, 9422.0, 9425.0, 8331.0, 8065.0, 9151.0, 7926.0, 9015.0, 9419.0, 9011.0, 6019.0, 6155.0, 7923.0, 8059.0, 9691.0, 8063.0, 8337.0, 5343.0, 6431.0, 9012.0, 9423.0, 7791.0, 9559.0, 7651.0, 8467.0, 8879.0, 7654.0, 9420.0, 9561.0, 4935.0, 8332.0] 3027.0\n",
      "[6703.0, 5071.0, 7655.0, 9014.0, 6295.0, 7657.0, 8470.0, 8334.0, 6567.0, 8335.0, 6158.0, 9694.0, 4663.0, 6022.0, 9017.0, 9150.0, 9422.0, 9425.0, 8331.0, 8065.0, 9151.0, 7926.0, 9015.0, 9419.0, 9011.0, 6019.0, 6155.0, 7923.0, 8059.0, 9691.0, 8063.0, 8337.0, 5343.0, 6431.0, 9012.0, 9423.0, 7791.0, 9559.0, 7651.0, 8467.0, 8879.0, 7654.0, 9420.0, 9561.0, 4935.0, 8332.0, 8062.0] 3027.0\n",
      "[6703.0, 5071.0, 7655.0, 9014.0, 6295.0, 7657.0, 8470.0, 8334.0, 6567.0, 8335.0, 6158.0, 9694.0, 4663.0, 6022.0, 9017.0, 9150.0, 9422.0, 9425.0, 8331.0, 8065.0, 9151.0, 7926.0, 9015.0, 9419.0, 9011.0, 6019.0, 6155.0, 7923.0, 8059.0, 9691.0, 8063.0, 8337.0, 5343.0, 6431.0, 9012.0, 9423.0, 7791.0, 9559.0, 7651.0, 8467.0, 8879.0, 7654.0, 9420.0, 9561.0, 4935.0, 8332.0, 8062.0, 8195.0] 3026.0\n",
      "[6703.0, 5071.0, 7655.0, 9014.0, 6295.0, 7657.0, 8470.0, 8334.0, 6567.0, 8335.0, 6158.0, 9694.0, 4663.0, 6022.0, 9017.0, 9150.0, 9422.0, 9425.0, 8331.0, 8065.0, 9151.0, 7926.0, 9015.0, 9419.0, 9011.0, 6019.0, 6155.0, 7923.0, 8059.0, 9691.0, 8063.0, 8337.0, 5343.0, 6431.0, 9012.0, 9423.0, 7791.0, 9559.0, 7651.0, 8467.0, 8879.0, 7654.0, 9420.0, 9561.0, 4935.0, 8332.0, 8062.0, 8195.0, 8198.0] 3026.0\n",
      "[6703.0, 5071.0, 7655.0, 9014.0, 6295.0, 7657.0, 8470.0, 8334.0, 6567.0, 8335.0, 6158.0, 9694.0, 4663.0, 6022.0, 9017.0, 9150.0, 9422.0, 9425.0, 8331.0, 8065.0, 9151.0, 7926.0, 9015.0, 9419.0, 9011.0, 6019.0, 6155.0, 7923.0, 8059.0, 9691.0, 8063.0, 8337.0, 5343.0, 6431.0, 9012.0, 9423.0, 7791.0, 9559.0, 7651.0, 8467.0, 8879.0, 7654.0, 9420.0, 9561.0, 4935.0, 8332.0, 8062.0, 8195.0, 8198.0, 9555.0] 3021.0\n",
      "[6703.0, 5071.0, 7655.0, 9014.0, 6295.0, 7657.0, 8470.0, 8334.0, 6567.0, 8335.0, 6158.0, 9694.0, 4663.0, 6022.0, 9017.0, 9150.0, 9422.0, 9425.0, 8331.0, 8065.0, 9151.0, 7926.0, 9015.0, 9419.0, 9011.0, 6019.0, 6155.0, 7923.0, 8059.0, 9691.0, 8063.0, 8337.0, 5343.0, 6431.0, 9012.0, 9423.0, 7791.0, 9559.0, 7651.0, 8467.0, 8879.0, 7654.0, 9420.0, 9561.0, 4935.0, 8332.0, 8062.0, 8195.0, 8198.0, 9555.0, 7652.0] 3017.0\n",
      "[6703.0, 5071.0, 7655.0, 9014.0, 6295.0, 7657.0, 8470.0, 8334.0, 6567.0, 8335.0, 6158.0, 9694.0, 4663.0, 6022.0, 9017.0, 9150.0, 9422.0, 9425.0, 8331.0, 8065.0, 9151.0, 7926.0, 9015.0, 9419.0, 9011.0, 6019.0, 6155.0, 7923.0, 8059.0, 9691.0, 8063.0, 8337.0, 5343.0, 6431.0, 9012.0, 9423.0, 7791.0, 9559.0, 7651.0, 8467.0, 8879.0, 7654.0, 9420.0, 9561.0, 4935.0, 8332.0, 8062.0, 8195.0, 8198.0, 9555.0, 7652.0, 7929.0] 3016.0\n",
      "[6703.0, 5071.0, 7655.0, 9014.0, 6295.0, 7657.0, 8470.0, 8334.0, 6567.0, 8335.0, 6158.0, 9694.0, 4663.0, 6022.0, 9017.0, 9150.0, 9422.0, 9425.0, 8331.0, 8065.0, 9151.0, 7926.0, 9015.0, 9419.0, 9011.0, 6019.0, 6155.0, 7923.0, 8059.0, 9691.0, 8063.0, 8337.0, 5343.0, 6431.0, 9012.0, 9423.0, 7791.0, 9559.0, 7651.0, 8467.0, 8879.0, 7654.0, 9420.0, 9561.0, 4935.0, 8332.0, 8062.0, 8195.0, 8198.0, 9555.0, 7652.0, 7929.0, 7243.0] 3016.0\n",
      "[6703.0, 5071.0, 7655.0, 9014.0, 6295.0, 7657.0, 8470.0, 8334.0, 6567.0, 8335.0, 6158.0, 9694.0, 4663.0, 6022.0, 9017.0, 9150.0, 9422.0, 9425.0, 8331.0, 8065.0, 9151.0, 7926.0, 9015.0, 9419.0, 9011.0, 6019.0, 6155.0, 7923.0, 8059.0, 9691.0, 8063.0, 8337.0, 5343.0, 6431.0, 9012.0, 9423.0, 7791.0, 9559.0, 7651.0, 8467.0, 8879.0, 7654.0, 9420.0, 9561.0, 4935.0, 8332.0, 8062.0, 8195.0, 8198.0, 9555.0, 7652.0, 7929.0, 7243.0, 8060.0] 3015.0\n",
      "[6703.0, 5071.0, 7655.0, 9014.0, 6295.0, 7657.0, 8470.0, 8334.0, 6567.0, 8335.0, 6158.0, 9694.0, 4663.0, 6022.0, 9017.0, 9150.0, 9422.0, 9425.0, 8331.0, 8065.0, 9151.0, 7926.0, 9015.0, 9419.0, 9011.0, 6019.0, 6155.0, 7923.0, 8059.0, 9691.0, 8063.0, 8337.0, 5343.0, 6431.0, 9012.0, 9423.0, 7791.0, 9559.0, 7651.0, 8467.0, 8879.0, 7654.0, 9420.0, 9561.0, 4935.0, 8332.0, 8062.0, 8195.0, 8198.0, 9555.0, 7652.0, 7929.0, 7243.0, 8060.0, 8199.0] 3015.0\n",
      "[6703.0, 5071.0, 7655.0, 9014.0, 6295.0, 7657.0, 8470.0, 8334.0, 6567.0, 8335.0, 6158.0, 9694.0, 4663.0, 6022.0, 9017.0, 9150.0, 9422.0, 9425.0, 8331.0, 8065.0, 9151.0, 7926.0, 9015.0, 9419.0, 9011.0, 6019.0, 6155.0, 7923.0, 8059.0, 9691.0, 8063.0, 8337.0, 5343.0, 6431.0, 9012.0, 9423.0, 7791.0, 9559.0, 7651.0, 8467.0, 8879.0, 7654.0, 9420.0, 9561.0, 4935.0, 8332.0, 8062.0, 8195.0, 8198.0, 9555.0, 7652.0, 7929.0, 7243.0, 8060.0, 8199.0, 9287.0] 3015.0\n",
      "[6703.0, 5071.0, 7655.0, 9014.0, 6295.0, 7657.0, 8470.0, 8334.0, 6567.0, 8335.0, 6158.0, 9694.0, 4663.0, 6022.0, 9017.0, 9150.0, 9422.0, 9425.0, 8331.0, 8065.0, 9151.0, 7926.0, 9015.0, 9419.0, 9011.0, 6019.0, 6155.0, 7923.0, 8059.0, 9691.0, 8063.0, 8337.0, 5343.0, 6431.0, 9012.0, 9423.0, 7791.0, 9559.0, 7651.0, 8467.0, 8879.0, 7654.0, 9420.0, 9561.0, 4935.0, 8332.0, 8062.0, 8195.0, 8198.0, 9555.0, 7652.0, 7929.0, 7243.0, 8060.0, 8199.0, 9287.0, 7246.0] 3000.0\n",
      "[6703.0, 5071.0, 7655.0, 9014.0, 6295.0, 7657.0, 8470.0, 8334.0, 6567.0, 8335.0, 6158.0, 9694.0, 4663.0, 6022.0, 9017.0, 9150.0, 9422.0, 9425.0, 8331.0, 8065.0, 9151.0, 7926.0, 9015.0, 9419.0, 9011.0, 6019.0, 6155.0, 7923.0, 8059.0, 9691.0, 8063.0, 8337.0, 5343.0, 6431.0, 9012.0, 9423.0, 7791.0, 9559.0, 7651.0, 8467.0, 8879.0, 7654.0, 9420.0, 9561.0, 4935.0, 8332.0, 8062.0, 8195.0, 8198.0, 9555.0, 7652.0, 7929.0, 7243.0, 8060.0, 8199.0, 9287.0, 7246.0, 8201.0] 3000.0\n",
      "[6703.0, 5071.0, 7655.0, 9014.0, 6295.0, 7657.0, 8470.0, 8334.0, 6567.0, 8335.0, 6158.0, 9694.0, 4663.0, 6022.0, 9017.0, 9150.0, 9422.0, 9425.0, 8331.0, 8065.0, 9151.0, 7926.0, 9015.0, 9419.0, 9011.0, 6019.0, 6155.0, 7923.0, 8059.0, 9691.0, 8063.0, 8337.0, 5343.0, 6431.0, 9012.0, 9423.0, 7791.0, 9559.0, 7651.0, 8467.0, 8879.0, 7654.0, 9420.0, 9561.0, 4935.0, 8332.0, 8062.0, 8195.0, 8198.0, 9555.0, 7652.0, 7929.0, 7243.0, 8060.0, 8199.0, 9287.0, 7246.0, 8201.0, 8743.0] 3000.0\n",
      "[6703.0, 5071.0, 7655.0, 9014.0, 6295.0, 7657.0, 8470.0, 8334.0, 6567.0, 8335.0, 6158.0, 9694.0, 4663.0, 6022.0, 9017.0, 9150.0, 9422.0, 9425.0, 8331.0, 8065.0, 9151.0, 7926.0, 9015.0, 9419.0, 9011.0, 6019.0, 6155.0, 7923.0, 8059.0, 9691.0, 8063.0, 8337.0, 5343.0, 6431.0, 9012.0, 9423.0, 7791.0, 9559.0, 7651.0, 8467.0, 8879.0, 7654.0, 9420.0, 9561.0, 4935.0, 8332.0, 8062.0, 8195.0, 8198.0, 9555.0, 7652.0, 7929.0, 7243.0, 8060.0, 8199.0, 9287.0, 7246.0, 8201.0, 8743.0, 9289.0] 3000.0\n",
      "[6703.0, 5071.0, 7655.0, 9014.0, 6295.0, 7657.0, 8470.0, 8334.0, 6567.0, 8335.0, 6158.0, 9694.0, 4663.0, 6022.0, 9017.0, 9150.0, 9422.0, 9425.0, 8331.0, 8065.0, 9151.0, 7926.0, 9015.0, 9419.0, 9011.0, 6019.0, 6155.0, 7923.0, 8059.0, 9691.0, 8063.0, 8337.0, 5343.0, 6431.0, 9012.0, 9423.0, 7791.0, 9559.0, 7651.0, 8467.0, 8879.0, 7654.0, 9420.0, 9561.0, 4935.0, 8332.0, 8062.0, 8195.0, 8198.0, 9555.0, 7652.0, 7929.0, 7243.0, 8060.0, 8199.0, 9287.0, 7246.0, 8201.0, 8743.0, 9289.0, 6974.0] 2989.0\n",
      "[6703.0, 5071.0, 7655.0, 9014.0, 6295.0, 7657.0, 8470.0, 8334.0, 6567.0, 8335.0, 6158.0, 9694.0, 4663.0, 6022.0, 9017.0, 9150.0, 9422.0, 9425.0, 8331.0, 8065.0, 9151.0, 7926.0, 9015.0, 9419.0, 9011.0, 6019.0, 6155.0, 7923.0, 8059.0, 9691.0, 8063.0, 8337.0, 5343.0, 6431.0, 9012.0, 9423.0, 7791.0, 9559.0, 7651.0, 8467.0, 8879.0, 7654.0, 9420.0, 9561.0, 4935.0, 8332.0, 8062.0, 8195.0, 8198.0, 9555.0, 7652.0, 7929.0, 7243.0, 8060.0, 8199.0, 9287.0, 7246.0, 8201.0, 8743.0, 9289.0, 6974.0, 8607.0] 2989.0\n",
      "[6703.0, 5071.0, 7655.0, 9014.0, 6295.0, 7657.0, 8470.0, 8334.0, 6567.0, 8335.0, 6158.0, 9694.0, 4663.0, 6022.0, 9017.0, 9150.0, 9422.0, 9425.0, 8331.0, 8065.0, 9151.0, 7926.0, 9015.0, 9419.0, 9011.0, 6019.0, 6155.0, 7923.0, 8059.0, 9691.0, 8063.0, 8337.0, 5343.0, 6431.0, 9012.0, 9423.0, 7791.0, 9559.0, 7651.0, 8467.0, 8879.0, 7654.0, 9420.0, 9561.0, 4935.0, 8332.0, 8062.0, 8195.0, 8198.0, 9555.0, 7652.0, 7929.0, 7243.0, 8060.0, 8199.0, 9287.0, 7246.0, 8201.0, 8743.0, 9289.0, 6974.0, 8607.0, 9697.0] 2988.0\n",
      "[6703.0, 5071.0, 7655.0, 9014.0, 6295.0, 7657.0, 8470.0, 8334.0, 6567.0, 8335.0, 6158.0, 9694.0, 4663.0, 6022.0, 9017.0, 9150.0, 9422.0, 9425.0, 8331.0, 8065.0, 9151.0, 7926.0, 9015.0, 9419.0, 9011.0, 6019.0, 6155.0, 7923.0, 8059.0, 9691.0, 8063.0, 8337.0, 5343.0, 6431.0, 9012.0, 9423.0, 7791.0, 9559.0, 7651.0, 8467.0, 8879.0, 7654.0, 9420.0, 9561.0, 4935.0, 8332.0, 8062.0, 8195.0, 8198.0, 9555.0, 7652.0, 7929.0, 7243.0, 8060.0, 8199.0, 9287.0, 7246.0, 8201.0, 8743.0, 9289.0, 6974.0, 8607.0, 9697.0, 9558.0] 2987.0\n",
      "[6703.0, 5071.0, 7655.0, 9014.0, 6295.0, 7657.0, 8470.0, 8334.0, 6567.0, 8335.0, 6158.0, 9694.0, 4663.0, 6022.0, 9017.0, 9150.0, 9422.0, 9425.0, 8331.0, 8065.0, 9151.0, 7926.0, 9015.0, 9419.0, 9011.0, 6019.0, 6155.0, 7923.0, 8059.0, 9691.0, 8063.0, 8337.0, 5343.0, 6431.0, 9012.0, 9423.0, 7791.0, 9559.0, 7651.0, 8467.0, 8879.0, 7654.0, 9420.0, 9561.0, 4935.0, 8332.0, 8062.0, 8195.0, 8198.0, 9555.0, 7652.0, 7929.0, 7243.0, 8060.0, 8199.0, 9287.0, 7246.0, 8201.0, 8743.0, 9289.0, 6974.0, 8607.0, 9697.0, 9558.0, 8473.0] 2987.0\n",
      "[6703.0, 5071.0, 7655.0, 9014.0, 6295.0, 7657.0, 8470.0, 8334.0, 6567.0, 8335.0, 6158.0, 9694.0, 4663.0, 6022.0, 9017.0, 9150.0, 9422.0, 9425.0, 8331.0, 8065.0, 9151.0, 7926.0, 9015.0, 9419.0, 9011.0, 6019.0, 6155.0, 7923.0, 8059.0, 9691.0, 8063.0, 8337.0, 5343.0, 6431.0, 9012.0, 9423.0, 7791.0, 9559.0, 7651.0, 8467.0, 8879.0, 7654.0, 9420.0, 9561.0, 4935.0, 8332.0, 8062.0, 8195.0, 8198.0, 9555.0, 7652.0, 7929.0, 7243.0, 8060.0, 8199.0, 9287.0, 7246.0, 8201.0, 8743.0, 9289.0, 6974.0, 8607.0, 9697.0, 9558.0, 8473.0, 8742.0] 2987.0\n",
      "[6703.0, 5071.0, 7655.0, 9014.0, 6295.0, 7657.0, 8470.0, 8334.0, 6567.0, 8335.0, 6158.0, 9694.0, 4663.0, 6022.0, 9017.0, 9150.0, 9422.0, 9425.0, 8331.0, 8065.0, 9151.0, 7926.0, 9015.0, 9419.0, 9011.0, 6019.0, 6155.0, 7923.0, 8059.0, 9691.0, 8063.0, 8337.0, 5343.0, 6431.0, 9012.0, 9423.0, 7791.0, 9559.0, 7651.0, 8467.0, 8879.0, 7654.0, 9420.0, 9561.0, 4935.0, 8332.0, 8062.0, 8195.0, 8198.0, 9555.0, 7652.0, 7929.0, 7243.0, 8060.0, 8199.0, 9287.0, 7246.0, 8201.0, 8743.0, 9289.0, 6974.0, 8607.0, 9697.0, 9558.0, 8473.0, 8742.0, 7247.0] 2984.0\n",
      "[6703.0, 5071.0, 7655.0, 9014.0, 6295.0, 7657.0, 8470.0, 8334.0, 6567.0, 8335.0, 6158.0, 9694.0, 4663.0, 6022.0, 9017.0, 9150.0, 9422.0, 9425.0, 8331.0, 8065.0, 9151.0, 7926.0, 9015.0, 9419.0, 9011.0, 6019.0, 6155.0, 7923.0, 8059.0, 9691.0, 8063.0, 8337.0, 5343.0, 6431.0, 9012.0, 9423.0, 7791.0, 9559.0, 7651.0, 8467.0, 8879.0, 7654.0, 9420.0, 9561.0, 4935.0, 8332.0, 8062.0, 8195.0, 8198.0, 9555.0, 7652.0, 7929.0, 7243.0, 8060.0, 8199.0, 9287.0, 7246.0, 8201.0, 8743.0, 9289.0, 6974.0, 8607.0, 9697.0, 9558.0, 8473.0, 8742.0, 7247.0, 5747.0] 2977.0\n",
      "[6703.0, 5071.0, 7655.0, 9014.0, 6295.0, 7657.0, 8470.0, 8334.0, 6567.0, 8335.0, 6158.0, 9694.0, 4663.0, 6022.0, 9017.0, 9150.0, 9422.0, 9425.0, 8331.0, 8065.0, 9151.0, 7926.0, 9015.0, 9419.0, 9011.0, 6019.0, 6155.0, 7923.0, 8059.0, 9691.0, 8063.0, 8337.0, 5343.0, 6431.0, 9012.0, 9423.0, 7791.0, 9559.0, 7651.0, 8467.0, 8879.0, 7654.0, 9420.0, 9561.0, 4935.0, 8332.0, 8062.0, 8195.0, 8198.0, 9555.0, 7652.0, 7929.0, 7243.0, 8060.0, 8199.0, 9287.0, 7246.0, 8201.0, 8743.0, 9289.0, 6974.0, 8607.0, 9697.0, 9558.0, 8473.0, 8742.0, 7247.0, 5747.0, 5479.0] 2972.0\n",
      "[6703.0, 5071.0, 7655.0, 9014.0, 6295.0, 7657.0, 8470.0, 8334.0, 6567.0, 8335.0, 6158.0, 9694.0, 4663.0, 6022.0, 9017.0, 9150.0, 9422.0, 9425.0, 8331.0, 8065.0, 9151.0, 7926.0, 9015.0, 9419.0, 9011.0, 6019.0, 6155.0, 7923.0, 8059.0, 9691.0, 8063.0, 8337.0, 5343.0, 6431.0, 9012.0, 9423.0, 7791.0, 9559.0, 7651.0, 8467.0, 8879.0, 7654.0, 9420.0, 9561.0, 4935.0, 8332.0, 8062.0, 8195.0, 8198.0, 9555.0, 7652.0, 7929.0, 7243.0, 8060.0, 8199.0, 9287.0, 7246.0, 8201.0, 8743.0, 9289.0, 6974.0, 8607.0, 9697.0, 9558.0, 8473.0, 8742.0, 7247.0, 5747.0, 5479.0, 5750.0] 2956.0\n",
      "[6703.0, 5071.0, 7655.0, 9014.0, 6295.0, 7657.0, 8470.0, 8334.0, 6567.0, 8335.0, 6158.0, 9694.0, 4663.0, 6022.0, 9017.0, 9150.0, 9422.0, 9425.0, 8331.0, 8065.0, 9151.0, 7926.0, 9015.0, 9419.0, 9011.0, 6019.0, 6155.0, 7923.0, 8059.0, 9691.0, 8063.0, 8337.0, 5343.0, 6431.0, 9012.0, 9423.0, 7791.0, 9559.0, 7651.0, 8467.0, 8879.0, 7654.0, 9420.0, 9561.0, 4935.0, 8332.0, 8062.0, 8195.0, 8198.0, 9555.0, 7652.0, 7929.0, 7243.0, 8060.0, 8199.0, 9287.0, 7246.0, 8201.0, 8743.0, 9289.0, 6974.0, 8607.0, 9697.0, 9558.0, 8473.0, 8742.0, 7247.0, 5747.0, 5479.0, 5750.0, 9283.0] 2952.0\n",
      "[6703.0, 5071.0, 7655.0, 9014.0, 6295.0, 7657.0, 8470.0, 8334.0, 6567.0, 8335.0, 6158.0, 9694.0, 4663.0, 6022.0, 9017.0, 9150.0, 9422.0, 9425.0, 8331.0, 8065.0, 9151.0, 7926.0, 9015.0, 9419.0, 9011.0, 6019.0, 6155.0, 7923.0, 8059.0, 9691.0, 8063.0, 8337.0, 5343.0, 6431.0, 9012.0, 9423.0, 7791.0, 9559.0, 7651.0, 8467.0, 8879.0, 7654.0, 9420.0, 9561.0, 4935.0, 8332.0, 8062.0, 8195.0, 8198.0, 9555.0, 7652.0, 7929.0, 7243.0, 8060.0, 8199.0, 9287.0, 7246.0, 8201.0, 8743.0, 9289.0, 6974.0, 8607.0, 9697.0, 9558.0, 8473.0, 8742.0, 7247.0, 5747.0, 5479.0, 5750.0, 9283.0, 7518.0] 2952.0\n",
      "[6703.0, 5071.0, 7655.0, 9014.0, 6295.0, 7657.0, 8470.0, 8334.0, 6567.0, 8335.0, 6158.0, 9694.0, 4663.0, 6022.0, 9017.0, 9150.0, 9422.0, 9425.0, 8331.0, 8065.0, 9151.0, 7926.0, 9015.0, 9419.0, 9011.0, 6019.0, 6155.0, 7923.0, 8059.0, 9691.0, 8063.0, 8337.0, 5343.0, 6431.0, 9012.0, 9423.0, 7791.0, 9559.0, 7651.0, 8467.0, 8879.0, 7654.0, 9420.0, 9561.0, 4935.0, 8332.0, 8062.0, 8195.0, 8198.0, 9555.0, 7652.0, 7929.0, 7243.0, 8060.0, 8199.0, 9287.0, 7246.0, 8201.0, 8743.0, 9289.0, 6974.0, 8607.0, 9697.0, 9558.0, 8473.0, 8742.0, 7247.0, 5747.0, 5479.0, 5750.0, 9283.0, 7518.0, 7924.0] 2952.0\n",
      "[6703.0, 5071.0, 7655.0, 9014.0, 6295.0, 7657.0, 8470.0, 8334.0, 6567.0, 8335.0, 6158.0, 9694.0, 4663.0, 6022.0, 9017.0, 9150.0, 9422.0, 9425.0, 8331.0, 8065.0, 9151.0, 7926.0, 9015.0, 9419.0, 9011.0, 6019.0, 6155.0, 7923.0, 8059.0, 9691.0, 8063.0, 8337.0, 5343.0, 6431.0, 9012.0, 9423.0, 7791.0, 9559.0, 7651.0, 8467.0, 8879.0, 7654.0, 9420.0, 9561.0, 4935.0, 8332.0, 8062.0, 8195.0, 8198.0, 9555.0, 7652.0, 7929.0, 7243.0, 8060.0, 8199.0, 9287.0, 7246.0, 8201.0, 8743.0, 9289.0, 6974.0, 8607.0, 9697.0, 9558.0, 8473.0, 8742.0, 7247.0, 5747.0, 5479.0, 5750.0, 9283.0, 7518.0, 7924.0, 8468.0] 2951.0\n",
      "[6703.0, 5071.0, 7655.0, 9014.0, 6295.0, 7657.0, 8470.0, 8334.0, 6567.0, 8335.0, 6158.0, 9694.0, 4663.0, 6022.0, 9017.0, 9150.0, 9422.0, 9425.0, 8331.0, 8065.0, 9151.0, 7926.0, 9015.0, 9419.0, 9011.0, 6019.0, 6155.0, 7923.0, 8059.0, 9691.0, 8063.0, 8337.0, 5343.0, 6431.0, 9012.0, 9423.0, 7791.0, 9559.0, 7651.0, 8467.0, 8879.0, 7654.0, 9420.0, 9561.0, 4935.0, 8332.0, 8062.0, 8195.0, 8198.0, 9555.0, 7652.0, 7929.0, 7243.0, 8060.0, 8199.0, 9287.0, 7246.0, 8201.0, 8743.0, 9289.0, 6974.0, 8607.0, 9697.0, 9558.0, 8473.0, 8742.0, 7247.0, 5747.0, 5479.0, 5750.0, 9283.0, 7518.0, 7924.0, 8468.0, 7249.0] 2940.0\n",
      "[6703.0, 5071.0, 7655.0, 9014.0, 6295.0, 7657.0, 8470.0, 8334.0, 6567.0, 8335.0, 6158.0, 9694.0, 4663.0, 6022.0, 9017.0, 9150.0, 9422.0, 9425.0, 8331.0, 8065.0, 9151.0, 7926.0, 9015.0, 9419.0, 9011.0, 6019.0, 6155.0, 7923.0, 8059.0, 9691.0, 8063.0, 8337.0, 5343.0, 6431.0, 9012.0, 9423.0, 7791.0, 9559.0, 7651.0, 8467.0, 8879.0, 7654.0, 9420.0, 9561.0, 4935.0, 8332.0, 8062.0, 8195.0, 8198.0, 9555.0, 7652.0, 7929.0, 7243.0, 8060.0, 8199.0, 9287.0, 7246.0, 8201.0, 8743.0, 9289.0, 6974.0, 8607.0, 9697.0, 9558.0, 8473.0, 8742.0, 7247.0, 5747.0, 5479.0, 5750.0, 9283.0, 7518.0, 7924.0, 8468.0, 7249.0, 6023.0] 2940.0\n",
      "[6703.0, 5071.0, 7655.0, 9014.0, 6295.0, 7657.0, 8470.0, 8334.0, 6567.0, 8335.0, 6158.0, 9694.0, 4663.0, 6022.0, 9017.0, 9150.0, 9422.0, 9425.0, 8331.0, 8065.0, 9151.0, 7926.0, 9015.0, 9419.0, 9011.0, 6019.0, 6155.0, 7923.0, 8059.0, 9691.0, 8063.0, 8337.0, 5343.0, 6431.0, 9012.0, 9423.0, 7791.0, 9559.0, 7651.0, 8467.0, 8879.0, 7654.0, 9420.0, 9561.0, 4935.0, 8332.0, 8062.0, 8195.0, 8198.0, 9555.0, 7652.0, 7929.0, 7243.0, 8060.0, 8199.0, 9287.0, 7246.0, 8201.0, 8743.0, 9289.0, 6974.0, 8607.0, 9697.0, 9558.0, 8473.0, 8742.0, 7247.0, 5747.0, 5479.0, 5750.0, 9283.0, 7518.0, 7924.0, 8468.0, 7249.0, 6023.0, 6156.0] 2932.0\n",
      "[6703.0, 5071.0, 7655.0, 9014.0, 6295.0, 7657.0, 8470.0, 8334.0, 6567.0, 8335.0, 6158.0, 9694.0, 4663.0, 6022.0, 9017.0, 9150.0, 9422.0, 9425.0, 8331.0, 8065.0, 9151.0, 7926.0, 9015.0, 9419.0, 9011.0, 6019.0, 6155.0, 7923.0, 8059.0, 9691.0, 8063.0, 8337.0, 5343.0, 6431.0, 9012.0, 9423.0, 7791.0, 9559.0, 7651.0, 8467.0, 8879.0, 7654.0, 9420.0, 9561.0, 4935.0, 8332.0, 8062.0, 8195.0, 8198.0, 9555.0, 7652.0, 7929.0, 7243.0, 8060.0, 8199.0, 9287.0, 7246.0, 8201.0, 8743.0, 9289.0, 6974.0, 8607.0, 9697.0, 9558.0, 8473.0, 8742.0, 7247.0, 5747.0, 5479.0, 5750.0, 9283.0, 7518.0, 7924.0, 8468.0, 7249.0, 6023.0, 6156.0, 6159.0] 2932.0\n",
      "[6703.0, 5071.0, 7655.0, 9014.0, 6295.0, 7657.0, 8470.0, 8334.0, 6567.0, 8335.0, 6158.0, 9694.0, 4663.0, 6022.0, 9017.0, 9150.0, 9422.0, 9425.0, 8331.0, 8065.0, 9151.0, 7926.0, 9015.0, 9419.0, 9011.0, 6019.0, 6155.0, 7923.0, 8059.0, 9691.0, 8063.0, 8337.0, 5343.0, 6431.0, 9012.0, 9423.0, 7791.0, 9559.0, 7651.0, 8467.0, 8879.0, 7654.0, 9420.0, 9561.0, 4935.0, 8332.0, 8062.0, 8195.0, 8198.0, 9555.0, 7652.0, 7929.0, 7243.0, 8060.0, 8199.0, 9287.0, 7246.0, 8201.0, 8743.0, 9289.0, 6974.0, 8607.0, 9697.0, 9558.0, 8473.0, 8742.0, 7247.0, 5747.0, 5479.0, 5750.0, 9283.0, 7518.0, 7924.0, 8468.0, 7249.0, 6023.0, 6156.0, 6159.0, 9286.0] 2930.0\n",
      "[6703.0, 5071.0, 7655.0, 9014.0, 6295.0, 7657.0, 8470.0, 8334.0, 6567.0, 8335.0, 6158.0, 9694.0, 4663.0, 6022.0, 9017.0, 9150.0, 9422.0, 9425.0, 8331.0, 8065.0, 9151.0, 7926.0, 9015.0, 9419.0, 9011.0, 6019.0, 6155.0, 7923.0, 8059.0, 9691.0, 8063.0, 8337.0, 5343.0, 6431.0, 9012.0, 9423.0, 7791.0, 9559.0, 7651.0, 8467.0, 8879.0, 7654.0, 9420.0, 9561.0, 4935.0, 8332.0, 8062.0, 8195.0, 8198.0, 9555.0, 7652.0, 7929.0, 7243.0, 8060.0, 8199.0, 9287.0, 7246.0, 8201.0, 8743.0, 9289.0, 6974.0, 8607.0, 9697.0, 9558.0, 8473.0, 8742.0, 7247.0, 5747.0, 5479.0, 5750.0, 9283.0, 7518.0, 7924.0, 8468.0, 7249.0, 6023.0, 6156.0, 6159.0, 9286.0, 6161.0] 2912.0\n",
      "[6703.0, 5071.0, 7655.0, 9014.0, 6295.0, 7657.0, 8470.0, 8334.0, 6567.0, 8335.0, 6158.0, 9694.0, 4663.0, 6022.0, 9017.0, 9150.0, 9422.0, 9425.0, 8331.0, 8065.0, 9151.0, 7926.0, 9015.0, 9419.0, 9011.0, 6019.0, 6155.0, 7923.0, 8059.0, 9691.0, 8063.0, 8337.0, 5343.0, 6431.0, 9012.0, 9423.0, 7791.0, 9559.0, 7651.0, 8467.0, 8879.0, 7654.0, 9420.0, 9561.0, 4935.0, 8332.0, 8062.0, 8195.0, 8198.0, 9555.0, 7652.0, 7929.0, 7243.0, 8060.0, 8199.0, 9287.0, 7246.0, 8201.0, 8743.0, 9289.0, 6974.0, 8607.0, 9697.0, 9558.0, 8473.0, 8742.0, 7247.0, 5747.0, 5479.0, 5750.0, 9283.0, 7518.0, 7924.0, 8468.0, 7249.0, 6023.0, 6156.0, 6159.0, 9286.0, 6161.0, 9692.0] 2910.0\n",
      "[6703.0, 5071.0, 7655.0, 9014.0, 6295.0, 7657.0, 8470.0, 8334.0, 6567.0, 8335.0, 6158.0, 9694.0, 4663.0, 6022.0, 9017.0, 9150.0, 9422.0, 9425.0, 8331.0, 8065.0, 9151.0, 7926.0, 9015.0, 9419.0, 9011.0, 6019.0, 6155.0, 7923.0, 8059.0, 9691.0, 8063.0, 8337.0, 5343.0, 6431.0, 9012.0, 9423.0, 7791.0, 9559.0, 7651.0, 8467.0, 8879.0, 7654.0, 9420.0, 9561.0, 4935.0, 8332.0, 8062.0, 8195.0, 8198.0, 9555.0, 7652.0, 7929.0, 7243.0, 8060.0, 8199.0, 9287.0, 7246.0, 8201.0, 8743.0, 9289.0, 6974.0, 8607.0, 9697.0, 9558.0, 8473.0, 8742.0, 7247.0, 5747.0, 5479.0, 5750.0, 9283.0, 7518.0, 7924.0, 8468.0, 7249.0, 6023.0, 6156.0, 6159.0, 9286.0, 6161.0, 9692.0, 9556.0] 2910.0\n",
      "[6703.0, 5071.0, 7655.0, 9014.0, 6295.0, 7657.0, 8470.0, 8334.0, 6567.0, 8335.0, 6158.0, 9694.0, 4663.0, 6022.0, 9017.0, 9150.0, 9422.0, 9425.0, 8331.0, 8065.0, 9151.0, 7926.0, 9015.0, 9419.0, 9011.0, 6019.0, 6155.0, 7923.0, 8059.0, 9691.0, 8063.0, 8337.0, 5343.0, 6431.0, 9012.0, 9423.0, 7791.0, 9559.0, 7651.0, 8467.0, 8879.0, 7654.0, 9420.0, 9561.0, 4935.0, 8332.0, 8062.0, 8195.0, 8198.0, 9555.0, 7652.0, 7929.0, 7243.0, 8060.0, 8199.0, 9287.0, 7246.0, 8201.0, 8743.0, 9289.0, 6974.0, 8607.0, 9697.0, 9558.0, 8473.0, 8742.0, 7247.0, 5747.0, 5479.0, 5750.0, 9283.0, 7518.0, 7924.0, 8468.0, 7249.0, 6023.0, 6156.0, 6159.0, 9286.0, 6161.0, 9692.0, 9556.0, 8196.0] 2910.0\n",
      "[6703.0, 5071.0, 7655.0, 9014.0, 6295.0, 7657.0, 8470.0, 8334.0, 6567.0, 8335.0, 6158.0, 9694.0, 4663.0, 6022.0, 9017.0, 9150.0, 9422.0, 9425.0, 8331.0, 8065.0, 9151.0, 7926.0, 9015.0, 9419.0, 9011.0, 6019.0, 6155.0, 7923.0, 8059.0, 9691.0, 8063.0, 8337.0, 5343.0, 6431.0, 9012.0, 9423.0, 7791.0, 9559.0, 7651.0, 8467.0, 8879.0, 7654.0, 9420.0, 9561.0, 4935.0, 8332.0, 8062.0, 8195.0, 8198.0, 9555.0, 7652.0, 7929.0, 7243.0, 8060.0, 8199.0, 9287.0, 7246.0, 8201.0, 8743.0, 9289.0, 6974.0, 8607.0, 9697.0, 9558.0, 8473.0, 8742.0, 7247.0, 5747.0, 5479.0, 5750.0, 9283.0, 7518.0, 7924.0, 8468.0, 7249.0, 6023.0, 6156.0, 6159.0, 9286.0, 6161.0, 9692.0, 9556.0, 8196.0, 4255.0] 2830.0\n",
      "[6703.0, 5071.0, 7655.0, 9014.0, 6295.0, 7657.0, 8470.0, 8334.0, 6567.0, 8335.0, 6158.0, 9694.0, 4663.0, 6022.0, 9017.0, 9150.0, 9422.0, 9425.0, 8331.0, 8065.0, 9151.0, 7926.0, 9015.0, 9419.0, 9011.0, 6019.0, 6155.0, 7923.0, 8059.0, 9691.0, 8063.0, 8337.0, 5343.0, 6431.0, 9012.0, 9423.0, 7791.0, 9559.0, 7651.0, 8467.0, 8879.0, 7654.0, 9420.0, 9561.0, 4935.0, 8332.0, 8062.0, 8195.0, 8198.0, 9555.0, 7652.0, 7929.0, 7243.0, 8060.0, 8199.0, 9287.0, 7246.0, 8201.0, 8743.0, 9289.0, 6974.0, 8607.0, 9697.0, 9558.0, 8473.0, 8742.0, 7247.0, 5747.0, 5479.0, 5750.0, 9283.0, 7518.0, 7924.0, 8468.0, 7249.0, 6023.0, 6156.0, 6159.0, 9286.0, 6161.0, 9692.0, 9556.0, 8196.0, 4255.0, 9695.0] 2825.0\n",
      "[6703.0, 5071.0, 7655.0, 9014.0, 6295.0, 7657.0, 8470.0, 8334.0, 6567.0, 8335.0, 6158.0, 9694.0, 4663.0, 6022.0, 9017.0, 9150.0, 9422.0, 9425.0, 8331.0, 8065.0, 9151.0, 7926.0, 9015.0, 9419.0, 9011.0, 6019.0, 6155.0, 7923.0, 8059.0, 9691.0, 8063.0, 8337.0, 5343.0, 6431.0, 9012.0, 9423.0, 7791.0, 9559.0, 7651.0, 8467.0, 8879.0, 7654.0, 9420.0, 9561.0, 4935.0, 8332.0, 8062.0, 8195.0, 8198.0, 9555.0, 7652.0, 7929.0, 7243.0, 8060.0, 8199.0, 9287.0, 7246.0, 8201.0, 8743.0, 9289.0, 6974.0, 8607.0, 9697.0, 9558.0, 8473.0, 8742.0, 7247.0, 5747.0, 5479.0, 5750.0, 9283.0, 7518.0, 7924.0, 8468.0, 7249.0, 6023.0, 6156.0, 6159.0, 9286.0, 6161.0, 9692.0, 9556.0, 8196.0, 4255.0, 9695.0, 8471.0] 2825.0\n",
      "[6703.0, 5071.0, 7655.0, 9014.0, 6295.0, 7657.0, 8470.0, 8334.0, 6567.0, 8335.0, 6158.0, 9694.0, 4663.0, 6022.0, 9017.0, 9150.0, 9422.0, 9425.0, 8331.0, 8065.0, 9151.0, 7926.0, 9015.0, 9419.0, 9011.0, 6019.0, 6155.0, 7923.0, 8059.0, 9691.0, 8063.0, 8337.0, 5343.0, 6431.0, 9012.0, 9423.0, 7791.0, 9559.0, 7651.0, 8467.0, 8879.0, 7654.0, 9420.0, 9561.0, 4935.0, 8332.0, 8062.0, 8195.0, 8198.0, 9555.0, 7652.0, 7929.0, 7243.0, 8060.0, 8199.0, 9287.0, 7246.0, 8201.0, 8743.0, 9289.0, 6974.0, 8607.0, 9697.0, 9558.0, 8473.0, 8742.0, 7247.0, 5747.0, 5479.0, 5750.0, 9283.0, 7518.0, 7924.0, 8468.0, 7249.0, 6023.0, 6156.0, 6159.0, 9286.0, 6161.0, 9692.0, 9556.0, 8196.0, 4255.0, 9695.0, 8471.0, 4391.0] 2801.0\n",
      "[6703.0, 5071.0, 7655.0, 9014.0, 6295.0, 7657.0, 8470.0, 8334.0, 6567.0, 8335.0, 6158.0, 9694.0, 4663.0, 6022.0, 9017.0, 9150.0, 9422.0, 9425.0, 8331.0, 8065.0, 9151.0, 7926.0, 9015.0, 9419.0, 9011.0, 6019.0, 6155.0, 7923.0, 8059.0, 9691.0, 8063.0, 8337.0, 5343.0, 6431.0, 9012.0, 9423.0, 7791.0, 9559.0, 7651.0, 8467.0, 8879.0, 7654.0, 9420.0, 9561.0, 4935.0, 8332.0, 8062.0, 8195.0, 8198.0, 9555.0, 7652.0, 7929.0, 7243.0, 8060.0, 8199.0, 9287.0, 7246.0, 8201.0, 8743.0, 9289.0, 6974.0, 8607.0, 9697.0, 9558.0, 8473.0, 8742.0, 7247.0, 5747.0, 5479.0, 5750.0, 9283.0, 7518.0, 7924.0, 8468.0, 7249.0, 6023.0, 6156.0, 6159.0, 9286.0, 6161.0, 9692.0, 9556.0, 8196.0, 4255.0, 9695.0, 8471.0, 4391.0, 9147.0] 2799.0\n",
      "[6703.0, 5071.0, 7655.0, 9014.0, 6295.0, 7657.0, 8470.0, 8334.0, 6567.0, 8335.0, 6158.0, 9694.0, 4663.0, 6022.0, 9017.0, 9150.0, 9422.0, 9425.0, 8331.0, 8065.0, 9151.0, 7926.0, 9015.0, 9419.0, 9011.0, 6019.0, 6155.0, 7923.0, 8059.0, 9691.0, 8063.0, 8337.0, 5343.0, 6431.0, 9012.0, 9423.0, 7791.0, 9559.0, 7651.0, 8467.0, 8879.0, 7654.0, 9420.0, 9561.0, 4935.0, 8332.0, 8062.0, 8195.0, 8198.0, 9555.0, 7652.0, 7929.0, 7243.0, 8060.0, 8199.0, 9287.0, 7246.0, 8201.0, 8743.0, 9289.0, 6974.0, 8607.0, 9697.0, 9558.0, 8473.0, 8742.0, 7247.0, 5747.0, 5479.0, 5750.0, 9283.0, 7518.0, 7924.0, 8468.0, 7249.0, 6023.0, 6156.0, 6159.0, 9286.0, 6161.0, 9692.0, 9556.0, 8196.0, 4255.0, 9695.0, 8471.0, 4391.0, 9147.0, 6975.0] 2799.0\n",
      "[6703.0, 5071.0, 7655.0, 9014.0, 6295.0, 7657.0, 8470.0, 8334.0, 6567.0, 8335.0, 6158.0, 9694.0, 4663.0, 6022.0, 9017.0, 9150.0, 9422.0, 9425.0, 8331.0, 8065.0, 9151.0, 7926.0, 9015.0, 9419.0, 9011.0, 6019.0, 6155.0, 7923.0, 8059.0, 9691.0, 8063.0, 8337.0, 5343.0, 6431.0, 9012.0, 9423.0, 7791.0, 9559.0, 7651.0, 8467.0, 8879.0, 7654.0, 9420.0, 9561.0, 4935.0, 8332.0, 8062.0, 8195.0, 8198.0, 9555.0, 7652.0, 7929.0, 7243.0, 8060.0, 8199.0, 9287.0, 7246.0, 8201.0, 8743.0, 9289.0, 6974.0, 8607.0, 9697.0, 9558.0, 8473.0, 8742.0, 7247.0, 5747.0, 5479.0, 5750.0, 9283.0, 7518.0, 7924.0, 8468.0, 7249.0, 6023.0, 6156.0, 6159.0, 9286.0, 6161.0, 9692.0, 9556.0, 8196.0, 4255.0, 9695.0, 8471.0, 4391.0, 9147.0, 6975.0, 4931.0] 2792.0\n",
      "[6703.0, 5071.0, 7655.0, 9014.0, 6295.0, 7657.0, 8470.0, 8334.0, 6567.0, 8335.0, 6158.0, 9694.0, 4663.0, 6022.0, 9017.0, 9150.0, 9422.0, 9425.0, 8331.0, 8065.0, 9151.0, 7926.0, 9015.0, 9419.0, 9011.0, 6019.0, 6155.0, 7923.0, 8059.0, 9691.0, 8063.0, 8337.0, 5343.0, 6431.0, 9012.0, 9423.0, 7791.0, 9559.0, 7651.0, 8467.0, 8879.0, 7654.0, 9420.0, 9561.0, 4935.0, 8332.0, 8062.0, 8195.0, 8198.0, 9555.0, 7652.0, 7929.0, 7243.0, 8060.0, 8199.0, 9287.0, 7246.0, 8201.0, 8743.0, 9289.0, 6974.0, 8607.0, 9697.0, 9558.0, 8473.0, 8742.0, 7247.0, 5747.0, 5479.0, 5750.0, 9283.0, 7518.0, 7924.0, 8468.0, 7249.0, 6023.0, 6156.0, 6159.0, 9286.0, 6161.0, 9692.0, 9556.0, 8196.0, 4255.0, 9695.0, 8471.0, 4391.0, 9147.0, 6975.0, 4931.0, 9693.0] 2685.0\n",
      "[6703.0, 5071.0, 7655.0, 9014.0, 6295.0, 7657.0, 8470.0, 8334.0, 6567.0, 8335.0, 6158.0, 9694.0, 4663.0, 6022.0, 9017.0, 9150.0, 9422.0, 9425.0, 8331.0, 8065.0, 9151.0, 7926.0, 9015.0, 9419.0, 9011.0, 6019.0, 6155.0, 7923.0, 8059.0, 9691.0, 8063.0, 8337.0, 5343.0, 6431.0, 9012.0, 9423.0, 7791.0, 9559.0, 7651.0, 8467.0, 8879.0, 7654.0, 9420.0, 9561.0, 4935.0, 8332.0, 8062.0, 8195.0, 8198.0, 9555.0, 7652.0, 7929.0, 7243.0, 8060.0, 8199.0, 9287.0, 7246.0, 8201.0, 8743.0, 9289.0, 6974.0, 8607.0, 9697.0, 9558.0, 8473.0, 8742.0, 7247.0, 5747.0, 5479.0, 5750.0, 9283.0, 7518.0, 7924.0, 8468.0, 7249.0, 6023.0, 6156.0, 6159.0, 9286.0, 6161.0, 9692.0, 9556.0, 8196.0, 4255.0, 9695.0, 8471.0, 4391.0, 9147.0, 6975.0, 4931.0, 9693.0, 9284.0] 2684.0\n",
      "[6703.0, 5071.0, 7655.0, 9014.0, 6295.0, 7657.0, 8470.0, 8334.0, 6567.0, 8335.0, 6158.0, 9694.0, 4663.0, 6022.0, 9017.0, 9150.0, 9422.0, 9425.0, 8331.0, 8065.0, 9151.0, 7926.0, 9015.0, 9419.0, 9011.0, 6019.0, 6155.0, 7923.0, 8059.0, 9691.0, 8063.0, 8337.0, 5343.0, 6431.0, 9012.0, 9423.0, 7791.0, 9559.0, 7651.0, 8467.0, 8879.0, 7654.0, 9420.0, 9561.0, 4935.0, 8332.0, 8062.0, 8195.0, 8198.0, 9555.0, 7652.0, 7929.0, 7243.0, 8060.0, 8199.0, 9287.0, 7246.0, 8201.0, 8743.0, 9289.0, 6974.0, 8607.0, 9697.0, 9558.0, 8473.0, 8742.0, 7247.0, 5747.0, 5479.0, 5750.0, 9283.0, 7518.0, 7924.0, 8468.0, 7249.0, 6023.0, 6156.0, 6159.0, 9286.0, 6161.0, 9692.0, 9556.0, 8196.0, 4255.0, 9695.0, 8471.0, 4391.0, 9147.0, 6975.0, 4931.0, 9693.0, 9284.0, 4795.0] 2679.0\n",
      "[6703.0, 5071.0, 7655.0, 9014.0, 6295.0, 7657.0, 8470.0, 8334.0, 6567.0, 8335.0, 6158.0, 9694.0, 4663.0, 6022.0, 9017.0, 9150.0, 9422.0, 9425.0, 8331.0, 8065.0, 9151.0, 7926.0, 9015.0, 9419.0, 9011.0, 6019.0, 6155.0, 7923.0, 8059.0, 9691.0, 8063.0, 8337.0, 5343.0, 6431.0, 9012.0, 9423.0, 7791.0, 9559.0, 7651.0, 8467.0, 8879.0, 7654.0, 9420.0, 9561.0, 4935.0, 8332.0, 8062.0, 8195.0, 8198.0, 9555.0, 7652.0, 7929.0, 7243.0, 8060.0, 8199.0, 9287.0, 7246.0, 8201.0, 8743.0, 9289.0, 6974.0, 8607.0, 9697.0, 9558.0, 8473.0, 8742.0, 7247.0, 5747.0, 5479.0, 5750.0, 9283.0, 7518.0, 7924.0, 8468.0, 7249.0, 6023.0, 6156.0, 6159.0, 9286.0, 6161.0, 9692.0, 9556.0, 8196.0, 4255.0, 9695.0, 8471.0, 4391.0, 9147.0, 6975.0, 4931.0, 9693.0, 9284.0, 4795.0, 4799.0] 2675.0\n",
      "[6703.0, 5071.0, 7655.0, 9014.0, 6295.0, 7657.0, 8470.0, 8334.0, 6567.0, 8335.0, 6158.0, 9694.0, 4663.0, 6022.0, 9017.0, 9150.0, 9422.0, 9425.0, 8331.0, 8065.0, 9151.0, 7926.0, 9015.0, 9419.0, 9011.0, 6019.0, 6155.0, 7923.0, 8059.0, 9691.0, 8063.0, 8337.0, 5343.0, 6431.0, 9012.0, 9423.0, 7791.0, 9559.0, 7651.0, 8467.0, 8879.0, 7654.0, 9420.0, 9561.0, 4935.0, 8332.0, 8062.0, 8195.0, 8198.0, 9555.0, 7652.0, 7929.0, 7243.0, 8060.0, 8199.0, 9287.0, 7246.0, 8201.0, 8743.0, 9289.0, 6974.0, 8607.0, 9697.0, 9558.0, 8473.0, 8742.0, 7247.0, 5747.0, 5479.0, 5750.0, 9283.0, 7518.0, 7924.0, 8468.0, 7249.0, 6023.0, 6156.0, 6159.0, 9286.0, 6161.0, 9692.0, 9556.0, 8196.0, 4255.0, 9695.0, 8471.0, 4391.0, 9147.0, 6975.0, 4931.0, 9693.0, 9284.0, 4795.0, 4799.0, 5475.0] 2675.0\n",
      "[6703.0, 5071.0, 7655.0, 9014.0, 6295.0, 7657.0, 8470.0, 8334.0, 6567.0, 8335.0, 6158.0, 9694.0, 4663.0, 6022.0, 9017.0, 9150.0, 9422.0, 9425.0, 8331.0, 8065.0, 9151.0, 7926.0, 9015.0, 9419.0, 9011.0, 6019.0, 6155.0, 7923.0, 8059.0, 9691.0, 8063.0, 8337.0, 5343.0, 6431.0, 9012.0, 9423.0, 7791.0, 9559.0, 7651.0, 8467.0, 8879.0, 7654.0, 9420.0, 9561.0, 4935.0, 8332.0, 8062.0, 8195.0, 8198.0, 9555.0, 7652.0, 7929.0, 7243.0, 8060.0, 8199.0, 9287.0, 7246.0, 8201.0, 8743.0, 9289.0, 6974.0, 8607.0, 9697.0, 9558.0, 8473.0, 8742.0, 7247.0, 5747.0, 5479.0, 5750.0, 9283.0, 7518.0, 7924.0, 8468.0, 7249.0, 6023.0, 6156.0, 6159.0, 9286.0, 6161.0, 9692.0, 9556.0, 8196.0, 4255.0, 9695.0, 8471.0, 4391.0, 9147.0, 6975.0, 4931.0, 9693.0, 9284.0, 4795.0, 4799.0, 5475.0, 4659.0] 2669.0\n",
      "[6703.0, 5071.0, 7655.0, 9014.0, 6295.0, 7657.0, 8470.0, 8334.0, 6567.0, 8335.0, 6158.0, 9694.0, 4663.0, 6022.0, 9017.0, 9150.0, 9422.0, 9425.0, 8331.0, 8065.0, 9151.0, 7926.0, 9015.0, 9419.0, 9011.0, 6019.0, 6155.0, 7923.0, 8059.0, 9691.0, 8063.0, 8337.0, 5343.0, 6431.0, 9012.0, 9423.0, 7791.0, 9559.0, 7651.0, 8467.0, 8879.0, 7654.0, 9420.0, 9561.0, 4935.0, 8332.0, 8062.0, 8195.0, 8198.0, 9555.0, 7652.0, 7929.0, 7243.0, 8060.0, 8199.0, 9287.0, 7246.0, 8201.0, 8743.0, 9289.0, 6974.0, 8607.0, 9697.0, 9558.0, 8473.0, 8742.0, 7247.0, 5747.0, 5479.0, 5750.0, 9283.0, 7518.0, 7924.0, 8468.0, 7249.0, 6023.0, 6156.0, 6159.0, 9286.0, 6161.0, 9692.0, 9556.0, 8196.0, 4255.0, 9695.0, 8471.0, 4391.0, 9147.0, 6975.0, 4931.0, 9693.0, 9284.0, 4795.0, 4799.0, 5475.0, 4659.0, 7107.0] 2668.0\n",
      "[6703.0, 5071.0, 7655.0, 9014.0, 6295.0, 7657.0, 8470.0, 8334.0, 6567.0, 8335.0, 6158.0, 9694.0, 4663.0, 6022.0, 9017.0, 9150.0, 9422.0, 9425.0, 8331.0, 8065.0, 9151.0, 7926.0, 9015.0, 9419.0, 9011.0, 6019.0, 6155.0, 7923.0, 8059.0, 9691.0, 8063.0, 8337.0, 5343.0, 6431.0, 9012.0, 9423.0, 7791.0, 9559.0, 7651.0, 8467.0, 8879.0, 7654.0, 9420.0, 9561.0, 4935.0, 8332.0, 8062.0, 8195.0, 8198.0, 9555.0, 7652.0, 7929.0, 7243.0, 8060.0, 8199.0, 9287.0, 7246.0, 8201.0, 8743.0, 9289.0, 6974.0, 8607.0, 9697.0, 9558.0, 8473.0, 8742.0, 7247.0, 5747.0, 5479.0, 5750.0, 9283.0, 7518.0, 7924.0, 8468.0, 7249.0, 6023.0, 6156.0, 6159.0, 9286.0, 6161.0, 9692.0, 9556.0, 8196.0, 4255.0, 9695.0, 8471.0, 4391.0, 9147.0, 6975.0, 4931.0, 9693.0, 9284.0, 4795.0, 4799.0, 5475.0, 4659.0, 7107.0, 8881.0] 2667.0\n",
      "[6703.0, 5071.0, 7655.0, 9014.0, 6295.0, 7657.0, 8470.0, 8334.0, 6567.0, 8335.0, 6158.0, 9694.0, 4663.0, 6022.0, 9017.0, 9150.0, 9422.0, 9425.0, 8331.0, 8065.0, 9151.0, 7926.0, 9015.0, 9419.0, 9011.0, 6019.0, 6155.0, 7923.0, 8059.0, 9691.0, 8063.0, 8337.0, 5343.0, 6431.0, 9012.0, 9423.0, 7791.0, 9559.0, 7651.0, 8467.0, 8879.0, 7654.0, 9420.0, 9561.0, 4935.0, 8332.0, 8062.0, 8195.0, 8198.0, 9555.0, 7652.0, 7929.0, 7243.0, 8060.0, 8199.0, 9287.0, 7246.0, 8201.0, 8743.0, 9289.0, 6974.0, 8607.0, 9697.0, 9558.0, 8473.0, 8742.0, 7247.0, 5747.0, 5479.0, 5750.0, 9283.0, 7518.0, 7924.0, 8468.0, 7249.0, 6023.0, 6156.0, 6159.0, 9286.0, 6161.0, 9692.0, 9556.0, 8196.0, 4255.0, 9695.0, 8471.0, 4391.0, 9147.0, 6975.0, 4931.0, 9693.0, 9284.0, 4795.0, 4799.0, 5475.0, 4659.0, 7107.0, 8881.0, 7110.0] 2667.0\n",
      "[6703.0, 5071.0, 7655.0, 9014.0, 6295.0, 7657.0, 8470.0, 8334.0, 6567.0, 8335.0, 6158.0, 9694.0, 4663.0, 6022.0, 9017.0, 9150.0, 9422.0, 9425.0, 8331.0, 8065.0, 9151.0, 7926.0, 9015.0, 9419.0, 9011.0, 6019.0, 6155.0, 7923.0, 8059.0, 9691.0, 8063.0, 8337.0, 5343.0, 6431.0, 9012.0, 9423.0, 7791.0, 9559.0, 7651.0, 8467.0, 8879.0, 7654.0, 9420.0, 9561.0, 4935.0, 8332.0, 8062.0, 8195.0, 8198.0, 9555.0, 7652.0, 7929.0, 7243.0, 8060.0, 8199.0, 9287.0, 7246.0, 8201.0, 8743.0, 9289.0, 6974.0, 8607.0, 9697.0, 9558.0, 8473.0, 8742.0, 7247.0, 5747.0, 5479.0, 5750.0, 9283.0, 7518.0, 7924.0, 8468.0, 7249.0, 6023.0, 6156.0, 6159.0, 9286.0, 6161.0, 9692.0, 9556.0, 8196.0, 4255.0, 9695.0, 8471.0, 4391.0, 9147.0, 6975.0, 4931.0, 9693.0, 9284.0, 4795.0, 4799.0, 5475.0, 4659.0, 7107.0, 8881.0, 7110.0, 6971.0] 2667.0\n",
      "feature set [6702 5070 7654 9013 6294 7656 8469 8333 6566 8334 6157 9693 4662 6021\n",
      " 9016 9149 9421 9424 8330 8064 9150 7925 9014 9418 9010 6018 6154 7922\n",
      " 8058 9690 8062 8336 5342 6430 9011 9422 7790 9558 7650 8466 8878 7653\n",
      " 9419 9560 4934 8331 8061 8194 8197 9554 7651 7928 7242 8059 8198 9286\n",
      " 7245 8200 8742 9288 6973 8606 9696 9557 8472 8741 7246 5746 5478 5749\n",
      " 9282 7517 7923 8467 7248 6022 6155 6158 9285 6160 9691 9555 8195 4254\n",
      " 9694 8470 4390 9146 6974 4930 9692 9283 4794 4798 5474 4658 7106 8880\n",
      " 7109 6970] 100\n"
     ]
    }
   ],
   "source": [
    "itemsets_y = transform_intgrad_to_itemsets(y_int_g,thd=thd,K=1)\n",
    "fids = gen_freq_feature_set(itemsets_y[0],min_support=1500,max_len=100)\n",
    "fids = np.array(fids).astype(int)-1\n",
    "print('feature set',fids,len(fids))"
   ]
  },
  {
   "cell_type": "code",
   "execution_count": 47,
   "id": "ae958f0d",
   "metadata": {},
   "outputs": [
    {
     "data": {
      "text/plain": [
       "<matplotlib.legend.Legend at 0x392ea10a0>"
      ]
     },
     "execution_count": 47,
     "metadata": {},
     "output_type": "execute_result"
    },
    {
     "data": {
      "image/png": "[encoded data removed]",
      "text/plain": [
       "<Figure size 640x480 with 2 Axes>"
      ]
     },
     "metadata": {},
     "output_type": "display_data"
    }
   ],
   "source": [
    "sns.set_style(\"white\")\n",
    "cmap = sns.color_palette(\"colorblind\")\n",
    "fig, ax1 = plt.subplots()\n",
    "sns.histplot(pred_y[y_train==0],kde=True,ax=ax1,bins=50,color=cmap[0],label=\"No Sepsis\")\n",
    "ax2 = ax1.twinx()\n",
    "sns.histplot(pred_y[y_train==1],kde=True,ax=ax2,bins=50,color=cmap[1],label=\"Sepsis\")\n",
    "ax1.set_xlabel(r\"$\\hat{y}$\")\n",
    "ax1.legend(loc='upper left', bbox_to_anchor=(0.15, 1.))\n",
    "ax2.legend(loc='upper right', bbox_to_anchor=(0.9, 1.))\n",
    "#plt.savefig(\"./results/sepsis/pred_y_hist.svg\",bbox_inches=\"tight\")"
   ]
  },
  {
   "cell_type": "code",
   "execution_count": 48,
   "id": "37a5fb19",
   "metadata": {},
   "outputs": [],
   "source": [
    "# thd_h = eutils.find_py_threshold(p_grids=np.linspace(0.7,1.,31),pred_y_prob=pred_y,true_y=y_train)\n",
    "# thd_l = eutils.find_py_threshold(p_grids=np.linspace(0.1,.5,41),pred_y_prob=pred_y,true_y=y_train,c=0,high=False)\n",
    "\n",
    "# thd_h,thd_l"
   ]
  },
  {
   "cell_type": "code",
   "execution_count": 68,
   "id": "2d9c462c",
   "metadata": {},
   "outputs": [
    {
     "data": {
      "text/plain": [
       "(1741, 0.05395772639930577, 0.1674827992313891)"
      ]
     },
     "execution_count": 68,
     "metadata": {},
     "output_type": "execute_result"
    }
   ],
   "source": [
    "(y_train==1).sum(),((y_train==1).sum()/len(y_train)),((pred_y>y_thd).sum()/len(pred_y))"
   ]
  },
  {
   "cell_type": "code",
   "execution_count": 82,
   "id": "bc57debd",
   "metadata": {
    "scrolled": true
   },
   "outputs": [
    {
     "name": "stdout",
     "output_type": "stream",
     "text": [
      "build_rule_tree\n",
      "init rule tree\n",
      "search rule for feature 6702\n",
      "check potential rule 6702 4.2805465769508775 41.58585858585859 43.56565656565657 597\n",
      "add rule [] 6702 (4.2805465769508775, 41.58585858585859, 43.56565656565657, 597)\n",
      "search rule for feature 5070\n",
      "check potential rule 5070 1.0585106382978724 29.77777777777778 31.646464646464647 564\n",
      "add rule [6702] 5070 (1.0585106382978724, 29.77777777777778, 31.646464646464647, 564)\n",
      "search rule for feature 7654\n",
      "no valid rule,skip 7654\n",
      "search rule for feature 9013\n",
      "check potential rule 9013 1.084457616640605 57.666666666666664 67.0 514\n",
      "add rule [6702, 5070] 9013 (1.084457616640605, 57.666666666666664, 67.0, 514)\n",
      "check potential rule 6702 3.91554448073413 38.61616161616162 40.5959595959596 674\n",
      "add rule [] 6702 (3.91554448073413, 38.61616161616162, 40.5959595959596, 674)\n",
      "search rule for feature 5070\n",
      "check potential rule 5070 1.0625799037563743 26.78787878787879 28.656565656565657 630\n",
      "add rule [6702] 5070 (1.0625799037563743, 26.78787878787879, 28.656565656565657, 630)\n",
      "search rule for feature 7654\n",
      "no valid rule,skip 7654\n",
      "search rule for feature 9013\n",
      "check potential rule 9013 1.0756770437863832 55.666666666666664 67.0 567\n",
      "add rule [6702, 5070] 9013 (1.0756770437863832, 55.666666666666664, 67.0, 567)\n",
      "check potential rule 9013 1.0724520537879345 55.666666666666664 64.33333333333333 558\n",
      "add rule [6702, 5070] 9013 (1.0724520537879345, 55.666666666666664, 64.33333333333333, 558)\n",
      "check potential rule 9013 1.0724520537879345 55.666666666666664 64.33333333333333 558\n",
      "add rule [6702, 5070] 9013 (1.0724520537879345, 55.666666666666664, 64.33333333333333, 558)\n",
      "check potential rule 5070 1.0014858841010401 26.78787878787879 32.76767676767677 673\n",
      "add rule [6702] 5070 (1.0014858841010401, 26.78787878787879, 32.76767676767677, 673)\n",
      "search rule for feature 7654\n",
      "check potential rule 7654 1.0082242876360523 45.686868686868685 57.0 666\n",
      "add rule [6702, 5070] 7654 (1.0082242876360523, 45.686868686868685, 57.0, 666)\n",
      "check potential rule 6702 3.275787930542875 37.62626262626263 49.505050505050505 2827\n",
      "add rule [] 6702 (3.275787930542875, 37.62626262626263, 49.505050505050505, 2827)\n",
      "search rule for feature 5070\n",
      "check potential rule 5070 1.2988972927122355 29.77777777777778 31.646464646464647 602\n",
      "add rule [6702] 5070 (1.2988972927122355, 29.77777777777778, 31.646464646464647, 602)\n",
      "search rule for feature 7654\n",
      "check potential rule 7654 1.0642868085141621 48.515151515151516 57.0 563\n",
      "add rule [6702, 5070] 7654 (1.0642868085141621, 48.515151515151516, 57.0, 563)\n",
      "check potential rule 5070 1.2539914362531948 26.78787878787879 28.656565656565657 641\n",
      "add rule [6702] 5070 (1.2539914362531948, 26.78787878787879, 28.656565656565657, 641)\n",
      "search rule for feature 7654\n",
      "check potential rule 7654 1.0128459849548284 45.686868686868685 57.0 630\n",
      "add rule [6702, 5070] 7654 (1.0128459849548284, 45.686868686868685, 57.0, 630)\n",
      "check potential rule 6702 1.4316814469854804 1.0 1.98989898989899 1101.0\n",
      "add rule [] 6702 (1.4316814469854804, 1.0, 1.98989898989899, 1101.0)\n",
      "search rule for feature 5070\n",
      "no valid rule,skip 5070\n",
      "search rule for feature 7654\n",
      "check potential rule 7654 1.6754347826086957 1.0 3.8282828282828283 575\n",
      "add rule [6702] 7654 (1.6754347826086957, 1.0, 3.8282828282828283, 575)\n",
      "search rule for feature 9013\n",
      "no valid rule,skip 9013\n",
      "search rule for feature 6294\n",
      "no valid rule,skip 6294\n",
      "search rule for feature 7656\n",
      "no valid rule,skip 7656\n",
      "search rule for feature 8469\n",
      "no valid rule,skip 8469\n",
      "search rule for feature 8333\n",
      "no valid rule,skip 8333\n",
      "search rule for feature 6566\n",
      "no valid rule,skip 6566\n",
      "search rule for feature 8334\n",
      "check potential rule 8334 1.0880835731135132 1.0 7.777777777777778 501\n",
      "add rule [6702, 7654] 8334 (1.0880835731135132, 1.0, 7.777777777777778, 501)\n",
      "check potential rule 8334 1.0880835731135132 1.0 7.777777777777778 501\n",
      "add rule [6702, 7654] 8334 (1.0880835731135132, 1.0, 7.777777777777778, 501)\n",
      "check potential rule 6702 1.0419142340480494 3.9696969696969697 4.95959595959596 1106.0\n",
      "add rule [] 6702 (1.0419142340480494, 3.9696969696969697, 4.95959595959596, 1106.0)\n",
      "search rule for feature 5070\n",
      "check potential rule 5070 1.292609762748841 2.8686868686868685 38.0 665\n",
      "add rule [6702] 5070 (1.292609762748841, 2.8686868686868685, 38.0, 665)\n",
      "search rule for feature 7654\n",
      "check potential rule 7654 1.2291268323773104 3.8282828282828283 10.616161616161616 523\n",
      "add rule [6702, 5070] 7654 (1.2291268323773104, 3.8282828282828283, 10.616161616161616, 523)\n"
     ]
    }
   ],
   "source": [
    "x = X_train_raw.reshape(X_train_raw.shape[0],-1).numpy()\n",
    "y_rule_candidates = rlm.gen_rule_list_for_one_target_greedy(x,fids,pred_y>y_thd,y=y_train,c=1,sort_by=\"cond_prob_y\",\n",
    "                                                            min_support=500,num_grids=100,max_depth=3,top_K=10,\n",
    "                                                            local_x=None,feature_types=feature_types*args.time_len,\n",
    "                                                            verbose=False)"
   ]
  },
  {
   "cell_type": "code",
   "execution_count": 83,
   "id": "3e2bdefe",
   "metadata": {
    "scrolled": true
   },
   "outputs": [
    {
     "data": {
      "text/plain": [
       "[{'rules': [(6702, 'MAP_ctime_t49', '>=', 42.0),\n",
       "   (6702, 'MAP_ctime_t49', '<=', 43.0),\n",
       "   (5070, 'MAP_ctime_t37', '>=', 30.0),\n",
       "   (5070, 'MAP_ctime_t37', '<=', 31.0),\n",
       "   (9013, 'SBP_ctime_t66', '>=', 58.0)],\n",
       "  'cond_prob_target': 0.8229571984435797,\n",
       "  'support': 514,\n",
       "  'cond_prob_y': 0.5,\n",
       "  'ratio_y': 0.1476163124641011},\n",
       " {'rules': [(6702, 'MAP_ctime_t49', '>=', 38.0),\n",
       "   (6702, 'MAP_ctime_t49', '<=', 49.0),\n",
       "   (5070, 'MAP_ctime_t37', '>=', 30.0),\n",
       "   (5070, 'MAP_ctime_t37', '<=', 31.0),\n",
       "   (7654, 'MAP_ctime_t56', '>=', 49.0)],\n",
       "  'cond_prob_target': 0.7584369449378331,\n",
       "  'support': 563,\n",
       "  'cond_prob_y': 0.458259325044405,\n",
       "  'ratio_y': 0.1481906950028719},\n",
       " {'rules': [(6702, 'MAP_ctime_t49', '>=', 39.0),\n",
       "   (6702, 'MAP_ctime_t49', '<=', 40.0),\n",
       "   (5070, 'MAP_ctime_t37', '>=', 27.0),\n",
       "   (5070, 'MAP_ctime_t37', '<=', 28.0),\n",
       "   (9013, 'SBP_ctime_t66', '>=', 56.0)],\n",
       "  'cond_prob_target': 0.7495590828924162,\n",
       "  'support': 567,\n",
       "  'cond_prob_y': 0.20987654320987653,\n",
       "  'ratio_y': 0.06835152211372775},\n",
       " {'rules': [(6702, 'MAP_ctime_t49', '>=', 39.0),\n",
       "   (6702, 'MAP_ctime_t49', '<=', 40.0),\n",
       "   (5070, 'MAP_ctime_t37', '>=', 27.0),\n",
       "   (5070, 'MAP_ctime_t37', '<=', 28.0),\n",
       "   (9013, 'SBP_ctime_t66', '>=', 56.0),\n",
       "   (9013, 'SBP_ctime_t66', '<=', 64.0)],\n",
       "  'cond_prob_target': 0.7473118279569892,\n",
       "  'support': 558,\n",
       "  'cond_prob_y': 0.2007168458781362,\n",
       "  'ratio_y': 0.064330844342332},\n",
       " {'rules': [(6702, 'MAP_ctime_t49', '>=', 38.0),\n",
       "   (6702, 'MAP_ctime_t49', '<=', 49.0),\n",
       "   (5070, 'MAP_ctime_t37', '>=', 27.0),\n",
       "   (5070, 'MAP_ctime_t37', '<=', 28.0),\n",
       "   (7654, 'MAP_ctime_t56', '>=', 46.0)],\n",
       "  'cond_prob_target': 0.6968253968253968,\n",
       "  'support': 630,\n",
       "  'cond_prob_y': 0.19523809523809524,\n",
       "  'ratio_y': 0.07064905226881103},\n",
       " {'rules': [(6702, 'MAP_ctime_t49', '>=', 39.0),\n",
       "   (6702, 'MAP_ctime_t49', '<=', 40.0),\n",
       "   (5070, 'MAP_ctime_t37', '>=', 27.0),\n",
       "   (5070, 'MAP_ctime_t37', '<=', 32.0),\n",
       "   (7654, 'MAP_ctime_t56', '>=', 46.0)],\n",
       "  'cond_prob_target': 0.6621621621621622,\n",
       "  'support': 666,\n",
       "  'cond_prob_y': 0.18468468468468469,\n",
       "  'ratio_y': 0.07064905226881103},\n",
       " {'rules': [(6702, 'MAP_ctime_t49', '==', 1.0),\n",
       "   (7654, 'MAP_ctime_t56', '<=', 3.0),\n",
       "   (8334, 'MAP_ctime_t61', '<=', 7.0)],\n",
       "  'cond_prob_target': 0.437125748502994,\n",
       "  'support': 501,\n",
       "  'cond_prob_y': 0.0998003992015968,\n",
       "  'ratio_y': 0.02871912693854107},\n",
       " {'rules': [(6702, 'MAP_ctime_t49', '==', 4.0),\n",
       "   (5070, 'MAP_ctime_t37', '>=', 3.0),\n",
       "   (7654, 'MAP_ctime_t56', '>=', 4.0),\n",
       "   (7654, 'MAP_ctime_t56', '<=', 10.0)],\n",
       "  'cond_prob_target': 0.27724665391969405,\n",
       "  'support': 523,\n",
       "  'cond_prob_y': 0.05927342256214149,\n",
       "  'ratio_y': 0.017805858701895463}]"
      ]
     },
     "execution_count": 83,
     "metadata": {},
     "output_type": "execute_result"
    }
   ],
   "source": [
    "for i, rules in enumerate(y_rule_candidates):   \n",
    "    rules[\"rules\"] = rlm.replace_feature_names(rules[\"rules\"],input_feature_names,time_index=True)\n",
    "    y_rule_candidates[i] = rules\n",
    "y_rule_candidates"
   ]
  },
  {
   "cell_type": "code",
   "execution_count": 71,
   "id": "be80def4",
   "metadata": {
    "scrolled": true
   },
   "outputs": [
    {
     "name": "stdout",
     "output_type": "stream",
     "text": [
      "build_rule_tree\n",
      "init rule tree\n",
      "search rule for feature 6702\n",
      "check potential rule 6702 1.110693849652196 7.92929292929293 18.81818181818182 10129\n",
      "add rule [] 6702 (1.110693849652196, 7.92929292929293, 18.81818181818182, 10129)\n",
      "search rule for feature 7654\n",
      "check potential rule 7654 1.00240665418354 8.919191919191919 57.0 10068\n",
      "add rule [6702] 7654 (1.00240665418354, 8.919191919191919, 57.0, 10068)\n",
      "search rule for feature 5070\n",
      "check potential rule 5070 1.0007315962736374 1.0 14.828282828282829 10038\n",
      "add rule [6702, 7654] 5070 (1.0007315962736374, 1.0, 14.828282828282829, 10038)\n",
      "check potential rule 7654 1.00240665418354 8.919191919191919 57.0 10068\n",
      "add rule [6702] 7654 (1.00240665418354, 8.919191919191919, 57.0, 10068)\n",
      "search rule for feature 5070\n",
      "check potential rule 5070 1.0007315962736374 1.0 14.828282828282829 10038\n",
      "add rule [6702, 7654] 5070 (1.0007315962736374, 1.0, 14.828282828282829, 10038)\n",
      "check potential rule 7654 1.00240665418354 8.919191919191919 57.0 10068\n",
      "add rule [6702] 7654 (1.00240665418354, 8.919191919191919, 57.0, 10068)\n",
      "search rule for feature 5070\n",
      "check potential rule 5070 1.0007315962736374 1.0 14.828282828282829 10038\n",
      "add rule [6702, 7654] 5070 (1.0007315962736374, 1.0, 14.828282828282829, 10038)\n",
      "check potential rule 6702 1.110693849652196 7.92929292929293 18.81818181818182 10129\n",
      "add rule [] 6702 (1.110693849652196, 7.92929292929293, 18.81818181818182, 10129)\n",
      "search rule for feature 7654\n",
      "check potential rule 7654 1.00240665418354 8.919191919191919 57.0 10068\n",
      "add rule [6702] 7654 (1.00240665418354, 8.919191919191919, 57.0, 10068)\n",
      "search rule for feature 5070\n",
      "check potential rule 5070 1.0007315962736374 1.0 14.828282828282829 10038\n",
      "add rule [6702, 7654] 5070 (1.0007315962736374, 1.0, 14.828282828282829, 10038)\n",
      "check potential rule 7654 1.00240665418354 8.919191919191919 57.0 10068\n",
      "add rule [6702] 7654 (1.00240665418354, 8.919191919191919, 57.0, 10068)\n",
      "search rule for feature 5070\n",
      "check potential rule 5070 1.0007315962736374 1.0 14.828282828282829 10038\n",
      "add rule [6702, 7654] 5070 (1.0007315962736374, 1.0, 14.828282828282829, 10038)\n",
      "check potential rule 7654 1.00240665418354 8.919191919191919 57.0 10068\n",
      "add rule [6702] 7654 (1.00240665418354, 8.919191919191919, 57.0, 10068)\n",
      "search rule for feature 5070\n",
      "check potential rule 5070 1.0007315962736374 1.0 14.828282828282829 10038\n",
      "add rule [6702, 7654] 5070 (1.0007315962736374, 1.0, 14.828282828282829, 10038)\n",
      "check potential rule 6702 1.110693849652196 7.92929292929293 18.81818181818182 10129\n",
      "add rule [] 6702 (1.110693849652196, 7.92929292929293, 18.81818181818182, 10129)\n",
      "search rule for feature 7654\n",
      "check potential rule 7654 1.00240665418354 8.919191919191919 57.0 10068\n",
      "add rule [6702] 7654 (1.00240665418354, 8.919191919191919, 57.0, 10068)\n",
      "search rule for feature 5070\n",
      "check potential rule 5070 1.0007315962736374 1.0 14.828282828282829 10038\n",
      "add rule [6702, 7654] 5070 (1.0007315962736374, 1.0, 14.828282828282829, 10038)\n",
      "check potential rule 7654 1.00240665418354 8.919191919191919 57.0 10068\n",
      "add rule [6702] 7654 (1.00240665418354, 8.919191919191919, 57.0, 10068)\n",
      "search rule for feature 5070\n",
      "check potential rule 5070 1.0007315962736374 1.0 14.828282828282829 10038\n",
      "add rule [6702, 7654] 5070 (1.0007315962736374, 1.0, 14.828282828282829, 10038)\n",
      "check potential rule 7654 1.00240665418354 8.919191919191919 57.0 10068\n",
      "add rule [6702] 7654 (1.00240665418354, 8.919191919191919, 57.0, 10068)\n",
      "search rule for feature 5070\n",
      "check potential rule 5070 1.0007315962736374 1.0 14.828282828282829 10038\n",
      "add rule [6702, 7654] 5070 (1.0007315962736374, 1.0, 14.828282828282829, 10038)\n",
      "check potential rule 6702 1.1094731841424037 7.92929292929293 19.80808080808081 10636\n",
      "add rule [] 6702 (1.1094731841424037, 7.92929292929293, 19.80808080808081, 10636)\n",
      "search rule for feature 7654\n",
      "check potential rule 7654 1.0159518990386875 14.575757575757574 57.0 10047\n",
      "add rule [6702] 7654 (1.0159518990386875, 14.575757575757574, 57.0, 10047)\n",
      "search rule for feature 5070\n",
      "check potential rule 5070 1.000876596000274 1.0 14.828282828282829 10002\n",
      "add rule [6702, 7654] 5070 (1.000876596000274, 1.0, 14.828282828282829, 10002)\n",
      "check potential rule 5070 1.000876596000274 1.0 14.828282828282829 10002\n",
      "add rule [6702, 7654] 5070 (1.000876596000274, 1.0, 14.828282828282829, 10002)\n",
      "check potential rule 5070 1.0002726472134373 1.0 17.81818181818182 10040\n",
      "add rule [6702, 7654] 5070 (1.0002726472134373, 1.0, 17.81818181818182, 10040)\n",
      "check potential rule 7654 1.0159518990386875 14.575757575757574 57.0 10047\n",
      "add rule [6702] 7654 (1.0159518990386875, 14.575757575757574, 57.0, 10047)\n",
      "search rule for feature 5070\n",
      "check potential rule 5070 1.000876596000274 1.0 14.828282828282829 10002\n",
      "add rule [6702, 7654] 5070 (1.000876596000274, 1.0, 14.828282828282829, 10002)\n",
      "check potential rule 5070 1.000876596000274 1.0 14.828282828282829 10002\n",
      "add rule [6702, 7654] 5070 (1.000876596000274, 1.0, 14.828282828282829, 10002)\n",
      "check potential rule 5070 1.0002726472134373 1.0 17.81818181818182 10040\n",
      "add rule [6702, 7654] 5070 (1.0002726472134373, 1.0, 17.81818181818182, 10040)\n",
      "check potential rule 7654 1.0159518990386875 14.575757575757574 57.0 10047\n",
      "add rule [6702] 7654 (1.0159518990386875, 14.575757575757574, 57.0, 10047)\n",
      "search rule for feature 5070\n",
      "check potential rule 5070 1.000876596000274 1.0 14.828282828282829 10002\n",
      "add rule [6702, 7654] 5070 (1.000876596000274, 1.0, 14.828282828282829, 10002)\n",
      "check potential rule 5070 1.000876596000274 1.0 14.828282828282829 10002\n",
      "add rule [6702, 7654] 5070 (1.000876596000274, 1.0, 14.828282828282829, 10002)\n",
      "check potential rule 5070 1.0002726472134373 1.0 17.81818181818182 10040\n",
      "add rule [6702, 7654] 5070 (1.0002726472134373, 1.0, 17.81818181818182, 10040)\n",
      "check potential rule 6702 1.1041445431990122 5.94949494949495 17.82828282828283 11426\n",
      "add rule [] 6702 (1.1041445431990122, 5.94949494949495, 17.82828282828283, 11426)\n",
      "search rule for feature 7654\n",
      "check potential rule 7654 1.0250531423649816 12.878787878787879 57.0 10424\n",
      "add rule [6702] 7654 (1.0250531423649816, 12.878787878787879, 57.0, 10424)\n",
      "search rule for feature 5070\n",
      "check potential rule 5070 1.0058685947865007 1.0 9.96969696969697 10015\n",
      "add rule [6702, 7654] 5070 (1.0058685947865007, 1.0, 9.96969696969697, 10015)\n",
      "check potential rule 5070 1.0058685947865007 1.0 9.96969696969697 10015\n",
      "add rule [6702, 7654] 5070 (1.0058685947865007, 1.0, 9.96969696969697, 10015)\n",
      "check potential rule 7654 1.0250531423649816 12.878787878787879 57.0 10424\n",
      "add rule [6702] 7654 (1.0250531423649816, 12.878787878787879, 57.0, 10424)\n",
      "search rule for feature 5070\n",
      "check potential rule 5070 1.0058685947865007 1.0 9.96969696969697 10015\n",
      "add rule [6702, 7654] 5070 (1.0058685947865007, 1.0, 9.96969696969697, 10015)\n",
      "check potential rule 5070 1.0058685947865007 1.0 9.96969696969697 10015\n",
      "add rule [6702, 7654] 5070 (1.0058685947865007, 1.0, 9.96969696969697, 10015)\n",
      "check potential rule 7654 1.0250531423649816 12.878787878787879 57.0 10424\n",
      "add rule [6702] 7654 (1.0250531423649816, 12.878787878787879, 57.0, 10424)\n",
      "search rule for feature 5070\n",
      "check potential rule 5070 1.0058685947865007 1.0 9.96969696969697 10015\n",
      "add rule [6702, 7654] 5070 (1.0058685947865007, 1.0, 9.96969696969697, 10015)\n",
      "check potential rule 5070 1.0058685947865007 1.0 9.96969696969697 10015\n",
      "add rule [6702, 7654] 5070 (1.0058685947865007, 1.0, 9.96969696969697, 10015)\n",
      "check potential rule 7654 1.0250531423649816 12.878787878787879 57.0 10424\n",
      "add rule [6702] 7654 (1.0250531423649816, 12.878787878787879, 57.0, 10424)\n",
      "search rule for feature 5070\n",
      "check potential rule 5070 1.0058685947865007 1.0 9.96969696969697 10015\n",
      "add rule [6702, 7654] 5070 (1.0058685947865007, 1.0, 9.96969696969697, 10015)\n",
      "check potential rule 5070 1.0058685947865007 1.0 9.96969696969697 10015\n",
      "add rule [6702, 7654] 5070 (1.0058685947865007, 1.0, 9.96969696969697, 10015)\n",
      "check potential rule 6702 1.0893500507016194 9.90909090909091 32.67676767676768 16950\n",
      "add rule [] 6702 (1.0893500507016194, 9.90909090909091, 32.67676767676768, 16950)\n",
      "search rule for feature 7654\n",
      "check potential rule 7654 1.0168909996958848 16.838383838383837 30.97979797979798 10337\n",
      "add rule [6702] 7654 (1.0168909996958848, 16.838383838383837, 30.97979797979798, 10337)\n",
      "search rule for feature 5070\n",
      "check potential rule 5070 1.0035842351334316 1.0 12.95959595959596 10017\n",
      "add rule [6702, 7654] 5070 (1.0035842351334316, 1.0, 12.95959595959596, 10017)\n",
      "check potential rule 5070 1.0035842351334316 1.0 12.95959595959596 10017\n",
      "add rule [6702, 7654] 5070 (1.0035842351334316, 1.0, 12.95959595959596, 10017)\n",
      "check potential rule 5070 1.0020624588673854 1.0 17.81818181818182 10293\n",
      "add rule [6702, 7654] 5070 (1.0020624588673854, 1.0, 17.81818181818182, 10293)\n",
      "check potential rule 7654 1.0168909996958848 16.838383838383837 30.97979797979798 10337\n",
      "add rule [6702] 7654 (1.0168909996958848, 16.838383838383837, 30.97979797979798, 10337)\n",
      "search rule for feature 5070\n"
     ]
    },
    {
     "name": "stdout",
     "output_type": "stream",
     "text": [
      "check potential rule 5070 1.0035842351334316 1.0 12.95959595959596 10017\n",
      "add rule [6702, 7654] 5070 (1.0035842351334316, 1.0, 12.95959595959596, 10017)\n",
      "check potential rule 5070 1.0035842351334316 1.0 12.95959595959596 10017\n",
      "add rule [6702, 7654] 5070 (1.0035842351334316, 1.0, 12.95959595959596, 10017)\n",
      "check potential rule 5070 1.0020624588673854 1.0 17.81818181818182 10293\n",
      "add rule [6702, 7654] 5070 (1.0020624588673854, 1.0, 17.81818181818182, 10293)\n",
      "check potential rule 7654 1.0168909996958848 16.838383838383837 30.97979797979798 10337\n",
      "add rule [6702] 7654 (1.0168909996958848, 16.838383838383837, 30.97979797979798, 10337)\n",
      "search rule for feature 5070\n",
      "check potential rule 5070 1.0035842351334316 1.0 12.95959595959596 10017\n",
      "add rule [6702, 7654] 5070 (1.0035842351334316, 1.0, 12.95959595959596, 10017)\n",
      "check potential rule 5070 1.0035842351334316 1.0 12.95959595959596 10017\n",
      "add rule [6702, 7654] 5070 (1.0035842351334316, 1.0, 12.95959595959596, 10017)\n",
      "check potential rule 5070 1.0020624588673854 1.0 17.81818181818182 10293\n",
      "add rule [6702, 7654] 5070 (1.0020624588673854, 1.0, 17.81818181818182, 10293)\n",
      "check potential rule 6702 1.0893500507016194 9.90909090909091 32.67676767676768 16950\n",
      "add rule [] 6702 (1.0893500507016194, 9.90909090909091, 32.67676767676768, 16950)\n",
      "search rule for feature 7654\n",
      "check potential rule 7654 1.0168909996958848 16.838383838383837 30.97979797979798 10337\n",
      "add rule [6702] 7654 (1.0168909996958848, 16.838383838383837, 30.97979797979798, 10337)\n",
      "search rule for feature 5070\n",
      "check potential rule 5070 1.0035842351334316 1.0 12.95959595959596 10017\n",
      "add rule [6702, 7654] 5070 (1.0035842351334316, 1.0, 12.95959595959596, 10017)\n",
      "check potential rule 5070 1.0035842351334316 1.0 12.95959595959596 10017\n",
      "add rule [6702, 7654] 5070 (1.0035842351334316, 1.0, 12.95959595959596, 10017)\n",
      "check potential rule 5070 1.0020624588673854 1.0 17.81818181818182 10293\n",
      "add rule [6702, 7654] 5070 (1.0020624588673854, 1.0, 17.81818181818182, 10293)\n",
      "check potential rule 7654 1.0168909996958848 16.838383838383837 30.97979797979798 10337\n",
      "add rule [6702] 7654 (1.0168909996958848, 16.838383838383837, 30.97979797979798, 10337)\n",
      "search rule for feature 5070\n",
      "check potential rule 5070 1.0035842351334316 1.0 12.95959595959596 10017\n",
      "add rule [6702, 7654] 5070 (1.0035842351334316, 1.0, 12.95959595959596, 10017)\n",
      "check potential rule 5070 1.0035842351334316 1.0 12.95959595959596 10017\n",
      "add rule [6702, 7654] 5070 (1.0035842351334316, 1.0, 12.95959595959596, 10017)\n",
      "check potential rule 5070 1.0020624588673854 1.0 17.81818181818182 10293\n",
      "add rule [6702, 7654] 5070 (1.0020624588673854, 1.0, 17.81818181818182, 10293)\n",
      "check potential rule 7654 1.0168909996958848 16.838383838383837 30.97979797979798 10337\n",
      "add rule [6702] 7654 (1.0168909996958848, 16.838383838383837, 30.97979797979798, 10337)\n",
      "search rule for feature 5070\n",
      "check potential rule 5070 1.0035842351334316 1.0 12.95959595959596 10017\n",
      "add rule [6702, 7654] 5070 (1.0035842351334316, 1.0, 12.95959595959596, 10017)\n",
      "check potential rule 5070 1.0035842351334316 1.0 12.95959595959596 10017\n",
      "add rule [6702, 7654] 5070 (1.0035842351334316, 1.0, 12.95959595959596, 10017)\n",
      "check potential rule 5070 1.0020624588673854 1.0 17.81818181818182 10293\n",
      "add rule [6702, 7654] 5070 (1.0020624588673854, 1.0, 17.81818181818182, 10293)\n",
      "check potential rule 6702 1.0893500507016194 9.90909090909091 32.67676767676768 16950\n",
      "add rule [] 6702 (1.0893500507016194, 9.90909090909091, 32.67676767676768, 16950)\n",
      "search rule for feature 7654\n",
      "check potential rule 7654 1.0168909996958848 16.838383838383837 30.97979797979798 10337\n",
      "add rule [6702] 7654 (1.0168909996958848, 16.838383838383837, 30.97979797979798, 10337)\n",
      "search rule for feature 5070\n",
      "check potential rule 5070 1.0035842351334316 1.0 12.95959595959596 10017\n",
      "add rule [6702, 7654] 5070 (1.0035842351334316, 1.0, 12.95959595959596, 10017)\n",
      "check potential rule 5070 1.0035842351334316 1.0 12.95959595959596 10017\n",
      "add rule [6702, 7654] 5070 (1.0035842351334316, 1.0, 12.95959595959596, 10017)\n",
      "check potential rule 5070 1.0020624588673854 1.0 17.81818181818182 10293\n",
      "add rule [6702, 7654] 5070 (1.0020624588673854, 1.0, 17.81818181818182, 10293)\n",
      "check potential rule 7654 1.0168909996958848 16.838383838383837 30.97979797979798 10337\n",
      "add rule [6702] 7654 (1.0168909996958848, 16.838383838383837, 30.97979797979798, 10337)\n",
      "search rule for feature 5070\n",
      "check potential rule 5070 1.0035842351334316 1.0 12.95959595959596 10017\n",
      "add rule [6702, 7654] 5070 (1.0035842351334316, 1.0, 12.95959595959596, 10017)\n",
      "check potential rule 5070 1.0035842351334316 1.0 12.95959595959596 10017\n",
      "add rule [6702, 7654] 5070 (1.0035842351334316, 1.0, 12.95959595959596, 10017)\n",
      "check potential rule 5070 1.0020624588673854 1.0 17.81818181818182 10293\n",
      "add rule [6702, 7654] 5070 (1.0020624588673854, 1.0, 17.81818181818182, 10293)\n",
      "check potential rule 7654 1.0168909996958848 16.838383838383837 30.97979797979798 10337\n",
      "add rule [6702] 7654 (1.0168909996958848, 16.838383838383837, 30.97979797979798, 10337)\n",
      "search rule for feature 5070\n",
      "check potential rule 5070 1.0035842351334316 1.0 12.95959595959596 10017\n",
      "add rule [6702, 7654] 5070 (1.0035842351334316, 1.0, 12.95959595959596, 10017)\n",
      "check potential rule 5070 1.0035842351334316 1.0 12.95959595959596 10017\n",
      "add rule [6702, 7654] 5070 (1.0035842351334316, 1.0, 12.95959595959596, 10017)\n",
      "check potential rule 5070 1.0020624588673854 1.0 17.81818181818182 10293\n",
      "add rule [6702, 7654] 5070 (1.0020624588673854, 1.0, 17.81818181818182, 10293)\n"
     ]
    }
   ],
   "source": [
    "y_rule_candidates = rlm.gen_rule_list_for_one_target_greedy(x,fids,pred_y<=y_thd,y=y_train,c=0,sort_by=\"cond_prob_y\",\n",
    "                                                            min_support=10000,num_grids=100,max_depth=3,top_K=10,\n",
    "                                                            local_x=None,feature_types=feature_types*args.time_len,\n",
    "                                                            verbose=False)"
   ]
  },
  {
   "cell_type": "code",
   "execution_count": 72,
   "id": "7982d91a",
   "metadata": {},
   "outputs": [
    {
     "data": {
      "text/plain": [
       "[{'rules': [(6702, 'MAP_ctime_t49', '>=', 6.0),\n",
       "   (6702, 'MAP_ctime_t49', '<=', 17.0),\n",
       "   (7654, 'MAP_ctime_t56', '>=', 13.0),\n",
       "   (5070, 'MAP_ctime_t37', '>=', 1.0),\n",
       "   (5070, 'MAP_ctime_t37', '<=', 9.0)],\n",
       "  'cond_prob_target': 0.9477783325012481,\n",
       "  'support': 10015,\n",
       "  'cond_prob_y': 0.9794308537194208,\n",
       "  'ratio_y': 0.3213431613431613},\n",
       " {'rules': [(6702, 'MAP_ctime_t49', '>=', 8.0),\n",
       "   (6702, 'MAP_ctime_t49', '<=', 19.0),\n",
       "   (7654, 'MAP_ctime_t56', '>=', 15.0),\n",
       "   (5070, 'MAP_ctime_t37', '>=', 1.0),\n",
       "   (5070, 'MAP_ctime_t37', '<=', 17.0)],\n",
       "  'cond_prob_target': 0.9386454183266932,\n",
       "  'support': 10040,\n",
       "  'cond_prob_y': 0.9771912350597609,\n",
       "  'ratio_y': 0.3214086814086814},\n",
       " {'rules': [(6702, 'MAP_ctime_t49', '>=', 8.0),\n",
       "   (6702, 'MAP_ctime_t49', '<=', 19.0),\n",
       "   (7654, 'MAP_ctime_t56', '>=', 15.0),\n",
       "   (5070, 'MAP_ctime_t37', '>=', 1.0),\n",
       "   (5070, 'MAP_ctime_t37', '<=', 14.0)],\n",
       "  'cond_prob_target': 0.9392121575684863,\n",
       "  'support': 10002,\n",
       "  'cond_prob_y': 0.9771045790841831,\n",
       "  'ratio_y': 0.32016380016380014},\n",
       " {'rules': [(6702, 'MAP_ctime_t49', '>=', 8.0),\n",
       "   (6702, 'MAP_ctime_t49', '<=', 18.0),\n",
       "   (7654, 'MAP_ctime_t56', '>=', 9.0),\n",
       "   (5070, 'MAP_ctime_t37', '>=', 1.0),\n",
       "   (5070, 'MAP_ctime_t37', '<=', 14.0)],\n",
       "  'cond_prob_target': 0.9275752141860929,\n",
       "  'support': 10038,\n",
       "  'cond_prob_y': 0.9754931261207412,\n",
       "  'ratio_y': 0.3207862407862408},\n",
       " {'rules': [(6702, 'MAP_ctime_t49', '>=', 10.0),\n",
       "   (6702, 'MAP_ctime_t49', '<=', 32.0),\n",
       "   (7654, 'MAP_ctime_t56', '>=', 17.0),\n",
       "   (7654, 'MAP_ctime_t56', '<=', 30.0),\n",
       "   (5070, 'MAP_ctime_t37', '<=', 17.0)],\n",
       "  'cond_prob_target': 0.9241231905178277,\n",
       "  'support': 10293,\n",
       "  'cond_prob_y': 0.9733799669678422,\n",
       "  'ratio_y': 0.32822276822276825},\n",
       " {'rules': [(6702, 'MAP_ctime_t49', '>=', 10.0),\n",
       "   (6702, 'MAP_ctime_t49', '<=', 32.0),\n",
       "   (7654, 'MAP_ctime_t56', '>=', 17.0),\n",
       "   (7654, 'MAP_ctime_t56', '<=', 30.0),\n",
       "   (5070, 'MAP_ctime_t37', '<=', 12.0)],\n",
       "  'cond_prob_target': 0.9255266047718878,\n",
       "  'support': 10017,\n",
       "  'cond_prob_y': 0.9733453129679545,\n",
       "  'ratio_y': 0.3194103194103194}]"
      ]
     },
     "execution_count": 72,
     "metadata": {},
     "output_type": "execute_result"
    }
   ],
   "source": [
    "for i, rules in enumerate(y_rule_candidates):   \n",
    "    rules[\"rules\"] = rlm.replace_feature_names(rules[\"rules\"],input_feature_names,time_index=True)\n",
    "    y_rule_candidates[i] = rules\n",
    "y_rule_candidates"
   ]
  },
  {
   "cell_type": "code",
   "execution_count": null,
   "id": "8fcf55ae",
   "metadata": {},
   "outputs": [],
   "source": []
  },
  {
   "cell_type": "code",
   "execution_count": 51,
   "id": "e5d1db33",
   "metadata": {},
   "outputs": [
    {
     "data": {
      "text/plain": [
       "(-0.9137324, 1.0, 0.28623667)"
      ]
     },
     "execution_count": 51,
     "metadata": {},
     "output_type": "execute_result"
    }
   ],
   "source": [
    "pred_y_t = sp.special.expit(pred_y_test)\n",
    "tid = np.arange(len(y_test))[y_test==1][3]\n",
    "x = X_train_raw.reshape(X_train_raw.shape[0],-1).numpy()\n",
    "xi = X_test_raw[tid,:,:]\n",
    "pred_y_test[tid],y_test[tid],pred_y_t[tid]"
   ]
  },
  {
   "cell_type": "code",
   "execution_count": 52,
   "id": "aaff6db0",
   "metadata": {},
   "outputs": [],
   "source": [
    "## check global rules that match the selected sample\n",
    "match = rlm.match_sample_rules(xi.reshape(-1),y_rule_candidates,time_dim=False,num_latent_per_time=2)\n",
    "for mr in match:\n",
    "    print(rlm.display_rules(mr,x,pred_y_train>=0.8,y=y_train,c=1,verbose=False))"
   ]
  },
  {
   "cell_type": "code",
   "execution_count": 53,
   "id": "c3a8025d",
   "metadata": {},
   "outputs": [
    {
     "name": "stdout",
     "output_type": "stream",
     "text": [
      "build_rule_tree\n",
      "init rule tree\n",
      "search rule for feature 6702\n",
      "no matched interval, search from local val grid\n",
      "check potential rule 6702 1.468689549221561 1.0 2.97979797979798 2254\n",
      "add rule [] 6702 (1.468689549221561, 1.0, 2.97979797979798, 2254)\n",
      "search rule for feature 6157\n",
      "check potential rule 6157 1.184739737026169 1.9090909090909092 46.0 1037\n",
      "add rule [6702] 6157 (1.184739737026169, 1.9090909090909092, 46.0, 1037)\n",
      "search rule for feature 7654\n",
      "check potential rule 7654 1.9113657141171958 1.0 4.959595959595959 534\n",
      "add rule [6702, 6157] 7654 (1.9113657141171958, 1.0, 4.959595959595959, 534)\n",
      "search rule for feature 5070\n",
      "no matched interval, search from local val grid\n",
      "no valid rule,skip 5070\n",
      "search rule for feature 6021\n",
      "check potential rule 6021 1.0070874524714828 1.8888888888888888 45.0 526\n",
      "add rule [6702, 6157, 7654] 6021 (1.0070874524714828, 1.8888888888888888, 45.0, 526)\n",
      "search rule for feature 7656\n",
      "no matched interval, search from local val grid\n",
      "no valid rule,skip 7656\n",
      "search rule for feature 9149\n",
      "no matched interval, search from local val grid\n",
      "no valid rule,skip 9149\n",
      "search rule for feature 9424\n",
      "no matched interval, search from local val grid\n",
      "no valid rule,skip 9424\n",
      "search rule for feature 9013\n",
      "no matched interval, search from local val grid\n",
      "no valid rule,skip 9013\n",
      "search rule for feature 9693\n",
      "no matched interval, search from local val grid\n",
      "no valid rule,skip 9693\n",
      "search rule for feature 7651\n",
      "check potential rule 7651 1.00381679389313 1.0 48.515151515151516 524\n",
      "add rule [6702, 6157, 7654, 6021] 7651 (1.00381679389313, 1.0, 48.515151515151516, 524)\n",
      "check potential rule 6157 1.0380094192715257 1.9090909090909092 8.727272727272727 904\n",
      "add rule [6702] 6157 (1.0380094192715257, 1.9090909090909092, 8.727272727272727, 904)\n",
      "search rule for feature 7654\n",
      "check potential rule 7654 1.2565736128808063 1.0 7.787878787878787 712\n",
      "add rule [6702, 6157] 7654 (1.2565736128808063, 1.0, 7.787878787878787, 712)\n",
      "search rule for feature 5070\n",
      "no matched interval, search from local val grid\n",
      "no valid rule,skip 5070\n",
      "search rule for feature 6021\n",
      "check potential rule 6021 1.006547619047619 1.8888888888888888 45.0 700\n",
      "add rule [6702, 6157, 7654] 6021 (1.006547619047619, 1.8888888888888888, 45.0, 700)\n",
      "search rule for feature 7656\n",
      "no matched interval, search from local val grid\n",
      "no valid rule,skip 7656\n",
      "search rule for feature 9149\n",
      "check potential rule 9149 1.3623522025740296 1.676767676767677 16.565656565656568 503\n",
      "add rule [6702, 6157, 7654, 6021] 9149 (1.3623522025740296, 1.676767676767677, 16.565656565656568, 503)\n",
      "check potential rule 9149 1.3623522025740296 1.676767676767677 16.565656565656568 503\n",
      "add rule [6702, 6157, 7654, 6021] 9149 (1.3623522025740296, 1.676767676767677, 16.565656565656568, 503)\n",
      "check potential rule 9149 1.3623522025740296 1.676767676767677 16.565656565656568 503\n",
      "add rule [6702, 6157, 7654, 6021] 9149 (1.3623522025740296, 1.676767676767677, 16.565656565656568, 503)\n",
      "check potential rule 9149 1.3623522025740296 1.676767676767677 16.565656565656568 503\n",
      "add rule [6702, 6157, 7654, 6021] 9149 (1.3623522025740296, 1.676767676767677, 16.565656565656568, 503)\n",
      "check potential rule 6157 1.0305777816119222 1.9090909090909092 40.54545454545455 995\n",
      "add rule [6702] 6157 (1.0305777816119222, 1.9090909090909092, 40.54545454545455, 995)\n",
      "search rule for feature 7654\n",
      "check potential rule 7654 1.944010271296193 1.0 4.959595959595959 507\n",
      "add rule [6702, 6157] 7654 (1.944010271296193, 1.0, 4.959595959595959, 507)\n",
      "search rule for feature 5070\n",
      "no matched interval, search from local val grid\n",
      "no valid rule,skip 5070\n",
      "search rule for feature 6021\n",
      "no matched interval, search from local val grid\n",
      "no valid rule,skip 6021\n",
      "search rule for feature 7656\n",
      "no matched interval, search from local val grid\n",
      "no valid rule,skip 7656\n",
      "search rule for feature 9149\n",
      "no matched interval, search from local val grid\n",
      "no valid rule,skip 9149\n",
      "search rule for feature 9424\n",
      "no matched interval, search from local val grid\n",
      "no valid rule,skip 9424\n",
      "search rule for feature 9013\n",
      "no matched interval, search from local val grid\n",
      "no valid rule,skip 9013\n",
      "search rule for feature 9693\n",
      "no matched interval, search from local val grid\n",
      "no valid rule,skip 9693\n",
      "search rule for feature 7651\n",
      "check potential rule 7651 1.003960396039604 1.0 48.515151515151516 505\n",
      "add rule [6702, 6157, 7654] 7651 (1.003960396039604, 1.0, 48.515151515151516, 505)\n",
      "search rule for feature 9421\n",
      "no matched interval, search from local val grid\n",
      "no valid rule,skip 9421\n",
      "search rule for feature 4662\n",
      "no matched interval, search from local val grid\n",
      "no valid rule,skip 4662\n",
      "search rule for feature 9016\n",
      "no matched interval, search from local val grid\n",
      "no valid rule,skip 9016\n",
      "search rule for feature 9150\n",
      "no matched interval, search from local val grid\n",
      "no valid rule,skip 9150\n",
      "search rule for feature 8064\n",
      "no matched interval, search from local val grid\n",
      "no valid rule,skip 8064\n",
      "search rule for feature 8334\n",
      "no matched interval, search from local val grid\n",
      "no valid rule,skip 8334\n",
      "search rule for feature 7925\n",
      "no matched interval, search from local val grid\n",
      "no valid rule,skip 7925\n",
      "search rule for feature 6294\n",
      "no matched interval, search from local val grid\n",
      "no valid rule,skip 6294\n",
      "search rule for feature 9690\n",
      "no matched interval, search from local val grid\n",
      "no valid rule,skip 9690\n",
      "search rule for feature 6566\n",
      "no matched interval, search from local val grid\n",
      "no valid rule,skip 6566\n",
      "search rule for feature 7922\n",
      "no matched interval, search from local val grid\n",
      "no valid rule,skip 7922\n",
      "search rule for feature 8059\n",
      "no matched interval, search from local val grid\n",
      "no valid rule,skip 8059\n",
      "search rule for feature 9418\n",
      "no matched interval, search from local val grid\n",
      "no valid rule,skip 9418\n",
      "search rule for feature 6154\n",
      "check potential rule 6154 1.001984126984127 1.0 6.909090909090909 504\n",
      "add rule [6702, 6157, 7654, 7651] 6154 (1.001984126984127, 1.0, 6.909090909090909, 504)\n",
      "check potential rule 6157 1.0221004850655686 1.9090909090909092 17.818181818181817 937\n",
      "add rule [6702] 6157 (1.0221004850655686, 1.9090909090909092, 17.818181818181817, 937)\n",
      "search rule for feature 7654\n",
      "check potential rule 7654 1.261952861952862 1.0 7.787878787878787 735\n",
      "add rule [6702, 6157] 7654 (1.261952861952862, 1.0, 7.787878787878787, 735)\n",
      "search rule for feature 5070\n",
      "no matched interval, search from local val grid\n",
      "no valid rule,skip 5070\n",
      "search rule for feature 6021\n",
      "check potential rule 6021 1.0178571428571428 1.8888888888888888 8.555555555555555 700\n",
      "add rule [6702, 6157, 7654] 6021 (1.0178571428571428, 1.8888888888888888, 8.555555555555555, 700)\n",
      "search rule for feature 7656\n",
      "no matched interval, search from local val grid\n",
      "no valid rule,skip 7656\n",
      "search rule for feature 9149\n",
      "check potential rule 9149 1.3623522025740296 1.676767676767677 16.565656565656568 503\n",
      "add rule [6702, 6157, 7654, 6021] 9149 (1.3623522025740296, 1.676767676767677, 16.565656565656568, 503)\n",
      "check potential rule 9149 1.3623522025740296 1.676767676767677 16.565656565656568 503\n",
      "add rule [6702, 6157, 7654, 6021] 9149 (1.3623522025740296, 1.676767676767677, 16.565656565656568, 503)\n",
      "check potential rule 9149 1.3623522025740296 1.676767676767677 16.565656565656568 503\n",
      "add rule [6702, 6157, 7654, 6021] 9149 (1.3623522025740296, 1.676767676767677, 16.565656565656568, 503)\n",
      "check potential rule 9149 1.3623522025740296 1.676767676767677 16.565656565656568 503\n",
      "add rule [6702, 6157, 7654, 6021] 9149 (1.3623522025740296, 1.676767676767677, 16.565656565656568, 503)\n",
      "check potential rule 6021 1.007617728531856 1.8888888888888888 16.555555555555557 722\n",
      "add rule [6702, 6157, 7654] 6021 (1.007617728531856, 1.8888888888888888, 16.555555555555557, 722)\n",
      "search rule for feature 7656\n",
      "no matched interval, search from local val grid\n",
      "no valid rule,skip 7656\n",
      "search rule for feature 9149\n",
      "check potential rule 9149 1.3734658811978402 1.676767676767677 16.565656565656568 504\n",
      "add rule [6702, 6157, 7654, 6021] 9149 (1.3734658811978402, 1.676767676767677, 16.565656565656568, 504)\n",
      "check potential rule 9149 1.3734658811978402 1.676767676767677 16.565656565656568 504\n",
      "add rule [6702, 6157, 7654, 6021] 9149 (1.3734658811978402, 1.676767676767677, 16.565656565656568, 504)\n",
      "check potential rule 9149 1.3734658811978402 1.676767676767677 16.565656565656568 504\n",
      "add rule [6702, 6157, 7654, 6021] 9149 (1.3734658811978402, 1.676767676767677, 16.565656565656568, 504)\n",
      "check potential rule 9149 1.3734658811978402 1.676767676767677 16.565656565656568 504\n",
      "add rule [6702, 6157, 7654, 6021] 9149 (1.3734658811978402, 1.676767676767677, 16.565656565656568, 504)\n",
      "check potential rule 6157 1.0172671923345642 1.9090909090909092 36.90909090909091 989\n",
      "add rule [6702] 6157 (1.0172671923345642, 1.9090909090909092, 36.90909090909091, 989)\n",
      "search rule for feature 7654\n",
      "check potential rule 7654 1.9472969873069277 1.0 4.959595959595959 503\n",
      "add rule [6702, 6157] 7654 (1.9472969873069277, 1.0, 4.959595959595959, 503)\n",
      "search rule for feature 5070\n",
      "no matched interval, search from local val grid\n",
      "no valid rule,skip 5070\n",
      "search rule for feature 6021\n",
      "no matched interval, search from local val grid\n",
      "no valid rule,skip 6021\n",
      "search rule for feature 7656\n"
     ]
    },
    {
     "name": "stdout",
     "output_type": "stream",
     "text": [
      "no matched interval, search from local val grid\n",
      "no valid rule,skip 7656\n",
      "search rule for feature 9149\n",
      "check potential rule 9149 1.00199203187251 1.676767676767677 57.84848484848485 502\n",
      "add rule [6702, 6157, 7654] 9149 (1.00199203187251, 1.676767676767677, 57.84848484848485, 502)\n",
      "search rule for feature 9424\n",
      "no matched interval, search from local val grid\n",
      "no valid rule,skip 9424\n",
      "search rule for feature 9013\n",
      "no matched interval, search from local val grid\n",
      "no valid rule,skip 9013\n",
      "search rule for feature 9693\n",
      "no matched interval, search from local val grid\n",
      "no valid rule,skip 9693\n",
      "search rule for feature 7651\n",
      "check potential rule 7651 1.0039999999999998 1.0 48.515151515151516 500\n",
      "add rule [6702, 6157, 7654, 9149] 7651 (1.0039999999999998, 1.0, 48.515151515151516, 500)\n",
      "check potential rule 7651 1.0039999999999998 1.0 48.515151515151516 500\n",
      "add rule [6702, 6157, 7654, 9149] 7651 (1.0039999999999998, 1.0, 48.515151515151516, 500)\n",
      "check potential rule 7651 1.0039999999999998 1.0 48.515151515151516 500\n",
      "add rule [6702, 6157, 7654, 9149] 7651 (1.0039999999999998, 1.0, 48.515151515151516, 500)\n",
      "check potential rule 6157 1.0067776202590644 1.9090909090909092 6.909090909090909 884\n",
      "add rule [6702] 6157 (1.0067776202590644, 1.9090909090909092, 6.909090909090909, 884)\n",
      "search rule for feature 7654\n",
      "check potential rule 7654 1.261747913921827 1.0 7.787878787878787 693\n",
      "add rule [6702, 6157] 7654 (1.261747913921827, 1.0, 7.787878787878787, 693)\n",
      "search rule for feature 5070\n",
      "no matched interval, search from local val grid\n",
      "no valid rule,skip 5070\n",
      "search rule for feature 6021\n",
      "check potential rule 6021 1.0064384954252794 1.8888888888888888 45.0 681\n",
      "add rule [6702, 6157, 7654] 6021 (1.0064384954252794, 1.8888888888888888, 45.0, 681)\n",
      "search rule for feature 7656\n",
      "no matched interval, search from local val grid\n",
      "no valid rule,skip 7656\n",
      "search rule for feature 9149\n",
      "check potential rule 9149 1.014903129657228 1.676767676767677 24.68686868686869 671\n",
      "add rule [6702, 6157, 7654, 6021] 9149 (1.014903129657228, 1.676767676767677, 24.68686868686869, 671)\n",
      "check potential rule 9149 1.014903129657228 1.676767676767677 24.68686868686869 671\n",
      "add rule [6702, 6157, 7654, 6021] 9149 (1.014903129657228, 1.676767676767677, 24.68686868686869, 671)\n",
      "check potential rule 9149 1.014903129657228 1.676767676767677 24.68686868686869 671\n",
      "add rule [6702, 6157, 7654, 6021] 9149 (1.014903129657228, 1.676767676767677, 24.68686868686869, 671)\n",
      "check potential rule 9149 1.014903129657228 1.676767676767677 24.68686868686869 671\n",
      "add rule [6702, 6157, 7654, 6021] 9149 (1.014903129657228, 1.676767676767677, 24.68686868686869, 671)\n",
      "check potential rule 6157 1.0048163072646696 1.9090909090909092 31.909090909090907 982\n",
      "add rule [6702] 6157 (1.0048163072646696, 1.9090909090909092, 31.909090909090907, 982)\n",
      "search rule for feature 7654\n",
      "check potential rule 7654 1.266110089869281 1.0 7.787878787878787 768\n",
      "add rule [6702, 6157] 7654 (1.266110089869281, 1.0, 7.787878787878787, 768)\n",
      "search rule for feature 5070\n",
      "no matched interval, search from local val grid\n",
      "no valid rule,skip 5070\n",
      "search rule for feature 6021\n",
      "check potential rule 6021 1.031966053748232 1.8888888888888888 8.555555555555555 700\n",
      "add rule [6702, 6157, 7654] 6021 (1.031966053748232, 1.8888888888888888, 8.555555555555555, 700)\n",
      "search rule for feature 7656\n",
      "no matched interval, search from local val grid\n",
      "no valid rule,skip 7656\n",
      "search rule for feature 9149\n",
      "check potential rule 9149 1.3623522025740296 1.676767676767677 16.565656565656568 503\n",
      "add rule [6702, 6157, 7654, 6021] 9149 (1.3623522025740296, 1.676767676767677, 16.565656565656568, 503)\n",
      "check potential rule 9149 1.3623522025740296 1.676767676767677 16.565656565656568 503\n",
      "add rule [6702, 6157, 7654, 6021] 9149 (1.3623522025740296, 1.676767676767677, 16.565656565656568, 503)\n",
      "check potential rule 9149 1.3623522025740296 1.676767676767677 16.565656565656568 503\n",
      "add rule [6702, 6157, 7654, 6021] 9149 (1.3623522025740296, 1.676767676767677, 16.565656565656568, 503)\n",
      "check potential rule 9149 1.3623522025740296 1.676767676767677 16.565656565656568 503\n",
      "add rule [6702, 6157, 7654, 6021] 9149 (1.3623522025740296, 1.676767676767677, 16.565656565656568, 503)\n",
      "check potential rule 6021 1.021584706947149 1.8888888888888888 16.555555555555557 722\n",
      "add rule [6702, 6157, 7654] 6021 (1.021584706947149, 1.8888888888888888, 16.555555555555557, 722)\n",
      "search rule for feature 7656\n",
      "no matched interval, search from local val grid\n",
      "no valid rule,skip 7656\n",
      "search rule for feature 9149\n",
      "check potential rule 9149 1.3734658811978402 1.676767676767677 16.565656565656568 504\n",
      "add rule [6702, 6157, 7654, 6021] 9149 (1.3734658811978402, 1.676767676767677, 16.565656565656568, 504)\n",
      "check potential rule 9149 1.3734658811978402 1.676767676767677 16.565656565656568 504\n",
      "add rule [6702, 6157, 7654, 6021] 9149 (1.3734658811978402, 1.676767676767677, 16.565656565656568, 504)\n",
      "check potential rule 9149 1.3734658811978402 1.676767676767677 16.565656565656568 504\n",
      "add rule [6702, 6157, 7654, 6021] 9149 (1.3734658811978402, 1.676767676767677, 16.565656565656568, 504)\n",
      "check potential rule 9149 1.3734658811978402 1.676767676767677 16.565656565656568 504\n",
      "add rule [6702, 6157, 7654, 6021] 9149 (1.3734658811978402, 1.676767676767677, 16.565656565656568, 504)\n",
      "check potential rule 6021 1.0071470723231264 1.8888888888888888 30.777777777777775 755\n",
      "add rule [6702, 6157, 7654] 6021 (1.0071470723231264, 1.8888888888888888, 30.777777777777775, 755)\n",
      "search rule for feature 7656\n",
      "check potential rule 7656 1.1107355864811133 1.0 6.656565656565657 503\n",
      "add rule [6702, 6157, 7654, 6021] 7656 (1.1107355864811133, 1.0, 6.656565656565657, 503)\n",
      "check potential rule 6157 1.0035082720424555 1.9090909090909092 26.909090909090907 964\n",
      "add rule [6702] 6157 (1.0035082720424555, 1.9090909090909092, 26.909090909090907, 964)\n",
      "search rule for feature 7654\n",
      "check potential rule 7654 1.267410358565737 1.0 7.787878787878787 753\n",
      "add rule [6702, 6157] 7654 (1.267410358565737, 1.0, 7.787878787878787, 753)\n",
      "search rule for feature 5070\n",
      "no matched interval, search from local val grid\n",
      "no valid rule,skip 5070\n",
      "search rule for feature 6021\n",
      "check potential rule 6021 1.0322510822510822 1.8888888888888888 8.555555555555555 700\n",
      "add rule [6702, 6157, 7654] 6021 (1.0322510822510822, 1.8888888888888888, 8.555555555555555, 700)\n",
      "search rule for feature 7656\n",
      "no matched interval, search from local val grid\n",
      "no valid rule,skip 7656\n",
      "search rule for feature 9149\n",
      "check potential rule 9149 1.3623522025740296 1.676767676767677 16.565656565656568 503\n",
      "add rule [6702, 6157, 7654, 6021] 9149 (1.3623522025740296, 1.676767676767677, 16.565656565656568, 503)\n",
      "check potential rule 9149 1.3623522025740296 1.676767676767677 16.565656565656568 503\n",
      "add rule [6702, 6157, 7654, 6021] 9149 (1.3623522025740296, 1.676767676767677, 16.565656565656568, 503)\n",
      "check potential rule 9149 1.3623522025740296 1.676767676767677 16.565656565656568 503\n",
      "add rule [6702, 6157, 7654, 6021] 9149 (1.3623522025740296, 1.676767676767677, 16.565656565656568, 503)\n",
      "check potential rule 9149 1.3623522025740296 1.676767676767677 16.565656565656568 503\n",
      "add rule [6702, 6157, 7654, 6021] 9149 (1.3623522025740296, 1.676767676767677, 16.565656565656568, 503)\n",
      "check potential rule 6021 1.021866868127256 1.8888888888888888 16.555555555555557 722\n",
      "add rule [6702, 6157, 7654] 6021 (1.021866868127256, 1.8888888888888888, 16.555555555555557, 722)\n",
      "search rule for feature 7656\n",
      "no matched interval, search from local val grid\n",
      "no valid rule,skip 7656\n",
      "search rule for feature 9149\n",
      "check potential rule 9149 1.3734658811978402 1.676767676767677 16.565656565656568 504\n",
      "add rule [6702, 6157, 7654, 6021] 9149 (1.3734658811978402, 1.676767676767677, 16.565656565656568, 504)\n",
      "check potential rule 9149 1.3734658811978402 1.676767676767677 16.565656565656568 504\n",
      "add rule [6702, 6157, 7654, 6021] 9149 (1.3734658811978402, 1.676767676767677, 16.565656565656568, 504)\n",
      "check potential rule 9149 1.3734658811978402 1.676767676767677 16.565656565656568 504\n",
      "add rule [6702, 6157, 7654, 6021] 9149 (1.3734658811978402, 1.676767676767677, 16.565656565656568, 504)\n",
      "check potential rule 9149 1.3734658811978402 1.676767676767677 16.565656565656568 504\n",
      "add rule [6702, 6157, 7654, 6021] 9149 (1.3734658811978402, 1.676767676767677, 16.565656565656568, 504)\n",
      "check potential rule 6021 1.005929742771848 1.8888888888888888 45.0 741\n",
      "add rule [6702, 6157, 7654] 6021 (1.005929742771848, 1.8888888888888888, 45.0, 741)\n",
      "search rule for feature 7656\n",
      "no matched interval, search from local val grid\n",
      "no valid rule,skip 7656\n",
      "search rule for feature 9149\n",
      "check potential rule 9149 1.395225947521866 1.676767676767677 16.565656565656568 504\n",
      "add rule [6702, 6157, 7654, 6021] 9149 (1.395225947521866, 1.676767676767677, 16.565656565656568, 504)\n",
      "check potential rule 9149 1.395225947521866 1.676767676767677 16.565656565656568 504\n",
      "add rule [6702, 6157, 7654, 6021] 9149 (1.395225947521866, 1.676767676767677, 16.565656565656568, 504)\n",
      "check potential rule 9149 1.395225947521866 1.676767676767677 16.565656565656568 504\n",
      "add rule [6702, 6157, 7654, 6021] 9149 (1.395225947521866, 1.676767676767677, 16.565656565656568, 504)\n",
      "check potential rule 9149 1.395225947521866 1.676767676767677 16.565656565656568 504\n",
      "add rule [6702, 6157, 7654, 6021] 9149 (1.395225947521866, 1.676767676767677, 16.565656565656568, 504)\n"
     ]
    }
   ],
   "source": [
    "## find local rules for pattern of class 1\n",
    "local_rules = rlm.gen_rule_list_for_one_target_greedy(x,fids,pred_y>=thd_h,y=y_train,c=1,sort_by=\"cond_prob_target\",\n",
    "                                                            min_support=500,num_grids=100,max_depth=5,top_K=10,\n",
    "                                                            local_x=xi.reshape(-1),feature_types=feature_types*args.time_len,\n",
    "                                                            verbose=False)"
   ]
  },
  {
   "cell_type": "code",
   "execution_count": null,
   "id": "d6e93efb",
   "metadata": {},
   "outputs": [],
   "source": [
    "for i, rules in enumerate(local_rules):   \n",
    "    rules[\"rules\"] = rlm.replace_feature_names(rules[\"rules\"],input_feature_names,time_index=True)\n",
    "    local_rules[i] = rules\n",
    "\n",
    "local_rules"
   ]
  },
  {
   "cell_type": "code",
   "execution_count": null,
   "id": "af7c98c0",
   "metadata": {
    "scrolled": true
   },
   "outputs": [],
   "source": [
    "## find local rules for pattern of class 0\n",
    "local_rules = rlm.gen_rule_list_for_one_target_greedy(x,fids,pred_y<=thd_l,y=y_train,c=0,sort_by=\"cond_prob_y\",\n",
    "                                                            min_support=5000,num_grids=100,max_depth=5,top_K=10,\n",
    "                                                            local_x=xi.reshape(-1),feature_types=feature_types*args.time_len,\n",
    "                                                            verbose=False)"
   ]
  },
  {
   "cell_type": "code",
   "execution_count": null,
   "id": "69a7fb51",
   "metadata": {
    "scrolled": true
   },
   "outputs": [],
   "source": [
    "for i, rules in enumerate(local_rules):   \n",
    "    rules[\"rules\"] = rlm.replace_feature_names(rules[\"rules\"],input_feature_names,time_index=True)\n",
    "    local_rules[i] = rules\n",
    "\n",
    "local_rules"
   ]
  },
  {
   "cell_type": "code",
   "execution_count": 62,
   "id": "d0337991",
   "metadata": {},
   "outputs": [],
   "source": [
    "from sklearn.tree import DecisionTreeClassifier,DecisionTreeRegressor\n",
    "from sklearn.tree import plot_tree,export_text,export_graphviz\n",
    "import explainer.DT_rules as dtr\n",
    "from explainer.DT_rules import obtain_rule_lists_from_DT,select_rule_list"
   ]
  },
  {
   "cell_type": "code",
   "execution_count": 63,
   "id": "42de650f",
   "metadata": {},
   "outputs": [
    {
     "data": {
      "text/html": [
       "<style>#sk-container-id-1 {color: black;background-color: white;}#sk-container-id-1 pre{padding: 0;}#sk-container-id-1 div.sk-toggleable {background-color: white;}#sk-container-id-1 label.sk-toggleable__label {cursor: pointer;display: block;width: 100%;margin-bottom: 0;padding: 0.3em;box-sizing: border-box;text-align: center;}#sk-container-id-1 label.sk-toggleable__label-arrow:before {content: \"▸\";float: left;margin-right: 0.25em;color: #696969;}#sk-container-id-1 label.sk-toggleable__label-arrow:hover:before {color: black;}#sk-container-id-1 div.sk-estimator:hover label.sk-toggleable__label-arrow:before {color: black;}#sk-container-id-1 div.sk-toggleable__content {max-height: 0;max-width: 0;overflow: hidden;text-align: left;background-color: #f0f8ff;}#sk-container-id-1 div.sk-toggleable__content pre {margin: 0.2em;color: black;border-radius: 0.25em;background-color: #f0f8ff;}#sk-container-id-1 input.sk-toggleable__control:checked~div.sk-toggleable__content {max-height: 200px;max-width: 100%;overflow: auto;}#sk-container-id-1 input.sk-toggleable__control:checked~label.sk-toggleable__label-arrow:before {content: \"▾\";}#sk-container-id-1 div.sk-estimator input.sk-toggleable__control:checked~label.sk-toggleable__label {background-color: #d4ebff;}#sk-container-id-1 div.sk-label input.sk-toggleable__control:checked~label.sk-toggleable__label {background-color: #d4ebff;}#sk-container-id-1 input.sk-hidden--visually {border: 0;clip: rect(1px 1px 1px 1px);clip: rect(1px, 1px, 1px, 1px);height: 1px;margin: -1px;overflow: hidden;padding: 0;position: absolute;width: 1px;}#sk-container-id-1 div.sk-estimator {font-family: monospace;background-color: #f0f8ff;border: 1px dotted black;border-radius: 0.25em;box-sizing: border-box;margin-bottom: 0.5em;}#sk-container-id-1 div.sk-estimator:hover {background-color: #d4ebff;}#sk-container-id-1 div.sk-parallel-item::after {content: \"\";width: 100%;border-bottom: 1px solid gray;flex-grow: 1;}#sk-container-id-1 div.sk-label:hover label.sk-toggleable__label {background-color: #d4ebff;}#sk-container-id-1 div.sk-serial::before {content: \"\";position: absolute;border-left: 1px solid gray;box-sizing: border-box;top: 0;bottom: 0;left: 50%;z-index: 0;}#sk-container-id-1 div.sk-serial {display: flex;flex-direction: column;align-items: center;background-color: white;padding-right: 0.2em;padding-left: 0.2em;position: relative;}#sk-container-id-1 div.sk-item {position: relative;z-index: 1;}#sk-container-id-1 div.sk-parallel {display: flex;align-items: stretch;justify-content: center;background-color: white;position: relative;}#sk-container-id-1 div.sk-item::before, #sk-container-id-1 div.sk-parallel-item::before {content: \"\";position: absolute;border-left: 1px solid gray;box-sizing: border-box;top: 0;bottom: 0;left: 50%;z-index: -1;}#sk-container-id-1 div.sk-parallel-item {display: flex;flex-direction: column;z-index: 1;position: relative;background-color: white;}#sk-container-id-1 div.sk-parallel-item:first-child::after {align-self: flex-end;width: 50%;}#sk-container-id-1 div.sk-parallel-item:last-child::after {align-self: flex-start;width: 50%;}#sk-container-id-1 div.sk-parallel-item:only-child::after {width: 0;}#sk-container-id-1 div.sk-dashed-wrapped {border: 1px dashed gray;margin: 0 0.4em 0.5em 0.4em;box-sizing: border-box;padding-bottom: 0.4em;background-color: white;}#sk-container-id-1 div.sk-label label {font-family: monospace;font-weight: bold;display: inline-block;line-height: 1.2em;}#sk-container-id-1 div.sk-label-container {text-align: center;}#sk-container-id-1 div.sk-container {/* jupyter's `normalize.less` sets `[hidden] { display: none; }` but bootstrap.min.css set `[hidden] { display: none !important; }` so we also need the `!important` here to be able to override the default hidden behavior on the sphinx rendered scikit-learn.org. See: https://github.com/scikit-learn/scikit-learn/issues/21755 */display: inline-block !important;position: relative;}#sk-container-id-1 div.sk-text-repr-fallback {display: none;}</style><div id=\"sk-container-id-1\" class=\"sk-top-container\"><div class=\"sk-text-repr-fallback\"><pre>DecisionTreeClassifier(max_depth=3, min_samples_leaf=1000)</pre><b>In a Jupyter environment, please rerun this cell to show the HTML representation or trust the notebook. <br />On GitHub, the HTML representation is unable to render, please try loading this page with nbviewer.org.</b></div><div class=\"sk-container\" hidden><div class=\"sk-item\"><div class=\"sk-estimator sk-toggleable\"><input class=\"sk-toggleable__control sk-hidden--visually\" id=\"sk-estimator-id-1\" type=\"checkbox\" checked><label for=\"sk-estimator-id-1\" class=\"sk-toggleable__label sk-toggleable__label-arrow\">DecisionTreeClassifier</label><div class=\"sk-toggleable__content\"><pre>DecisionTreeClassifier(max_depth=3, min_samples_leaf=1000)</pre></div></div></div></div></div>"
      ],
      "text/plain": [
       "DecisionTreeClassifier(max_depth=3, min_samples_leaf=1000)"
      ]
     },
     "execution_count": 63,
     "metadata": {},
     "output_type": "execute_result"
    }
   ],
   "source": [
    "X_tr = X_train_raw.reshape(X_train_raw.shape[0],-1).numpy()\n",
    "X_tr[np.isnan(X_tr)] = 0.\n",
    "treemodel = DecisionTreeClassifier(max_depth=3,min_samples_leaf=1000)\n",
    "treemodel.fit(X_tr,pred_y>y_thd)"
   ]
  },
  {
   "cell_type": "code",
   "execution_count": 64,
   "id": "ce866371",
   "metadata": {},
   "outputs": [],
   "source": [
    "feature_names = [f+\"_t\"+str(t) for t in range(args.time_len) for f in input_feature_names ]"
   ]
  },
  {
   "cell_type": "code",
   "execution_count": 65,
   "id": "802916d0",
   "metadata": {},
   "outputs": [
    {
     "data": {
      "text/plain": [
       "9792"
      ]
     },
     "execution_count": 65,
     "metadata": {},
     "output_type": "execute_result"
    }
   ],
   "source": [
    "len(feature_names)"
   ]
  },
  {
   "cell_type": "code",
   "execution_count": 66,
   "id": "ef53d6ef",
   "metadata": {},
   "outputs": [],
   "source": [
    "rule_list, rule_value_list, rule_support_list, new_lines = dtr.obtain_rule_lists_from_DT(treemodel,5,X_tr,y_train,pred_y>y_thd,np.arange(X_tr.shape[-1]),feature_names,c=1)"
   ]
  },
  {
   "cell_type": "code",
   "execution_count": 67,
   "id": "6ef32965",
   "metadata": {
    "scrolled": true
   },
   "outputs": [
    {
     "name": "stdout",
     "output_type": "stream",
     "text": [
      "#################\n",
      "[(4253, '<=', 17.5), (7888, '<=', 1.073), (9168, '<=', 67.5)]\n",
      "cond_prob_target 0.225 cond_prob_y 0.06 size 8220\n",
      "SBP_ctime_t31 <= 17.5\n",
      "HR_t58 <= 1.073\n",
      "Lactate_ctime_t67 <= 67.5\n",
      "#################\n",
      "[(4253, '<=', 17.5), (7888, '<=', 1.073), (9168, '>', 67.5)]\n",
      "cond_prob_target 0.02 cond_prob_y 0.016 size 18083\n",
      "SBP_ctime_t31 <= 17.5\n",
      "HR_t58 <= 1.073\n",
      "Lactate_ctime_t67 > 67.5\n",
      "#################\n",
      "[(4253, '<=', 17.5), (7888, '>', 1.073)]\n",
      "cond_prob_target 0.645 cond_prob_y 0.154 size 1343\n",
      "SBP_ctime_t31 <= 17.5\n",
      "HR_t58 > 1.073\n",
      "#################\n",
      "[(4253, '>', 17.5), (3708, '<=', 24.5), (1262, '<=', 4.5)]\n",
      "cond_prob_target 0.492 cond_prob_y 0.172 size 1600\n",
      "SBP_ctime_t31 > 17.5\n",
      "Temp_ctime_t27 <= 24.5\n",
      "MAP_ctime_t9 <= 4.5\n",
      "#################\n",
      "[(4253, '>', 17.5), (3708, '<=', 24.5), (1262, '>', 4.5)]\n",
      "cond_prob_target 0.063 cond_prob_y 0.019 size 1066\n",
      "SBP_ctime_t31 > 17.5\n",
      "Temp_ctime_t27 <= 24.5\n",
      "MAP_ctime_t9 > 4.5\n",
      "#################\n",
      "[(4253, '>', 17.5), (3708, '>', 24.5)]\n",
      "cond_prob_target 0.751 cond_prob_y 0.233 size 1954\n",
      "SBP_ctime_t31 > 17.5\n",
      "Temp_ctime_t27 > 24.5\n"
     ]
    }
   ],
   "source": [
    "select = [[],[],[]]\n",
    "for s in range(len(rule_list)):\n",
    "    select[0].append(rule_list[s])\n",
    "    #select[1].append(rule_value_list[s])\n",
    "    select[2].append(rule_support_list[s])\n",
    "    print('#################')\n",
    "    print(rule_list[s])\n",
    "    print('cond_prob_target',rule_support_list[s][1].round(3),'cond_prob_y',rule_support_list[s][2].round(3),'size',rule_support_list[s][0])\n",
    "    for r in rule_list[s]:\n",
    "        print(feature_names[r[0]],r[1],r[2])"
   ]
  },
  {
   "cell_type": "code",
   "execution_count": 160,
   "id": "3fa0044f",
   "metadata": {},
   "outputs": [
    {
     "data": {
      "text/html": [
       "<style>#sk-container-id-11 {color: black;background-color: white;}#sk-container-id-11 pre{padding: 0;}#sk-container-id-11 div.sk-toggleable {background-color: white;}#sk-container-id-11 label.sk-toggleable__label {cursor: pointer;display: block;width: 100%;margin-bottom: 0;padding: 0.3em;box-sizing: border-box;text-align: center;}#sk-container-id-11 label.sk-toggleable__label-arrow:before {content: \"▸\";float: left;margin-right: 0.25em;color: #696969;}#sk-container-id-11 label.sk-toggleable__label-arrow:hover:before {color: black;}#sk-container-id-11 div.sk-estimator:hover label.sk-toggleable__label-arrow:before {color: black;}#sk-container-id-11 div.sk-toggleable__content {max-height: 0;max-width: 0;overflow: hidden;text-align: left;background-color: #f0f8ff;}#sk-container-id-11 div.sk-toggleable__content pre {margin: 0.2em;color: black;border-radius: 0.25em;background-color: #f0f8ff;}#sk-container-id-11 input.sk-toggleable__control:checked~div.sk-toggleable__content {max-height: 200px;max-width: 100%;overflow: auto;}#sk-container-id-11 input.sk-toggleable__control:checked~label.sk-toggleable__label-arrow:before {content: \"▾\";}#sk-container-id-11 div.sk-estimator input.sk-toggleable__control:checked~label.sk-toggleable__label {background-color: #d4ebff;}#sk-container-id-11 div.sk-label input.sk-toggleable__control:checked~label.sk-toggleable__label {background-color: #d4ebff;}#sk-container-id-11 input.sk-hidden--visually {border: 0;clip: rect(1px 1px 1px 1px);clip: rect(1px, 1px, 1px, 1px);height: 1px;margin: -1px;overflow: hidden;padding: 0;position: absolute;width: 1px;}#sk-container-id-11 div.sk-estimator {font-family: monospace;background-color: #f0f8ff;border: 1px dotted black;border-radius: 0.25em;box-sizing: border-box;margin-bottom: 0.5em;}#sk-container-id-11 div.sk-estimator:hover {background-color: #d4ebff;}#sk-container-id-11 div.sk-parallel-item::after {content: \"\";width: 100%;border-bottom: 1px solid gray;flex-grow: 1;}#sk-container-id-11 div.sk-label:hover label.sk-toggleable__label {background-color: #d4ebff;}#sk-container-id-11 div.sk-serial::before {content: \"\";position: absolute;border-left: 1px solid gray;box-sizing: border-box;top: 0;bottom: 0;left: 50%;z-index: 0;}#sk-container-id-11 div.sk-serial {display: flex;flex-direction: column;align-items: center;background-color: white;padding-right: 0.2em;padding-left: 0.2em;position: relative;}#sk-container-id-11 div.sk-item {position: relative;z-index: 1;}#sk-container-id-11 div.sk-parallel {display: flex;align-items: stretch;justify-content: center;background-color: white;position: relative;}#sk-container-id-11 div.sk-item::before, #sk-container-id-11 div.sk-parallel-item::before {content: \"\";position: absolute;border-left: 1px solid gray;box-sizing: border-box;top: 0;bottom: 0;left: 50%;z-index: -1;}#sk-container-id-11 div.sk-parallel-item {display: flex;flex-direction: column;z-index: 1;position: relative;background-color: white;}#sk-container-id-11 div.sk-parallel-item:first-child::after {align-self: flex-end;width: 50%;}#sk-container-id-11 div.sk-parallel-item:last-child::after {align-self: flex-start;width: 50%;}#sk-container-id-11 div.sk-parallel-item:only-child::after {width: 0;}#sk-container-id-11 div.sk-dashed-wrapped {border: 1px dashed gray;margin: 0 0.4em 0.5em 0.4em;box-sizing: border-box;padding-bottom: 0.4em;background-color: white;}#sk-container-id-11 div.sk-label label {font-family: monospace;font-weight: bold;display: inline-block;line-height: 1.2em;}#sk-container-id-11 div.sk-label-container {text-align: center;}#sk-container-id-11 div.sk-container {/* jupyter's `normalize.less` sets `[hidden] { display: none; }` but bootstrap.min.css set `[hidden] { display: none !important; }` so we also need the `!important` here to be able to override the default hidden behavior on the sphinx rendered scikit-learn.org. See: https://github.com/scikit-learn/scikit-learn/issues/21755 */display: inline-block !important;position: relative;}#sk-container-id-11 div.sk-text-repr-fallback {display: none;}</style><div id=\"sk-container-id-11\" class=\"sk-top-container\"><div class=\"sk-text-repr-fallback\"><pre>DecisionTreeClassifier(max_depth=3, min_samples_leaf=20000)</pre><b>In a Jupyter environment, please rerun this cell to show the HTML representation or trust the notebook. <br />On GitHub, the HTML representation is unable to render, please try loading this page with nbviewer.org.</b></div><div class=\"sk-container\" hidden><div class=\"sk-item\"><div class=\"sk-estimator sk-toggleable\"><input class=\"sk-toggleable__control sk-hidden--visually\" id=\"sk-estimator-id-11\" type=\"checkbox\" checked><label for=\"sk-estimator-id-11\" class=\"sk-toggleable__label sk-toggleable__label-arrow\">DecisionTreeClassifier</label><div class=\"sk-toggleable__content\"><pre>DecisionTreeClassifier(max_depth=3, min_samples_leaf=20000)</pre></div></div></div></div></div>"
      ],
      "text/plain": [
       "DecisionTreeClassifier(max_depth=3, min_samples_leaf=20000)"
      ]
     },
     "execution_count": 160,
     "metadata": {},
     "output_type": "execute_result"
    }
   ],
   "source": [
    "treemodel = DecisionTreeClassifier(max_depth=3,min_samples_leaf=20000)\n",
    "treemodel.fit(X_tr,pred_y<y_thd)"
   ]
  },
  {
   "cell_type": "code",
   "execution_count": 161,
   "id": "88fb99f4",
   "metadata": {},
   "outputs": [
    {
     "ename": "IndexError",
     "evalue": "list index out of range",
     "output_type": "error",
     "traceback": [
      "\u001b[0;31m---------------------------------------------------------------------------\u001b[0m",
      "\u001b[0;31mIndexError\u001b[0m                                Traceback (most recent call last)",
      "Cell \u001b[0;32mIn[161], line 1\u001b[0m\n\u001b[0;32m----> 1\u001b[0m rule_list, rule_value_list, rule_support_list, new_lines \u001b[38;5;241m=\u001b[39m \u001b[43mdtr\u001b[49m\u001b[38;5;241;43m.\u001b[39;49m\u001b[43mobtain_rule_lists_from_DT\u001b[49m\u001b[43m(\u001b[49m\u001b[43mtreemodel\u001b[49m\u001b[43m,\u001b[49m\u001b[38;5;241;43m5\u001b[39;49m\u001b[43m,\u001b[49m\u001b[43mX_tr\u001b[49m\u001b[43m,\u001b[49m\u001b[43my_train\u001b[49m\u001b[43m,\u001b[49m\u001b[43mpred_y\u001b[49m\u001b[38;5;241;43m<\u001b[39;49m\u001b[43my_thd\u001b[49m\u001b[43m,\u001b[49m\u001b[43mnp\u001b[49m\u001b[38;5;241;43m.\u001b[39;49m\u001b[43marange\u001b[49m\u001b[43m(\u001b[49m\u001b[43mX_tr\u001b[49m\u001b[38;5;241;43m.\u001b[39;49m\u001b[43mshape\u001b[49m\u001b[43m[\u001b[49m\u001b[38;5;241;43m-\u001b[39;49m\u001b[38;5;241;43m1\u001b[39;49m\u001b[43m]\u001b[49m\u001b[43m)\u001b[49m\u001b[43m,\u001b[49m\u001b[43mfeature_names\u001b[49m\u001b[43m,\u001b[49m\u001b[43mc\u001b[49m\u001b[38;5;241;43m=\u001b[39;49m\u001b[38;5;241;43m0\u001b[39;49m\u001b[43m)\u001b[49m\n",
      "File \u001b[0;32m~/github/INSPIRE/code/notebooks/../explainer/DT_rules.py:55\u001b[0m, in \u001b[0;36mobtain_rule_lists_from_DT\u001b[0;34m(dtree, max_depth, x, y, z, feature_ids, input_feature_names, c)\u001b[0m\n\u001b[1;32m     53\u001b[0m     val \u001b[38;5;241m=\u001b[39m val[\u001b[38;5;241m0\u001b[39m]\n\u001b[1;32m     54\u001b[0m rule_value_list\u001b[38;5;241m.\u001b[39mappend(val)\n\u001b[0;32m---> 55\u001b[0m line \u001b[38;5;241m=\u001b[39m line\u001b[38;5;241m+\u001b[39m(\u001b[38;5;124m'\u001b[39m\u001b[38;5;124m cond_prob_target:\u001b[39m\u001b[38;5;124m'\u001b[39m\u001b[38;5;241m+\u001b[39m\u001b[38;5;28mstr\u001b[39m(\u001b[43mrule_support_list\u001b[49m\u001b[43m[\u001b[49m\u001b[38;5;241;43m-\u001b[39;49m\u001b[38;5;241;43m1\u001b[39;49m\u001b[43m]\u001b[49m[\u001b[38;5;241m1\u001b[39m]\u001b[38;5;241m.\u001b[39mround(\u001b[38;5;241m3\u001b[39m))\u001b[38;5;241m+\u001b[39m\u001b[38;5;124m'\u001b[39m\u001b[38;5;124m cond_prob_y:\u001b[39m\u001b[38;5;124m'\u001b[39m\u001b[38;5;241m+\u001b[39m\u001b[38;5;28mstr\u001b[39m(rule_support_list[\u001b[38;5;241m-\u001b[39m\u001b[38;5;241m1\u001b[39m][\u001b[38;5;241m2\u001b[39m]\u001b[38;5;241m.\u001b[39mround(\u001b[38;5;241m3\u001b[39m)))\n\u001b[1;32m     56\u001b[0m \u001b[38;5;66;03m#print(line)\u001b[39;00m\n\u001b[1;32m     57\u001b[0m new_lines\u001b[38;5;241m.\u001b[39mappend(line)\n",
      "\u001b[0;31mIndexError\u001b[0m: list index out of range"
     ]
    }
   ],
   "source": [
    "rule_list, rule_value_list, rule_support_list, new_lines = dtr.obtain_rule_lists_from_DT(treemodel,5,X_tr,y_train,pred_y<y_thd,np.arange(X_tr.shape[-1]),feature_names,c=0)"
   ]
  },
  {
   "cell_type": "code",
   "execution_count": 153,
   "id": "af3104a3",
   "metadata": {},
   "outputs": [
    {
     "name": "stdout",
     "output_type": "stream",
     "text": [
      "#################\n",
      "[(9700, '<=', 71.5)]\n",
      "cond_prob_target 0.629 cond_prob_y 0.914 size 14141\n",
      "FiO2_ctime_t71 <= 71.5\n",
      "#################\n",
      "[(9700, '>', 71.5)]\n",
      "cond_prob_target 0.878 cond_prob_y 0.971 size 18125\n",
      "FiO2_ctime_t71 > 71.5\n"
     ]
    }
   ],
   "source": [
    "select = [[],[],[]]\n",
    "for s in range(len(rule_list)):\n",
    "    select[0].append(rule_list[s])\n",
    "    #select[1].append(rule_value_list[s])\n",
    "    select[2].append(rule_support_list[s])\n",
    "    print('#################')\n",
    "    print(rule_list[s])\n",
    "    print('cond_prob_target',rule_support_list[s][1].round(3),'cond_prob_y',rule_support_list[s][2].round(3),'size',rule_support_list[s][0])\n",
    "    for r in rule_list[s]:\n",
    "        print(feature_names[r[0]],r[1],r[2])"
   ]
  },
  {
   "cell_type": "code",
   "execution_count": 159,
   "id": "318f6c83",
   "metadata": {},
   "outputs": [
    {
     "data": {
      "text/plain": [
       "(1741.0, 30525)"
      ]
     },
     "execution_count": 159,
     "metadata": {},
     "output_type": "execute_result"
    }
   ],
   "source": [
    "y_train.sum(),(y_train==0).sum()"
   ]
  },
  {
   "cell_type": "code",
   "execution_count": null,
   "id": "9c4ca4a6",
   "metadata": {},
   "outputs": [],
   "source": [
    "# z_int_g = (int_g/z_shift.unsqueeze(3)).numpy()\n",
    "# z_int_g[np.isnan(z_int_g)] = 0.\n",
    "\n",
    "# K = int(args.time_len * args.hidden_channels)\n",
    "# itemsets = transform_intgrad_to_itemsets(z_int_g,thd=0.01,K=K)\n",
    "# for k in range(K):\n",
    "#     print(k,len(itemsets[k]))\n",
    "\n",
    "# top_latent = torch.argsort(torch.abs(all_reps.reshape(all_reps.shape[0],-1)*linear_prams[0]).mean(dim=0),descending=True)[:20].numpy()\n",
    "# top_latent"
   ]
  },
  {
   "cell_type": "code",
   "execution_count": null,
   "id": "bc95dcb2",
   "metadata": {
    "scrolled": true
   },
   "outputs": [],
   "source": [
    "# latent_num = 2\n",
    "# z_rules = {}\n",
    "# zw = (linear_prams[0][0]>0).numpy()\n",
    "\n",
    "# for l in top_latent:\n",
    "#     l = int(l)\n",
    "#     print('### latent state {} ###'.format(l))\n",
    "#     time_step= int(l/latent_num)\n",
    "#     latent_id = int(l%latent_num)\n",
    "    \n",
    "#     z = all_reps[:,time_step,latent_id].numpy()\n",
    "#     x = X_train_raw[:,time_step,:].numpy()\n",
    "#     zw_pos = zw[l]\n",
    "\n",
    "#     itemsets_z = itemsets[l]\n",
    "    \n",
    "#     z_rules[l] = rlm.find_pattern_by_latent_state(x,z,itemsets_z,zw_pos,y=y_train,c=1,num_grids=100,omega=0.2,\n",
    "#                                                   min_support_pos=200,min_support_neg=2000,max_depth=10,\n",
    "#                                                   feature_types=feature_types,top_K=3,verbose=False)\n",
    "# #     z_rules[l] = rlm.find_pattern_by_latent_state(x,y_train,z,itemsets_z,zw_pos,c=1,num_grids=100,omega=0.2,\n",
    "# #                                                   min_support_pos=200,min_support_neg=2000,max_depth=5)\n",
    "    "
   ]
  },
  {
   "cell_type": "code",
   "execution_count": null,
   "id": "9abec2bb",
   "metadata": {
    "scrolled": true
   },
   "outputs": [],
   "source": [
    "# sorted_rules_pos = rlm.sort_rules(z_rules,input_feature_names,pos=True,sort_by=\"cond_prob_y\")\n",
    "# sorted_rules_pos"
   ]
  },
  {
   "cell_type": "code",
   "execution_count": null,
   "id": "c6d50543",
   "metadata": {},
   "outputs": [],
   "source": [
    "# sorted_rules_neg = rlm.sort_rules(z_rules,input_feature_names,pos=False)\n",
    "# sorted_rules_neg"
   ]
  },
  {
   "cell_type": "code",
   "execution_count": null,
   "id": "d3df210e",
   "metadata": {},
   "outputs": [],
   "source": []
  },
  {
   "cell_type": "code",
   "execution_count": null,
   "id": "3beb32a5",
   "metadata": {
    "scrolled": true
   },
   "outputs": [],
   "source": [
    "# y_rules = rlm.find_top_pattern_for_one_target(x,y_train,pred_y_train>=0.6,itemsets_y[0],c=1,num_grids=100,omega=0.2,\n",
    "#                                               min_support=500,max_depth=20,feature_types=feature_types*args.time_len,verbose=False)\n"
   ]
  },
  {
   "cell_type": "code",
   "execution_count": null,
   "id": "5f674808",
   "metadata": {},
   "outputs": [],
   "source": []
  }
 ],
 "metadata": {
  "kernelspec": {
   "display_name": "py39",
   "language": "python",
   "name": "py39"
  },
  "language_info": {
   "codemirror_mode": {
    "name": "ipython",
    "version": 3
   },
   "file_extension": ".py",
   "mimetype": "text/x-python",
   "name": "python",
   "nbconvert_exporter": "python",
   "pygments_lexer": "ipython3",
   "version": "3.9.15"
  }
 },
 "nbformat": 4,
 "nbformat_minor": 5
}
