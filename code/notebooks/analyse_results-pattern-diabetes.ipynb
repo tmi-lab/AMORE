{
 "cells": [
  {
   "cell_type": "code",
   "execution_count": 1,
   "id": "dad55ada",
   "metadata": {},
   "outputs": [],
   "source": [
    "import sys\n",
    "import os\n",
    "from importlib import reload\n",
    "here = os.getcwd()\n",
    "sys.path.append(os.path.join(here,\"../\"))"
   ]
  },
  {
   "cell_type": "code",
   "execution_count": 2,
   "id": "36cf7020",
   "metadata": {},
   "outputs": [],
   "source": [
    "#!/usr/bin/env python\n",
    "# coding: utf-8\n",
    "\n",
    "import dcarte\n",
    "\n",
    "import pandas as pd\n",
    "import numpy as np\n",
    "import scipy as sp\n",
    "import matplotlib.pyplot as plt\n",
    "import warnings\n",
    "warnings.filterwarnings(\"ignore\")\n",
    "\n",
    "\n",
    "from sklearn.model_selection import train_test_split\n",
    "from sklearn.metrics import f1_score,confusion_matrix,precision_score,recall_score,accuracy_score,roc_auc_score\n",
    "from sklearn.linear_model import LogisticRegression\n",
    "\n",
    "from sklearn.tree import DecisionTreeClassifier,DecisionTreeRegressor\n",
    "from sklearn.metrics import confusion_matrix\n",
    "from sklearn.tree import plot_tree,export_text,export_graphviz\n",
    "\n",
    "import ast\n",
    "import math\n",
    "import operator\n",
    "\n",
    "op_map = {'>=':operator.ge,'>':operator.gt,'<=':operator.le,'<':operator.lt,'==':operator.eq}\n",
    "\n",
    "\n",
    "\n",
    "\n",
    "import torch\n",
    "import umap\n",
    "import shap\n",
    "import gc\n"
   ]
  },
  {
   "cell_type": "code",
   "execution_count": 3,
   "id": "e3fcb161",
   "metadata": {},
   "outputs": [],
   "source": [
    "from utils.test_utils import make_results_filenames\n",
    "\n",
    "#from explainer.integrad import integrad\n",
    "from explainer.FPGrowth_tree import *\n",
    "from explainer.rule_pattern_miner import *\n",
    "from explainer.explainer_utils import *\n",
    "import explainer.RuleGrowth_tree as rgtree\n"
   ]
  },
  {
   "cell_type": "code",
   "execution_count": 4,
   "id": "dc3adde7",
   "metadata": {},
   "outputs": [],
   "source": [
    "def encode_one_hot(df,col_name):\n",
    "    df[col_name] = pd.Categorical(df[col_name])\n",
    "    one_hot = pd.get_dummies(df[col_name])\n",
    "    df = pd.concat([df, one_hot], axis=1)\n",
    "    df = df.drop(col_name,axis=1)\n",
    "    return df\n",
    "\n",
    "def min_max_normalization(df,col_name,min_val=None,max_val=None):\n",
    "    if min_val is None:\n",
    "        min_val = df[col_name].min()\n",
    "    if max_val is None:\n",
    "        max_val = df[col_name].max()\n",
    "    df[col_name] = (df[col_name]-min_val)/(max_val-min_val)\n",
    "    return df"
   ]
  },
  {
   "cell_type": "code",
   "execution_count": 5,
   "id": "7896cf1d",
   "metadata": {},
   "outputs": [],
   "source": [
    "def min_max_multicols(df,col_names,min_max_df=None):\n",
    "    if min_max_df is None:\n",
    "        min_max_df = pd.DataFrame(columns=col_names)\n",
    "        min_max_df.loc[\"min\"] = df.loc[:,min_max_df.columns].min(axis=0)\n",
    "        min_max_df.loc[\"max\"] = df.loc[:,min_max_df.columns].max(axis=0)\n",
    "    for cn in col_names:\n",
    "        df = min_max_normalization(df,cn,min_max_df.loc[\"min\",cn],min_max_df.loc[\"max\",cn])\n",
    "    return df, min_max_df\n",
    "\n",
    "def recover_feature_raw_value(fid,fval,featur_names,raw_min_max,ntype=\"min_max\"):\n",
    "    fn = featur_names[fid]\n",
    "    if ntype == \"min_max\":\n",
    "        mx = raw_min_max.loc[:,fn].max()\n",
    "        mi = raw_min_max.loc[:,fn].min()\n",
    "        return fval*(mx-mi)+mi\n",
    "    else:\n",
    "        raise TypeError(\"Not yet supported type\")"
   ]
  },
  {
   "cell_type": "code",
   "execution_count": 6,
   "id": "bef311ad",
   "metadata": {},
   "outputs": [
    {
     "data": {
      "text/plain": [
       "_StoreAction(option_strings=['--K'], dest='K', nargs=None, const=None, default=5, type=<class 'int'>, choices=None, required=False, help='K-fold cross-validation', metavar=None)"
      ]
     },
     "execution_count": 6,
     "metadata": {},
     "output_type": "execute_result"
    }
   ],
   "source": [
    "\n",
    "import argparse\n",
    "\n",
    "parser = argparse.ArgumentParser()\n",
    "parser.add_argument('--dpath',default='../data', help='Path to data file')\n",
    "parser.add_argument('--rpath',default='../experiments/results', help='Path to save results')\n",
    "parser.add_argument('--model_path',default='./results/models', help='Path to load model')\n",
    "parser.add_argument('--use_phys',action='store_true', help='Use physiology data or not')\n",
    "parser.add_argument('--seed',default=42,type=int, help='Random seed')\n",
    "parser.add_argument('--model_name',default='ncde',type=str, help='Model name')\n",
    "parser.add_argument('--device',default='cpu',type=str, help='cpu or cuda')\n",
    "parser.add_argument('--side_input',action='store_true', help='Use side input to final task')\n",
    "parser.add_argument('--concat_z',action='store_true', help='Concat hidden states for the final task')\n",
    "parser.add_argument('--time_intensity',action='store_true', help='Add time intensity')\n",
    "parser.add_argument('--intensity',action='store_true', help='Add X intensity')\n",
    "parser.add_argument('--time_len',default=12,type=int, help='Length of time indices')\n",
    "parser.add_argument('--hidden_channels',default=4,type=int, help='Dimension of hidden states z')\n",
    "parser.add_argument('--hidden_hidden_channels',default=32,type=int, help='Dimension of hidden units of f')\n",
    "parser.add_argument('--num_hidden_layers',default=4,type=int, help='Number of hidden layers of f')\n",
    "parser.add_argument('--interpolate',default='cubic_spline',type=str, help='Interpolation function name')\n",
    "parser.add_argument('--batch_size',default=1024,type=int, help='Batch size')\n",
    "parser.add_argument('--pos_weight',default=12,type=int, help='Weight of positive class')\n",
    "parser.add_argument('--max_epochs',default=500,type=int, help='Maximum epochs')\n",
    "parser.add_argument('--lr',default=0.0001,type=float, help='Raw learning rate')\n",
    "parser.add_argument('--K',default=5,type=int, help='K-fold cross-validation')"
   ]
  },
  {
   "cell_type": "code",
   "execution_count": 7,
   "id": "38d2839d",
   "metadata": {},
   "outputs": [
    {
     "name": "stdout",
     "output_type": "stream",
     "text": [
      "Namespace(dpath='/Users/chenyu/github/NDE-Models-DigitalHealth/data/processed/diabetes_prediction_dataset.csv', rpath='../experiments/results', model_path='./results/models', use_phys=False, seed=42, model_name='ncde', device='cpu', side_input=False, concat_z=False, time_intensity=False, intensity=False, time_len=12, hidden_channels=4, hidden_hidden_channels=32, num_hidden_layers=4, interpolate='cubic_spline', batch_size=1024, pos_weight=12, max_epochs=500, lr=0.0001, K=5)\n"
     ]
    }
   ],
   "source": [
    "args,_ = parser.parse_known_args()\n",
    "\n",
    "seed = args.seed\n",
    "torch.manual_seed(seed)\n",
    "np.random.seed(seed)\n",
    "\n",
    "pp = \"/Users/chenyu/github/NDE-Models-DigitalHealth/\"\n",
    "args.dpath = pp+\"data/processed/diabetes_prediction_dataset.csv\"\n",
    "print(args)"
   ]
  },
  {
   "cell_type": "code",
   "execution_count": 8,
   "id": "5f408692",
   "metadata": {},
   "outputs": [],
   "source": [
    "name = os.path.join(args.rpath,'diabetes')\n",
    "num_classes = 2\n",
    "#output_channels = 1"
   ]
  },
  {
   "cell_type": "code",
   "execution_count": 9,
   "id": "cb955000",
   "metadata": {},
   "outputs": [
    {
     "data": {
      "text/plain": [
       "(   gender   age  hypertension  heart_disease smoking_history    bmi  \\\n",
       " 0  Female  80.0             0              1           never  25.19   \n",
       " 1  Female  54.0             0              0         No Info  27.32   \n",
       " 2    Male  28.0             0              0           never  27.32   \n",
       " 3  Female  36.0             0              0         current  23.45   \n",
       " 4    Male  76.0             1              1         current  20.14   \n",
       " \n",
       "    HbA1c_level  blood_glucose_level  diabetes  \n",
       " 0          6.6                  140         0  \n",
       " 1          6.6                   80         0  \n",
       " 2          5.7                  158         0  \n",
       " 3          5.0                  155         0  \n",
       " 4          4.8                  155         0  ,\n",
       " (100000, 9))"
      ]
     },
     "execution_count": 9,
     "metadata": {},
     "output_type": "execute_result"
    }
   ],
   "source": [
    "df = pd.read_csv(args.dpath,header=1)\n",
    "df.head(),df.shape"
   ]
  },
  {
   "cell_type": "code",
   "execution_count": 10,
   "id": "4f9835b6",
   "metadata": {},
   "outputs": [
    {
     "data": {
      "text/html": [
       "<div>\n",
       "<style scoped>\n",
       "    .dataframe tbody tr th:only-of-type {\n",
       "        vertical-align: middle;\n",
       "    }\n",
       "\n",
       "    .dataframe tbody tr th {\n",
       "        vertical-align: top;\n",
       "    }\n",
       "\n",
       "    .dataframe thead th {\n",
       "        text-align: right;\n",
       "    }\n",
       "</style>\n",
       "<table border=\"1\" class=\"dataframe\">\n",
       "  <thead>\n",
       "    <tr style=\"text-align: right;\">\n",
       "      <th></th>\n",
       "      <th>age</th>\n",
       "      <th>hypertension</th>\n",
       "      <th>heart_disease</th>\n",
       "      <th>bmi</th>\n",
       "      <th>HbA1c_level</th>\n",
       "      <th>blood_glucose_level</th>\n",
       "      <th>diabetes</th>\n",
       "      <th>Female</th>\n",
       "      <th>Male</th>\n",
       "      <th>Other</th>\n",
       "      <th>No Info</th>\n",
       "      <th>current</th>\n",
       "      <th>ever</th>\n",
       "      <th>former</th>\n",
       "      <th>never</th>\n",
       "      <th>not current</th>\n",
       "    </tr>\n",
       "  </thead>\n",
       "  <tbody>\n",
       "    <tr>\n",
       "      <th>0</th>\n",
       "      <td>80.0</td>\n",
       "      <td>0</td>\n",
       "      <td>1</td>\n",
       "      <td>25.19</td>\n",
       "      <td>6.6</td>\n",
       "      <td>140</td>\n",
       "      <td>0</td>\n",
       "      <td>1</td>\n",
       "      <td>0</td>\n",
       "      <td>0</td>\n",
       "      <td>0</td>\n",
       "      <td>0</td>\n",
       "      <td>0</td>\n",
       "      <td>0</td>\n",
       "      <td>1</td>\n",
       "      <td>0</td>\n",
       "    </tr>\n",
       "    <tr>\n",
       "      <th>1</th>\n",
       "      <td>54.0</td>\n",
       "      <td>0</td>\n",
       "      <td>0</td>\n",
       "      <td>27.32</td>\n",
       "      <td>6.6</td>\n",
       "      <td>80</td>\n",
       "      <td>0</td>\n",
       "      <td>1</td>\n",
       "      <td>0</td>\n",
       "      <td>0</td>\n",
       "      <td>1</td>\n",
       "      <td>0</td>\n",
       "      <td>0</td>\n",
       "      <td>0</td>\n",
       "      <td>0</td>\n",
       "      <td>0</td>\n",
       "    </tr>\n",
       "    <tr>\n",
       "      <th>2</th>\n",
       "      <td>28.0</td>\n",
       "      <td>0</td>\n",
       "      <td>0</td>\n",
       "      <td>27.32</td>\n",
       "      <td>5.7</td>\n",
       "      <td>158</td>\n",
       "      <td>0</td>\n",
       "      <td>0</td>\n",
       "      <td>1</td>\n",
       "      <td>0</td>\n",
       "      <td>0</td>\n",
       "      <td>0</td>\n",
       "      <td>0</td>\n",
       "      <td>0</td>\n",
       "      <td>1</td>\n",
       "      <td>0</td>\n",
       "    </tr>\n",
       "    <tr>\n",
       "      <th>3</th>\n",
       "      <td>36.0</td>\n",
       "      <td>0</td>\n",
       "      <td>0</td>\n",
       "      <td>23.45</td>\n",
       "      <td>5.0</td>\n",
       "      <td>155</td>\n",
       "      <td>0</td>\n",
       "      <td>1</td>\n",
       "      <td>0</td>\n",
       "      <td>0</td>\n",
       "      <td>0</td>\n",
       "      <td>1</td>\n",
       "      <td>0</td>\n",
       "      <td>0</td>\n",
       "      <td>0</td>\n",
       "      <td>0</td>\n",
       "    </tr>\n",
       "    <tr>\n",
       "      <th>4</th>\n",
       "      <td>76.0</td>\n",
       "      <td>1</td>\n",
       "      <td>1</td>\n",
       "      <td>20.14</td>\n",
       "      <td>4.8</td>\n",
       "      <td>155</td>\n",
       "      <td>0</td>\n",
       "      <td>0</td>\n",
       "      <td>1</td>\n",
       "      <td>0</td>\n",
       "      <td>0</td>\n",
       "      <td>1</td>\n",
       "      <td>0</td>\n",
       "      <td>0</td>\n",
       "      <td>0</td>\n",
       "      <td>0</td>\n",
       "    </tr>\n",
       "  </tbody>\n",
       "</table>\n",
       "</div>"
      ],
      "text/plain": [
       "    age  hypertension  heart_disease    bmi  HbA1c_level  blood_glucose_level  \\\n",
       "0  80.0             0              1  25.19          6.6                  140   \n",
       "1  54.0             0              0  27.32          6.6                   80   \n",
       "2  28.0             0              0  27.32          5.7                  158   \n",
       "3  36.0             0              0  23.45          5.0                  155   \n",
       "4  76.0             1              1  20.14          4.8                  155   \n",
       "\n",
       "   diabetes  Female  Male  Other  No Info  current  ever  former  never  \\\n",
       "0         0       1     0      0        0        0     0       0      1   \n",
       "1         0       1     0      0        1        0     0       0      0   \n",
       "2         0       0     1      0        0        0     0       0      1   \n",
       "3         0       1     0      0        0        1     0       0      0   \n",
       "4         0       0     1      0        0        1     0       0      0   \n",
       "\n",
       "   not current  \n",
       "0            0  \n",
       "1            0  \n",
       "2            0  \n",
       "3            0  \n",
       "4            0  "
      ]
     },
     "execution_count": 10,
     "metadata": {},
     "output_type": "execute_result"
    }
   ],
   "source": [
    "df = encode_one_hot(df,'gender')\n",
    "df = encode_one_hot(df,'smoking_history')\n",
    "df.head()"
   ]
  },
  {
   "cell_type": "code",
   "execution_count": 11,
   "id": "9f7187fe",
   "metadata": {},
   "outputs": [],
   "source": [
    "from sklearn.model_selection import train_test_split\n",
    "X_train,X_test,y_train,y_test = train_test_split(df.drop('diabetes',axis=1),df['diabetes'],test_size=0.3,random_state=seed)"
   ]
  },
  {
   "cell_type": "code",
   "execution_count": 12,
   "id": "d1422b60",
   "metadata": {},
   "outputs": [],
   "source": [
    "X_train,min_max = min_max_multicols(X_train,col_names=['age','bmi','HbA1c_level','blood_glucose_level'])\n"
   ]
  },
  {
   "cell_type": "code",
   "execution_count": 13,
   "id": "2fc74f17",
   "metadata": {},
   "outputs": [
    {
     "data": {
      "text/html": [
       "<div>\n",
       "<style scoped>\n",
       "    .dataframe tbody tr th:only-of-type {\n",
       "        vertical-align: middle;\n",
       "    }\n",
       "\n",
       "    .dataframe tbody tr th {\n",
       "        vertical-align: top;\n",
       "    }\n",
       "\n",
       "    .dataframe thead th {\n",
       "        text-align: right;\n",
       "    }\n",
       "</style>\n",
       "<table border=\"1\" class=\"dataframe\">\n",
       "  <thead>\n",
       "    <tr style=\"text-align: right;\">\n",
       "      <th></th>\n",
       "      <th>age</th>\n",
       "      <th>bmi</th>\n",
       "      <th>HbA1c_level</th>\n",
       "      <th>blood_glucose_level</th>\n",
       "    </tr>\n",
       "  </thead>\n",
       "  <tbody>\n",
       "    <tr>\n",
       "      <th>min</th>\n",
       "      <td>0.08</td>\n",
       "      <td>10.01</td>\n",
       "      <td>3.5</td>\n",
       "      <td>80.0</td>\n",
       "    </tr>\n",
       "    <tr>\n",
       "      <th>max</th>\n",
       "      <td>80.00</td>\n",
       "      <td>91.82</td>\n",
       "      <td>9.0</td>\n",
       "      <td>300.0</td>\n",
       "    </tr>\n",
       "  </tbody>\n",
       "</table>\n",
       "</div>"
      ],
      "text/plain": [
       "       age    bmi  HbA1c_level  blood_glucose_level\n",
       "min   0.08  10.01          3.5                 80.0\n",
       "max  80.00  91.82          9.0                300.0"
      ]
     },
     "execution_count": 13,
     "metadata": {},
     "output_type": "execute_result"
    }
   ],
   "source": [
    "min_max"
   ]
  },
  {
   "cell_type": "code",
   "execution_count": 14,
   "id": "e33c3f6b",
   "metadata": {},
   "outputs": [
    {
     "data": {
      "text/html": [
       "<div>\n",
       "<style scoped>\n",
       "    .dataframe tbody tr th:only-of-type {\n",
       "        vertical-align: middle;\n",
       "    }\n",
       "\n",
       "    .dataframe tbody tr th {\n",
       "        vertical-align: top;\n",
       "    }\n",
       "\n",
       "    .dataframe thead th {\n",
       "        text-align: right;\n",
       "    }\n",
       "</style>\n",
       "<table border=\"1\" class=\"dataframe\">\n",
       "  <thead>\n",
       "    <tr style=\"text-align: right;\">\n",
       "      <th></th>\n",
       "      <th>age</th>\n",
       "      <th>hypertension</th>\n",
       "      <th>heart_disease</th>\n",
       "      <th>bmi</th>\n",
       "      <th>HbA1c_level</th>\n",
       "      <th>blood_glucose_level</th>\n",
       "      <th>Female</th>\n",
       "      <th>Male</th>\n",
       "      <th>Other</th>\n",
       "      <th>No Info</th>\n",
       "      <th>current</th>\n",
       "      <th>ever</th>\n",
       "      <th>former</th>\n",
       "      <th>never</th>\n",
       "      <th>not current</th>\n",
       "    </tr>\n",
       "  </thead>\n",
       "  <tbody>\n",
       "    <tr>\n",
       "      <th>76513</th>\n",
       "      <td>0.612112</td>\n",
       "      <td>0</td>\n",
       "      <td>0</td>\n",
       "      <td>0.211588</td>\n",
       "      <td>0.272727</td>\n",
       "      <td>0.340909</td>\n",
       "      <td>0</td>\n",
       "      <td>1</td>\n",
       "      <td>0</td>\n",
       "      <td>0</td>\n",
       "      <td>0</td>\n",
       "      <td>1</td>\n",
       "      <td>0</td>\n",
       "      <td>0</td>\n",
       "      <td>0</td>\n",
       "    </tr>\n",
       "    <tr>\n",
       "      <th>60406</th>\n",
       "      <td>0.799800</td>\n",
       "      <td>0</td>\n",
       "      <td>0</td>\n",
       "      <td>0.211588</td>\n",
       "      <td>0.000000</td>\n",
       "      <td>0.295455</td>\n",
       "      <td>0</td>\n",
       "      <td>1</td>\n",
       "      <td>0</td>\n",
       "      <td>0</td>\n",
       "      <td>0</td>\n",
       "      <td>0</td>\n",
       "      <td>0</td>\n",
       "      <td>1</td>\n",
       "      <td>0</td>\n",
       "    </tr>\n",
       "    <tr>\n",
       "      <th>27322</th>\n",
       "      <td>0.299299</td>\n",
       "      <td>0</td>\n",
       "      <td>0</td>\n",
       "      <td>0.211588</td>\n",
       "      <td>0.000000</td>\n",
       "      <td>0.227273</td>\n",
       "      <td>1</td>\n",
       "      <td>0</td>\n",
       "      <td>0</td>\n",
       "      <td>0</td>\n",
       "      <td>1</td>\n",
       "      <td>0</td>\n",
       "      <td>0</td>\n",
       "      <td>0</td>\n",
       "      <td>0</td>\n",
       "    </tr>\n",
       "    <tr>\n",
       "      <th>53699</th>\n",
       "      <td>0.687187</td>\n",
       "      <td>0</td>\n",
       "      <td>0</td>\n",
       "      <td>0.211588</td>\n",
       "      <td>0.545455</td>\n",
       "      <td>0.359091</td>\n",
       "      <td>1</td>\n",
       "      <td>0</td>\n",
       "      <td>0</td>\n",
       "      <td>0</td>\n",
       "      <td>1</td>\n",
       "      <td>0</td>\n",
       "      <td>0</td>\n",
       "      <td>0</td>\n",
       "      <td>0</td>\n",
       "    </tr>\n",
       "    <tr>\n",
       "      <th>65412</th>\n",
       "      <td>0.174174</td>\n",
       "      <td>0</td>\n",
       "      <td>0</td>\n",
       "      <td>0.134091</td>\n",
       "      <td>0.490909</td>\n",
       "      <td>0.022727</td>\n",
       "      <td>0</td>\n",
       "      <td>1</td>\n",
       "      <td>0</td>\n",
       "      <td>1</td>\n",
       "      <td>0</td>\n",
       "      <td>0</td>\n",
       "      <td>0</td>\n",
       "      <td>0</td>\n",
       "      <td>0</td>\n",
       "    </tr>\n",
       "  </tbody>\n",
       "</table>\n",
       "</div>"
      ],
      "text/plain": [
       "            age  hypertension  heart_disease       bmi  HbA1c_level  \\\n",
       "76513  0.612112             0              0  0.211588     0.272727   \n",
       "60406  0.799800             0              0  0.211588     0.000000   \n",
       "27322  0.299299             0              0  0.211588     0.000000   \n",
       "53699  0.687187             0              0  0.211588     0.545455   \n",
       "65412  0.174174             0              0  0.134091     0.490909   \n",
       "\n",
       "       blood_glucose_level  Female  Male  Other  No Info  current  ever  \\\n",
       "76513             0.340909       0     1      0        0        0     1   \n",
       "60406             0.295455       0     1      0        0        0     0   \n",
       "27322             0.227273       1     0      0        0        1     0   \n",
       "53699             0.359091       1     0      0        0        1     0   \n",
       "65412             0.022727       0     1      0        1        0     0   \n",
       "\n",
       "       former  never  not current  \n",
       "76513       0      0            0  \n",
       "60406       0      1            0  \n",
       "27322       0      0            0  \n",
       "53699       0      0            0  \n",
       "65412       0      0            0  "
      ]
     },
     "execution_count": 14,
     "metadata": {},
     "output_type": "execute_result"
    }
   ],
   "source": [
    "# X_train = min_max_normalization(X_train,'age')\n",
    "# X_train = min_max_normalization(X_train,'bmi')\n",
    "# X_train = min_max_normalization(X_train,'HbA1c_level')\n",
    "# X_train = min_max_normalization(X_train,'blood_glucose_level')\n",
    "X_train.head()"
   ]
  },
  {
   "cell_type": "code",
   "execution_count": 15,
   "id": "1f866ffa",
   "metadata": {},
   "outputs": [],
   "source": [
    "X_test,_ = min_max_multicols(X_test,col_names=min_max.columns,min_max_df=min_max)"
   ]
  },
  {
   "cell_type": "code",
   "execution_count": 16,
   "id": "e8c605ef",
   "metadata": {},
   "outputs": [
    {
     "data": {
      "text/html": [
       "<div>\n",
       "<style scoped>\n",
       "    .dataframe tbody tr th:only-of-type {\n",
       "        vertical-align: middle;\n",
       "    }\n",
       "\n",
       "    .dataframe tbody tr th {\n",
       "        vertical-align: top;\n",
       "    }\n",
       "\n",
       "    .dataframe thead th {\n",
       "        text-align: right;\n",
       "    }\n",
       "</style>\n",
       "<table border=\"1\" class=\"dataframe\">\n",
       "  <thead>\n",
       "    <tr style=\"text-align: right;\">\n",
       "      <th></th>\n",
       "      <th>age</th>\n",
       "      <th>hypertension</th>\n",
       "      <th>heart_disease</th>\n",
       "      <th>bmi</th>\n",
       "      <th>HbA1c_level</th>\n",
       "      <th>blood_glucose_level</th>\n",
       "      <th>Female</th>\n",
       "      <th>Male</th>\n",
       "      <th>Other</th>\n",
       "      <th>No Info</th>\n",
       "      <th>current</th>\n",
       "      <th>ever</th>\n",
       "      <th>former</th>\n",
       "      <th>never</th>\n",
       "      <th>not current</th>\n",
       "    </tr>\n",
       "  </thead>\n",
       "  <tbody>\n",
       "    <tr>\n",
       "      <th>75721</th>\n",
       "      <td>0.161662</td>\n",
       "      <td>0</td>\n",
       "      <td>0</td>\n",
       "      <td>0.132135</td>\n",
       "      <td>0.418182</td>\n",
       "      <td>0.209091</td>\n",
       "      <td>1</td>\n",
       "      <td>0</td>\n",
       "      <td>0</td>\n",
       "      <td>1</td>\n",
       "      <td>0</td>\n",
       "      <td>0</td>\n",
       "      <td>0</td>\n",
       "      <td>0</td>\n",
       "      <td>0</td>\n",
       "    </tr>\n",
       "    <tr>\n",
       "      <th>80184</th>\n",
       "      <td>0.036537</td>\n",
       "      <td>0</td>\n",
       "      <td>0</td>\n",
       "      <td>0.134336</td>\n",
       "      <td>0.272727</td>\n",
       "      <td>0.295455</td>\n",
       "      <td>1</td>\n",
       "      <td>0</td>\n",
       "      <td>0</td>\n",
       "      <td>1</td>\n",
       "      <td>0</td>\n",
       "      <td>0</td>\n",
       "      <td>0</td>\n",
       "      <td>0</td>\n",
       "      <td>0</td>\n",
       "    </tr>\n",
       "    <tr>\n",
       "      <th>19864</th>\n",
       "      <td>0.787287</td>\n",
       "      <td>0</td>\n",
       "      <td>0</td>\n",
       "      <td>0.187141</td>\n",
       "      <td>0.000000</td>\n",
       "      <td>0.545455</td>\n",
       "      <td>0</td>\n",
       "      <td>1</td>\n",
       "      <td>0</td>\n",
       "      <td>0</td>\n",
       "      <td>0</td>\n",
       "      <td>0</td>\n",
       "      <td>1</td>\n",
       "      <td>0</td>\n",
       "      <td>0</td>\n",
       "    </tr>\n",
       "    <tr>\n",
       "      <th>76699</th>\n",
       "      <td>0.024024</td>\n",
       "      <td>0</td>\n",
       "      <td>0</td>\n",
       "      <td>0.090698</td>\n",
       "      <td>0.472727</td>\n",
       "      <td>0.209091</td>\n",
       "      <td>1</td>\n",
       "      <td>0</td>\n",
       "      <td>0</td>\n",
       "      <td>0</td>\n",
       "      <td>0</td>\n",
       "      <td>0</td>\n",
       "      <td>0</td>\n",
       "      <td>1</td>\n",
       "      <td>0</td>\n",
       "    </tr>\n",
       "    <tr>\n",
       "      <th>92991</th>\n",
       "      <td>0.411912</td>\n",
       "      <td>0</td>\n",
       "      <td>0</td>\n",
       "      <td>0.367559</td>\n",
       "      <td>0.490909</td>\n",
       "      <td>0.545455</td>\n",
       "      <td>1</td>\n",
       "      <td>0</td>\n",
       "      <td>0</td>\n",
       "      <td>0</td>\n",
       "      <td>0</td>\n",
       "      <td>0</td>\n",
       "      <td>0</td>\n",
       "      <td>0</td>\n",
       "      <td>1</td>\n",
       "    </tr>\n",
       "  </tbody>\n",
       "</table>\n",
       "</div>"
      ],
      "text/plain": [
       "            age  hypertension  heart_disease       bmi  HbA1c_level  \\\n",
       "75721  0.161662             0              0  0.132135     0.418182   \n",
       "80184  0.036537             0              0  0.134336     0.272727   \n",
       "19864  0.787287             0              0  0.187141     0.000000   \n",
       "76699  0.024024             0              0  0.090698     0.472727   \n",
       "92991  0.411912             0              0  0.367559     0.490909   \n",
       "\n",
       "       blood_glucose_level  Female  Male  Other  No Info  current  ever  \\\n",
       "75721             0.209091       1     0      0        1        0     0   \n",
       "80184             0.295455       1     0      0        1        0     0   \n",
       "19864             0.545455       0     1      0        0        0     0   \n",
       "76699             0.209091       1     0      0        0        0     0   \n",
       "92991             0.545455       1     0      0        0        0     0   \n",
       "\n",
       "       former  never  not current  \n",
       "75721       0      0            0  \n",
       "80184       0      0            0  \n",
       "19864       1      0            0  \n",
       "76699       0      1            0  \n",
       "92991       0      0            1  "
      ]
     },
     "execution_count": 16,
     "metadata": {},
     "output_type": "execute_result"
    }
   ],
   "source": [
    "X_test.head()"
   ]
  },
  {
   "cell_type": "code",
   "execution_count": null,
   "id": "d66d3f2d",
   "metadata": {},
   "outputs": [],
   "source": []
  },
  {
   "cell_type": "code",
   "execution_count": null,
   "id": "b9247b43",
   "metadata": {},
   "outputs": [],
   "source": []
  },
  {
   "cell_type": "code",
   "execution_count": 17,
   "id": "51b37bf0",
   "metadata": {},
   "outputs": [],
   "source": [
    "from imblearn.over_sampling import SMOTE\n",
    "oversampler = SMOTE(random_state=seed)\n",
    "X_over, y_over = oversampler.fit_resample(X_train, y_train)"
   ]
  },
  {
   "cell_type": "code",
   "execution_count": 18,
   "id": "0c8ec21e",
   "metadata": {},
   "outputs": [],
   "source": [
    "log_reg = LogisticRegression(max_iter=2000,multi_class='ovr',random_state=seed)\n",
    "log_reg.fit(X_over,y_over)\n",
    "y_pred = log_reg.predict(X_test)\n"
   ]
  },
  {
   "cell_type": "code",
   "execution_count": 19,
   "id": "7e8f18eb",
   "metadata": {},
   "outputs": [
    {
     "data": {
      "text/plain": [
       "(88.82666666666667,\n",
       " array([[24405,  3048],\n",
       "        [  304,  2243]]),\n",
       " array([0.98769679, 0.42392742]),\n",
       " array([0.88897388, 0.88064389]))"
      ]
     },
     "execution_count": 19,
     "metadata": {},
     "output_type": "execute_result"
    }
   ],
   "source": [
    "accuracy = log_reg.score(X_test,y_test)*100\n",
    "\n",
    "confusion = confusion_matrix(y_test,y_pred)\n",
    "precision = precision_score(y_test,y_pred,average=None)\n",
    "recall = recall_score(y_test,y_pred,average=None)\n",
    "accuracy,confusion,precision,recall"
   ]
  },
  {
   "cell_type": "code",
   "execution_count": 20,
   "id": "9440f7cc",
   "metadata": {},
   "outputs": [
    {
     "data": {
      "text/plain": [
       "((1, 15), array([-13.3057847]))"
      ]
     },
     "execution_count": 20,
     "metadata": {},
     "output_type": "execute_result"
    }
   ],
   "source": [
    "log_reg.coef_.shape,log_reg.intercept_"
   ]
  },
  {
   "cell_type": "code",
   "execution_count": null,
   "id": "83dd9714",
   "metadata": {},
   "outputs": [],
   "source": []
  },
  {
   "cell_type": "code",
   "execution_count": 21,
   "id": "8849ca0b",
   "metadata": {},
   "outputs": [],
   "source": [
    "baselines = gen_intgrad_baselines(X_over.values,y_over.values)\n",
    "subset = gen_balanced_subset(X_train.values,y_train.values,size_per_class=int(y_train.sum()))"
   ]
  },
  {
   "cell_type": "code",
   "execution_count": null,
   "id": "0cd9fea8",
   "metadata": {},
   "outputs": [],
   "source": []
  },
  {
   "cell_type": "code",
   "execution_count": 22,
   "id": "c82a82ff",
   "metadata": {},
   "outputs": [],
   "source": [
    "C=2\n",
    "\n",
    "baseline_output = log_reg.predict_proba(baselines)[:,1]\n",
    "subset_output,yshift,int_g = [],[],[]    \n",
    "cids = np.arange(C)\n",
    "for k in cids:    \n",
    "    subset_output.append(log_reg.predict_proba(subset[k])[:,1])\n",
    "    for kk in cids[cids!=k]:\n",
    "        yshift.append(subset_output[k]-baseline_output[kk])\n",
    "        int_g.append((subset[k]-baselines[kk])* log_reg.coef_)\n",
    "yshift = np.concatenate(yshift)\n",
    "int_g = np.vstack(int_g)"
   ]
  },
  {
   "cell_type": "code",
   "execution_count": 23,
   "id": "c4b101df",
   "metadata": {},
   "outputs": [],
   "source": [
    "y_int_g = np.abs(int_g)/yshift.reshape(-1,1)"
   ]
  },
  {
   "cell_type": "code",
   "execution_count": 24,
   "id": "3bbd48e9",
   "metadata": {},
   "outputs": [
    {
     "data": {
      "text/plain": [
       "(11906, 15)"
      ]
     },
     "execution_count": 24,
     "metadata": {},
     "output_type": "execute_result"
    }
   ],
   "source": [
    "y_int_g.shape"
   ]
  },
  {
   "cell_type": "code",
   "execution_count": 25,
   "id": "e76a3e1b",
   "metadata": {},
   "outputs": [
    {
     "name": "stdout",
     "output_type": "stream",
     "text": [
      "(0.01, 10)\n",
      "(0.010990990990990991, 10)\n",
      "(0.011981981981981983, 10)\n",
      "(0.012972972972972972, 10)\n",
      "(0.013963963963963964, 10)\n",
      "(0.014954954954954955, 10)\n",
      "(0.015945945945945946, 10)\n",
      "(0.016936936936936937, 9)\n",
      "(0.01792792792792793, 9)\n",
      "(0.01891891891891892, 9)\n",
      "(0.01990990990990991, 9)\n",
      "(0.020900900900900903, 8)\n",
      "(0.02189189189189189, 7)\n",
      "(0.022882882882882885, 7)\n",
      "(0.023873873873873873, 7)\n",
      "(0.024864864864864868, 7)\n",
      "(0.025855855855855855, 7)\n",
      "(0.02684684684684685, 7)\n",
      "(0.027837837837837838, 7)\n",
      "(0.028828828828828833, 7)\n",
      "(0.02981981981981982, 7)\n",
      "(0.030810810810810815, 7)\n",
      "(0.0318018018018018, 7)\n",
      "(0.0327927927927928, 7)\n",
      "(0.033783783783783786, 7)\n",
      "(0.03477477477477477, 7)\n",
      "(0.03576576576576577, 7)\n",
      "(0.036756756756756756, 7)\n",
      "(0.03774774774774775, 7)\n",
      "(0.03873873873873874, 7)\n",
      "(0.03972972972972973, 7)\n",
      "(0.04072072072072072, 7)\n",
      "(0.041711711711711716, 6)\n",
      "(0.042702702702702704, 6)\n",
      "(0.0436936936936937, 6)\n",
      "(0.044684684684684686, 5)\n",
      "(0.04567567567567568, 5)\n",
      "(0.04666666666666667, 5)\n",
      "(0.047657657657657664, 5)\n",
      "(0.04864864864864865, 5)\n",
      "(0.049639639639639646, 5)\n",
      "(0.050630630630630634, 5)\n",
      "(0.05162162162162163, 5)\n",
      "(0.052612612612612616, 5)\n",
      "(0.05360360360360361, 5)\n",
      "(0.0545945945945946, 5)\n",
      "(0.055585585585585594, 5)\n",
      "(0.05657657657657658, 5)\n",
      "(0.05756756756756757, 5)\n",
      "(0.058558558558558564, 5)\n",
      "(0.05954954954954955, 5)\n",
      "(0.06054054054054055, 5)\n",
      "(0.061531531531531534, 5)\n",
      "(0.06252252252252252, 5)\n",
      "(0.06351351351351352, 5)\n",
      "(0.06450450450450451, 5)\n",
      "(0.06549549549549549, 5)\n",
      "(0.06648648648648649, 5)\n",
      "(0.06747747747747748, 5)\n",
      "(0.06846846846846848, 5)\n",
      "(0.06945945945945946, 5)\n",
      "(0.07045045045045045, 5)\n",
      "(0.07144144144144145, 5)\n",
      "(0.07243243243243244, 5)\n",
      "(0.07342342342342342, 5)\n",
      "(0.07441441441441442, 5)\n",
      "(0.0754054054054054, 5)\n",
      "(0.0763963963963964, 5)\n",
      "(0.07738738738738739, 5)\n",
      "(0.07837837837837838, 5)\n",
      "(0.07936936936936936, 5)\n",
      "(0.08036036036036036, 5)\n",
      "(0.08135135135135135, 5)\n",
      "(0.08234234234234235, 5)\n",
      "(0.08333333333333333, 5)\n",
      "(0.08432432432432432, 5)\n",
      "(0.08531531531531532, 5)\n",
      "(0.08630630630630631, 5)\n",
      "(0.0872972972972973, 5)\n",
      "(0.08828828828828829, 5)\n",
      "(0.08927927927927928, 5)\n",
      "(0.09027027027027026, 5)\n",
      "(0.09126126126126126, 5)\n",
      "(0.09225225225225225, 5)\n",
      "(0.09324324324324325, 4)\n",
      "(0.09423423423423423, 4)\n",
      "(0.09522522522522522, 3)\n",
      "(0.09621621621621622, 3)\n",
      "(0.09720720720720721, 3)\n",
      "(0.0981981981981982, 3)\n",
      "(0.09918918918918919, 3)\n",
      "(0.10018018018018018, 3)\n",
      "(0.10117117117117118, 3)\n",
      "(0.10216216216216216, 3)\n",
      "(0.10315315315315315, 3)\n",
      "(0.10414414414414415, 3)\n",
      "(0.10513513513513513, 3)\n",
      "(0.10612612612612612, 3)\n",
      "(0.10711711711711712, 3)\n",
      "(0.10810810810810811, 3)\n",
      "(0.1090990990990991, 3)\n",
      "(0.11009009009009009, 3)\n",
      "(0.11108108108108108, 3)\n",
      "(0.11207207207207208, 3)\n",
      "(0.11306306306306306, 3)\n",
      "(0.11405405405405405, 3)\n",
      "(0.11504504504504505, 3)\n",
      "(0.11603603603603604, 3)\n",
      "(0.11702702702702703, 3)\n",
      "(0.11801801801801802, 3)\n",
      "(0.11900900900900901, 3)\n",
      "(0.12000000000000001, 3)\n",
      "(0.12099099099099099, 3)\n",
      "(0.12198198198198199, 3)\n",
      "(0.12297297297297298, 3)\n",
      "(0.12396396396396396, 3)\n",
      "(0.12495495495495496, 3)\n",
      "(0.12594594594594596, 3)\n",
      "(0.12693693693693694, 3)\n",
      "(0.12792792792792793, 3)\n",
      "(0.12891891891891893, 3)\n",
      "(0.12990990990990992, 3)\n",
      "(0.13090090090090092, 3)\n",
      "(0.1318918918918919, 3)\n",
      "(0.13288288288288289, 2)\n",
      "(0.1338738738738739, 2)\n",
      "(0.13486486486486488, 2)\n",
      "(0.13585585585585588, 2)\n",
      "(0.13684684684684686, 2)\n",
      "(0.13783783783783785, 2)\n",
      "(0.13882882882882885, 2)\n",
      "(0.13981981981981983, 2)\n",
      "(0.14081081081081082, 2)\n",
      "(0.14180180180180182, 2)\n",
      "(0.1427927927927928, 2)\n",
      "(0.14378378378378381, 2)\n",
      "(0.1447747747747748, 2)\n",
      "(0.14576576576576578, 2)\n",
      "(0.14675675675675678, 2)\n",
      "(0.14774774774774777, 2)\n",
      "(0.14873873873873875, 2)\n",
      "(0.14972972972972975, 2)\n",
      "(0.15072072072072074, 2)\n",
      "(0.15171171171171174, 2)\n",
      "(0.15270270270270273, 2)\n",
      "(0.1536936936936937, 2)\n",
      "(0.15468468468468471, 2)\n",
      "(0.1556756756756757, 2)\n",
      "(0.15666666666666668, 2)\n",
      "(0.15765765765765768, 2)\n",
      "(0.15864864864864867, 2)\n",
      "(0.15963963963963965, 2)\n",
      "(0.16063063063063066, 2)\n",
      "(0.16162162162162164, 2)\n",
      "(0.16261261261261264, 2)\n",
      "(0.16360360360360363, 2)\n",
      "(0.1645945945945946, 2)\n",
      "(0.16558558558558562, 2)\n",
      "(0.1665765765765766, 2)\n",
      "(0.16756756756756758, 2)\n",
      "(0.16855855855855859, 2)\n",
      "(0.16954954954954957, 2)\n",
      "(0.17054054054054055, 2)\n",
      "(0.17153153153153156, 2)\n",
      "(0.17252252252252254, 2)\n",
      "(0.17351351351351355, 2)\n",
      "(0.17450450450450453, 2)\n",
      "(0.1754954954954955, 2)\n",
      "(0.17648648648648652, 2)\n",
      "(0.1774774774774775, 2)\n",
      "(0.17846846846846848, 2)\n",
      "(0.17945945945945949, 2)\n",
      "(0.18045045045045047, 2)\n",
      "(0.18144144144144148, 2)\n",
      "(0.18243243243243246, 2)\n",
      "(0.18342342342342344, 2)\n",
      "(0.18441441441441445, 2)\n",
      "(0.18540540540540543, 2)\n",
      "(0.1863963963963964, 2)\n",
      "(0.18738738738738742, 2)\n",
      "(0.1883783783783784, 2)\n",
      "(0.18936936936936938, 2)\n",
      "(0.1903603603603604, 2)\n",
      "(0.19135135135135137, 2)\n",
      "(0.19234234234234238, 2)\n",
      "(0.19333333333333336, 2)\n",
      "(0.19432432432432434, 2)\n",
      "(0.19531531531531535, 2)\n",
      "(0.19630630630630633, 2)\n",
      "(0.1972972972972973, 2)\n",
      "(0.19828828828828832, 2)\n",
      "(0.1992792792792793, 2)\n",
      "(0.20027027027027028, 2)\n",
      "(0.2012612612612613, 2)\n",
      "(0.20225225225225227, 2)\n",
      "(0.20324324324324328, 2)\n",
      "(0.20423423423423426, 2)\n",
      "(0.20522522522522524, 2)\n",
      "(0.20621621621621625, 2)\n",
      "(0.20720720720720723, 2)\n",
      "(0.2081981981981982, 2)\n",
      "(0.20918918918918922, 2)\n",
      "(0.2101801801801802, 2)\n",
      "(0.2111711711711712, 2)\n",
      "(0.2121621621621622, 2)\n",
      "(0.21315315315315317, 2)\n",
      "(0.21414414414414418, 2)\n",
      "(0.21513513513513516, 2)\n",
      "(0.21612612612612614, 2)\n",
      "(0.21711711711711715, 2)\n",
      "(0.21810810810810813, 2)\n",
      "(0.2190990990990991, 2)\n",
      "(0.22009009009009012, 2)\n",
      "(0.2210810810810811, 2)\n",
      "(0.2220720720720721, 2)\n",
      "(0.2230630630630631, 2)\n",
      "(0.22405405405405407, 2)\n",
      "(0.22504504504504508, 2)\n",
      "(0.22603603603603606, 2)\n",
      "(0.22702702702702704, 2)\n",
      "(0.22801801801801805, 2)\n",
      "(0.22900900900900903, 2)\n",
      "(0.23000000000000004, 2)\n",
      "(0.23099099099099102, 2)\n",
      "(0.231981981981982, 2)\n",
      "(0.232972972972973, 2)\n",
      "(0.233963963963964, 2)\n",
      "(0.23495495495495497, 2)\n",
      "(0.23594594594594598, 2)\n",
      "(0.23693693693693696, 2)\n",
      "(0.23792792792792794, 2)\n",
      "(0.23891891891891895, 2)\n",
      "(0.23990990990990993, 2)\n",
      "(0.24090090090090094, 2)\n",
      "(0.24189189189189192, 2)\n",
      "(0.2428828828828829, 2)\n",
      "(0.2438738738738739, 2)\n",
      "(0.2448648648648649, 2)\n",
      "(0.24585585585585587, 2)\n",
      "(0.24684684684684688, 2)\n",
      "(0.24783783783783786, 2)\n",
      "(0.24882882882882884, 2)\n",
      "(0.24981981981981985, 2)\n",
      "(0.2508108108108108, 2)\n",
      "(0.25180180180180184, 2)\n",
      "(0.2527927927927928, 1)\n"
     ]
    },
    {
     "data": {
      "text/plain": [
       "0.2527927927927928"
      ]
     },
     "execution_count": 25,
     "metadata": {},
     "output_type": "execute_result"
    }
   ],
   "source": [
    "thds = np.linspace(0.01,1.,1000)\n",
    "f_n = []\n",
    "for thd in thds:\n",
    "    mask = np.abs(y_int_g) >= thd \n",
    "    f_n.append((thd,(mask.sum(axis=0)>=len(y_int_g)*0.99).sum()))\n",
    "    print(f_n[-1])\n",
    "    if f_n[-1][1]==1:\n",
    "        break\n",
    "thd = f_n[-1][0]\n",
    "thd"
   ]
  },
  {
   "cell_type": "code",
   "execution_count": 26,
   "id": "1a1e07c8",
   "metadata": {
    "scrolled": false
   },
   "outputs": [
    {
     "name": "stderr",
     "output_type": "stream",
     "text": [
      "The PostScript backend does not support transparency; partially transparent artists will be rendered opaque.\n"
     ]
    },
    {
     "data": {
      "image/png": "[encoded data removed]",
      "text/plain": [
       "<Figure size 800x600 with 1 Axes>"
      ]
     },
     "metadata": {},
     "output_type": "display_data"
    }
   ],
   "source": [
    "import seaborn as sns\n",
    "sns.set_style(\"whitegrid\")\n",
    "plt.figure(figsize=(8, 6))\n",
    "plt.plot([th[0] for th in f_n[:]],[(th[1]) for th in f_n[:]])\n",
    "plt.plot(f_n[-1][0],(f_n[-1][1]),\"r*\",label=\"Selected impact threshold\")\n",
    "plt.plot([0,f_n[-1][0]],[(f_n[-1][1]),(f_n[-1][1])],\":r\")\n",
    "plt.plot([f_n[-1][0],f_n[-1][0]],[0,f_n[-1][1]],\":r\")\n",
    "plt.xlim(0.01,.3)\n",
    "plt.ylim(0.,12)\n",
    "plt.yticks([0,1,2,4,6,8,10,12])\n",
    "plt.xlabel(\"Feature impact score threshod\",fontsize=14)\n",
    "plt.ylabel(\"Number of features with max frequecy\",fontsize=14)\n",
    "plt.legend(fontsize=14)\n",
    "plt.savefig(\"./results/diabetes/score_thd.eps\",bbox_inches=\"tight\")"
   ]
  },
  {
   "cell_type": "code",
   "execution_count": 27,
   "id": "0a9a4051",
   "metadata": {},
   "outputs": [
    {
     "name": "stdout",
     "output_type": "stream",
     "text": [
      "[5.0] 11906.0\n",
      "[5.0, 8.0] 11163.0\n",
      "[5.0, 8.0, 1.0] 10361.0\n",
      "[5.0, 8.0, 1.0, 6.0] 9581.0\n",
      "[5.0, 8.0, 1.0, 6.0, 4.0] 7486.0\n",
      "[5.0, 8.0, 1.0, 6.0, 4.0, 10.0] 3378.0\n",
      "feature set [4 7 0 5 3 9] 6\n"
     ]
    }
   ],
   "source": [
    "itemsets_y = transform_intgrad_to_itemsets(y_int_g,thd=thd,K=1)\n",
    "fids = gen_freq_feature_set(itemsets_y[0],min_support=1500,max_len=100)\n",
    "fids = np.array(fids).astype(int)-1\n",
    "print('feature set',fids,len(fids))"
   ]
  },
  {
   "cell_type": "code",
   "execution_count": 28,
   "id": "b2cfa7cd",
   "metadata": {},
   "outputs": [
    {
     "data": {
      "text/plain": [
       "<matplotlib.legend.Legend at 0x28ab0b8b0>"
      ]
     },
     "execution_count": 28,
     "metadata": {},
     "output_type": "execute_result"
    },
    {
     "data": {
      "image/png": "[encoded data removed]",
      "text/plain": [
       "<Figure size 640x480 with 2 Axes>"
      ]
     },
     "metadata": {},
     "output_type": "display_data"
    }
   ],
   "source": [
    "pred_y = log_reg.predict_proba(X_train)[:,1]\n",
    "\n",
    "sns.set_style(\"white\")\n",
    "cmap = sns.color_palette(\"colorblind\")\n",
    "fig, ax1 = plt.subplots()\n",
    "sns.histplot(pred_y[y_train==0],kde=True,ax=ax1,bins=50,color=cmap[0],label=\"No diabetes\")\n",
    "ax2 = ax1.twinx()\n",
    "sns.histplot(pred_y[y_train==1],kde=True,ax=ax2,bins=50,color=cmap[1],label=\"Diabetes\")\n",
    "ax1.set_xlabel(r\"$\\hat{y}$\")\n",
    "ax1.legend(loc='upper left', bbox_to_anchor=(0.15, 1.))\n",
    "ax2.legend(loc='upper right', bbox_to_anchor=(0.9, 1.))"
   ]
  },
  {
   "cell_type": "code",
   "execution_count": 29,
   "id": "31c468b9",
   "metadata": {},
   "outputs": [
    {
     "name": "stderr",
     "output_type": "stream",
     "text": [
      "The PostScript backend does not support transparency; partially transparent artists will be rendered opaque.\n"
     ]
    },
    {
     "name": "stdout",
     "output_type": "stream",
     "text": [
      "auc 0.9621384460095029\n",
      "y threshold 0.4571048952150361\n"
     ]
    },
    {
     "data": {
      "image/png": "[encoded data removed]",
      "text/plain": [
       "<Figure size 800x600 with 1 Axes>"
      ]
     },
     "metadata": {},
     "output_type": "display_data"
    }
   ],
   "source": [
    "from sklearn.metrics import roc_curve, roc_auc_score\n",
    "import matplotlib.pyplot as plt\n",
    "import scipy as sp\n",
    "\n",
    "sns.set_style(\"whitegrid\")\n",
    "auc = roc_auc_score(y_train, pred_y)\n",
    "print(\"auc\",auc)\n",
    "fpr, tpr, thresholds = roc_curve(y_train, pred_y)\n",
    "th_id = np.argmax(tpr - fpr)\n",
    "y_thd = thresholds[th_id]\n",
    "print(\"y threshold\",y_thd)\n",
    "\n",
    "# Plot the ROC curve\n",
    "plt.figure(figsize=(8, 6))\n",
    "plt.plot(fpr, tpr, label=f'ROC Curve (AUC = {auc:.3f})')\n",
    "plt.plot(fpr[th_id],tpr[th_id],\"r*\")\n",
    "plt.annotate('$y_{th}=$'+str(y_thd.round(3)), (fpr[th_id],tpr[th_id]), textcoords='offset points', xytext=(42,-8), ha='center',fontsize=14)\n",
    "\n",
    "plt.plot([fpr[th_id],fpr[th_id]],[0,tpr[th_id]],\"r:\")\n",
    "plt.plot([-0.02,fpr[th_id]],[tpr[th_id],tpr[th_id]],\"r:\")\n",
    "plt.xlim(-0.02,1.)\n",
    "plt.xticks([0.,fpr[th_id],0.2,0.4,0.6,0.8,1.])\n",
    "plt.yticks([0.,0.2,0.4,0.6,0.8,tpr[th_id],1.])\n",
    "plt.ylim(0,1.05)\n",
    "plt.xlabel('False Positive Rate (FPR)',fontsize=14)\n",
    "plt.ylabel('True Positive Rate (TPR)',fontsize=14)\n",
    "#plt.title('Receiver Operating Characteristic (ROC) Curve',fontsize=14)\n",
    "plt.legend(fontsize=14)\n",
    "plt.savefig(\"./results/diabetes/roc.eps\",bbox_inches=\"tight\")\n",
    "\n",
    "plt.show()"
   ]
  },
  {
   "cell_type": "code",
   "execution_count": 30,
   "id": "de472d8b",
   "metadata": {},
   "outputs": [
    {
     "data": {
      "text/plain": [
       "(5953, (70000,), 0.08504285714285714, 0.19112857142857143)"
      ]
     },
     "execution_count": 30,
     "metadata": {},
     "output_type": "execute_result"
    }
   ],
   "source": [
    "y_train.sum(),y_train.shape,y_train.sum()/len(y_train),(pred_y>y_thd).sum()/len(pred_y)"
   ]
  },
  {
   "cell_type": "code",
   "execution_count": 31,
   "id": "b3f8d644",
   "metadata": {},
   "outputs": [
    {
     "data": {
      "text/plain": [
       "0.962387678432344"
      ]
     },
     "execution_count": 31,
     "metadata": {},
     "output_type": "execute_result"
    }
   ],
   "source": [
    "pred_y_test = log_reg.predict_proba(X_test)[:,1]\n",
    "auc = roc_auc_score(y_test, pred_y_test)\n",
    "auc"
   ]
  },
  {
   "cell_type": "code",
   "execution_count": null,
   "id": "64d73e82",
   "metadata": {},
   "outputs": [],
   "source": []
  },
  {
   "cell_type": "code",
   "execution_count": 32,
   "id": "d42f3fd3",
   "metadata": {
    "scrolled": true
   },
   "outputs": [],
   "source": [
    "# max_s = 0.\n",
    "# thd_h = 0.\n",
    "# for p in np.linspace(0.6,1.,41):\n",
    "#     tpr = (y_train[pred_y>=p]==1).sum()/(pred_y>=p).sum()\n",
    "#     cp = (y_train[pred_y>=p]==1).sum()/(y_train==1).sum()\n",
    "#     f1 = (2*tpr*cp)/(tpr+cp)\n",
    "#     if f1 > max_s:\n",
    "#         thd_h = p\n",
    "#         max_s = f1\n",
    "#     print(p,tpr,cp,f1,(pred_y>=p).sum())"
   ]
  },
  {
   "cell_type": "code",
   "execution_count": 33,
   "id": "bb367911",
   "metadata": {
    "scrolled": true
   },
   "outputs": [],
   "source": [
    "# max_s = 0.\n",
    "# thd_l = 0.\n",
    "# for p in np.linspace(0.1,.4,41):\n",
    "#     tpr = (y_train[pred_y<=p]==0).sum()/(pred_y<=p).sum()\n",
    "#     cp = (y_train[pred_y<=p]==0).sum()/(y_train==0).sum()\n",
    "#     f1 = (2*tpr*cp)/(tpr+cp)\n",
    "#     if f1 > max_s:\n",
    "#         thd_l = p\n",
    "#         max_s = f1\n",
    "#     print(p,tpr,cp,f1,(pred_y<=p).sum())"
   ]
  },
  {
   "cell_type": "code",
   "execution_count": 34,
   "id": "af78900e",
   "metadata": {},
   "outputs": [],
   "source": [
    "# def find_py_threshold(p_grids,pred_y_prob,true_y,c=1,high=True):\n",
    "#     max_s = 0.\n",
    "#     thd = 0.\n",
    "#     if high:\n",
    "#         for p in p_grids:\n",
    "#             tpr = (true_y[pred_y>=p]==c).sum()/(pred_y>=p).sum()\n",
    "#             cp = (y_train[pred_y>=p]==c).sum()/(y_train==c).sum()\n",
    "#             f1 = (2*tpr*cp)/(tpr+cp)\n",
    "#             if f1 > max_s:\n",
    "#                 thd = p\n",
    "#                 max_s = f1\n",
    "#     else:\n",
    "#         for p in p_grids:\n",
    "#             tpr = (true_y[pred_y<=p]==c).sum()/(pred_y<=p).sum()\n",
    "#             cp = (y_train[pred_y<=p]==c).sum()/(y_train==c).sum()\n",
    "#             f1 = (2*tpr*cp)/(tpr+cp)\n",
    "#             if f1 > max_s:\n",
    "#                 thd = p\n",
    "#                 max_s = f1\n",
    "#     return thd"
   ]
  },
  {
   "cell_type": "code",
   "execution_count": 35,
   "id": "d52694f5",
   "metadata": {},
   "outputs": [],
   "source": [
    "# thd_h = find_py_threshold(p_grids=np.linspace(0.6,1.,41),pred_y_prob=pred_y,true_y=y_train)\n",
    "# thd_l = find_py_threshold(p_grids=np.linspace(0.1,.5,41),pred_y_prob=pred_y,true_y=y_train,c=0,high=False)\n",
    "\n",
    "# thd_h,thd_l"
   ]
  },
  {
   "cell_type": "code",
   "execution_count": 36,
   "id": "23caf1ee",
   "metadata": {
    "scrolled": true
   },
   "outputs": [
    {
     "name": "stdout",
     "output_type": "stream",
     "text": [
      "build_rule_tree\n",
      "init rule tree\n",
      "search rule for feature 4\n",
      "check potential rule 4 3.1649806118602424 0.5555555555555556 1.0 8621\n",
      "add rule [] 4 (3.1649806118602424, 0.5555555555555556, 1.0, 8621)\n",
      "search rule for feature 7\n",
      "no valid rule,skip 7\n",
      "search rule for feature 0\n",
      "check potential rule 0 1.4787623482854382 0.6565656565656566 1.0 4077\n",
      "add rule [4] 0 (1.4787623482854382, 0.6565656565656566, 1.0, 4077)\n",
      "check potential rule 0 1.4787623482854382 0.6565656565656566 1.0 4077\n",
      "add rule [4] 0 (1.4787623482854382, 0.6565656565656566, 1.0, 4077)\n",
      "check potential rule 0 1.4787623482854382 0.6565656565656566 1.0 4077\n",
      "add rule [4] 0 (1.4787623482854382, 0.6565656565656566, 1.0, 4077)\n"
     ]
    },
    {
     "data": {
      "text/plain": [
       "[{'rules': [(4, 'HbA1c_level', '>=', 0.5555555555555556),\n",
       "   (0, 'age', '>=', 0.6565656565656566)],\n",
       "  'cond_prob_target': 0.8945302918812853,\n",
       "  'support': 4077,\n",
       "  'cond_prob_y': 0.5889134167279862,\n",
       "  'ratio_y': 0.4033260540903746}]"
      ]
     },
     "execution_count": 36,
     "metadata": {},
     "output_type": "execute_result"
    }
   ],
   "source": [
    "### search rules for pred_y > y_thd  ###\n",
    "\n",
    "import explainer.rule_pattern_miner as rlm\n",
    "y_rule_candidates = rlm.gen_rule_list_for_one_target(X_train.values,fids,pred_y>y_thd,y=y_train.values,c=1,sort_by=\"cond_prob_y\",\n",
    "                                                            min_support=4000,num_grids=100,max_depth=2,top_K=3,\n",
    "                                                            local_x=None,feature_types=None,\n",
    "                                                            verbose=False)\n",
    "\n",
    "for i, rules in enumerate(y_rule_candidates):   \n",
    "    rules[\"rules\"] = rlm.replace_feature_names(rules[\"rules\"],X_train.columns)\n",
    "    y_rule_candidates[i] = rules\n",
    "y_rule_candidates"
   ]
  },
  {
   "cell_type": "code",
   "execution_count": 37,
   "id": "8c543005",
   "metadata": {},
   "outputs": [
    {
     "data": {
      "text/plain": [
       "{'rules': [(4, 'HbA1c_level', '>=', 6.555555555555555),\n",
       "  (0, 'age', '>=', 52.552727272727275)],\n",
       " 'cond_prob_target': 0.8945302918812853,\n",
       " 'support': 4077,\n",
       " 'cond_prob_y': 0.5889134167279862,\n",
       " 'ratio_y': 0.4033260540903746}"
      ]
     },
     "execution_count": 37,
     "metadata": {},
     "output_type": "execute_result"
    }
   ],
   "source": [
    "## recover raw feature value for the top rule set\n",
    "\n",
    "for i, r in enumerate(y_rule_candidates[0][\"rules\"]):\n",
    "    #print(i,r)\n",
    "    nr = recover_feature_raw_value(r[0],r[-1],X_train.columns,min_max)\n",
    "    y_rule_candidates[0][\"rules\"][i] = (*r[:-1],nr) \n",
    "y_rule_candidates[0]"
   ]
  },
  {
   "cell_type": "code",
   "execution_count": null,
   "id": "45c6fda9",
   "metadata": {},
   "outputs": [],
   "source": []
  },
  {
   "cell_type": "code",
   "execution_count": 39,
   "id": "713029ff",
   "metadata": {
    "scrolled": true
   },
   "outputs": [
    {
     "name": "stdout",
     "output_type": "stream",
     "text": [
      "build_rule_tree\n",
      "init rule tree\n",
      "search rule for feature 4\n",
      "check potential rule 4 1.235128222119529 0.0 0.26262626262626265 21275\n",
      "add rule [] 4 (1.235128222119529, 0.0, 0.26262626262626265, 21275)\n"
     ]
    },
    {
     "data": {
      "text/plain": [
       "[{'rules': [(4, 'HbA1c_level', '<=', 0.26262626262626265)],\n",
       "  'cond_prob_target': 0.9990599294947121,\n",
       "  'support': 21275,\n",
       "  'cond_prob_y': 1.0,\n",
       "  'ratio_y': 0.3321779318313114}]"
      ]
     },
     "execution_count": 39,
     "metadata": {},
     "output_type": "execute_result"
    }
   ],
   "source": [
    "### search rules for pred_y <= y_thd  ###\n",
    "\n",
    "y_rule_candidates = rlm.gen_rule_list_for_one_target(X_train.values,fids,pred_y<=y_thd,y=y_train.values,c=0,sort_by=\"cond_prob_y\",\n",
    "                                                            min_support=20000,num_grids=100,max_depth=1,top_K=10,\n",
    "                                                            local_x=None,feature_types=None,\n",
    "                                                            verbose=False)\n",
    "for i, rules in enumerate(y_rule_candidates):   \n",
    "    rules[\"rules\"] = rlm.replace_feature_names(rules[\"rules\"],X_train.columns)\n",
    "    y_rule_candidates[i] = rules\n",
    "y_rule_candidates"
   ]
  },
  {
   "cell_type": "code",
   "execution_count": 40,
   "id": "c3d8873c",
   "metadata": {
    "scrolled": true
   },
   "outputs": [
    {
     "data": {
      "text/plain": [
       "{'rules': [(4, 'HbA1c_level', '<=', 4.944444444444445)],\n",
       " 'cond_prob_target': 0.9990599294947121,\n",
       " 'support': 21275,\n",
       " 'cond_prob_y': 1.0,\n",
       " 'ratio_y': 0.3321779318313114}"
      ]
     },
     "execution_count": 40,
     "metadata": {},
     "output_type": "execute_result"
    }
   ],
   "source": [
    "## recover raw feature value for the top rule set\n",
    "\n",
    "for i, r in enumerate(y_rule_candidates[0][\"rules\"]):\n",
    "    #print(i,r)\n",
    "    nr = recover_feature_raw_value(r[0],r[-1],X_train.columns,min_max)\n",
    "    y_rule_candidates[0][\"rules\"][i] = (*r[:-1],nr) \n",
    "y_rule_candidates[0]"
   ]
  },
  {
   "cell_type": "code",
   "execution_count": null,
   "id": "18422c04",
   "metadata": {},
   "outputs": [],
   "source": []
  },
  {
   "cell_type": "code",
   "execution_count": 41,
   "id": "7ff97df8",
   "metadata": {
    "scrolled": true
   },
   "outputs": [],
   "source": [
    "input_feature_names =X_train.columns"
   ]
  },
  {
   "cell_type": "code",
   "execution_count": 42,
   "id": "5136c398",
   "metadata": {},
   "outputs": [],
   "source": [
    "from sklearn.tree import DecisionTreeClassifier,DecisionTreeRegressor\n",
    "from sklearn.tree import plot_tree,export_text,export_graphviz\n",
    "import explainer.DT_rules as dtr\n",
    "from explainer.DT_rules import obtain_rule_lists_from_DT,select_rule_list"
   ]
  },
  {
   "cell_type": "code",
   "execution_count": 43,
   "id": "d1f6caaa",
   "metadata": {},
   "outputs": [
    {
     "data": {
      "text/plain": [
       "4"
      ]
     },
     "execution_count": 43,
     "metadata": {},
     "output_type": "execute_result"
    }
   ],
   "source": [
    "### otain rules for pred_y > y_thd from a DecisionTreeClassifier\n",
    "\n",
    "treemodel = DecisionTreeClassifier(max_depth=2,min_samples_leaf=4000,random_state=seed)\n",
    "treemodel.fit(X_train,pred_y>y_thd)\n",
    "#y_pred_tree = treemodel.predict(X_test)\n",
    "rule_list, rule_value_list, rule_support_list, new_lines = dtr.obtain_rule_lists_from_DT(treemodel,5,X_train.values,y_train.values,pred_y>y_thd,np.arange(X_train.shape[-1]),X_train.columns,c=1)\n",
    "len(rule_list)"
   ]
  },
  {
   "cell_type": "code",
   "execution_count": 44,
   "id": "624eca1a",
   "metadata": {},
   "outputs": [
    {
     "name": "stdout",
     "output_type": "stream",
     "text": [
      "|--- feature_4 <= 0.52\n",
      "|   |--- feature_5 <= 0.45\n",
      "|   |   |--- class: False\n",
      "|   |--- feature_5 >  0.45\n",
      "|   |   |--- class: False\n",
      "|--- feature_4 >  0.52\n",
      "|   |--- feature_0 <= 0.54\n",
      "|   |   |--- class: False\n",
      "|   |--- feature_0 >  0.54\n",
      "|   |   |--- class: True\n",
      "\n"
     ]
    }
   ],
   "source": [
    "print(export_text(treemodel))"
   ]
  },
  {
   "cell_type": "code",
   "execution_count": 45,
   "id": "bd964807",
   "metadata": {
    "scrolled": true
   },
   "outputs": [
    {
     "name": "stdout",
     "output_type": "stream",
     "text": [
      "0 (4, '<=', 0.518)\n",
      "1 (5, '<=', 0.455)\n",
      "#################\n",
      "[(4, '<=', 6.349), (5, '<=', 180.10000000000002)]\n",
      "cond_prob_target 0.074 cond_prob_y 0.025 size 50417\n",
      "HbA1c_level <= 6.349\n",
      "blood_glucose_level <= 180.10000000000002\n",
      "0 (4, '<=', 0.518)\n",
      "1 (5, '>', 0.455)\n",
      "#################\n",
      "[(4, '<=', 6.349), (5, '>', 180.10000000000002)]\n",
      "cond_prob_target 0.429 cond_prob_y 0.21 size 5082\n",
      "HbA1c_level <= 6.349\n",
      "blood_glucose_level > 180.10000000000002\n",
      "0 (4, '>', 0.518)\n",
      "1 (0, '<=', 0.543)\n",
      "#################\n",
      "[(4, '>', 6.349), (0, '<=', 43.47656)]\n",
      "cond_prob_target 0.174 cond_prob_y 0.067 size 6357\n",
      "HbA1c_level > 6.349\n",
      "age <= 43.47656\n",
      "0 (4, '>', 0.518)\n",
      "1 (0, '>', 0.543)\n",
      "#################\n",
      "[(4, '>', 6.349), (0, '>', 43.47656)]\n",
      "cond_prob_target 0.781 cond_prob_y 0.395 size 8144\n",
      "HbA1c_level > 6.349\n",
      "age > 43.47656\n"
     ]
    }
   ],
   "source": [
    "## print rules from DecisionTreeClassifier\n",
    "select = [[],[],[]]\n",
    "for s in range(len(rule_list)):\n",
    "    for j, r in enumerate(rule_list[s]):\n",
    "        print(j,r)\n",
    "        nr = recover_feature_raw_value(r[0],r[-1],X_train.columns,min_max)\n",
    "        rule_list[s][j] = (*r[:-1],nr)\n",
    "    select[0].append(rule_list[s])\n",
    "    select[2].append(rule_support_list[s])\n",
    "    print('#################')\n",
    "    print(rule_list[s])\n",
    "    print('cond_prob_target',rule_support_list[s][1].round(3),'cond_prob_y',rule_support_list[s][2].round(3),'size',rule_support_list[s][0])\n",
    "    for r in rule_list[s]:\n",
    "        print(input_feature_names[r[0]],r[1],r[2])"
   ]
  },
  {
   "cell_type": "code",
   "execution_count": null,
   "id": "5c30f3d7",
   "metadata": {},
   "outputs": [],
   "source": []
  },
  {
   "cell_type": "code",
   "execution_count": 46,
   "id": "7f5af597",
   "metadata": {},
   "outputs": [
    {
     "data": {
      "text/plain": [
       "2"
      ]
     },
     "execution_count": 46,
     "metadata": {},
     "output_type": "execute_result"
    }
   ],
   "source": [
    "### otain rules for pred_y <= y_thd from a DecisionTreeClassifier\n",
    "\n",
    "treemodel = DecisionTreeClassifier(max_depth=1,min_samples_leaf=25000,random_state=seed)\n",
    "treemodel.fit(X_train,pred_y<=y_thd)\n",
    "rule_list, rule_value_list, rule_support_list, new_lines = dtr.obtain_rule_lists_from_DT(treemodel,5,X_train.values,y_train.values,pred_y<=y_thd,np.arange(X_train.shape[-1]),X_train.columns,c=0)\n",
    "len(rule_list)"
   ]
  },
  {
   "cell_type": "code",
   "execution_count": 47,
   "id": "64e9dcb0",
   "metadata": {},
   "outputs": [
    {
     "name": "stdout",
     "output_type": "stream",
     "text": [
      "|--- feature_4 <= 0.46\n",
      "|   |--- class: True\n",
      "|--- feature_4 >  0.46\n",
      "|   |--- class: True\n",
      "\n"
     ]
    }
   ],
   "source": [
    "print(export_text(treemodel))"
   ]
  },
  {
   "cell_type": "code",
   "execution_count": 48,
   "id": "180547f0",
   "metadata": {},
   "outputs": [
    {
     "name": "stdout",
     "output_type": "stream",
     "text": [
      "#################\n",
      "[(4, '<=', 6.052)]\n",
      "cond_prob_target 0.933 cond_prob_y 0.968 size 44164\n",
      "HbA1c_level <= 6.052\n",
      "#################\n",
      "[(4, '>', 6.052)]\n",
      "cond_prob_target 0.596 cond_prob_y 0.824 size 25836\n",
      "HbA1c_level > 6.052\n"
     ]
    }
   ],
   "source": [
    "select = [[],[],[]]\n",
    "for s in range(len(rule_list)):\n",
    "    for j, r in enumerate(rule_list[s]):\n",
    "        nr = recover_feature_raw_value(r[0],r[-1],X_train.columns,min_max)\n",
    "        rule_list[s][j] = (*r[:-1],nr)\n",
    "    select[0].append(rule_list[s])\n",
    "    #select[1].append(rule_value_list[s])\n",
    "    select[2].append(rule_support_list[s])\n",
    "    print('#################')\n",
    "    print(rule_list[s])\n",
    "    print('cond_prob_target',rule_support_list[s][1].round(3),'cond_prob_y',rule_support_list[s][2].round(3),'size',rule_support_list[s][0])\n",
    "    for r in rule_list[s]:\n",
    "        print(input_feature_names[r[0]],r[1],r[2])"
   ]
  },
  {
   "cell_type": "code",
   "execution_count": null,
   "id": "7377b149",
   "metadata": {},
   "outputs": [],
   "source": []
  },
  {
   "cell_type": "code",
   "execution_count": 49,
   "id": "ac4ef8bb",
   "metadata": {},
   "outputs": [],
   "source": [
    "### otain rules for pred_y > y_thd from a DecisionTreeRegressor\n",
    "\n",
    "treemodel = DecisionTreeRegressor(max_depth=2,min_samples_leaf=4000,random_state=seed)\n",
    "treemodel.fit(X_train,pred_y)\n",
    "rule_list, rule_value_list, rule_support_list, new_lines = dtr.obtain_rule_lists_from_DT(treemodel,5,X_train.values,y_train.values,pred_y>y_thd,np.arange(X_train.shape[-1]),X_train.columns,c=1)"
   ]
  },
  {
   "cell_type": "code",
   "execution_count": 50,
   "id": "179223fc",
   "metadata": {},
   "outputs": [
    {
     "name": "stdout",
     "output_type": "stream",
     "text": [
      "|--- feature_4 <= 0.44\n",
      "|   |--- feature_4 <= 0.34\n",
      "|   |   |--- value: [0.02]\n",
      "|   |--- feature_4 >  0.34\n",
      "|   |   |--- value: [0.19]\n",
      "|--- feature_4 >  0.44\n",
      "|   |--- feature_0 <= 0.58\n",
      "|   |   |--- value: [0.18]\n",
      "|   |--- feature_0 >  0.58\n",
      "|   |   |--- value: [0.60]\n",
      "\n"
     ]
    }
   ],
   "source": [
    "print(export_text(treemodel))"
   ]
  },
  {
   "cell_type": "code",
   "execution_count": 51,
   "id": "b10bdaff",
   "metadata": {
    "scrolled": true
   },
   "outputs": [
    {
     "name": "stdout",
     "output_type": "stream",
     "text": [
      "0 (4, '<=', 0.336)\n",
      "#################\n",
      "[(4, '<=', 5.348)]\n",
      "cond_prob_target 0.002 cond_prob_y 0.0 size 26561\n",
      "HbA1c_level <= 5.348\n",
      "0 (4, '<=', 0.436)\n",
      "1 (4, '>', 0.336)\n",
      "#################\n",
      "[(4, '<=', 5.898), (4, '>', 5.348)]\n",
      "cond_prob_target 0.141 cond_prob_y 0.08 size 11766\n",
      "HbA1c_level <= 5.898\n",
      "HbA1c_level > 5.348\n",
      "0 (4, '>', 0.436)\n",
      "1 (0, '<=', 0.581)\n",
      "#################\n",
      "[(4, '>', 5.898), (0, '<=', 46.51351999999999)]\n",
      "cond_prob_target 0.12 cond_prob_y 0.046 size 16482\n",
      "HbA1c_level > 5.898\n",
      "age <= 46.51351999999999\n",
      "0 (4, '>', 0.436)\n",
      "1 (0, '>', 0.581)\n",
      "#################\n",
      "[(4, '>', 5.898), (0, '>', 46.51351999999999)]\n",
      "cond_prob_target 0.637 cond_prob_y 0.279 size 15191\n",
      "HbA1c_level > 5.898\n",
      "age > 46.51351999999999\n"
     ]
    }
   ],
   "source": [
    "select = [[],[],[]]\n",
    "for s in range(len(rule_list)):\n",
    "    for j, r in enumerate(rule_list[s]):\n",
    "        print(j,r)\n",
    "        nr = recover_feature_raw_value(r[0],r[-1],X_train.columns,min_max)\n",
    "        rule_list[s][j] = (*r[:-1],nr)\n",
    "    select[0].append(rule_list[s])\n",
    "    \n",
    "    select[2].append(rule_support_list[s])\n",
    "    print('#################')\n",
    "    print(rule_list[s])\n",
    "    print('cond_prob_target',rule_support_list[s][1].round(3),'cond_prob_y',rule_support_list[s][2].round(3),'size',rule_support_list[s][0])\n",
    "    for r in rule_list[s]:\n",
    "        print(input_feature_names[r[0]],r[1],r[2])"
   ]
  },
  {
   "cell_type": "code",
   "execution_count": null,
   "id": "9b6fce92",
   "metadata": {},
   "outputs": [],
   "source": []
  },
  {
   "cell_type": "code",
   "execution_count": null,
   "id": "52acfe36",
   "metadata": {},
   "outputs": [],
   "source": []
  },
  {
   "cell_type": "code",
   "execution_count": 52,
   "id": "7664d1f3",
   "metadata": {},
   "outputs": [],
   "source": [
    "### otain rules for pred_y <= y_thd from a DecisionTreeRegressor\n",
    "\n",
    "treemodel = DecisionTreeRegressor(max_depth=1,min_samples_leaf=25000,random_state=seed)\n",
    "treemodel.fit(X_train,pred_y)\n",
    "rule_list, rule_value_list, rule_support_list, new_lines = dtr.obtain_rule_lists_from_DT(treemodel,5,X_train.values,y_train.values,pred_y<=y_thd,np.arange(X_train.shape[-1]),X_train.columns,c=0)"
   ]
  },
  {
   "cell_type": "code",
   "execution_count": 53,
   "id": "ee5371bd",
   "metadata": {},
   "outputs": [
    {
     "name": "stdout",
     "output_type": "stream",
     "text": [
      "|--- feature_4 <= 0.44\n",
      "|   |--- value: [0.07]\n",
      "|--- feature_4 >  0.44\n",
      "|   |--- value: [0.38]\n",
      "\n"
     ]
    }
   ],
   "source": [
    "print(export_text(treemodel))"
   ]
  },
  {
   "cell_type": "code",
   "execution_count": 54,
   "id": "593d3235",
   "metadata": {},
   "outputs": [
    {
     "name": "stdout",
     "output_type": "stream",
     "text": [
      "0 (4, '<=', 0.436)\n",
      "#################\n",
      "[(4, '<=', 5.898)]\n",
      "cond_prob_target 0.955 cond_prob_y 0.975 size 38327\n",
      "HbA1c_level <= 5.898\n",
      "0 (4, '>', 0.436)\n",
      "#################\n",
      "[(4, '>', 5.898)]\n",
      "cond_prob_target 0.632 cond_prob_y 0.842 size 31673\n",
      "HbA1c_level > 5.898\n"
     ]
    }
   ],
   "source": [
    "select = [[],[],[]]\n",
    "for s in range(len(rule_list)):\n",
    "    for j, r in enumerate(rule_list[s]):\n",
    "        print(j,r)\n",
    "        nr = recover_feature_raw_value(r[0],r[-1],X_train.columns,min_max)\n",
    "        rule_list[s][j] = (*r[:-1],nr)\n",
    "    select[0].append(rule_list[s])\n",
    "    select[2].append(rule_support_list[s])\n",
    "    print('#################')\n",
    "    print(rule_list[s])\n",
    "    print('cond_prob_target',rule_support_list[s][1].round(3),'cond_prob_y',rule_support_list[s][2].round(3),'size',rule_support_list[s][0])\n",
    "    for r in rule_list[s]:\n",
    "        print(input_feature_names[r[0]],r[1],r[2])"
   ]
  },
  {
   "cell_type": "code",
   "execution_count": null,
   "id": "08e46235",
   "metadata": {},
   "outputs": [],
   "source": []
  },
  {
   "cell_type": "code",
   "execution_count": null,
   "id": "09c2dd7e",
   "metadata": {},
   "outputs": [],
   "source": []
  }
 ],
 "metadata": {
  "kernelspec": {
   "display_name": "py39",
   "language": "python",
   "name": "py39"
  },
  "language_info": {
   "codemirror_mode": {
    "name": "ipython",
    "version": 3
   },
   "file_extension": ".py",
   "mimetype": "text/x-python",
   "name": "python",
   "nbconvert_exporter": "python",
   "pygments_lexer": "ipython3",
   "version": "3.9.15"
  }
 },
 "nbformat": 4,
 "nbformat_minor": 5
}
