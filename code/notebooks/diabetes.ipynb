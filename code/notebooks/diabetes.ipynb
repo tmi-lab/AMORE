{
 "cells": [
  {
   "cell_type": "code",
   "execution_count": 1,
   "id": "dad55ada",
   "metadata": {},
   "outputs": [],
   "source": [
    "import sys\n",
    "import os\n",
    "from importlib import reload\n",
    "here = os.getcwd()\n",
    "sys.path.append(os.path.join(here,\"../\"))"
   ]
  },
  {
   "cell_type": "code",
   "execution_count": 2,
   "id": "36cf7020",
   "metadata": {},
   "outputs": [],
   "source": [
    "#!/usr/bin/env python\n",
    "# coding: utf-8\n",
    "\n",
    "import pandas as pd\n",
    "import numpy as np\n",
    "import scipy as sp\n",
    "import matplotlib.pyplot as plt\n",
    "import warnings\n",
    "warnings.filterwarnings(\"ignore\")\n",
    "\n",
    "\n",
    "from sklearn.model_selection import train_test_split\n",
    "from sklearn.metrics import f1_score,confusion_matrix,precision_score,recall_score,accuracy_score,roc_auc_score,roc_curve\n",
    "from sklearn.linear_model import LogisticRegression\n",
    "\n",
    "from sklearn.tree import DecisionTreeClassifier\n",
    "from sklearn.metrics import confusion_matrix\n",
    "from sklearn.tree import plot_tree,export_text,export_graphviz\n",
    "from sklearn.model_selection import train_test_split"
   ]
  },
  {
   "cell_type": "code",
   "execution_count": 3,
   "id": "e3fcb161",
   "metadata": {},
   "outputs": [],
   "source": [
    "from utils.test_utils import make_results_filenames\n",
    "\n",
    "from explainer.itemsets_miner import *\n",
    "import explainer.rule_pattern_miner as rlm\n",
    "import explainer.DT_rules as dtr\n",
    "from explainer.explainer_utils import *\n",
    "import explainer.RuleGrowth_tree as rgtree\n"
   ]
  },
  {
   "cell_type": "code",
   "execution_count": null,
   "id": "6c33093e",
   "metadata": {},
   "outputs": [],
   "source": []
  },
  {
   "cell_type": "code",
   "execution_count": 4,
   "id": "dc3adde7",
   "metadata": {},
   "outputs": [],
   "source": [
    "def encode_one_hot(df,col_name):\n",
    "    df[col_name] = pd.Categorical(df[col_name])\n",
    "    one_hot = pd.get_dummies(df[col_name])\n",
    "    df = pd.concat([df, one_hot], axis=1)\n",
    "    df = df.drop(col_name,axis=1)\n",
    "    return df\n",
    "\n",
    "def min_max_normalization(df,col_name,min_val=None,max_val=None):\n",
    "    if min_val is None:\n",
    "        min_val = df[col_name].min()\n",
    "    if max_val is None:\n",
    "        max_val = df[col_name].max()\n",
    "    df[col_name] = (df[col_name]-min_val)/(max_val-min_val)\n",
    "    return df\n",
    "\n",
    "def min_max_multicols(df,col_names,min_max_df=None):\n",
    "    if min_max_df is None:\n",
    "        min_max_df = pd.DataFrame(columns=col_names)\n",
    "        min_max_df.loc[\"min\"] = df.loc[:,min_max_df.columns].min(axis=0)\n",
    "        min_max_df.loc[\"max\"] = df.loc[:,min_max_df.columns].max(axis=0)\n",
    "    for cn in col_names:\n",
    "        df = min_max_normalization(df,cn,min_max_df.loc[\"min\",cn],min_max_df.loc[\"max\",cn])\n",
    "    return df, min_max_df\n",
    "\n",
    "def recover_feature_raw_value(fid,fval,featur_names,raw_min_max,ntype=\"min_max\"):\n",
    "    fn = featur_names[fid]\n",
    "    if ntype == \"min_max\":\n",
    "        if fn in raw_min_max.columns:\n",
    "            mx = raw_min_max.loc[:,fn].max()\n",
    "            mi = raw_min_max.loc[:,fn].min()\n",
    "            return fval*(mx-mi)+mi\n",
    "        return fval\n",
    "    else:\n",
    "        raise TypeError(\"Not yet supported type\")"
   ]
  },
  {
   "cell_type": "markdown",
   "id": "45c556d4",
   "metadata": {},
   "source": [
    "## Load and preprocess data"
   ]
  },
  {
   "cell_type": "code",
   "execution_count": 5,
   "id": "38d2839d",
   "metadata": {},
   "outputs": [],
   "source": [
    "## control random seed for reproducibility\n",
    "seed = 42\n",
    "torch.manual_seed(seed)\n",
    "np.random.seed(seed)\n",
    "\n",
    "## set data path to load data\n",
    "pp = \"/Users/chenyu/github/NDE-Models-DigitalHealth/\"\n",
    "dpath = pp+\"data/processed/diabetes_prediction_dataset.csv\"\n",
    "\n",
    "## set results path to save results\n",
    "rpath = \"./results/\"\n",
    "name = os.path.join(rpath,'diabetes')"
   ]
  },
  {
   "cell_type": "code",
   "execution_count": 6,
   "id": "cb955000",
   "metadata": {},
   "outputs": [
    {
     "data": {
      "text/html": [
       "<div>\n",
       "<style scoped>\n",
       "    .dataframe tbody tr th:only-of-type {\n",
       "        vertical-align: middle;\n",
       "    }\n",
       "\n",
       "    .dataframe tbody tr th {\n",
       "        vertical-align: top;\n",
       "    }\n",
       "\n",
       "    .dataframe thead th {\n",
       "        text-align: right;\n",
       "    }\n",
       "</style>\n",
       "<table border=\"1\" class=\"dataframe\">\n",
       "  <thead>\n",
       "    <tr style=\"text-align: right;\">\n",
       "      <th></th>\n",
       "      <th>gender</th>\n",
       "      <th>age</th>\n",
       "      <th>hypertension</th>\n",
       "      <th>heart_disease</th>\n",
       "      <th>smoking_history</th>\n",
       "      <th>bmi</th>\n",
       "      <th>HbA1c_level</th>\n",
       "      <th>blood_glucose_level</th>\n",
       "      <th>diabetes</th>\n",
       "    </tr>\n",
       "  </thead>\n",
       "  <tbody>\n",
       "    <tr>\n",
       "      <th>0</th>\n",
       "      <td>Female</td>\n",
       "      <td>80.0</td>\n",
       "      <td>0</td>\n",
       "      <td>1</td>\n",
       "      <td>never</td>\n",
       "      <td>25.19</td>\n",
       "      <td>6.6</td>\n",
       "      <td>140</td>\n",
       "      <td>0</td>\n",
       "    </tr>\n",
       "    <tr>\n",
       "      <th>1</th>\n",
       "      <td>Female</td>\n",
       "      <td>54.0</td>\n",
       "      <td>0</td>\n",
       "      <td>0</td>\n",
       "      <td>No Info</td>\n",
       "      <td>27.32</td>\n",
       "      <td>6.6</td>\n",
       "      <td>80</td>\n",
       "      <td>0</td>\n",
       "    </tr>\n",
       "    <tr>\n",
       "      <th>2</th>\n",
       "      <td>Male</td>\n",
       "      <td>28.0</td>\n",
       "      <td>0</td>\n",
       "      <td>0</td>\n",
       "      <td>never</td>\n",
       "      <td>27.32</td>\n",
       "      <td>5.7</td>\n",
       "      <td>158</td>\n",
       "      <td>0</td>\n",
       "    </tr>\n",
       "    <tr>\n",
       "      <th>3</th>\n",
       "      <td>Female</td>\n",
       "      <td>36.0</td>\n",
       "      <td>0</td>\n",
       "      <td>0</td>\n",
       "      <td>current</td>\n",
       "      <td>23.45</td>\n",
       "      <td>5.0</td>\n",
       "      <td>155</td>\n",
       "      <td>0</td>\n",
       "    </tr>\n",
       "    <tr>\n",
       "      <th>4</th>\n",
       "      <td>Male</td>\n",
       "      <td>76.0</td>\n",
       "      <td>1</td>\n",
       "      <td>1</td>\n",
       "      <td>current</td>\n",
       "      <td>20.14</td>\n",
       "      <td>4.8</td>\n",
       "      <td>155</td>\n",
       "      <td>0</td>\n",
       "    </tr>\n",
       "  </tbody>\n",
       "</table>\n",
       "</div>"
      ],
      "text/plain": [
       "   gender   age  hypertension  heart_disease smoking_history    bmi  \\\n",
       "0  Female  80.0             0              1           never  25.19   \n",
       "1  Female  54.0             0              0         No Info  27.32   \n",
       "2    Male  28.0             0              0           never  27.32   \n",
       "3  Female  36.0             0              0         current  23.45   \n",
       "4    Male  76.0             1              1         current  20.14   \n",
       "\n",
       "   HbA1c_level  blood_glucose_level  diabetes  \n",
       "0          6.6                  140         0  \n",
       "1          6.6                   80         0  \n",
       "2          5.7                  158         0  \n",
       "3          5.0                  155         0  \n",
       "4          4.8                  155         0  "
      ]
     },
     "execution_count": 6,
     "metadata": {},
     "output_type": "execute_result"
    }
   ],
   "source": [
    "## read diabetes dataset\n",
    "df = pd.read_csv(dpath,header=1)\n",
    "df.head()"
   ]
  },
  {
   "cell_type": "code",
   "execution_count": 7,
   "id": "4f9835b6",
   "metadata": {},
   "outputs": [
    {
     "data": {
      "text/html": [
       "<div>\n",
       "<style scoped>\n",
       "    .dataframe tbody tr th:only-of-type {\n",
       "        vertical-align: middle;\n",
       "    }\n",
       "\n",
       "    .dataframe tbody tr th {\n",
       "        vertical-align: top;\n",
       "    }\n",
       "\n",
       "    .dataframe thead th {\n",
       "        text-align: right;\n",
       "    }\n",
       "</style>\n",
       "<table border=\"1\" class=\"dataframe\">\n",
       "  <thead>\n",
       "    <tr style=\"text-align: right;\">\n",
       "      <th></th>\n",
       "      <th>age</th>\n",
       "      <th>hypertension</th>\n",
       "      <th>heart_disease</th>\n",
       "      <th>bmi</th>\n",
       "      <th>HbA1c_level</th>\n",
       "      <th>blood_glucose_level</th>\n",
       "      <th>diabetes</th>\n",
       "      <th>Female</th>\n",
       "      <th>Male</th>\n",
       "      <th>Other</th>\n",
       "      <th>No Info</th>\n",
       "      <th>current</th>\n",
       "      <th>ever</th>\n",
       "      <th>former</th>\n",
       "      <th>never</th>\n",
       "      <th>not current</th>\n",
       "    </tr>\n",
       "  </thead>\n",
       "  <tbody>\n",
       "    <tr>\n",
       "      <th>0</th>\n",
       "      <td>80.0</td>\n",
       "      <td>0</td>\n",
       "      <td>1</td>\n",
       "      <td>25.19</td>\n",
       "      <td>6.6</td>\n",
       "      <td>140</td>\n",
       "      <td>0</td>\n",
       "      <td>1</td>\n",
       "      <td>0</td>\n",
       "      <td>0</td>\n",
       "      <td>0</td>\n",
       "      <td>0</td>\n",
       "      <td>0</td>\n",
       "      <td>0</td>\n",
       "      <td>1</td>\n",
       "      <td>0</td>\n",
       "    </tr>\n",
       "    <tr>\n",
       "      <th>1</th>\n",
       "      <td>54.0</td>\n",
       "      <td>0</td>\n",
       "      <td>0</td>\n",
       "      <td>27.32</td>\n",
       "      <td>6.6</td>\n",
       "      <td>80</td>\n",
       "      <td>0</td>\n",
       "      <td>1</td>\n",
       "      <td>0</td>\n",
       "      <td>0</td>\n",
       "      <td>1</td>\n",
       "      <td>0</td>\n",
       "      <td>0</td>\n",
       "      <td>0</td>\n",
       "      <td>0</td>\n",
       "      <td>0</td>\n",
       "    </tr>\n",
       "    <tr>\n",
       "      <th>2</th>\n",
       "      <td>28.0</td>\n",
       "      <td>0</td>\n",
       "      <td>0</td>\n",
       "      <td>27.32</td>\n",
       "      <td>5.7</td>\n",
       "      <td>158</td>\n",
       "      <td>0</td>\n",
       "      <td>0</td>\n",
       "      <td>1</td>\n",
       "      <td>0</td>\n",
       "      <td>0</td>\n",
       "      <td>0</td>\n",
       "      <td>0</td>\n",
       "      <td>0</td>\n",
       "      <td>1</td>\n",
       "      <td>0</td>\n",
       "    </tr>\n",
       "    <tr>\n",
       "      <th>3</th>\n",
       "      <td>36.0</td>\n",
       "      <td>0</td>\n",
       "      <td>0</td>\n",
       "      <td>23.45</td>\n",
       "      <td>5.0</td>\n",
       "      <td>155</td>\n",
       "      <td>0</td>\n",
       "      <td>1</td>\n",
       "      <td>0</td>\n",
       "      <td>0</td>\n",
       "      <td>0</td>\n",
       "      <td>1</td>\n",
       "      <td>0</td>\n",
       "      <td>0</td>\n",
       "      <td>0</td>\n",
       "      <td>0</td>\n",
       "    </tr>\n",
       "    <tr>\n",
       "      <th>4</th>\n",
       "      <td>76.0</td>\n",
       "      <td>1</td>\n",
       "      <td>1</td>\n",
       "      <td>20.14</td>\n",
       "      <td>4.8</td>\n",
       "      <td>155</td>\n",
       "      <td>0</td>\n",
       "      <td>0</td>\n",
       "      <td>1</td>\n",
       "      <td>0</td>\n",
       "      <td>0</td>\n",
       "      <td>1</td>\n",
       "      <td>0</td>\n",
       "      <td>0</td>\n",
       "      <td>0</td>\n",
       "      <td>0</td>\n",
       "    </tr>\n",
       "  </tbody>\n",
       "</table>\n",
       "</div>"
      ],
      "text/plain": [
       "    age  hypertension  heart_disease    bmi  HbA1c_level  blood_glucose_level  \\\n",
       "0  80.0             0              1  25.19          6.6                  140   \n",
       "1  54.0             0              0  27.32          6.6                   80   \n",
       "2  28.0             0              0  27.32          5.7                  158   \n",
       "3  36.0             0              0  23.45          5.0                  155   \n",
       "4  76.0             1              1  20.14          4.8                  155   \n",
       "\n",
       "   diabetes  Female  Male  Other  No Info  current  ever  former  never  \\\n",
       "0         0       1     0      0        0        0     0       0      1   \n",
       "1         0       1     0      0        1        0     0       0      0   \n",
       "2         0       0     1      0        0        0     0       0      1   \n",
       "3         0       1     0      0        0        1     0       0      0   \n",
       "4         0       0     1      0        0        1     0       0      0   \n",
       "\n",
       "   not current  \n",
       "0            0  \n",
       "1            0  \n",
       "2            0  \n",
       "3            0  \n",
       "4            0  "
      ]
     },
     "execution_count": 7,
     "metadata": {},
     "output_type": "execute_result"
    }
   ],
   "source": [
    "## transform categorical feature to one-hot-encoder\n",
    "df = encode_one_hot(df,'gender')\n",
    "df = encode_one_hot(df,'smoking_history')\n",
    "df.head()"
   ]
  },
  {
   "cell_type": "code",
   "execution_count": null,
   "id": "c30f1f71",
   "metadata": {},
   "outputs": [],
   "source": []
  },
  {
   "cell_type": "code",
   "execution_count": 8,
   "id": "9f7187fe",
   "metadata": {},
   "outputs": [],
   "source": [
    "## split training and test set\n",
    "X_train,X_test,y_train,y_test = train_test_split(df.drop('diabetes',axis=1),df['diabetes'],test_size=0.3,random_state=seed)\n",
    "\n",
    "## min-max normalize numerical features\n",
    "X_train,min_max = min_max_multicols(X_train,col_names=['age','bmi','HbA1c_level','blood_glucose_level'])\n",
    "X_test,_ = min_max_multicols(X_test,col_names=min_max.columns,min_max_df=min_max)"
   ]
  },
  {
   "cell_type": "code",
   "execution_count": 9,
   "id": "c9be0f83",
   "metadata": {},
   "outputs": [
    {
     "name": "stdout",
     "output_type": "stream",
     "text": [
      "age float64 float64\n",
      "hypertension int64 int64\n",
      "heart_disease int64 int64\n",
      "bmi float64 float64\n",
      "HbA1c_level float64 float64\n",
      "blood_glucose_level float64 float64\n",
      "Female uint8 cat\n",
      "Male uint8 cat\n",
      "Other uint8 cat\n",
      "No Info uint8 cat\n",
      "current uint8 cat\n",
      "ever uint8 cat\n",
      "former uint8 cat\n",
      "never uint8 cat\n",
      "not current uint8 cat\n"
     ]
    }
   ],
   "source": [
    "feature_types = []\n",
    "for c in X_train.columns:\n",
    "    if np.dtype(X_train[c])!=np.uint8:\n",
    "        feature_types.append(str(np.dtype(X_train[c])))\n",
    "    else:\n",
    "        feature_types.append(\"cat\")\n",
    "    print(c,np.dtype(X_train[c]),feature_types[-1])"
   ]
  },
  {
   "cell_type": "code",
   "execution_count": null,
   "id": "b28e9775",
   "metadata": {},
   "outputs": [],
   "source": []
  },
  {
   "cell_type": "code",
   "execution_count": 10,
   "id": "51b37bf0",
   "metadata": {},
   "outputs": [],
   "source": [
    "## apply oversampling on training set \n",
    "\n",
    "from imblearn.over_sampling import SMOTE\n",
    "\n",
    "oversampler = SMOTE(random_state=seed)\n",
    "X_over, y_over = oversampler.fit_resample(X_train, y_train)"
   ]
  },
  {
   "cell_type": "markdown",
   "id": "e30a3b53",
   "metadata": {},
   "source": [
    "## Train logistic regression model"
   ]
  },
  {
   "cell_type": "code",
   "execution_count": 11,
   "id": "0c8ec21e",
   "metadata": {},
   "outputs": [
    {
     "data": {
      "text/plain": [
       "(0.8882666666666666,\n",
       " array([[24405,  3048],\n",
       "        [  304,  2243]]),\n",
       " array([0.98769679, 0.42392742]),\n",
       " array([0.88897388, 0.88064389]))"
      ]
     },
     "execution_count": 11,
     "metadata": {},
     "output_type": "execute_result"
    }
   ],
   "source": [
    "## train a logistic regression model and check performance on test set\n",
    "log_reg = LogisticRegression(max_iter=2000,multi_class='ovr',random_state=seed)\n",
    "log_reg.fit(X_over,y_over)\n",
    "y_pred = log_reg.predict(X_test)\n",
    "\n",
    "\n",
    "accuracy = log_reg.score(X_test,y_test)\n",
    "confusion = confusion_matrix(y_test,y_pred)\n",
    "precision = precision_score(y_test,y_pred,average=None)\n",
    "recall = recall_score(y_test,y_pred,average=None)\n",
    "accuracy,confusion,precision,recall"
   ]
  },
  {
   "cell_type": "code",
   "execution_count": 12,
   "id": "bd391058",
   "metadata": {},
   "outputs": [
    {
     "name": "stdout",
     "output_type": "stream",
     "text": [
      "auc 0.9621384460095029\n",
      "y threshold 0.4571048952150361\n"
     ]
    },
    {
     "data": {
      "image/png": "[encoded data removed]",
      "text/plain": [
       "<Figure size 800x600 with 1 Axes>"
      ]
     },
     "metadata": {},
     "output_type": "display_data"
    }
   ],
   "source": [
    "# from sklearn.metrics import roc_curve, roc_auc_score\n",
    "# import matplotlib.pyplot as plt\n",
    "# import scipy as sp\n",
    "\n",
    "## find and plot the prediction threshold using ROC\n",
    "\n",
    "pred_y = log_reg.predict_proba(X_train)[:,1]\n",
    "auc = roc_auc_score(y_train, pred_y)\n",
    "print(\"auc\",auc)\n",
    "\n",
    "fpr, tpr, thresholds = roc_curve(y_train, pred_y)\n",
    "th_id = np.argmax(tpr - fpr)\n",
    "y_thd = thresholds[th_id]\n",
    "print(\"y threshold\",y_thd)\n",
    "\n",
    "# Plot the ROC curve\n",
    "plt.figure(figsize=(8, 6))\n",
    "plt.plot(fpr, tpr, label=f'ROC Curve (AUC = {auc:.3f})')\n",
    "plt.plot(fpr[th_id],tpr[th_id],\"r*\")\n",
    "plt.annotate('$y_{th}=$'+str(y_thd.round(3)), (fpr[th_id],tpr[th_id]), textcoords='offset points', xytext=(42,-8), ha='center',fontsize=14)\n",
    "\n",
    "plt.plot([fpr[th_id],fpr[th_id]],[0,tpr[th_id]],\"r:\")\n",
    "plt.plot([-0.02,fpr[th_id]],[tpr[th_id],tpr[th_id]],\"r:\")\n",
    "plt.xlim(-0.02,1.)\n",
    "plt.xticks([0.,fpr[th_id],0.2,0.4,0.6,0.8,1.])\n",
    "plt.yticks([0.,0.2,0.4,0.6,0.8,tpr[th_id],1.])\n",
    "plt.ylim(0,1.05)\n",
    "plt.xlabel('False Positive Rate (FPR)',fontsize=14)\n",
    "plt.ylabel('True Positive Rate (TPR)',fontsize=14)\n",
    "plt.legend(fontsize=14)\n",
    "# plt.savefig(\"./results/diabetes/roc.eps\",bbox_inches=\"tight\")\n",
    "\n",
    "plt.show()"
   ]
  },
  {
   "cell_type": "code",
   "execution_count": 13,
   "id": "b3f8d644",
   "metadata": {},
   "outputs": [
    {
     "data": {
      "text/plain": [
       "0.962387678432344"
      ]
     },
     "execution_count": 13,
     "metadata": {},
     "output_type": "execute_result"
    }
   ],
   "source": [
    "## check AUC on test set\n",
    "pred_y_test = log_reg.predict_proba(X_test)[:,1]\n",
    "auc = roc_auc_score(y_test, pred_y_test)\n",
    "auc"
   ]
  },
  {
   "cell_type": "markdown",
   "id": "444ea2e4",
   "metadata": {},
   "source": [
    "## Feature selection for rule extraction"
   ]
  },
  {
   "cell_type": "code",
   "execution_count": 14,
   "id": "8849ca0b",
   "metadata": {},
   "outputs": [],
   "source": [
    "## get baseline samples and test samples for computing impact scores of features\n",
    "\n",
    "baselines = gen_intgrad_baselines(X_over.values,y_over.values)\n",
    "subset = gen_balanced_subset(X_train.values,y_train.values,size_per_class=int(y_train.sum()))"
   ]
  },
  {
   "cell_type": "code",
   "execution_count": 15,
   "id": "c82a82ff",
   "metadata": {},
   "outputs": [],
   "source": [
    "## compute impact score matrix\n",
    "\n",
    "C=2\n",
    "baseline_output = log_reg.predict_proba(baselines)[:,1]\n",
    "subset_output,yshift,int_g = [],[],[]    \n",
    "cids = np.arange(C)\n",
    "for k in cids:    \n",
    "    subset_output.append(log_reg.predict_proba(subset[k])[:,1])\n",
    "    for kk in cids[cids!=k]:\n",
    "        yshift.append(subset_output[k]-baseline_output[kk])\n",
    "        int_g.append((subset[k]-baselines[kk])* log_reg.coef_)\n",
    "yshift = np.concatenate(yshift)\n",
    "int_g = np.vstack(int_g)\n",
    "y_int_g = np.abs(int_g)/yshift.reshape(-1,1)"
   ]
  },
  {
   "cell_type": "code",
   "execution_count": 16,
   "id": "e76a3e1b",
   "metadata": {},
   "outputs": [
    {
     "data": {
      "text/plain": [
       "0.2527927927927928"
      ]
     },
     "execution_count": 16,
     "metadata": {},
     "output_type": "execute_result"
    }
   ],
   "source": [
    "## find threshold for impact score\n",
    "\n",
    "thds = np.linspace(0.01,1.,1000)\n",
    "f_n = []\n",
    "for thd in thds:\n",
    "    mask = np.abs(y_int_g) >= thd \n",
    "    f_n.append((thd,(mask.sum(axis=0)>=len(y_int_g)*0.99).sum()))\n",
    "#     print(f_n[-1])\n",
    "    if f_n[-1][1]==1:\n",
    "        break\n",
    "thd = f_n[-1][0]\n",
    "thd"
   ]
  },
  {
   "cell_type": "code",
   "execution_count": 17,
   "id": "1a1e07c8",
   "metadata": {
    "scrolled": false
   },
   "outputs": [
    {
     "data": {
      "text/plain": [
       "<matplotlib.legend.Legend at 0x16c883fa0>"
      ]
     },
     "execution_count": 17,
     "metadata": {},
     "output_type": "execute_result"
    },
    {
     "data": {
      "image/png": "[encoded data removed]",
      "text/plain": [
       "<Figure size 1000x600 with 1 Axes>"
      ]
     },
     "metadata": {},
     "output_type": "display_data"
    }
   ],
   "source": [
    "## plot the scanning process of finding threshold\n",
    "\n",
    "import seaborn as sns\n",
    "sns.set_style(\"whitegrid\")\n",
    "plt.figure(figsize=(10, 6))\n",
    "plt.plot([th[0] for th in f_n[:]],[(th[1]) for th in f_n[:]])\n",
    "plt.plot(f_n[-1][0],(f_n[-1][1]),\"r*\",label=\"Selected impact threshold\")\n",
    "plt.plot([0,f_n[-1][0]],[(f_n[-1][1]),(f_n[-1][1])],\":r\")\n",
    "plt.plot([f_n[-1][0],f_n[-1][0]],[0,f_n[-1][1]],\":r\")\n",
    "plt.xlim(0.,.3)\n",
    "plt.ylim(0.,10)\n",
    "plt.yticks([0,1,2,4,6,8,10],fontsize=16,fontstyle='italic')\n",
    "plt.xticks(fontsize=16,fontstyle='italic')\n",
    "plt.xlabel(r\"Feature impact score threshod -- $\\mathbf{j}_{th}$\",fontsize=20)\n",
    "plt.ylabel(r\"Number of features with $\\gamma BM$ frequecy\",fontsize=20)\n",
    "plt.legend(fontsize=20)\n",
    "# plt.savefig(\"./results/diabetes/score_thd.svg\",bbox_inches=\"tight\")"
   ]
  },
  {
   "cell_type": "code",
   "execution_count": 18,
   "id": "0a9a4051",
   "metadata": {},
   "outputs": [
    {
     "name": "stdout",
     "output_type": "stream",
     "text": [
      "feature set [4 7 0 5 3 9 1 6 2] 9\n"
     ]
    }
   ],
   "source": [
    "## identify frequent important feature set\n",
    "\n",
    "itemsets_y = transform_intgrad_to_itemsets(y_int_g,thd=thd)\n",
    "fids = gen_freq_feature_set(itemsets_y[0],min_support=500,max_len=100)\n",
    "fids = np.array(fids).astype(int)-1\n",
    "print('feature set',fids,len(fids))"
   ]
  },
  {
   "cell_type": "markdown",
   "id": "97f1f1d8",
   "metadata": {},
   "source": [
    "## Rule extraction by AMORE "
   ]
  },
  {
   "cell_type": "code",
   "execution_count": 19,
   "id": "2b5da91d",
   "metadata": {},
   "outputs": [],
   "source": [
    "## set \"grid_search = True\" to do a grid search for hyperprameters\n",
    "\n",
    "grid_search = False\n",
    "\n",
    "if grid_search:\n",
    "    ng_range = np.arange(2,21)\n",
    "    bin_strategies = [\"uniform\",\"kmeans\"]\n",
    "    support_range = np.arange(1000,5000,1000)\n",
    "    confidence_lower_bound = 0.8\n",
    "    max_depth=1\n",
    "    top_K=3\n",
    "\n",
    "\n",
    "    best_rule_set,best_configs,config_metric_records = rlm.param_grid_search_for_amore(bin_strategies,ng_range,support_range,X_train.values,fids,target_indices=pred_y>y_thd,y=y_train.values,c=1,confidence_lower_bound = confidence_lower_bound,\n",
    "                                                                                        max_depth=max_depth,top_K=top_K,sort_by=\"fitness\")"
   ]
  },
  {
   "cell_type": "code",
   "execution_count": 20,
   "id": "23caf1ee",
   "metadata": {
    "scrolled": true
   },
   "outputs": [
    {
     "data": {
      "text/plain": [
       "[{'rules': [(4, 'HbA1c_level', '>=', 0.5714285714285714)],\n",
       "  'confidence': 0.993421052631579,\n",
       "  'support': 2736,\n",
       "  'fitness': 0.20180880484341132,\n",
       "  'cond_prob_y': 1.0,\n",
       "  'ratio_y': 0.4596002015790358},\n",
       " {'rules': [(5, 'blood_glucose_level', '>=', 0.5714285714285714)],\n",
       "  'confidence': 0.9978326831382748,\n",
       "  'support': 2307,\n",
       "  'fitness': 0.17168697212048734,\n",
       "  'cond_prob_y': 1.0,\n",
       "  'ratio_y': 0.3875356962875861},\n",
       " {'rules': [(2, 'heart_disease', '==', 1.0)],\n",
       "  'confidence': 0.5977052707063464,\n",
       "  'support': 2789,\n",
       "  'fitness': 0.040735480977651554,\n",
       "  'cond_prob_y': 0.3209035496593761,\n",
       "  'ratio_y': 0.15034436418612465}]"
      ]
     },
     "execution_count": 20,
     "metadata": {},
     "output_type": "execute_result"
    }
   ],
   "source": [
    "### search rules for target pattern: pred_y > y_thd  ###\n",
    "### we set the hyperparameters obtaind by above grid search step ###\n",
    "\n",
    "min_support=2000\n",
    "bin_strategy=\"uniform\"\n",
    "num_grids=7\n",
    "max_depth=1\n",
    "top_K=3\n",
    "\n",
    "y_rule_candidates = rlm.gen_rule_list_for_one_target(X_train.values,fids,pred_y>y_thd,y=y_train.values,c=1,sort_by=\"fitness\",\n",
    "                                                    min_support=min_support,num_grids=num_grids,max_depth=max_depth,top_K=top_K,\n",
    "                                                    local_x=None,feature_types=feature_types,bin_strategy=bin_strategy,\n",
    "                                                    verbose=False)\n",
    "\n",
    "for i, rules in enumerate(y_rule_candidates):   \n",
    "    rules[\"rules\"] = rlm.replace_feature_names(rules[\"rules\"],X_train.columns)\n",
    "    y_rule_candidates[i] = rules\n",
    "y_rule_candidates"
   ]
  },
  {
   "cell_type": "code",
   "execution_count": 21,
   "id": "8c543005",
   "metadata": {},
   "outputs": [
    {
     "name": "stdout",
     "output_type": "stream",
     "text": [
      "{'rules': [(4, 'HbA1c_level', '>=', 6.642857142857142)], 'confidence': 0.993421052631579, 'support': 2736, 'fitness': 0.20180880484341132, 'cond_prob_y': 1.0, 'ratio_y': 0.4596002015790358}\n",
      "{'rules': [(5, 'blood_glucose_level', '>=', 205.71428571428572)], 'confidence': 0.9978326831382748, 'support': 2307, 'fitness': 0.17168697212048734, 'cond_prob_y': 1.0, 'ratio_y': 0.3875356962875861}\n",
      "{'rules': [(2, 'heart_disease', '==', 1.0)], 'confidence': 0.5977052707063464, 'support': 2789, 'fitness': 0.040735480977651554, 'cond_prob_y': 0.3209035496593761, 'ratio_y': 0.15034436418612465}\n"
     ]
    }
   ],
   "source": [
    "## recover raw feature value by reversing the min-max normalization\n",
    "\n",
    "for n in range(len(y_rule_candidates)):\n",
    "    for i, r in enumerate(y_rule_candidates[n][\"rules\"]):\n",
    "        nr = recover_feature_raw_value(r[0],r[-1],X_train.columns,min_max)\n",
    "        y_rule_candidates[n][\"rules\"][i] = (*r[:-1],nr) \n",
    "        print(y_rule_candidates[n])"
   ]
  },
  {
   "cell_type": "markdown",
   "id": "b65df0f0",
   "metadata": {},
   "source": [
    "## Rule extraction by DT Classifier "
   ]
  },
  {
   "cell_type": "code",
   "execution_count": 52,
   "id": "366c898b",
   "metadata": {},
   "outputs": [],
   "source": [
    "## set \"grid_search = True\" to do a grid search for hyperprameters\n",
    "\n",
    "grid_search = False\n",
    "\n",
    "if grid_search:\n",
    "    criteria = [\"gini\", \"entropy\", \"log_loss\"]\n",
    "    w = (y_train==c).sum()/y_train.shape[0]\n",
    "    class_weight_options = [{0:0.5,1:0.5},{0:1.-w,1:w}]\n",
    "    support_range = np.arange(1000,6000,1000)\n",
    "    confidence_lower_bound = 0.\n",
    "    max_depth=1\n",
    "    DT_best_rule_set, DT_best_configs, DT_config_metric_records = dtr.param_grid_search_for_DT(criteria,support_range,weight_options=class_weight_options,X=X_train.values,y=y_train.values,target_indices=pred_y>y_thd,c=1,max_depth=max_depth,feature_names=X_train.columns,confidence_lower_bound=confidence_lower_bound,seed=seed)\n"
   ]
  },
  {
   "cell_type": "code",
   "execution_count": 55,
   "id": "d1f6caaa",
   "metadata": {},
   "outputs": [
    {
     "name": "stdout",
     "output_type": "stream",
     "text": [
      "|--- feature_4 <= 0.52\n",
      "|   |--- class: False\n",
      "|--- feature_4 >  0.52\n",
      "|   |--- class: True\n",
      "\n"
     ]
    }
   ],
   "source": [
    "### Obtain rules for target pattern: pred_y > y_thd from a DecisionTreeClassifier ###\n",
    "### We set the hyperparameters obtaind by above grid search step ###\n",
    "criterion=\"gini\"\n",
    "min_support=1000\n",
    "class_weight={0: 0.5, 1: 0.5}\n",
    "\n",
    "input_feature_names =X_train.columns\n",
    "treemodel = DecisionTreeClassifier(max_depth=max_depth,min_samples_leaf=min_support,criterion=criterion,random_state=seed,class_weight=class_weight)\n",
    "treemodel.fit(X_train,pred_y>y_thd)\n",
    "rule_list, rule_value_list, rule_metric_list, new_lines = dtr.obtain_rule_lists_from_DT(treemodel,X_train.values,y_train.values,pred_y>y_thd,np.arange(X_train.shape[-1]),X_train.columns,c=1)\n",
    "print(export_text(treemodel))"
   ]
  },
  {
   "cell_type": "code",
   "execution_count": 56,
   "id": "0bcfdd66",
   "metadata": {},
   "outputs": [],
   "source": [
    "## recover raw feature value by reversing the min-max normalization\n",
    "for s in range(len(rule_list)):\n",
    "    for j, r in enumerate(rule_list[s]):\n",
    "        nr = recover_feature_raw_value(r[0],r[-1],X_train.columns,min_max)\n",
    "        rule_list[s][j] = (*r[:-1],nr)"
   ]
  },
  {
   "cell_type": "code",
   "execution_count": 57,
   "id": "6fd7f501",
   "metadata": {},
   "outputs": [
    {
     "name": "stdout",
     "output_type": "stream",
     "text": [
      "#################\n",
      "[(4, '<=', 6.349)]\n",
      "confidence 0.106 cond_prob_y 0.042 support 55499 fitness -3.265\n",
      "HbA1c_level <= 6.349\n",
      "#################\n",
      "[(4, '>', 6.349)]\n",
      "confidence 0.515 cond_prob_y 0.251 support 14501 fitness 0.033\n",
      "HbA1c_level > 6.349\n"
     ]
    }
   ],
   "source": [
    "## display rules extracted by DT classifier\n",
    "dtr.display_rules_from_DT(rule_list,rule_metric_list,input_feature_names)"
   ]
  },
  {
   "cell_type": "markdown",
   "id": "e6b2afbb",
   "metadata": {},
   "source": [
    "## Extract local rules for specific test samples by AMORE"
   ]
  },
  {
   "cell_type": "code",
   "execution_count": 302,
   "id": "08e46235",
   "metadata": {},
   "outputs": [
    {
     "data": {
      "text/plain": [
       "(0.42439205526547025, 1)"
      ]
     },
     "execution_count": 302,
     "metadata": {},
     "output_type": "execute_result"
    }
   ],
   "source": [
    "## tids of test samples demonstrated in the paper: 5,4,144\n",
    "\n",
    "tid = 144\n",
    "x = X_train.values\n",
    "xi = X_test.values[tid,:]\n",
    "pred_y_test[tid],y_test.values[tid]"
   ]
  },
  {
   "cell_type": "code",
   "execution_count": 303,
   "id": "09c2dd7e",
   "metadata": {
    "scrolled": true
   },
   "outputs": [
    {
     "name": "stdout",
     "output_type": "stream",
     "text": [
      "check config uniform 2 1000\n",
      "check config uniform 3 1000\n",
      "check config uniform 4 1000\n",
      "check config uniform 5 1000\n",
      "check config uniform 6 1000\n",
      "check config uniform 7 1000\n",
      "check config uniform 8 1000\n",
      "check config uniform 9 1000\n",
      "check config uniform 10 1000\n",
      "check config kmeans 2 1000\n",
      "check config kmeans 3 1000\n",
      "check config kmeans 4 1000\n",
      "check config kmeans 5 1000\n",
      "check config kmeans 6 1000\n",
      "check config kmeans 7 1000\n",
      "check config kmeans 8 1000\n",
      "check config kmeans 9 1000\n",
      "check config kmeans 10 1000\n"
     ]
    }
   ],
   "source": [
    "ng_range = np.arange(2,11)\n",
    "bin_strategies = [\"uniform\",\"kmeans\"]\n",
    "support_range = [1000]\n",
    "confidence_lower_bound = 0.8\n",
    "max_depth=3\n",
    "top_K=3\n",
    "\n",
    "local_best_rule_set,local_best_configs,local_config_metric_records = rlm.param_grid_search_for_amore(bin_strategies,ng_range,support_range,X_train.values,fids,target_indices=pred_y>y_thd,y=y_train.values,c=1,confidence_lower_bound = confidence_lower_bound,\n",
    "                                                                                        max_depth=max_depth,top_K=top_K,sort_by=\"confidence\",local_x=xi,feature_types=feature_types)\n",
    "\n"
   ]
  },
  {
   "cell_type": "code",
   "execution_count": 304,
   "id": "5f7d73be",
   "metadata": {},
   "outputs": [
    {
     "data": {
      "text/plain": [
       "({'rules': [(3, '>=', 0.33578018116401265),\n",
       "   (4, '>=', 0.3186770667450987),\n",
       "   (0, '>=', 0.6823256580015833)],\n",
       "  'confidence': 0.8925373134328358,\n",
       "  'support': 1340,\n",
       "  'fitness': 0.07863068988713656,\n",
       "  'cond_prob_y': 0.5417910447761194,\n",
       "  'ratio_y': 0.1219553166470687},\n",
       " {'bin_strategy': 'kmeans', 'num_grids': 3, 'min_support': 1000})"
      ]
     },
     "execution_count": 304,
     "metadata": {},
     "output_type": "execute_result"
    }
   ],
   "source": [
    "local_best_rule_set,local_best_configs"
   ]
  },
  {
   "cell_type": "code",
   "execution_count": 305,
   "id": "d615d597",
   "metadata": {},
   "outputs": [
    {
     "data": {
      "text/plain": [
       "{'rules': [(3, 'bmi', '>=', 37.48017662102787),\n",
       "  (4, 'HbA1c_level', '>=', 5.252723867098043),\n",
       "  (0, 'age', '>=', 54.61146658748654)],\n",
       " 'confidence': 0.8925373134328358,\n",
       " 'support': 1340,\n",
       " 'fitness': 0.07863068988713656,\n",
       " 'cond_prob_y': 0.5417910447761194,\n",
       " 'ratio_y': 0.1219553166470687}"
      ]
     },
     "execution_count": 305,
     "metadata": {},
     "output_type": "execute_result"
    }
   ],
   "source": [
    "## display the top local rule set\n",
    "\n",
    "rules = local_best_rule_set\n",
    "rules[\"rules\"] = rlm.replace_feature_names(rules[\"rules\"],X_train.columns)\n",
    "for i, r in enumerate(rules[\"rules\"]):\n",
    "    nr = recover_feature_raw_value(r[0],r[-1],X_train.columns,min_max)\n",
    "    rules[\"rules\"][i] = (*r[:-1],nr) \n",
    "rules"
   ]
  },
  {
   "cell_type": "code",
   "execution_count": null,
   "id": "bb09c907",
   "metadata": {},
   "outputs": [],
   "source": []
  }
 ],
 "metadata": {
  "kernelspec": {
   "display_name": "py39",
   "language": "python",
   "name": "py39"
  },
  "language_info": {
   "codemirror_mode": {
    "name": "ipython",
    "version": 3
   },
   "file_extension": ".py",
   "mimetype": "text/x-python",
   "name": "python",
   "nbconvert_exporter": "python",
   "pygments_lexer": "ipython3",
   "version": "3.9.15"
  }
 },
 "nbformat": 4,
 "nbformat_minor": 5
}
