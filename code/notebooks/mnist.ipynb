{
 "cells": [
  {
   "cell_type": "code",
   "execution_count": 1,
   "id": "0107747c",
   "metadata": {},
   "outputs": [],
   "source": [
    "import sys\n",
    "import os\n",
    "from importlib import reload\n",
    "here = os.getcwd()\n",
    "sys.path.append(os.path.join(here,\"../\"))"
   ]
  },
  {
   "cell_type": "code",
   "execution_count": 2,
   "id": "31047ea8",
   "metadata": {},
   "outputs": [],
   "source": [
    "import torch\n",
    "import torch.nn as nn\n",
    "import torch.optim as optim\n",
    "import torchvision\n",
    "import torchvision.transforms as transforms\n",
    "from torch.utils.data import DataLoader\n",
    "import torch.nn.functional as F"
   ]
  },
  {
   "cell_type": "code",
   "execution_count": 3,
   "id": "93fb320b",
   "metadata": {},
   "outputs": [],
   "source": [
    "import random\n",
    "import numpy as np\n",
    "import seaborn as sns\n",
    "import matplotlib.pyplot as plt "
   ]
  },
  {
   "cell_type": "code",
   "execution_count": 4,
   "id": "a79096f2",
   "metadata": {},
   "outputs": [],
   "source": [
    "import explainer.rule_pattern_miner as rlm\n",
    "import explainer.explainer_utils as eutils\n",
    "from explainer.itemsets_miner import transform_intgrad_to_itemsets,gen_freq_feature_set\n",
    "import explainer.integrad as integrad\n",
    "\n",
    "from sklearn.metrics import f1_score,confusion_matrix,precision_score,recall_score,accuracy_score,roc_auc_score\n",
    "from itertools import permutations"
   ]
  },
  {
   "cell_type": "code",
   "execution_count": 5,
   "id": "4912c61d",
   "metadata": {},
   "outputs": [],
   "source": [
    "seed = 42\n",
    "torch.manual_seed(seed)\n",
    "np.random.seed(seed)\n",
    "random.seed(seed)"
   ]
  },
  {
   "cell_type": "code",
   "execution_count": null,
   "id": "4d1289ce",
   "metadata": {},
   "outputs": [],
   "source": []
  },
  {
   "cell_type": "code",
   "execution_count": 6,
   "id": "daca1a5f",
   "metadata": {},
   "outputs": [],
   "source": [
    "# Define a simple CNN model\n",
    "class Net(nn.Module):\n",
    "    def __init__(self,image_w=28,image_h=28,num_class=10,input_channel=1,output_channel=4,kernel=4,hidden_state=128):\n",
    "        super(Net, self).__init__()\n",
    "        self.output_channel = output_channel\n",
    "        self.w = int((image_w - kernel + 1)/2)\n",
    "        self.h = int((image_h - kernel + 1)/2)\n",
    "        \n",
    "        self.conv1 = nn.Conv2d(input_channel, output_channel, kernel)  # 1 input channel, 32 output channels, 5x5 kernel\n",
    "       \n",
    "        self.fc1 = nn.Linear(output_channel * self.w * self.h, hidden_state)  # Fully connected layer with 10 output classes\n",
    "        self.fc2 = nn.Linear(hidden_state, num_class)\n",
    "        \n",
    "    def latent1(self,x):\n",
    "        x = F.relu(F.max_pool2d(self.conv1(x), 2))\n",
    "        x = x.view(-1, self.output_channel * self.w * self.h)\n",
    "        return x\n",
    "    \n",
    "    def latent2(self,x):   \n",
    "        x = self.latent1(x)\n",
    "        x = F.relu(self.fc1(x))\n",
    "        return x\n",
    "        \n",
    "    def forward(self, x):\n",
    "#         x = self.latent1(x)\n",
    "        x = self.latent2(x)\n",
    "        x = self.fc2(x)\n",
    "        return F.log_softmax(x, dim=1)\n",
    "    \n",
    "    def latent_representation(self,x):\n",
    "        #x = self.latent2(x)\n",
    "        x = self.fc2(x)\n",
    "        return F.log_softmax(x, dim=1)\n"
   ]
  },
  {
   "cell_type": "code",
   "execution_count": 7,
   "id": "c1cbc319",
   "metadata": {
    "scrolled": true
   },
   "outputs": [],
   "source": [
    "# Define data transformations and load the MNIST dataset\n",
    "transform = transforms.Compose([transforms.ToTensor(), transforms.Normalize((0.5,), (0.5,))])\n",
    "\n",
    "dpath = \"../../data/\"\n",
    "trainset = torchvision.datasets.MNIST(root=dpath, train=True, download=True, transform=transform)\n",
    "trainloader = DataLoader(trainset, batch_size=64, shuffle=True, num_workers=8)\n",
    "\n",
    "# Define data transformations and load the MNIST test dataset\n",
    "testset = torchvision.datasets.MNIST(root=dpath, train=False, download=True, transform=transform)\n",
    "testloader = DataLoader(testset, batch_size=64, shuffle=False, num_workers=8)\n"
   ]
  },
  {
   "cell_type": "code",
   "execution_count": 8,
   "id": "f659568c",
   "metadata": {},
   "outputs": [
    {
     "data": {
      "text/plain": [
       "tensor(6265)"
      ]
     },
     "execution_count": 8,
     "metadata": {},
     "output_type": "execute_result"
    }
   ],
   "source": [
    "sum(trainset.targets==7)"
   ]
  },
  {
   "cell_type": "code",
   "execution_count": 9,
   "id": "87077382",
   "metadata": {
    "scrolled": true
   },
   "outputs": [
    {
     "name": "stdout",
     "output_type": "stream",
     "text": [
      "Epoch 1, Batch 400, Loss: 1.697\n",
      "Epoch 1, Batch 800, Loss: 0.462\n",
      "Epoch 2, Batch 400, Loss: 0.327\n",
      "Epoch 2, Batch 800, Loss: 0.289\n",
      "Epoch 3, Batch 400, Loss: 0.240\n",
      "Epoch 3, Batch 800, Loss: 0.224\n",
      "Epoch 4, Batch 400, Loss: 0.188\n",
      "Epoch 4, Batch 800, Loss: 0.163\n",
      "Epoch 5, Batch 400, Loss: 0.146\n",
      "Epoch 5, Batch 800, Loss: 0.136\n",
      "Epoch 6, Batch 400, Loss: 0.125\n",
      "Epoch 6, Batch 800, Loss: 0.112\n",
      "Epoch 7, Batch 400, Loss: 0.105\n",
      "Epoch 7, Batch 800, Loss: 0.102\n",
      "Epoch 8, Batch 400, Loss: 0.089\n",
      "Epoch 8, Batch 800, Loss: 0.090\n",
      "Epoch 9, Batch 400, Loss: 0.083\n",
      "Epoch 9, Batch 800, Loss: 0.078\n",
      "Epoch 10, Batch 400, Loss: 0.076\n",
      "Epoch 10, Batch 800, Loss: 0.071\n",
      "Epoch 11, Batch 400, Loss: 0.068\n",
      "Epoch 11, Batch 800, Loss: 0.069\n",
      "Epoch 12, Batch 400, Loss: 0.065\n",
      "Epoch 12, Batch 800, Loss: 0.065\n",
      "Epoch 13, Batch 400, Loss: 0.060\n",
      "Epoch 13, Batch 800, Loss: 0.059\n",
      "Epoch 14, Batch 400, Loss: 0.055\n",
      "Epoch 14, Batch 800, Loss: 0.056\n",
      "Epoch 15, Batch 400, Loss: 0.054\n",
      "Epoch 15, Batch 800, Loss: 0.053\n",
      "Epoch 16, Batch 400, Loss: 0.051\n",
      "Epoch 16, Batch 800, Loss: 0.051\n",
      "Epoch 17, Batch 400, Loss: 0.047\n",
      "Epoch 17, Batch 800, Loss: 0.051\n",
      "Epoch 18, Batch 400, Loss: 0.043\n",
      "Epoch 18, Batch 800, Loss: 0.049\n",
      "Epoch 19, Batch 400, Loss: 0.043\n",
      "Epoch 19, Batch 800, Loss: 0.046\n",
      "Epoch 20, Batch 400, Loss: 0.039\n",
      "Epoch 20, Batch 800, Loss: 0.044\n",
      "Epoch 21, Batch 400, Loss: 0.039\n",
      "Epoch 21, Batch 800, Loss: 0.040\n",
      "Epoch 22, Batch 400, Loss: 0.037\n",
      "Epoch 22, Batch 800, Loss: 0.040\n",
      "Epoch 23, Batch 400, Loss: 0.036\n",
      "Epoch 23, Batch 800, Loss: 0.038\n",
      "Epoch 24, Batch 400, Loss: 0.036\n",
      "Epoch 24, Batch 800, Loss: 0.033\n",
      "Epoch 25, Batch 400, Loss: 0.032\n",
      "Epoch 25, Batch 800, Loss: 0.035\n",
      "Epoch 26, Batch 400, Loss: 0.031\n",
      "Epoch 26, Batch 800, Loss: 0.032\n",
      "Epoch 27, Batch 400, Loss: 0.029\n",
      "Epoch 27, Batch 800, Loss: 0.033\n",
      "Epoch 28, Batch 400, Loss: 0.029\n",
      "Epoch 28, Batch 800, Loss: 0.031\n",
      "Epoch 29, Batch 400, Loss: 0.028\n",
      "Epoch 29, Batch 800, Loss: 0.028\n",
      "Epoch 30, Batch 400, Loss: 0.026\n",
      "Epoch 30, Batch 800, Loss: 0.028\n",
      "Epoch 31, Batch 400, Loss: 0.027\n",
      "Epoch 31, Batch 800, Loss: 0.026\n",
      "Epoch 32, Batch 400, Loss: 0.026\n",
      "Epoch 32, Batch 800, Loss: 0.025\n",
      "Epoch 33, Batch 400, Loss: 0.024\n",
      "Epoch 33, Batch 800, Loss: 0.024\n",
      "Epoch 34, Batch 400, Loss: 0.025\n",
      "Epoch 34, Batch 800, Loss: 0.025\n",
      "Epoch 35, Batch 400, Loss: 0.024\n",
      "Epoch 35, Batch 800, Loss: 0.022\n",
      "Epoch 36, Batch 400, Loss: 0.022\n",
      "Epoch 36, Batch 800, Loss: 0.022\n",
      "Epoch 37, Batch 400, Loss: 0.022\n",
      "Epoch 37, Batch 800, Loss: 0.022\n",
      "Epoch 38, Batch 400, Loss: 0.020\n",
      "Epoch 38, Batch 800, Loss: 0.021\n",
      "Epoch 39, Batch 400, Loss: 0.019\n",
      "Epoch 39, Batch 800, Loss: 0.021\n",
      "Epoch 40, Batch 400, Loss: 0.020\n",
      "Epoch 40, Batch 800, Loss: 0.020\n",
      "Epoch 41, Batch 400, Loss: 0.020\n",
      "Epoch 41, Batch 800, Loss: 0.018\n",
      "Epoch 42, Batch 400, Loss: 0.017\n",
      "Epoch 42, Batch 800, Loss: 0.020\n",
      "Epoch 43, Batch 400, Loss: 0.017\n",
      "Epoch 43, Batch 800, Loss: 0.018\n",
      "Epoch 44, Batch 400, Loss: 0.018\n",
      "Epoch 44, Batch 800, Loss: 0.017\n",
      "Epoch 45, Batch 400, Loss: 0.015\n",
      "Epoch 45, Batch 800, Loss: 0.016\n",
      "Epoch 46, Batch 400, Loss: 0.016\n",
      "Epoch 46, Batch 800, Loss: 0.016\n",
      "Epoch 47, Batch 400, Loss: 0.015\n",
      "Epoch 47, Batch 800, Loss: 0.016\n",
      "Epoch 48, Batch 400, Loss: 0.015\n",
      "Epoch 48, Batch 800, Loss: 0.015\n",
      "Epoch 49, Batch 400, Loss: 0.015\n",
      "Epoch 49, Batch 800, Loss: 0.013\n",
      "Epoch 50, Batch 400, Loss: 0.011\n",
      "Epoch 50, Batch 800, Loss: 0.016\n",
      "Finished Training\n"
     ]
    }
   ],
   "source": [
    "# Initialize the model and optimizer\n",
    "model = Net()\n",
    "criterion = nn.CrossEntropyLoss()\n",
    "optimizer = optim.SGD(model.parameters(), lr=0.001, momentum=0.9)\n",
    "\n",
    "# Training loop\n",
    "for epoch in range(50):  # Change the number of epochs as needed\n",
    "    running_loss = 0.0\n",
    "    for i, data in enumerate(trainloader, 0):\n",
    "        inputs, labels = data\n",
    "        optimizer.zero_grad()\n",
    "        outputs = model(inputs)\n",
    "        loss = criterion(outputs, labels)\n",
    "        loss.backward()\n",
    "        optimizer.step()\n",
    "        running_loss += loss.item()\n",
    "        if i % 400 == 399:\n",
    "            print(f'Epoch {epoch + 1}, Batch {i + 1}, Loss: {running_loss / 400:.3f}')\n",
    "            running_loss = 0.0\n",
    "\n",
    "print('Finished Training')"
   ]
  },
  {
   "cell_type": "code",
   "execution_count": 10,
   "id": "3a6099fb",
   "metadata": {},
   "outputs": [
    {
     "data": {
      "text/plain": [
       "torch.Size([32, 1, 28, 28])"
      ]
     },
     "execution_count": 10,
     "metadata": {},
     "output_type": "execute_result"
    }
   ],
   "source": [
    "inputs.shape"
   ]
  },
  {
   "cell_type": "code",
   "execution_count": 11,
   "id": "a5016fe4",
   "metadata": {},
   "outputs": [
    {
     "name": "stdout",
     "output_type": "stream",
     "text": [
      "Accuracy on the test set: 98.55%\n"
     ]
    }
   ],
   "source": [
    "correct = 0\n",
    "total = 0\n",
    "with torch.no_grad():\n",
    "    for data in testloader:\n",
    "        inputs, labels = data\n",
    "        outputs = model(inputs)\n",
    "        _, predicted = torch.max(outputs, 1)\n",
    "        total += labels.size(0)\n",
    "        correct += (predicted == labels).sum().item()\n",
    "\n",
    "print(f'Accuracy on the test set: {100 * correct / total:.2f}%')\n"
   ]
  },
  {
   "cell_type": "code",
   "execution_count": null,
   "id": "eb4421ef",
   "metadata": {},
   "outputs": [],
   "source": []
  },
  {
   "cell_type": "code",
   "execution_count": 12,
   "id": "6ccb45af",
   "metadata": {},
   "outputs": [
    {
     "name": "stdout",
     "output_type": "stream",
     "text": [
      "Accuracy on the training set: 99.72%\n"
     ]
    }
   ],
   "source": [
    "correct = 0\n",
    "total = 0\n",
    "X_train, X_train_raw = [],[]\n",
    "y_train, pred_y_train = [],[]\n",
    "train_reps = []\n",
    "pred_prob_train = []\n",
    "with torch.no_grad():\n",
    "    for data in trainloader:\n",
    "        inputs, labels = data\n",
    "        \n",
    "        X_train_raw.append(inputs)\n",
    "        X_train.append(model.latent2(inputs).detach())\n",
    "        y_train.append(labels)        \n",
    "        \n",
    "        outputs = model(inputs).detach()\n",
    "        train_reps.append(outputs) \n",
    "        predicted = torch.argmax(outputs,dim=1)\n",
    "        pred_y_train.append(predicted) \n",
    "        pred_prob_train.append(torch.softmax(outputs,dim=1))\n",
    "        \n",
    "        total += labels.size(0)\n",
    "        correct += (predicted == labels).sum().item()\n",
    "        \n",
    "X_train = torch.vstack(X_train)\n",
    "X_train_raw = torch.vstack(X_train_raw)\n",
    "train_reps = torch.vstack(train_reps)\n",
    "\n",
    "y_train = torch.concat(y_train).numpy()\n",
    "pred_y_train = torch.concat(pred_y_train).numpy()\n",
    "pred_prob_train = torch.vstack(pred_prob_train).numpy()\n",
    "\n",
    "print(f'Accuracy on the training set: {100 * correct / total:.2f}%')"
   ]
  },
  {
   "cell_type": "code",
   "execution_count": 14,
   "id": "6ff9f3b3",
   "metadata": {},
   "outputs": [],
   "source": [
    "# pred_prob_train = pred_prob_train.numpy()\n",
    "\n",
    "# pred_prob_train[:,7]"
   ]
  },
  {
   "cell_type": "code",
   "execution_count": 15,
   "id": "9a424d27",
   "metadata": {},
   "outputs": [
    {
     "name": "stdout",
     "output_type": "stream",
     "text": [
      "y threshold 0.28734288\n"
     ]
    },
    {
     "data": {
      "image/png": "[encoded data removed]",
      "text/plain": [
       "<Figure size 800x600 with 1 Axes>"
      ]
     },
     "metadata": {},
     "output_type": "display_data"
    }
   ],
   "source": [
    "from sklearn.metrics import roc_curve, roc_auc_score\n",
    "import matplotlib.pyplot as plt\n",
    "import scipy as sp\n",
    "\n",
    "\n",
    "auc = roc_auc_score(y_train==7, pred_prob_train[:,7])\n",
    "fpr, tpr, thresholds = roc_curve(y_train==7, pred_prob_train[:,7])\n",
    "y_thd = thresholds[np.argmax(tpr - fpr)]\n",
    "print(\"y threshold\",y_thd)\n",
    "\n",
    "# Plot the ROC curve\n",
    "plt.figure(figsize=(8, 6))\n",
    "plt.plot(fpr, tpr, label=f'ROC Curve (AUC = {auc:.2f})')\n",
    "plt.xlabel('False Positive Rate')\n",
    "plt.ylabel('True Positive Rate')\n",
    "plt.title('Receiver Operating Characteristic (ROC) Curve')\n",
    "plt.legend()\n",
    "plt.grid()\n",
    "plt.show()"
   ]
  },
  {
   "cell_type": "code",
   "execution_count": null,
   "id": "4c4ff1e6",
   "metadata": {},
   "outputs": [],
   "source": []
  },
  {
   "cell_type": "code",
   "execution_count": 16,
   "id": "54f21ff2",
   "metadata": {},
   "outputs": [
    {
     "data": {
      "text/plain": [
       "(6274, 0.9969672785315243)"
      ]
     },
     "execution_count": 16,
     "metadata": {},
     "output_type": "execute_result"
    }
   ],
   "source": [
    "(pred_y_train==7).sum(),((pred_y_train==7)&(y_train==7)).sum()/(y_train==7).sum()"
   ]
  },
  {
   "cell_type": "code",
   "execution_count": 17,
   "id": "dfabe67d",
   "metadata": {},
   "outputs": [
    {
     "data": {
      "text/plain": [
       "(0.9969672785315243, 0.9955371373924131)"
      ]
     },
     "execution_count": 17,
     "metadata": {},
     "output_type": "execute_result"
    }
   ],
   "source": [
    "recall = ((pred_y_train==7)&(y_train==7)).sum()/(y_train==7).sum()\n",
    "precision = ((pred_y_train==7)&(y_train==7)).sum()/(pred_y_train==7).sum()\n",
    "recall,precision"
   ]
  },
  {
   "cell_type": "code",
   "execution_count": 18,
   "id": "657f0780",
   "metadata": {},
   "outputs": [
    {
     "data": {
      "text/plain": [
       "0.9962516947124971"
      ]
     },
     "execution_count": 18,
     "metadata": {},
     "output_type": "execute_result"
    }
   ],
   "source": [
    "f1 = 2*recall*precision/(recall+precision)\n",
    "f1"
   ]
  },
  {
   "cell_type": "code",
   "execution_count": 19,
   "id": "3c79bc92",
   "metadata": {},
   "outputs": [],
   "source": [
    "baselines = eutils.gen_intgrad_baselines(X_train,y_train,train_reps)\n",
    "subset = eutils.gen_balanced_subset(X_train,y_train,size_per_class=1000)"
   ]
  },
  {
   "cell_type": "code",
   "execution_count": 20,
   "id": "6a2b6c5c",
   "metadata": {},
   "outputs": [
    {
     "data": {
      "text/plain": [
       "10"
      ]
     },
     "execution_count": 20,
     "metadata": {},
     "output_type": "execute_result"
    }
   ],
   "source": [
    "len(baselines)"
   ]
  },
  {
   "cell_type": "code",
   "execution_count": 21,
   "id": "2d24a75b",
   "metadata": {
    "scrolled": true
   },
   "outputs": [
    {
     "data": {
      "text/plain": [
       "(torch.Size([9000, 128]), torch.Size([9000, 128]))"
      ]
     },
     "execution_count": 21,
     "metadata": {},
     "output_type": "execute_result"
    }
   ],
   "source": [
    "### specify target class\n",
    "c = 7 \n",
    "\n",
    "### calc int grads for target class\n",
    "int_g, z_shift = eutils.calc_baselines_intg(test_examples=subset,model=model,baselines=baselines,C=10,target_dim=c)\n",
    "y_int_g = torch.abs(int_g/z_shift[:,c].reshape(-1,1))\n",
    "\n",
    "int_g.shape,y_int_g.shape"
   ]
  },
  {
   "cell_type": "code",
   "execution_count": 22,
   "id": "885e0a67",
   "metadata": {
    "scrolled": true
   },
   "outputs": [
    {
     "name": "stdout",
     "output_type": "stream",
     "text": [
      "(0.0001, tensor(8))\n",
      "(0.0002, tensor(2))\n",
      "(0.00030000000000000003, tensor(2))\n",
      "(0.0004, tensor(1))\n"
     ]
    },
    {
     "data": {
      "text/plain": [
       "0.0004"
      ]
     },
     "execution_count": 22,
     "metadata": {},
     "output_type": "execute_result"
    }
   ],
   "source": [
    "### find threshold for int grads\n",
    "thds = np.linspace(0.0001,0.1,1000)\n",
    "f_n = []\n",
    "for thd in thds:\n",
    "    mask = torch.abs(y_int_g) >= thd \n",
    "    f_n.append((thd,(mask.sum(dim=0)>=len(y_int_g)*.99).sum()))\n",
    "    print(f_n[-1])\n",
    "    if f_n[-1][1]<=1:\n",
    "        break\n",
    "thd = f_n[-1][0] \n",
    "thd"
   ]
  },
  {
   "cell_type": "code",
   "execution_count": 23,
   "id": "95fba5d1",
   "metadata": {
    "scrolled": true
   },
   "outputs": [
    {
     "name": "stdout",
     "output_type": "stream",
     "text": [
      "[45.0] 8926.0\n",
      "[45.0, 21.0] 8750.0\n",
      "[45.0, 21.0, 106.0] 8538.0\n",
      "[45.0, 21.0, 106.0, 67.0] 8204.0\n",
      "[45.0, 21.0, 106.0, 67.0, 6.0] 7850.0\n",
      "[45.0, 21.0, 106.0, 67.0, 6.0, 16.0] 7475.0\n",
      "[45.0, 21.0, 106.0, 67.0, 6.0, 16.0, 89.0] 7036.0\n",
      "[45.0, 21.0, 106.0, 67.0, 6.0, 16.0, 89.0, 69.0] 6648.0\n",
      "[45.0, 21.0, 106.0, 67.0, 6.0, 16.0, 89.0, 69.0, 115.0] 6243.0\n",
      "[45.0, 21.0, 106.0, 67.0, 6.0, 16.0, 89.0, 69.0, 115.0, 29.0] 5743.0\n",
      "[45.0, 21.0, 106.0, 67.0, 6.0, 16.0, 89.0, 69.0, 115.0, 29.0, 61.0] 5398.0\n",
      "[45.0, 21.0, 106.0, 67.0, 6.0, 16.0, 89.0, 69.0, 115.0, 29.0, 61.0, 20.0] 5047.0\n",
      "[45.0, 21.0, 106.0, 67.0, 6.0, 16.0, 89.0, 69.0, 115.0, 29.0, 61.0, 20.0, 34.0] 4717.0\n",
      "[45.0, 21.0, 106.0, 67.0, 6.0, 16.0, 89.0, 69.0, 115.0, 29.0, 61.0, 20.0, 34.0, 18.0] 4271.0\n",
      "[45.0, 21.0, 106.0, 67.0, 6.0, 16.0, 89.0, 69.0, 115.0, 29.0, 61.0, 20.0, 34.0, 18.0, 78.0] 3979.0\n",
      "[45.0, 21.0, 106.0, 67.0, 6.0, 16.0, 89.0, 69.0, 115.0, 29.0, 61.0, 20.0, 34.0, 18.0, 78.0, 122.0] 3536.0\n",
      "[45.0, 21.0, 106.0, 67.0, 6.0, 16.0, 89.0, 69.0, 115.0, 29.0, 61.0, 20.0, 34.0, 18.0, 78.0, 122.0, 7.0] 3043.0\n",
      "[45.0, 21.0, 106.0, 67.0, 6.0, 16.0, 89.0, 69.0, 115.0, 29.0, 61.0, 20.0, 34.0, 18.0, 78.0, 122.0, 7.0, 15.0] 2823.0\n",
      "[45.0, 21.0, 106.0, 67.0, 6.0, 16.0, 89.0, 69.0, 115.0, 29.0, 61.0, 20.0, 34.0, 18.0, 78.0, 122.0, 7.0, 15.0, 111.0] 2538.0\n",
      "[45.0, 21.0, 106.0, 67.0, 6.0, 16.0, 89.0, 69.0, 115.0, 29.0, 61.0, 20.0, 34.0, 18.0, 78.0, 122.0, 7.0, 15.0, 111.0, 77.0] 2419.0\n",
      "[45.0, 21.0, 106.0, 67.0, 6.0, 16.0, 89.0, 69.0, 115.0, 29.0, 61.0, 20.0, 34.0, 18.0, 78.0, 122.0, 7.0, 15.0, 111.0, 77.0, 37.0] 2196.0\n",
      "[45.0, 21.0, 106.0, 67.0, 6.0, 16.0, 89.0, 69.0, 115.0, 29.0, 61.0, 20.0, 34.0, 18.0, 78.0, 122.0, 7.0, 15.0, 111.0, 77.0, 37.0, 39.0] 1867.0\n",
      "[45.0, 21.0, 106.0, 67.0, 6.0, 16.0, 89.0, 69.0, 115.0, 29.0, 61.0, 20.0, 34.0, 18.0, 78.0, 122.0, 7.0, 15.0, 111.0, 77.0, 37.0, 39.0, 13.0] 1827.0\n",
      "[45.0, 21.0, 106.0, 67.0, 6.0, 16.0, 89.0, 69.0, 115.0, 29.0, 61.0, 20.0, 34.0, 18.0, 78.0, 122.0, 7.0, 15.0, 111.0, 77.0, 37.0, 39.0, 13.0, 59.0] 1583.0\n",
      "[45.0, 21.0, 106.0, 67.0, 6.0, 16.0, 89.0, 69.0, 115.0, 29.0, 61.0, 20.0, 34.0, 18.0, 78.0, 122.0, 7.0, 15.0, 111.0, 77.0, 37.0, 39.0, 13.0, 59.0, 112.0] 1524.0\n",
      "[45.0, 21.0, 106.0, 67.0, 6.0, 16.0, 89.0, 69.0, 115.0, 29.0, 61.0, 20.0, 34.0, 18.0, 78.0, 122.0, 7.0, 15.0, 111.0, 77.0, 37.0, 39.0, 13.0, 59.0, 112.0, 2.0] 1311.0\n",
      "[45.0, 21.0, 106.0, 67.0, 6.0, 16.0, 89.0, 69.0, 115.0, 29.0, 61.0, 20.0, 34.0, 18.0, 78.0, 122.0, 7.0, 15.0, 111.0, 77.0, 37.0, 39.0, 13.0, 59.0, 112.0, 2.0, 63.0] 1286.0\n",
      "[45.0, 21.0, 106.0, 67.0, 6.0, 16.0, 89.0, 69.0, 115.0, 29.0, 61.0, 20.0, 34.0, 18.0, 78.0, 122.0, 7.0, 15.0, 111.0, 77.0, 37.0, 39.0, 13.0, 59.0, 112.0, 2.0, 63.0, 98.0] 1046.0\n",
      "feature set [ 44  20 105  66   5  15  88  68 114  28  60  19  33  17  77 121   6  14\n",
      " 110  76  36  38  12  58 111   1  62  97] 28\n"
     ]
    }
   ],
   "source": [
    "### find frequent feature set\n",
    "itemsets_y = transform_intgrad_to_itemsets(y_int_g,thd=thd,K=1)\n",
    "fids = gen_freq_feature_set(itemsets_y[0],min_support=1000,max_len=100)\n",
    "fids = np.array(fids).astype(int)-1\n",
    "print('feature set',fids,len(fids))"
   ]
  },
  {
   "cell_type": "code",
   "execution_count": 34,
   "id": "2ac19847",
   "metadata": {},
   "outputs": [
    {
     "data": {
      "text/plain": [
       "<module 'explainer.rule_pattern_miner' from '/Users/chenyu/github/INSPIRE/code/notebooks/../explainer/rule_pattern_miner.py'>"
      ]
     },
     "execution_count": 34,
     "metadata": {},
     "output_type": "execute_result"
    }
   ],
   "source": [
    "reload(rlm)"
   ]
  },
  {
   "cell_type": "code",
   "execution_count": 37,
   "id": "d6e6c809",
   "metadata": {
    "scrolled": true
   },
   "outputs": [
    {
     "name": "stdout",
     "output_type": "stream",
     "text": [
      "build_rule_tree\n",
      "init rule tree\n",
      "search rule for feature 44\n",
      "check potential rule 44 7.312121300478261 7.657766241776316 13.22705078125 5204\n",
      "add rule [] 44 [7.312121300478261, 44]\n",
      "search rule for feature 20\n",
      "check potential rule 20 1.041134401081315 0.0 0.8056594949019583 4310\n",
      "add rule [44] 20 [1.041134401081315, 20]\n"
     ]
    }
   ],
   "source": [
    "### search rule sets\n",
    "\n",
    "min_support = 4000   \n",
    "num_grids = 20\n",
    "max_depth = 2\n",
    "\n",
    "### specify result path\n",
    "prefix = \"./results/mnist/c\"+str(c)+\"_sp\"+str(min_support)\n",
    "if not os.path.exists(prefix):\n",
    "    os.mkdir(prefix)\n",
    "\n",
    "rule_list = rlm.gen_rule_list_for_one_target(X_train.numpy(),fids,pred_y_train==c,y=y_train,c=c,sort_by=\"cond_prob_target\",\n",
    "                                                            min_support=min_support,num_grids=num_grids,max_depth=max_depth,top_K=3,\n",
    "                                                            local_x=None,feature_types=None,search=\"ordered\",\n",
    "                                                            verbose=False)"
   ]
  },
  {
   "cell_type": "code",
   "execution_count": 38,
   "id": "dae0f6a0",
   "metadata": {
    "scrolled": true
   },
   "outputs": [
    {
     "data": {
      "text/plain": [
       "[{'rules': [(44, '>=', 7.657766241776316),\n",
       "   (20, '>=', 0.0),\n",
       "   (20, '<=', 0.8056594949019583)],\n",
       "  'cond_prob_target': 0.7960556844547564,\n",
       "  'support': 4310,\n",
       "  'cond_prob_y': 0.794431554524362,\n",
       "  'ratio_y': 0.5465283320031923}]"
      ]
     },
     "execution_count": 38,
     "metadata": {},
     "output_type": "execute_result"
    }
   ],
   "source": [
    "rule_list"
   ]
  },
  {
   "cell_type": "code",
   "execution_count": 26,
   "id": "665a2d8e",
   "metadata": {},
   "outputs": [
    {
     "data": {
      "text/plain": [
       "{44: [(44, '>=', 7.657766241776316)],\n",
       " 114: [(114, '>=', 0.0), (114, '<=', 4.361351213957134)]}"
      ]
     },
     "execution_count": 26,
     "metadata": {},
     "output_type": "execute_result"
    }
   ],
   "source": [
    "r1 = rule_list[0][\"rules\"]\n",
    "seen = set()\n",
    "keys = [r[0] for r in r1 if not (r[0] in seen or seen.add(r[0]))] ##keep the order of rules\n",
    "\n",
    "### merge rules of the same feature\n",
    "rdict = {}\n",
    "for key in keys:\n",
    "    for r in r1:\n",
    "        if r[0] == key:\n",
    "            rdict[key] = rdict.get(key,[])\n",
    "            rdict[key].append(r)\n",
    "rdict"
   ]
  },
  {
   "cell_type": "code",
   "execution_count": 27,
   "id": "b65696aa",
   "metadata": {
    "scrolled": true
   },
   "outputs": [
    {
     "name": "stderr",
     "output_type": "stream",
     "text": [
      "/var/folders/1w/jwcgd35x0rg1yln4sl7szvf80000gn/T/ipykernel_33525/2035654857.py:11: UserWarning: indexing with dtype torch.uint8 is now deprecated, please use a dtype torch.bool instead. (Triggered internally at /Users/runner/work/pytorch/pytorch/pytorch/aten/src/ATen/native/IndexingUtils.h:28.)\n",
      "  imgs = X_train_raw[ids]\n"
     ]
    },
    {
     "name": "stdout",
     "output_type": "stream",
     "text": [
      "[(44, '>=', 7.657766241776316)] support tensor(5204)\n"
     ]
    },
    {
     "data": {
      "image/png": "[encoded data removed]",
      "text/plain": [
       "<Figure size 800x800 with 16 Axes>"
      ]
     },
     "metadata": {},
     "output_type": "display_data"
    },
    {
     "data": {
      "image/png": "[encoded data removed]",
      "text/plain": [
       "<Figure size 640x480 with 1 Axes>"
      ]
     },
     "metadata": {},
     "output_type": "display_data"
    },
    {
     "name": "stdout",
     "output_type": "stream",
     "text": [
      "[(114, '>=', 0.0), (114, '<=', 4.361351213957134)] support tensor(33538)\n"
     ]
    },
    {
     "data": {
      "image/png": "[encoded data removed]",
      "text/plain": [
       "<Figure size 800x800 with 16 Axes>"
      ]
     },
     "metadata": {},
     "output_type": "display_data"
    },
    {
     "data": {
      "image/png": "[encoded data removed]",
      "text/plain": [
       "<Figure size 640x480 with 1 Axes>"
      ]
     },
     "metadata": {},
     "output_type": "display_data"
    }
   ],
   "source": [
    "### visualize rules in the top rule set\n",
    "\n",
    "tot_img = []\n",
    "file_type = \".svg\"\n",
    "\n",
    "for kk,fid in enumerate(keys):\n",
    "    rs = rdict[fid]\n",
    "    ids = np.ones(len(X_train)).astype(bool)\n",
    "    for r in rs:\n",
    "        ids = rlm.op_map[r[1]](X_train[:,r[0]],r[2]) & ids\n",
    "    imgs = X_train_raw[ids]\n",
    "    \n",
    "    print(rs,\"support\",ids.sum())\n",
    "    \n",
    "    # Create a figure with 16 subplots\n",
    "    fig, axes = plt.subplots(4, 4, figsize=(8, 8))\n",
    "\n",
    "    # Display 16 MNIST images\n",
    "    for i in range(4):\n",
    "        for j in range(4):\n",
    "            index = i * 4 + j\n",
    "            image = imgs[index]\n",
    "            axes[i, j].imshow(image.squeeze(), cmap='gray')\n",
    "            axes[i, j].axis('off')\n",
    "    plt.savefig(os.path.join(prefix,\"rule_samples_c\"+str(c)+\"r\"+str(kk)+file_type),bbox_inches=\"tight\")\n",
    "    plt.show()\n",
    "    \n",
    "    plt.close()\n",
    "    \n",
    "    avg_img = imgs.mean(axis=0).squeeze().numpy() \n",
    "    \n",
    "    ### min-max normalization to highlight the higher value pixels \n",
    "    avg_img = (avg_img-avg_img.min())/(avg_img.max()-avg_img.min()) \n",
    "    \n",
    "    tot_img.append(avg_img.reshape(1,28,28))\n",
    "    plt.imshow(avg_img,vmin=0., vmax=1.,cmap=\"cividis\")\n",
    "    plt.axis(\"off\")\n",
    "    \n",
    "#     plt.savefig(os.path.join(prefix,\"rule_average_c\"+str(c)+\"r\"+str(kk)+file_type),bbox_inches=\"tight\")\n",
    "    plt.show()\n",
    "    plt.close\n",
    "\n",
    "    "
   ]
  },
  {
   "cell_type": "code",
   "execution_count": null,
   "id": "cd66b463",
   "metadata": {},
   "outputs": [],
   "source": []
  },
  {
   "cell_type": "code",
   "execution_count": 28,
   "id": "f74a2f6b",
   "metadata": {},
   "outputs": [
    {
     "name": "stderr",
     "output_type": "stream",
     "text": [
      "/var/folders/1w/jwcgd35x0rg1yln4sl7szvf80000gn/T/ipykernel_33525/4223404888.py:7: UserWarning: indexing with dtype torch.uint8 is now deprecated, please use a dtype torch.bool instead. (Triggered internally at /Users/runner/work/pytorch/pytorch/pytorch/aten/src/ATen/native/IndexingUtils.h:28.)\n",
      "  imgs = X_train_raw[ids]\n"
     ]
    },
    {
     "data": {
      "image/png": "[encoded data removed]",
      "text/plain": [
       "<Figure size 800x800 with 16 Axes>"
      ]
     },
     "metadata": {},
     "output_type": "display_data"
    },
    {
     "data": {
      "image/png": "[encoded data removed]",
      "text/plain": [
       "<Figure size 640x480 with 1 Axes>"
      ]
     },
     "metadata": {},
     "output_type": "display_data"
    }
   ],
   "source": [
    "### visualize intersection of rules\n",
    "\n",
    "ids = np.ones(len(X_train)).astype(bool)\n",
    "for rv in rdict.values():    \n",
    "    for r in rv:\n",
    "        ids = rlm.op_map[r[1]](X_train[:,r[0]],r[2]) & ids\n",
    "imgs = X_train_raw[ids] \n",
    "\n",
    "fig, axes = plt.subplots(4, 4, figsize=(8, 8))\n",
    "\n",
    "for i in range(4):\n",
    "    for j in range(4):\n",
    "        index = i * 4 + j\n",
    "        image = imgs[index]\n",
    "        axes[i, j].imshow(image.squeeze(), cmap='gray')\n",
    "        axes[i, j].axis('off')\n",
    "plt.savefig(os.path.join(prefix,\"tot_rule_samples_c\"+str(c)+file_type),bbox_inches=\"tight\")\n",
    "plt.show()\n",
    "plt.close()\n",
    "\n",
    "avg_img = imgs.mean(axis=0).squeeze().numpy() \n",
    "    \n",
    "### min-max normalization to highlight the higher value pixels \n",
    "avg_img = (avg_img-avg_img.min())/(avg_img.max()-avg_img.min()) \n",
    "\n",
    "\n",
    "plt.imshow(avg_img,vmin=0., vmax=1.,cmap=\"cividis\")\n",
    "plt.axis(\"off\")\n",
    "# plt.savefig(os.path.join(prefix,\"tot_rule_avergae_c\"+str(c)+file_type),bbox_inches=\"tight\")\n",
    "plt.show()\n",
    "plt.close()"
   ]
  },
  {
   "cell_type": "code",
   "execution_count": 29,
   "id": "331dc505",
   "metadata": {},
   "outputs": [],
   "source": [
    "from sklearn.tree import DecisionTreeClassifier,DecisionTreeRegressor\n",
    "from sklearn.tree import plot_tree,export_text,export_graphviz\n",
    "import explainer.DT_rules as dtr\n",
    "from explainer.DT_rules import obtain_rule_lists_from_DT,select_rule_list"
   ]
  },
  {
   "cell_type": "code",
   "execution_count": 30,
   "id": "79e31a3d",
   "metadata": {},
   "outputs": [],
   "source": [
    "feature_names = [\"z\"+str(i) for i in range(X_train.shape[1])]"
   ]
  },
  {
   "cell_type": "code",
   "execution_count": 31,
   "id": "10acd469",
   "metadata": {},
   "outputs": [
    {
     "data": {
      "text/plain": [
       "3"
      ]
     },
     "execution_count": 31,
     "metadata": {},
     "output_type": "execute_result"
    }
   ],
   "source": [
    "### otain rules for pred_y = c from a DecisionTreeClassifier\n",
    "\n",
    "treemodel = DecisionTreeClassifier(max_depth=2,min_samples_leaf=4000,random_state=seed)\n",
    "treemodel.fit(X_train,pred_y_train==c)\n",
    "\n",
    "rule_list, rule_value_list, rule_support_list, new_lines = dtr.obtain_rule_lists_from_DT(treemodel,5,X_train.numpy(),y_train,pred_y_train==c,np.arange(X_train.shape[-1]),feature_names,c=c)\n",
    "len(rule_list)"
   ]
  },
  {
   "cell_type": "code",
   "execution_count": 32,
   "id": "459f1877",
   "metadata": {},
   "outputs": [
    {
     "name": "stdout",
     "output_type": "stream",
     "text": [
      "|--- feature_44 <= 7.14\n",
      "|   |--- feature_44 <= 5.92\n",
      "|   |   |--- class: False\n",
      "|   |--- feature_44 >  5.92\n",
      "|   |   |--- class: False\n",
      "|--- feature_44 >  7.14\n",
      "|   |--- class: True\n",
      "\n"
     ]
    }
   ],
   "source": [
    "print(export_text(treemodel))"
   ]
  },
  {
   "cell_type": "code",
   "execution_count": 33,
   "id": "6277822d",
   "metadata": {},
   "outputs": [
    {
     "name": "stdout",
     "output_type": "stream",
     "text": [
      "#################\n",
      "[(44, '<=', 5.919)]\n",
      "cond_prob_target 0.011 cond_prob_y 0.011 size 47723\n",
      "z44 <= 5.919\n",
      "#################\n",
      "[(44, '<=', 7.141), (44, '>', 5.919)]\n",
      "cond_prob_target 0.193 cond_prob_y 0.193 size 5496\n",
      "z44 <= 7.141\n",
      "z44 > 5.919\n",
      "#################\n",
      "[(44, '>', 7.141)]\n",
      "cond_prob_target 0.689 cond_prob_y 0.687 size 6781\n",
      "z44 > 7.141\n"
     ]
    }
   ],
   "source": [
    "## print rules from DecisionTreeClassifier\n",
    "select = [[],[],[]]\n",
    "for s in range(len(rule_list)):\n",
    "    select[0].append(rule_list[s])\n",
    "    select[2].append(rule_support_list[s])\n",
    "    print('#################')\n",
    "    print(rule_list[s])\n",
    "    print('cond_prob_target',rule_support_list[s][1].round(3),'cond_prob_y',rule_support_list[s][2].round(3),'size',rule_support_list[s][0])\n",
    "    for r in rule_list[s]:\n",
    "        print(feature_names[r[0]],r[1],r[2])"
   ]
  },
  {
   "cell_type": "code",
   "execution_count": null,
   "id": "c8a0a331",
   "metadata": {},
   "outputs": [],
   "source": []
  },
  {
   "cell_type": "code",
   "execution_count": null,
   "id": "ab71eec2",
   "metadata": {},
   "outputs": [],
   "source": []
  }
 ],
 "metadata": {
  "kernelspec": {
   "display_name": "py39",
   "language": "python",
   "name": "py39"
  },
  "language_info": {
   "codemirror_mode": {
    "name": "ipython",
    "version": 3
   },
   "file_extension": ".py",
   "mimetype": "text/x-python",
   "name": "python",
   "nbconvert_exporter": "python",
   "pygments_lexer": "ipython3",
   "version": "3.9.15"
  }
 },
 "nbformat": 4,
 "nbformat_minor": 5
}
